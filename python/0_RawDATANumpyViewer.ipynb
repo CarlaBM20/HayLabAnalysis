{
 "cells": [
  {
   "cell_type": "markdown",
   "metadata": {},
   "source": [
    "# This is just a notebook to visualise 1kHz filtered raw data"
   ]
  },
  {
   "cell_type": "markdown",
   "metadata": {},
   "source": [
    "## Setup everything"
   ]
  },
  {
   "cell_type": "markdown",
   "metadata": {},
   "source": [
    "### Import packages"
   ]
  },
  {
   "cell_type": "code",
   "execution_count": 1,
   "metadata": {},
   "outputs": [],
   "source": [
    "import os\n",
    "import sys\n",
    "import quantities as pq\n",
    "import numpy as np\n",
    "import neo\n",
    "from pathlib import Path\n",
    "import pandas as pd\n",
    "import matplotlib.pyplot as plt\n",
    "import matplotlib\n",
    "from matplotlib.widgets import Slider, Button, Cursor\n",
    "import scipy\n",
    "from scipy import interpolate\n",
    "from scipy import fftpack\n",
    "from scipy import signal\n",
    "from open_ephys.analysis import Session\n",
    "\n",
    "import mmap\n",
    "import xarray as xr\n",
    "import dask.array as da\n",
    "#%matplotlib widget\n",
    "\n",
    "from ephyviewer import mkQApp, MainViewer, TraceViewer\n",
    "from ephyviewer import AnalogSignalSourceWithScatter\n",
    "\n",
    "\n",
    "from ipyfilechooser import FileChooser\n",
    "import ipywidgets as widgets\n",
    "\n",
    "# add the Contrib dir that contains all tools developped by MB : mbTools.py\n",
    "#sys.path.append(os.path.join(os.path.dirname(sys.path[0]),'python'))\n",
    "#print(os.path.join(os.path.dirname(sys.path[0]),'python'))\n",
    "import mbTools"
   ]
  },
  {
   "cell_type": "markdown",
   "metadata": {},
   "source": [
    "### Import local config, create it if inexistant\n",
    "All user-specific configuration (projects, defautl path to files...) are stored in a file named localConfig.ini in the python subfolder of AudreyHayLab repo. It is ignored by git so that it remains truely local. If the file does not exist at beginning, it is created with default values that can be modified at whishes."
   ]
  },
  {
   "cell_type": "code",
   "execution_count": 2,
   "metadata": {},
   "outputs": [
    {
     "name": "stdout",
     "output_type": "stream",
     "text": [
      "Local config file loaded from localConfig.ini\n",
      "All raw data are expected to be found in the folder: /Users/mb\n",
      "All analysis will be saved in the folder: /Users/mb/Analysis\n"
     ]
    }
   ],
   "source": [
    "config = mbTools.localConf()\n",
    "rawDataPath = config['DATA']['path']\n",
    "print(f'All raw data are expected to be found in the folder: {rawDataPath}')\n",
    "analysisPath = config['ANALYSIS']['path']\n",
    "print(f'All analysis will be saved in the folder: {analysisPath}')"
   ]
  },
  {
   "cell_type": "markdown",
   "metadata": {},
   "source": [
    "## Choose experiment\n",
    "Select the experiment to display. If the experiment was already analyzed, a saved_dictionary.pkl was created and contains all necessary variables. Select this file. Otherwise select the raw data recording file.\n",
    ">**If you have a file with channel mapping somewhere**, we should make sure it is properly translated into a dict.pkl"
   ]
  },
  {
   "cell_type": "code",
   "execution_count": 4,
   "metadata": {},
   "outputs": [
    {
     "name": "stdout",
     "output_type": "stream",
     "text": [
      "/Users/mb/Analysis/AProject/OneOfItsSubProject/control/0/saved_dictionary.pkl\n",
      "Local config file loaded from localConfig.ini\n"
     ]
    },
    {
     "data": {
      "application/vnd.jupyter.widget-view+json": {
       "model_id": "30197a7702074b68b4d7c808fc63f443",
       "version_major": 2,
       "version_minor": 0
      },
      "text/plain": [
       "FileChooser(path='/Users/mb/Analysis/AProject/OneOfItsSubProject/control/0', filename='saved_dictionary.pkl', …"
      ]
     },
     "metadata": {},
     "output_type": "display_data"
    },
    {
     "name": "stdout",
     "output_type": "stream",
     "text": [
      "/Users/mb/Analysis/AProject/OneOfItsSubProject/projectConfig.pkl\n",
      "Stored 'currentFile' (str)\n"
     ]
    }
   ],
   "source": [
    "currentFile = None\n",
    "%store -r currentFile\n",
    "print(currentFile)\n",
    "%store currentFile\n",
    "theExpe = mbTools.expeConfigDict(currentFile)"
   ]
  },
  {
   "cell_type": "markdown",
   "metadata": {},
   "source": [
    "### Possibility to change raw data path \n",
    "if for some reason the path to the raw data is wrong, you can update it here"
   ]
  },
  {
   "cell_type": "code",
   "execution_count": null,
   "metadata": {},
   "outputs": [],
   "source": [
    "#print(rawDataPath)\n",
    "if rawDataPath is not None:\n",
    "    rawDirname, rawFN = os.path.split(rawDataPath)\n",
    "    rfc = FileChooser(path=rawDirname, filename=rawFN,select_default=True, show_only_dirs = False, title = \"<b>ePhys data</b>\")\n",
    "else:\n",
    "    rfc = FileChooser(show_only_dirs = False, title = \"<b>ePhys data</b>\")\n",
    "display(rfc)\n",
    "\n",
    "# Sample callback function\n",
    "def update_rawDataPath(chooser):\n",
    "    global rawDataPath\n",
    "    rawDataPath = chooser.selected\n",
    "    #updateDict(currentFile, 'rawDataPath', rawDataPath)\n",
    "\n",
    "# Register callback function\n",
    "rfc.register_callback(update_rawDataPath)"
   ]
  },
  {
   "cell_type": "markdown",
   "metadata": {},
   "source": [
    "## Load Data"
   ]
  },
  {
   "cell_type": "markdown",
   "metadata": {},
   "source": [
    "### Map the whole data into memory"
   ]
  },
  {
   "cell_type": "code",
   "execution_count": null,
   "metadata": {},
   "outputs": [],
   "source": [
    "rawDataDir, rawFileBaseName = os.path.split(rawDataPath)\n",
    "\n",
    "if rawFileBaseName == \"continuous.dat\":\n",
    "    All = np.memmap(rawDataPath, mode='r', dtype='int16')\n",
    "    #All = np.fromfile(filename, dtype=\"int16\")\n",
    "    All = All.reshape(-1,numChanels)\n",
    "elif rawFileBaseName.endswith(\".npy\"):\n",
    "    All = np.load(rawDataPath, mmap_mode= 'r')"
   ]
  },
  {
   "cell_type": "code",
   "execution_count": null,
   "metadata": {},
   "outputs": [],
   "source": [
    "filenameT = os.path.join(rawDataDir,\"timestamps.npy\")\n",
    "if os.path.isfile(filenameT):\n",
    "    Timestamps = np.load(filenameT)\n",
    "    Timestamps.shape\n",
    "    Timestamps = Timestamps*2000\n",
    "    Timestamps = Timestamps.astype(int)"
   ]
  },
  {
   "cell_type": "markdown",
   "metadata": {},
   "source": [
    "### Extract submatrix of interest"
   ]
  },
  {
   "cell_type": "code",
   "execution_count": null,
   "metadata": {},
   "outputs": [],
   "source": [
    "start = 000000\n",
    "end = All.shape[0]\n",
    "combined = np.empty((end-start,0),np.int16)\n",
    "channelLabels = []\n",
    "for region in channelsMap:\n",
    "    print(region, \"->\", channelsMap[region])\n",
    "    if len([canal[\"canal\"] for canal in channelsMap[region] if canal[\"status\"]==2])>0:\n",
    "        c2 = [canal[\"canal\"] for canal in channelsMap[region] if canal[\"status\"]==2][0]\n",
    "        c1 = [canal[\"canal\"] for canal in channelsMap[region] if canal[\"status\"]==1][0]\n",
    "        print(\"Getting differential signal of channel {} - channel {} for {}\".format(c2,c1,region))\n",
    "        channelLabels.append(region)\n",
    "        combined = np.append(combined, All[start:end, c2, np.newaxis] - All[:, c1, np.newaxis], axis=1)\n",
    "    elif len([canal[\"canal\"] for canal in channelsMap[region] if canal[\"status\"]==1])>0:\n",
    "        c = [canal[\"canal\"] for canal in channelsMap[region] if canal[\"status\"]==1][0]\n",
    "        print(\"Getting floating signal of channel {} for {}\".format(c,region))\n",
    "        combined = np.append(combined, All[start:end,c, np.newaxis], axis=1)\n",
    "        channelLabels.append(region)"
   ]
  },
  {
   "cell_type": "code",
   "execution_count": null,
   "metadata": {},
   "outputs": [],
   "source": [
    "%gui qt # allows the app to be closed clean and reopen\n",
    "app = mkQApp()\n",
    "\n",
    "\n",
    "sample_rate = 1000.\n",
    "t_start = 0.\n",
    "\n",
    "TTL = Timestamps\n",
    "\n",
    "#create 2 familly scatters from theses 2 indexes\n",
    "scatter_indexes = {0: TTL, 1: TTL}\n",
    "#and asign them to some channels each\n",
    "scatter_channels = {0: [0, 12], 1: [0, 1]}\n",
    "source = AnalogSignalSourceWithScatter(All, sample_rate, t_start, scatter_indexes, scatter_channels)\n",
    "\n",
    "\n",
    "#Create the main window that can contain several viewers\n",
    "win = MainViewer()\n",
    "view1 = TraceViewer.from_numpy(combined, sample_rate, t_start, 'Signals', channel_names=channelLabels)\n",
    "#view1 = TraceViewer(source=source)\n",
    "win.add_view(view1)\n",
    "\n",
    "#Parameters can be set in script\n",
    "view1.params['display_labels'] = True\n",
    "view1.params['scale_mode'] = 'same_for_all'\n",
    "view1.auto_scale()\n",
    "\n",
    "cmap = matplotlib.colormaps[\"hsv\"]#Wistia\"]\n",
    "nCh = len(view1.by_channel_params.children())\n",
    "for ch in range(nCh):\n",
    "    #view1.by_channel_params[f'ch{ch}', 'gain'] = 0.00002\n",
    "    #view1.by_channel_params[f'ch{ch}', 'offset'] = 0.1\n",
    "    view1.by_channel_params[f'ch{ch}', 'color'] = matplotlib.colors.to_hex(cmap(ch/nCh), keep_alpha=False)\n",
    "    pass\n",
    "\n",
    "\n",
    "#Run\n",
    "win.show()\n",
    "#app.exec()  #if commented, the app is shown and fonctionnal. Maybe detecting buttons. the Python icon doesn't close any better"
   ]
  }
 ],
 "metadata": {
  "kernelspec": {
   "display_name": "Python 3.9.12 ('formation')",
   "language": "python",
   "name": "python3"
  },
  "language_info": {
   "codemirror_mode": {
    "name": "ipython",
    "version": 3
   },
   "file_extension": ".py",
   "mimetype": "text/x-python",
   "name": "python",
   "nbconvert_exporter": "python",
   "pygments_lexer": "ipython3",
   "version": "3.11.8"
  },
  "orig_nbformat": 4,
  "vscode": {
   "interpreter": {
    "hash": "984d3fbee8ffa490637705ae3d7233e001ab0304f3daaca07b5aa8569b88ca53"
   }
  }
 },
 "nbformat": 4,
 "nbformat_minor": 2
}
