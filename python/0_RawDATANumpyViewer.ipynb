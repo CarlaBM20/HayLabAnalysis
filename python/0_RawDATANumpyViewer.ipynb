{
 "cells": [
  {
   "cell_type": "markdown",
   "metadata": {},
   "source": [
    "# This is just a notebook to visualise 1kHz filtered raw data"
   ]
  },
  {
   "cell_type": "markdown",
   "metadata": {},
   "source": [
    "## Setup everything"
   ]
  },
  {
   "cell_type": "markdown",
   "metadata": {},
   "source": [
    "### Import packages"
   ]
  },
  {
   "cell_type": "code",
   "execution_count": 48,
   "metadata": {},
   "outputs": [],
   "source": [
    "import os\n",
    "import sys\n",
    "import quantities as pq\n",
    "import numpy as np\n",
    "import neo\n",
    "from pathlib import Path\n",
    "import pandas as pd\n",
    "import matplotlib.pyplot as plt\n",
    "from matplotlib.widgets import Slider, Button, Cursor\n",
    "import scipy\n",
    "from scipy import interpolate\n",
    "from scipy import fftpack\n",
    "from scipy import signal\n",
    "import fnmatch\n",
    "import os\n",
    "import mmap\n",
    "import xarray as xr\n",
    "import dask.array as da\n",
    "\n",
    "%matplotlib widget\n",
    "\n",
    "from IPython.display import display\n",
    "from ipyfilechooser import FileChooser\n",
    "import ipywidgets as widgets\n",
    "\n",
    "from ephyviewer import mkQApp, MainViewer, TraceViewer, TimeFreqViewer\n",
    "from ephyviewer import InMemoryAnalogSignalSource\n",
    "import ephyviewer",
    "\n",
    "import pickle\n",
    "import configparser\n",
    "import ast"
   ]
  },
  {
   "cell_type": "markdown",
   "metadata": {},
   "source": [
    "### Define general functions"
   ]
  },
  {
   "cell_type": "code",
   "execution_count": 49,
   "metadata": {},
   "outputs": [
    {
     "data": {
      "application/vnd.jupyter.widget-view+json": {
       "model_id": "7f45aa3ea06d450f9df53cb59d2e1f54",
       "version_major": 2,
       "version_minor": 0
      },
      "text/plain": [
       "Dropdown(description='Animals:', options=('BOB', 'Blue', 'Pink'), value='BOB')"
      ]
     },
     "metadata": {},
     "output_type": "display_data"
    }
   ],
   "source": [
    "animals = ['BOB', 'Blue', 'Pink']\n",
    "AnimalID = ''\n",
    "try:\n",
    "    %store -r AnimalID\n",
    "except:\n",
    "    print(\"Animal not in store\")\n",
    "    AnimalID =animals[0]\n",
    "\n",
    "\n",
    "def updateAnimal(widget):\n",
    "    AnimalID = widget.new\n",
    "    %store AnimalID\n",
    "\n",
    "wAnimal = widgets.Dropdown(\n",
    "    options=animals,\n",
    "    value=AnimalID,\n",
    "    description='Animals:',\n",
    "    disabled=False,\n",
    ")\n",
    "wAnimal.observe(updateAnimal, 'value')\n",
    "\n",
    "display(wAnimal)\n"
   ]
  },
  {
   "cell_type": "markdown",
   "metadata": {},
   "source": [
    "## Load LFPs data"
   ]
  },
  {
   "cell_type": "code",
   "execution_count": 5,
   "metadata": {},
   "outputs": [],
   "source": [
    "folderpath = Path(dpath)\n",
    "numchannels=32\n",
    "\n",
    "if find_files_with_string(folderpath,  \".bin\"): #Bonsai\n",
    "    matching_file = find_files_with_string(folderpath, \".bin\")\n",
    "    All = np.fromfile(matching_file, dtype=np.uint16)\n",
    "    All = All - int(65535/2)\n",
    "    All = All.astype(np.int16)\n",
    "    if 'sommeil' in dpath:\n",
    "        numchannels=64\n",
    "    All = All.reshape(-1,numchannels)\n",
    "    print('File loaded: OE32channels.bin,', numchannels, 'channels')\n",
    "\n",
    "elif find_files_with_string(folderpath,  \"continuous.dat\"): #OpenEphys\n",
    "    matching_file = find_files_with_string(folderpath, \"continuous.dat\")\n",
    "    All = np.fromfile(matching_file, dtype=np.int16)\n",
    "\n",
    "    #All =np.memmap(matching_file, dtype='int16', mode='c')\n",
    "    \n",
    "    #All = All - int(65535/2)\n",
    "    #All = All.astype(np.int16)    \n",
    "    if 'sommeil' in dpath:\n",
    "        numchannels=64\n",
    "    All = All.reshape(-1,numchannels)\n",
    "    print('File loaded: continuous.dat,', numchannels, 'channels')\n",
    "\n",
    "elif find_files_with_string(folderpath,  \"RawDataChannelExtractedDS.npy\"): #OpenEphys Gaelle's Data\n",
    "    matching_file = find_files_with_string(folderpath, \"RawDataChannelExtractedDS.npy\")\n",
    "    All = np.load(matching_file, mmap_mode= 'r')\n",
    "    \n",
    "    #All = All.reshape(-1,numchannels)\n",
    "    print('File loaded: RawDataChannelExtractedDS.npy,', numchannels, 'channels')\n",
    "\n",
    "All.shape"
   ]
  },
  {
   "cell_type": "code",
   "execution_count": 6,
   "metadata": {},
   "outputs": [],
   "source": [
    "All = np.fromfile(matching_file, dtype=np.int16)\n",
    "numchannels=64\n",
    "All = All.reshape(-1,numchannels)"
   ]
  },
  {
   "cell_type": "markdown",
   "metadata": {},
   "source": [
    "# Filtre parameter:\n",
    "f_lowcut = 1\n",
    "f_hicut = 50.\n",
    "fs = 1000\n",
    "nyq = 0.5 * fs\n",
    "N = 4                 # Filtre order\n",
    "Wn = [f_lowcut/nyq,f_hicut/nyq]  # Nyquist frequency fraction\n",
    "\n",
    "# Filtering:\n",
    "b, a = signal.butter(N, Wn, 'band')\n"
   ]
  },
  {
   "cell_type": "code",
   "execution_count": 11,
   "metadata": {},
   "outputs": [],
   "source": [
    "match AnimalID:\n",
    "    case 'BOB':\n",
    "        #BOB\n",
    "        S1=All[:, 5]-All[:,6]\n",
    "        PFC=All[:, 2]-All[:,3]\n",
    "        CA1=All[:, 29]-All[:,30]\n",
    "        EMG=All[:,27]\n",
    "        combined = np.stack([S1, PFC, CA1, EMG/10], axis = 1)\n",
    "    case 'Blue':\n",
    "        #Blue\n",
    "        PFC=All[:, 14]-All[:,15]\n",
    "        PFC = signal.filtfilt(b, a, PFC)\n",
    "        S1=All[:, 8]-All[:,9]\n",
    "        S1 = signal.filtfilt(b, a, S1)\n",
    "        EMG=All[:,20]\n",
    "        combined = np.stack([S1,PFC, EMG/10], axis = 1)\n",
    "    case 'Pink':\n",
    "        #Pink\n",
    "        PFC=All[:, 26+32]-All[:,27+32]\n",
    "        EMG=All[:,9+32]\n",
    "        S1=All[:, 0+32]-All[:,1+32]\n",
    "        combined = np.stack([S1,PFC, EMG/10], axis = 1)\n",
    "    case _:\n",
    "        print(\"no known animal defined\")\n",
    "        combined = All"
   ]
  },
  {
   "cell_type": "markdown",
   "metadata": {},
   "source": [
    "### Visualise All"
   ]
  },
  {
   "cell_type": "code",
   "execution_count": 13,
   "metadata": {},
   "outputs": []
     },
     "execution_count": 13,
     "metadata": {},
     "output_type": "execute_result"
    }
   ],
   "source": [
    "%gui qt \n",
    "app = mkQApp()\n",
    "\n",
    "sample_rate = 1000.\n",
    "t_start = 0.\n",
    "\n",
    "#Create the main window that can contain several viewers\n",
    "\n",
    "win = MainViewer()\n",
    "source = InMemoryAnalogSignalSource(combined, sample_rate, t_start)\n",
    "view1 = TraceViewer(source=source, name='trace')\n",
    "\n",
    "view1.params['display_labels'] = True\n",
    "view1.params['scale_mode'] = 'same_for_all'\n",
    "view1.auto_scale()\n",
    "\n",
    "#create a time freq viewer conencted to the same source\n",
    "view2 = TimeFreqViewer(source=source, name='tfr')\n",
    "\n",
    "view2.params['show_axis'] = True\n",
    "view2.params['timefreq', 'deltafreq'] = 1\n",
    "view2.params['timefreq', 'f_stop'] = 200\n",
    "#view2.by_channel_params['ch0', 'timefreq', 'f_stop'] = 20\n",
    "#view2.by_channel_params['ch1', 'timefreq', 'f_stop'] = 150\n",
    "view2.by_channel_params['ch0', 'visible'] = False\n",
    "view2.by_channel_params['ch1', 'visible'] = True\n",
    "view2.by_channel_params['ch1', 'clim'] = 100\n",
    "\n",
    "#add them to mainwindow\n",
    "win.add_view(view1)\n",
    "win.add_view(view2)\n",
    "\n",
    "\n",
    "#Run\n",
    "win.show()\n",
    "app.exec_()"
   ]
  }
 ],
 "metadata": {
  "kernelspec": {
   "display_name": "Python 3.9.12 ('formation')",
   "language": "python",
   "name": "python3"
  },
  "language_info": {
   "codemirror_mode": {
    "name": "ipython",
    "version": 3
   },
   "file_extension": ".py",
   "mimetype": "text/x-python",
   "name": "python",
   "nbconvert_exporter": "python",
   "pygments_lexer": "ipython3",
   "version": "3.11.8"
  },
  "orig_nbformat": 4,
  "vscode": {
   "interpreter": {
    "hash": "984d3fbee8ffa490637705ae3d7233e001ab0304f3daaca07b5aa8569b88ca53"
   }
  }
 },
 "nbformat": 4,
 "nbformat_minor": 2
}
