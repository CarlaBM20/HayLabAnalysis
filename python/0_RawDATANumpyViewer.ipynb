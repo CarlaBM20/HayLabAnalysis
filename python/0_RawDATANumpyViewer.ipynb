{
 "cells": [
  {
   "cell_type": "markdown",
   "metadata": {},
   "source": [
    "# This is just a notebook to visualise 1kHz filtered raw data"
   ]
  },
  {
   "cell_type": "markdown",
   "metadata": {},
   "source": [
    "## Setup everything"
   ]
  },
  {
   "cell_type": "markdown",
   "metadata": {},
   "source": [
    "### Import packages"
   ]
  },
  {
   "cell_type": "code",
   "execution_count": 3,
   "metadata": {},
   "outputs": [],
   "source": [
    "import os\n",
    "import sys\n",
    "import quantities as pq\n",
    "import numpy as np\n",
    "import neo\n",
    "from pathlib import Path\n",
    "import pandas as pd\n",
    "import matplotlib.pyplot as plt\n",
    "from matplotlib.widgets import Slider, Button, Cursor\n",
    "import scipy\n",
    "from scipy import interpolate\n",
    "from scipy import fftpack\n",
    "from scipy import signal\n",
    "from open_ephys.analysis import Session\n",
    "\n",
    "import mmap\n",
    "import xarray as xr\n",
    "import dask.array as da\n",
    "#%matplotlib widget\n",
    "\n",
    "from ephyviewer import mkQApp, MainViewer, TraceViewer\n",
    "from ephyviewer import AnalogSignalSourceWithScatter\n",
    "\n",
    "\n",
    "from ipyfilechooser import FileChooser\n",
    "import ipywidgets as widgets\n",
    "import pickle\n",
    "import configparser"
   ]
  },
  {
   "cell_type": "markdown",
   "metadata": {},
   "source": [
    "### Import local config"
   ]
  },
  {
   "cell_type": "code",
   "execution_count": 103,
   "metadata": {},
   "outputs": [],
   "source": [
    "configFN = 'localConfig.ini'\n",
    "config = configparser.ConfigParser()\n",
    "config.read(configFN)\n",
    "\n",
    "rawDataPath = config['DATA']['path']\n",
    "\n",
    "def updateConf():\n",
    "    with open(configFN, 'w') as configfile:\n",
    "        config.write(configfile)"
   ]
  },
  {
   "cell_type": "markdown",
   "metadata": {},
   "source": [
    "### Define functions to deal with config dictionaries\n",
    "\n",
    "channelsMap is a dictionary with one key per brain region and/or canal of interest (TTL). The value associated to the key is an array with every corresponding canal. The \"status\" key defines which of these canals to use for analyses:\n",
    "- 0: not to use\n",
    "- 1 only: floating point canal\n",
    "- 1 and 2: differential signal 2-1"
   ]
  },
  {
   "cell_type": "code",
   "execution_count": null,
   "metadata": {},
   "outputs": [],
   "source": [
    "def getPathComponent(filename,projectType):\n",
    "    \n",
    "    dirPathComponents = os.path.normpath(filename).split(os.sep)\n",
    "    expeInfo = dict()\n",
    "\n",
    "    expeInfo['analysisPath'] = os.path.join('/',*dirPathComponents[0:-5])\n",
    "    expeInfo['ProjectID'] = dirPathComponents[-5]\n",
    "    expeInfo['subProjectID'] = dirPathComponents[-4]\n",
    "\n",
    "    with open(os.path.join('/',*dirPathComponents[0:-3],'projectConfig.pkl'), 'rb') as f:\n",
    "        loaded_dict = pickle.load(f)\n",
    "        expeInfo['projectType'] = loaded_dict['projectType']\n",
    "\n",
    "    if projectType == 0:\n",
    "        expeInfo['conditionID'] = dirPathComponents[-3]\n",
    "        expeInfo['AnimalID'] = dirPathComponents[-2]\n",
    "    else:\n",
    "        expeInfo['AnimalID'] = dirPathComponents[-3]\n",
    "        expeInfo['conditionID'] = dirPathComponents[-2]\n",
    "        \n",
    "    expeInfo['recordingID'] = dirPathComponents[-1]\n",
    "\n",
    "    return expeInfo\n"
   ]
  },
  {
   "cell_type": "code",
   "execution_count": 106,
   "metadata": {},
   "outputs": [],
   "source": [
    "expeInfo = dict()\n",
    "\n",
    "projects = [p.split('.')[0] for p in config.sections() if p not in ['DATA','ANALYSIS']]\n",
    "\n",
    "subprojects = {p.split('.')[0]: widgets.Dropdown(\n",
    "    options=[p.split('.')[1]],\n",
    "    description='Sub-project:',\n",
    "    ) for p in config.sections() if p not in ['DATA','ANALYSIS']} \n",
    "\n",
    "\n",
    "def printExpeInfo(**func_kwargs):\n",
    "    pass#print(expeInfo)\n",
    "\n",
    "def updateProject(widget):\n",
    "    ProjectID = widget.new\n",
    "    expeInfo['ProjectID'] = ProjectID\n",
    "    new_i = widgets.interactive(printExpeInfo, project=wProject, subProject=subprojects[ProjectID])\n",
    "    i.children = new_i.children\n",
    "\n",
    "\n",
    "def updateSubProject(widget):\n",
    "    if widget['type'] == 'change' and widget['name'] == 'value':\n",
    "        expeInfo['subProjectID'] = widget.new\n",
    "\n",
    "def update_design(widget):\n",
    "    projectType = widget.new\n",
    "    if projectType == 0:\n",
    "        new_i = widgets.interactive(printExpeInfo, project=wProject, subProject=subprojects[ProjectID], design=wDesign, condition=wCondition, animal=wAnimal, rec=wRec)\n",
    "    else:\n",
    "        new_i = widgets.interactive(printExpeInfo, project=wProject, subProject=subprojects[ProjectID], design=wDesign, animal=wAnimal, condition=wCondition, rec=wRec)\n",
    "    i.children = new_i.children\n",
    "    %store projectType\n",
    "\n",
    "analysisPath = config['ANALYSIS']['path']\n",
    "projectType = int(config['ANALYSIS']['projectType'])\n",
    "ProjectID = config['ANALYSIS']['ProjectID']\n",
    "subProjectID = config['ANALYSIS']['subProjectID']\n",
    "conditionID = config['ANALYSIS']['conditionID']\n",
    "AnimalID = int(config['ANALYSIS']['AnimalID'])\n",
    "recordingID = int(config['ANALYSIS']['recordingID'])\n",
    "\n",
    "wProject = widgets.Dropdown(\n",
    "    options=projects,\n",
    "    value=ProjectID,\n",
    "    description='Project:',\n",
    "    disabled=False,\n",
    ")\n",
    "wProject.observe(updateProject, 'value')\n",
    "\n",
    "#wSubProject.observe(updateSubProject)\n",
    "\n",
    "designs = ['independant groups', 'within subject']\n",
    "wDesign = widgets.RadioButtons(\n",
    "    options=designs,\n",
    "    value=designs[projectType], # Defaults to 'independant groups'\n",
    "    description='Experiment design:'\n",
    ")\n",
    "wDesign.observe(update_design, names=['index'])\n",
    "\n",
    "wAnimal = widgets.BoundedIntText(\n",
    "    value=AnimalID,\n",
    "    min=0,\n",
    "    #max=10,\n",
    "    step=1,\n",
    "    description='Animal ID:'\n",
    ")\n",
    "\n",
    "conditions = [\"bla\", \"ctr\"]\n",
    "wCondition = widgets.Dropdown(\n",
    "    options=conditions,\n",
    "    value=conditionID,\n",
    "    description='Condition:',\n",
    ")\n",
    "\n",
    "wRec = widgets.BoundedIntText(\n",
    "    value=recordingID,\n",
    "    min=0,\n",
    "    #max=10,\n",
    "    step=1,\n",
    "    description='Recording ID:'\n",
    ")\n",
    "\n",
    "if projectType == 0:\n",
    "    i = widgets.interactive(printExpeInfo, project=wProject, subProject=subprojects[ProjectID], design=wDesign, condition=wCondition, animal=wAnimal, rec=wRec)\n",
    "else:\n",
    "    i = widgets.interactive(printExpeInfo, project=wProject, subProject=subprojects[ProjectID], design=wDesign, animal=wAnimal, condition=wCondition, rec=wRec)\n",
    "\n",
    "\n",
    "def defineExpeInfo():\n",
    "    display(i)"
   ]
  },
  {
   "cell_type": "code",
   "execution_count": 3,
   "metadata": {},
   "outputs": [],
   "source": [
    "def generateConfigDict(filename):\n",
    "    \n",
    "    numChanels=64\n",
    "\n",
    "    channelsMap = dict( \\\n",
    "        EMG = [dict(canal = 6, status=1)],\n",
    "        PFC = [dict(canal = 5, status=1),\n",
    "            dict(canal = 4, status=2)\n",
    "            ],\n",
    "        CA1 = [dict(canal = 8, status=1),\n",
    "            dict(canal = 0, status=0),\n",
    "            dict(canal = 1, status=0),\n",
    "            ],\n",
    "        TTL = [dict(canal = 10, status=1)],\n",
    "    )\n",
    "    \n",
    "    rawDataPath = None\n",
    "\n",
    "    projectType = int(config['ANALYSIS']['projectType'])\n",
    "    expeInfo = getPathComponent(filename,projectType)\n",
    "\n",
    "    allParamsDict = dict(channelsMap, numChanels = numChanels, rawDataPath = rawDataPath, expeInfo = expeInfo)\n",
    "\n",
    "    with open(filename, 'wb') as f:\n",
    "        pickle.dump(allParamsDict, f)\n",
    "            "
   ]
  },
  {
   "cell_type": "code",
   "execution_count": 4,
   "metadata": {},
   "outputs": [],
   "source": [
    "def loadConfigDict(filename):\n",
    "    \n",
    "    with open(filename, 'rb') as f:\n",
    "        loaded_dict = pickle.load(f)\n",
    "\n",
    "        numChanels = loaded_dict.pop('numChanels')\n",
    "        print(numChanels)\n",
    "\n",
    "        rawDataPath = loaded_dict.pop('rawDataPath')\n",
    "        print(rawDataPath)\n",
    "\n",
    "        expeInfo = loaded_dict.pop('expeInfo')\n",
    "        print(expeInfo)\n",
    "\n",
    "        channelsMap = loaded_dict\n",
    "        print(channelsMap)"
   ]
  },
  {
   "cell_type": "markdown",
   "metadata": {},
   "source": [
    "### Choose experiment\n",
    "Select the experiment to display. If the experiment was already analyzed, a saved_dictionary.pkl was created and contains all necessary variables. Select this file. Otherwise select the raw data recording file."
   ]
  },
  {
   "cell_type": "code",
   "execution_count": 108,
   "metadata": {},
   "outputs": [
    {
     "name": "stdout",
     "output_type": "stream",
     "text": [
      "no stored variable or alias currentFile\n"
     ]
    },
    {
     "data": {
      "application/vnd.jupyter.widget-view+json": {
       "model_id": "9ffc7e8efd9d40a1b4211a2072a8aac6",
       "version_major": 2,
       "version_minor": 0
      },
      "text/plain": [
       "FileChooser(path='/Users/mb/Documents/Syntuitio/AudreyHay/PlanB', filename='', title='<b>Select file</b>', sho…"
      ]
     },
     "metadata": {},
     "output_type": "display_data"
    }
   ],
   "source": [
    "currentFile = None\n",
    "%store -r currentFile\n",
    "\n",
    "if currentFile is not None: # a file is currently being used\n",
    "    pathName, fileName = os.path.split()\n",
    "else:\n",
    "    pathName = rawDataPath\n",
    "    fileName = \"\"\n",
    "     \n",
    "fc = FileChooser(path=pathName, filename=fileName, select_default=True, show_only_dirs = False, title = \"<b>Select file</b>\")\n",
    "display(fc)\n",
    "\n",
    "def update_my_folder(chooser):\n",
    "    selection = chooser.selected\n",
    "    if selection.endswith(\"pkl\"):\n",
    "        currentFile = selection\n",
    "        loadConfigDict(selection)\n",
    "        %store currentFile\n",
    "    else:\n",
    "        print(\"this is not a config file and we should deal with that\")\n",
    "        defineExpeInfo()\n",
    "    \n",
    "# Register callback function\n",
    "fc.register_callback(update_my_folder)"
   ]
  },
  {
   "cell_type": "code",
   "execution_count": 6,
   "metadata": {},
   "outputs": [
    {
     "data": {
      "application/vnd.jupyter.widget-view+json": {
       "model_id": "71a2624e1793479aa0ed9591adf3e8a6",
       "version_major": 2,
       "version_minor": 0
      },
      "text/plain": [
       "RadioButtons(description='Experiment design:', options=('independant groups', 'within subject'), value='indepe…"
      ]
     },
     "metadata": {},
     "output_type": "display_data"
    },
    {
     "data": {
      "application/vnd.jupyter.widget-view+json": {
       "model_id": "155dad60dc1f43d0961f7417c33bff8f",
       "version_major": 2,
       "version_minor": 0
      },
      "text/plain": [
       "FileChooser(path='/Users/mb/Documents/Syntuitio/AudreyHay/PlanB/Analysis/Try/None/None/1/1', filename='saved_d…"
      ]
     },
     "metadata": {},
     "output_type": "display_data"
    }
   ],
   "source": [
    "\n",
    "\n",
    "\n",
    "\n",
    "\n",
    "dictName = 'saved_dictionary.pkl'\n",
    "\n",
    "if ProjectID == \"\":\n",
    "    ProjectID = input('No project defined, please give it a name:')\n",
    "    config.set('ANALYSIS', 'ProjectID', ProjectID)\n",
    "    updateConf()\n",
    "    print(\"The project ID is set to : {}\".format(ProjectID))\n",
    "\n",
    "if subProjectID == \"\":\n",
    "    subProjectID = input('No sub project defined, please give it a name:')\n",
    "    config.set('ANALYSIS', 'subProjectID', subProjectID)\n",
    "    updateConf()\n",
    "    print(\"The project ID is set to : {}\".format(ProjectID))\n",
    "\n",
    "    print(\"The sub-project ID is not in strore yet, setting it to default: {}\".format(subProjectID))\n",
    "\n",
    "\n",
    "\n",
    "designs = ['independant groups', 'within subject']\n",
    "w = widgets.RadioButtons(\n",
    "    options=designs,\n",
    "    value=designs[projectType], # Defaults to 'independant groups'\n",
    "    # layout={'width': 'max-content'}, # If the items' names are long\n",
    "    description='Experiment design:',\n",
    "    disabled=False\n",
    ")\n",
    "display(w)\n",
    "\n",
    "def update_design(widget):\n",
    "    projectType = widget.new\n",
    "    %store projectType\n",
    "\n",
    "w.observe(update_design, names=['index'])\n",
    "\n",
    "try:\n",
    "    if projectType == 0:\n",
    "        path = os.path.join(analysisPath, ProjectID, subProjectID, conditionID, str(AnimalID), str(recordingID))\n",
    "        \n",
    "    else:\n",
    "        path = os.path.join(analysisPath, ProjectID, subProjectID, str(AnimalID), conditionID, str(recordingID))\n",
    "    os.makedirs(path, exist_ok=True)\n",
    "    fc = FileChooser(path=path, filename=dictName, select_default=True, show_only_dirs = True, title = \"<b>Analysis path</b>\")\n",
    "except Exception as error:\n",
    "    print(error)\n",
    "    fc = FileChooser(filename=dictName, show_only_dirs = True, title = \"<b>Analysis path</b>\")\n",
    "display(fc)\n",
    "\n",
    "# Sample callback function\n",
    "def update_my_folder(chooser):\n",
    "    global analysisPath, projectType, AnimalID, ProjectID, subProjectID, conditionID, recordingID\n",
    "    dirPath = os.path.normpath(chooser.selected)\n",
    "    dirPathComponents = dirPath.split(os.sep)\n",
    "    analysisPath = os.path.join('/',*dirPathComponents[0:-5])\n",
    "    ProjectID = dirPathComponents[-5]\n",
    "    subProjectID = dirPathComponents[-4]\n",
    "    if projectType == 0:\n",
    "        conditionID = dirPathComponents[-3]\n",
    "        AnimalID = dirPathComponents[-2]\n",
    "    else:\n",
    "        AnimalID = dirPathComponents[-3]\n",
    "        conditionID = dirPathComponents[-2]\n",
    "    recordingID = dirPathComponents[-1]\n",
    "    print(\"Storing analysis path: {}\".format(analysisPath))\n",
    "    print(\"Storing project: {}\".format(ProjectID))\n",
    "    print(\"Storing sub-project: {}\".format(subProjectID))\n",
    "    print(\"Storing condition: {}\".format(conditionID))\n",
    "    print(\"Storing animal ID: {}\".format(AnimalID))\n",
    "    print(\"Storing recording ID: {}\".format(recordingID))\n",
    "    %store analysisPath ProjectID subProjectID conditionID AnimalID recordingID\n",
    "\n",
    "    config.set('ANALYSIS', 'ProjectID', ProjectID)\n",
    "\n",
    "    with open(configFN, 'w') as configfile:\n",
    "        config.write(configfile)\n",
    "\n",
    "    return \n",
    "\n",
    "# Register callback function\n",
    "fc.register_callback(update_my_folder)"
   ]
  },
  {
   "cell_type": "markdown",
   "metadata": {},
   "source": [
    "### Get config file if it exists, generate it otherwise"
   ]
  },
  {
   "cell_type": "code",
   "execution_count": 7,
   "metadata": {},
   "outputs": [
    {
     "name": "stdout",
     "output_type": "stream",
     "text": [
      "64\n",
      "None\n",
      "{'EMG': [{'canal': 6, 'status': 1}], 'PFC': [{'canal': 5, 'status': 1}, {'canal': 4, 'status': 2}], 'CA1': [{'canal': 8, 'status': 1}, {'canal': 0, 'status': 0}, {'canal': 1, 'status': 0}], 'TTL': [{'canal': 10, 'status': 1}]}\n"
     ]
    }
   ],
   "source": [
    "if projectType == 0:\n",
    "    path = os.path.join(analysisPath, ProjectID, subProjectID, conditionID, str(AnimalID))\n",
    "else:\n",
    "    path = os.path.join(analysisPath, ProjectID, subProjectID, str(AnimalID))\n",
    "\n",
    "if not os.path.isfile(os.path.join(path,dictName)):\n",
    "    generateConfigDict(os.path.join(path,dictName))\n",
    "\n",
    "with open(os.path.join(path,dictName), 'rb') as f:\n",
    "    loaded_dict = pickle.load(f)\n",
    "\n",
    "    numChanels = loaded_dict.pop('numChanels')\n",
    "    print(numChanels)\n",
    "\n",
    "    rawDataPath = loaded_dict.pop('rawDataPath')\n",
    "    print(rawDataPath)\n",
    "\n",
    "    channelsMap = loaded_dict\n",
    "    print(channelsMap)\n",
    "    "
   ]
  },
  {
   "cell_type": "markdown",
   "metadata": {},
   "source": [
    "#### experiment path\n",
    "Select the experiment to analyse. If variables are already defined for that particular experiment, they will be used. Otherwise you will have to define them in the next section."
   ]
  },
  {
   "cell_type": "code",
   "execution_count": 8,
   "metadata": {},
   "outputs": [
    {
     "name": "stdout",
     "output_type": "stream",
     "text": [
      "The experiment path is not in strore yet, setting it to default: /Users/mb/Documents/Syntuitio/AudreyHay/PlanB/\n",
      "The experiment path is not in strore yet, setting it to default: recording8/continuous/Rhythm_FPGA-133.0/\n",
      "The experiment path is not in strore yet, setting it to default: continuous.dat\n"
     ]
    },
    {
     "data": {
      "application/vnd.jupyter.widget-view+json": {
       "model_id": "86901973e9ef4db0af095baf82a46470",
       "version_major": 2,
       "version_minor": 0
      },
      "text/plain": [
       "FileChooser(path='/Users/mb/Documents/Syntuitio/AudreyHay/PlanB/recording8/continuous/Rhythm_FPGA-133.0', file…"
      ]
     },
     "metadata": {},
     "output_type": "display_data"
    }
   ],
   "source": [
    "if rawDataPath is not None:\n",
    "    dirPathComponents = rawDataPath.split(os.sep)\n",
    "    expePath = os.path.join('/',*dirPathComponents[:-4])\n",
    "    subpath4FPGA = os.path.join(*dirPathComponents[-4:-1])\n",
    "    fileBaseName = dirPathComponents[-1]\n",
    "else:\n",
    "    expePath = None\n",
    "    subpath4FPGA = None\n",
    "    fileBaseName = None\n",
    "    #%store -r expePath subpath4FPGA fileBaseName\n",
    "        \n",
    "    if expePath is None:\n",
    "        expePath = \"/Users/mb/Documents/Syntuitio/AudreyHay/PlanB/\"\n",
    "        print(\"The experiment path is not in strore yet, setting it to default: {}\".format(expePath))\n",
    "\n",
    "    if subpath4FPGA is None:\n",
    "        subpath4FPGA = \"recording8/continuous/Rhythm_FPGA-133.0/\"\n",
    "        print(\"The experiment path is not in strore yet, setting it to default: {}\".format(subpath4FPGA))\n",
    "\n",
    "    if fileBaseName is None:\n",
    "        fileBaseName = \"continuous.dat\"\n",
    "        print(\"The experiment path is not in strore yet, setting it to default: {}\".format(fileBaseName))\n",
    "\n",
    "\n",
    "try:\n",
    "    fc = FileChooser(path=os.path.join(expePath,subpath4FPGA), filename=fileBaseName,select_default=True, show_only_dirs = False, title = \"<b>ePhys data</b>\")\n",
    "except:\n",
    "    fc = FileChooser(show_only_dirs = False, title = \"<b>ePhys data</b>\")\n",
    "display(fc)\n",
    "\n",
    "# Sample callback function\n",
    "def update_my_folder(chooser):\n",
    "    global expePath, subpath4FPGA, fileBaseName\n",
    "    filePath = chooser.selected\n",
    "    subpath4FPGA = \"\"\n",
    "    fileBaseName = os.path.basename(filePath)\n",
    "    print(\"Storing filename: {}\".format(fileBaseName))\n",
    "    level=4\n",
    "    for i in range(level):\n",
    "        filePath = os.path.dirname(filePath)\n",
    "        if i < level-1:\n",
    "            subpath4FPGA = os.path.basename(filePath) + \"/\" + subpath4FPGA\n",
    "    expePath = filePath\n",
    "    print(\"Storing experiement path: {}\".format(expePath))\n",
    "    print(\"Storing subpath: {}\".format(subpath4FPGA))\n",
    "\n",
    "    with open(os.path.join(path,dictName), 'a+') as f:\n",
    "        pickle.dump(rawDataPath,f)\n",
    "\n",
    "    %store expePath subpath4FPGA fileBaseName\n",
    "    return \n",
    "\n",
    "# Register callback function\n",
    "fc.register_callback(update_my_folder)"
   ]
  },
  {
   "cell_type": "markdown",
   "metadata": {},
   "source": [
    "## Load Data"
   ]
  },
  {
   "cell_type": "markdown",
   "metadata": {},
   "source": [
    "### Map the whole data into memory"
   ]
  },
  {
   "cell_type": "code",
   "execution_count": 9,
   "metadata": {},
   "outputs": [],
   "source": [
    "filename = os.path.join(expePath,subpath4FPGA,fileBaseName)\n",
    "\n",
    "if fileBaseName == \"continuous.dat\":\n",
    "    All = np.memmap(filename, mode='r', dtype='int16')\n",
    "    #All = np.fromfile(filename, dtype=\"int16\")\n",
    "    All = All.reshape(-1,numChanels)\n",
    "elif fileBaseName.endswith(\".npy\"):\n",
    "    All = np.load(filename, mmap_mode= 'r')"
   ]
  },
  {
   "cell_type": "code",
   "execution_count": 10,
   "metadata": {},
   "outputs": [
    {
     "data": {
      "text/plain": [
       "array([506597888000, 506597890000, 506597892000, ..., 553625594000,\n",
       "       553625596000, 553625598000])"
      ]
     },
     "execution_count": 10,
     "metadata": {},
     "output_type": "execute_result"
    }
   ],
   "source": [
    "filenameT = filename = os.path.join(expePath,subpath4FPGA,\"timestamps.npy\")\n",
    "Timestamps = np.load(filenameT)\n",
    "Timestamps.shape\n",
    "Timestamps = Timestamps*2000\n",
    "Timestamps = Timestamps.astype(int)\n",
    "Timestamps"
   ]
  },
  {
   "cell_type": "markdown",
   "metadata": {},
   "source": [
    "### Extract submatrix of interest"
   ]
  },
  {
   "cell_type": "code",
   "execution_count": 11,
   "metadata": {},
   "outputs": [
    {
     "name": "stdout",
     "output_type": "stream",
     "text": [
      "EMG -> [{'canal': 6, 'status': 1}]\n",
      "Getting floating signal of channel 6 for EMG\n",
      "PFC -> [{'canal': 5, 'status': 1}, {'canal': 4, 'status': 2}]\n",
      "Getting differential signal of channel 4 - channel 5 for PFC\n",
      "CA1 -> [{'canal': 8, 'status': 1}, {'canal': 0, 'status': 0}, {'canal': 1, 'status': 0}]\n",
      "Getting floating signal of channel 8 for CA1\n",
      "TTL -> [{'canal': 10, 'status': 1}]\n",
      "Getting floating signal of channel 10 for TTL\n"
     ]
    }
   ],
   "source": [
    "start = 000000\n",
    "end = All.shape[0]\n",
    "combined = np.empty((end-start,0),np.int16)\n",
    "channelLabels = []\n",
    "for region in channelsMap:\n",
    "    print(region, \"->\", channelsMap[region])\n",
    "    if len([canal[\"canal\"] for canal in channelsMap[region] if canal[\"status\"]==2])>0:\n",
    "        c2 = [canal[\"canal\"] for canal in channelsMap[region] if canal[\"status\"]==2][0]\n",
    "        c1 = [canal[\"canal\"] for canal in channelsMap[region] if canal[\"status\"]==1][0]\n",
    "        print(\"Getting differential signal of channel {} - channel {} for {}\".format(c2,c1,region))\n",
    "        channelLabels.append(region)\n",
    "        combined = np.append(combined, All[start:end, c2, np.newaxis] - All[:, c1, np.newaxis], axis=1)\n",
    "    elif len([canal[\"canal\"] for canal in channelsMap[region] if canal[\"status\"]==1])>0:\n",
    "        c = [canal[\"canal\"] for canal in channelsMap[region] if canal[\"status\"]==1][0]\n",
    "        print(\"Getting floating signal of channel {} for {}\".format(c,region))\n",
    "        combined = np.append(combined, All[start:end,c, np.newaxis], axis=1)\n",
    "        channelLabels.append(region)"
   ]
  },
  {
   "cell_type": "code",
   "execution_count": 12,
   "metadata": {},
   "outputs": [
    {
     "data": {
      "text/plain": [
       "0"
      ]
     },
     "execution_count": 12,
     "metadata": {},
     "output_type": "execute_result"
    },
    {
     "ename": "",
     "evalue": "",
     "output_type": "error",
     "traceback": [
      "\u001b[1;31mThe Kernel crashed while executing code in the current cell or a previous cell. \n",
      "\u001b[1;31mPlease review the code in the cell(s) to identify a possible cause of the failure. \n",
      "\u001b[1;31mClick <a href='https://aka.ms/vscodeJupyterKernelCrash'>here</a> for more info. \n",
      "\u001b[1;31mView Jupyter <a href='command:jupyter.viewOutput'>log</a> for further details."
     ]
    }
   ],
   "source": [
    "%gui qt \n",
    "# allows the app to be closed clean and reopen\n",
    "app = mkQApp()\n",
    "\n",
    "\n",
    "sample_rate = 1000.\n",
    "t_start = 0.\n",
    "\n",
    "TTL = Timestamps\n",
    "\n",
    "#create 2 familly scatters from theses 2 indexes\n",
    "scatter_indexes = {0: TTL, 1: TTL}\n",
    "#and asign them to some channels each\n",
    "scatter_channels = {0: [0, 12], 1: [0, 1]}\n",
    "source = AnalogSignalSourceWithScatter(All, sample_rate, t_start, scatter_indexes, scatter_channels)\n",
    "\n",
    "\n",
    "#Create the main window that can contain several viewers\n",
    "win = MainViewer()\n",
    "view1 = TraceViewer.from_numpy(combined, sample_rate, t_start, 'Signals', channel_names=channelLabels)\n",
    "#view1 = TraceViewer(source=source)\n",
    "win.add_view(view1)\n",
    "\n",
    "#Parameters can be set in script\n",
    "#view1.params['scale_mode'] = 'same_for_all'\n",
    "view1.params['display_labels'] = True\n",
    "\n",
    "view1.by_channel_params['ch0', 'gain'] = 0.00002\n",
    "view1.by_channel_params['ch1', 'gain'] = 0.00004\n",
    "view1.by_channel_params['ch2', 'gain'] = 0.00004\n",
    "view1.by_channel_params['ch3', 'gain'] = 0.00005\n",
    "#view1.by_channel_params['ch4', 'gain'] = 0.00005\n",
    "\n",
    "view1.by_channel_params['ch0', 'offset'] = 0.1\n",
    "view1.by_channel_params['ch1', 'offset'] = 0.05\n",
    "view1.by_channel_params['ch2', 'offset'] = -0.0\n",
    "view1.by_channel_params['ch3', 'offset'] = -0.05\n",
    "#view1.by_channel_params['ch4', 'offset'] = -0.1\n",
    "\n",
    "#And also parameters for each channel\n",
    "view1.by_channel_params['ch0', 'color'] = '#aa0000'\n",
    "view1.by_channel_params['ch1', 'color'] = '#ff5500'\n",
    "view1.by_channel_params['ch2', 'color'] = '#9b3b70'\n",
    "view1.by_channel_params['ch3', 'color'] = '#0055ff'\n",
    "\n",
    "\n",
    "#Run\n",
    "win.show()\n",
    "app.exec()"
   ]
  }
 ],
 "metadata": {
  "kernelspec": {
   "display_name": "Python 3.9.12 ('formation')",
   "language": "python",
   "name": "python3"
  },
  "language_info": {
   "codemirror_mode": {
    "name": "ipython",
    "version": 3
   },
   "file_extension": ".py",
   "mimetype": "text/x-python",
   "name": "python",
   "nbconvert_exporter": "python",
   "pygments_lexer": "ipython3",
   "version": "3.11.8"
  },
  "orig_nbformat": 4,
  "vscode": {
   "interpreter": {
    "hash": "984d3fbee8ffa490637705ae3d7233e001ab0304f3daaca07b5aa8569b88ca53"
   }
  }
 },
 "nbformat": 4,
 "nbformat_minor": 2
}
