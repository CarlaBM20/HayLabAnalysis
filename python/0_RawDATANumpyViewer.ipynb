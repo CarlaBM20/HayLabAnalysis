{
 "cells": [
  {
   "cell_type": "markdown",
   "metadata": {},
   "source": [
    "# This is just a notebook to visualise 1kHz filtered raw data"
   ]
  },
  {
   "cell_type": "markdown",
   "metadata": {},
   "source": [
    "## Setup everything"
   ]
  },
  {
   "cell_type": "markdown",
   "metadata": {},
   "source": [
    "### Import packages"
   ]
  },
  {
   "cell_type": "code",
   "execution_count": 1,
   "metadata": {},
   "outputs": [],
   "source": [
    "import os\n",
    "import numpy as np\n",
    "import matplotlib\n",
    "\n",
    "from ephyviewer import mkQApp, MainViewer, TraceViewer, TimeFreqViewer, InMemoryAnalogSignalSource\n",
    "from ephyviewer import AnalogSignalSourceWithScatter\n",
    "\n",
    "# add the Contrib dir that contains all tools developped by MB : mbTools.py\n",
    "#sys.path.append(os.path.join(os.path.dirname(sys.path[0]),'python'))\n",
    "#print(os.path.join(os.path.dirname(sys.path[0]),'python'))\n",
    "from mbTools import mbTools"
   ]
  },
  {
   "cell_type": "markdown",
   "metadata": {},
   "source": [
    "### Import local config, create it if inexistant\n",
    "All user-specific configuration (projects, defautl path to files...) are stored in a file named localConfig.ini in the python subfolder of AudreyHayLab repo. It is ignored by git so that it remains truely local. If the file does not exist at beginning, it is created with default values that can be modified at whishes."
   ]
  },
  {
   "cell_type": "code",
   "execution_count": null,
   "metadata": {},
   "outputs": [],
   "source": [
    "config = mbTools.localConf()\n",
    "rawDataPath = config['DATA']['path']\n",
    "print(f'All raw data are expected to be found in the folder: {rawDataPath}')\n",
    "analysisPath = config['ANALYSIS']['path']\n",
    "print(f'All analysis will be saved in the folder: {analysisPath}')\n",
    "config.printAll()"
   ]
  },
  {
   "cell_type": "markdown",
   "metadata": {},
   "source": [
    "## Choose experiment\n",
    "Select the experiment to display. If the experiment was already analyzed, a saved_dictionary.pkl was created and contains all necessary variables. Select this file. Otherwise select the raw data recording file.\n",
    ">**If you have a file with channel mapping somewhere**, we should make sure it is properly translated into a dict.pkl"
   ]
  },
  {
   "cell_type": "code",
   "execution_count": null,
   "metadata": {},
   "outputs": [],
   "source": [
    "currentFile = None\n",
    "%store -r currentFile\n",
    "print(currentFile)\n",
    "try:\n",
    "    theExpe = mbTools.expeConfigDict(currentFile)\n",
    "except Exception as error:\n",
    "    print(error)\n",
    "    theExpe = mbTools.expeConfigDict()"
   ]
  },
  {
   "cell_type": "markdown",
   "metadata": {},
   "source": [
    "### Possibility to change raw data path \n",
    "if for some reason the path to the raw data is wrong, you can update it here"
   ]
  },
  {
   "cell_type": "code",
   "execution_count": null,
   "metadata": {},
   "outputs": [],
   "source": [
    "theExpe.rawDataSelector()"
   ]
  },
  {
   "cell_type": "markdown",
   "metadata": {},
   "source": [
    "## Load Data"
   ]
  },
  {
   "cell_type": "markdown",
   "metadata": {},
   "source": [
    "### Map the whole data into memory"
   ]
  },
  {
   "cell_type": "code",
   "execution_count": null,
   "metadata": {},
   "outputs": [],
   "source": [
    "if False:\n",
    "    dpath = None #  '//10.69.168.1/crnldata/waking/audrey_hay/NPX/NPX4_claustrum/Expe_2024-07-18_12-00-43/'\n",
    "    # %store dpath\n",
    "    %store -r dpath\n",
    "    print(dpath)\n",
    "    theExpe.rawDataPath = dpath\n",
    "print(theExpe.rawDataPath)\n",
    "thedata = mbTools.experiment(theExpe)"
   ]
  },
  {
   "cell_type": "code",
   "execution_count": null,
   "metadata": {},
   "outputs": [],
   "source": [
    "Timestamps = thedata.loadRecording_TimeStamps()\n",
    "print(Timestamps)"
   ]
  },
  {
   "cell_type": "code",
   "execution_count": null,
   "metadata": {},
   "outputs": [],
   "source": [
    "%load_ext autoreload\n",
    "%autoreload 2\n",
    "%reload_ext autoreload\n",
    "thedata.analyseExpe_findData()"
   ]
  },
  {
   "cell_type": "markdown",
   "metadata": {},
   "source": [
    "### Extract submatrix of interest"
   ]
  },
  {
   "cell_type": "code",
   "execution_count": 14,
   "metadata": {},
   "outputs": [],
   "source": [
    "#initiate combined and channelLabels\n",
    "combined =  {}\n",
    "channelLabels = {}\n",
    "sample_rates = {}\n",
    "t_start = {}\n",
    "t_end = 300 #seconds"
   ]
  },
  {
   "cell_type": "code",
   "execution_count": null,
   "metadata": {},
   "outputs": [],
   "source": [
    "#LFP\n",
    "if 'OE_LFP' in thedata.data:\n",
    "    sample_rates['LFP'] = thedata.data['OE_LFP'].sampling_rate #20000\n",
    "    t_start['LFP'] = thedata.data['OE_LFP'].start\n",
    "    combined['LFP'] = thedata.data['OE_LFP'].combineStructures(None)[int(t_start['LFP']*sample_rates['LFP']):int(t_end*sample_rates['LFP']),:]\n",
    "    channelLabels['LFP'] = thedata.data['OE_LFP'].channelLabels[:]\n",
    "    print(\"LFP data combined\")\n",
    "else:\n",
    "    print(\"no LFP data to combine\")"
   ]
  },
  {
   "cell_type": "code",
   "execution_count": null,
   "metadata": {},
   "outputs": [],
   "source": [
    "#NPX\n",
    "if 'NPX' in thedata.data:\n",
    "    sample_rates['NPX'] = thedata.data['NPX'].sampling_rate #30000\n",
    "    t_start['NPX'] = thedata.data['NPX'].start\n",
    "    combined['NPX'] = thedata.data['NPX'].signal['spike'][int(t_start['NPX']*sample_rates['NPX']):int(t_end*sample_rates['NPX']),:]\n",
    "    channelLabels['NPX'] = thedata.data['NPX'].channelLabels\n",
    "    print(\"NPX data combined\")\n",
    "else:\n",
    "    print(\"no NPX data to combine\")"
   ]
  },
  {
   "cell_type": "code",
   "execution_count": null,
   "metadata": {},
   "outputs": [],
   "source": [
    "%gui qt\n",
    "app = mkQApp()\n",
    "\n",
    "\n",
    "\n",
    "TTL = Timestamps\n",
    "\n",
    "#create 2 familly scatters from theses 2 indexes\n",
    "scatter_indexes = {0: TTL, 1: TTL}\n",
    "#and asign them to some channels each\n",
    "scatter_channels = {0: [0, 12], 1: [0, 1]}\n",
    "#source = AnalogSignalSourceWithScatter(combined, sample_rate, t_start, scatter_indexes, scatter_channels)\n",
    "\n",
    "#Create the main window that can contain several viewers\n",
    "win = MainViewer(debug=True)\n",
    "\n",
    "if 'LFP' in combined:\n",
    "    source = InMemoryAnalogSignalSource(combined['LFP'], sample_rates['LFP'], t_start['LFP'], channel_names=channelLabels['LFP'])\n",
    "    view1 = TraceViewer(source=source, name = 'LFP')\n",
    "\n",
    "    #Parameters can be set in script\n",
    "    view1.params['display_labels'] = True\n",
    "    view1.params['scale_mode'] = 'same_for_all'\n",
    "    view1.auto_scale()\n",
    "\n",
    "    cmap = matplotlib.colormaps[\"hsv\"]#Wistia\"]\n",
    "    nCh = len(view1.by_channel_params.children())\n",
    "    for ch in range(nCh):\n",
    "        #view1.by_channel_params[f'ch{ch}', 'gain'] = 0.00002\n",
    "        #view1.by_channel_params[f'ch{ch}', 'offset'] = 0.1\n",
    "        view1.by_channel_params[f'ch{ch}', 'color'] = matplotlib.colors.to_hex(cmap(ch/nCh), keep_alpha=False)\n",
    "        pass\n",
    "\n",
    "    #create a time freq viewer conencted to the same source\n",
    "    view2 = TimeFreqViewer(source=source, name='tfr')\n",
    "    view2.params['show_axis'] = False\n",
    "    view2.params['timefreq', 'deltafreq'] = 1\n",
    "    #view2.by_channel_params['ch3', 'visible'] = False\n",
    "    view2.auto_scale()\n",
    "\n",
    "    win.add_view(view1)\n",
    "    win.add_view(view2)\n",
    "\n",
    "\n",
    "if 'NPX' in combined:\n",
    "    view3 = TraceViewer.from_numpy(combined['NPX'], sample_rates['NPX'], t_start['NPX'], 'NPX', channel_names=channelLabels['NPX'])\n",
    "    #view1 = TraceViewer(source=source)\n",
    "    win.add_view(view3)\n",
    "\n",
    "    #Parameters can be set in script\n",
    "    view3.params['display_labels'] = True\n",
    "    view3.params['scale_mode'] = 'same_for_all'\n",
    "    view3.auto_scale()\n",
    "\n",
    "    cmap = matplotlib.colormaps[\"hsv\"]#Wistia\"]\n",
    "    nCh = len(view3.by_channel_params.children())\n",
    "    for ch in range(nCh):\n",
    "        #view3.by_channel_params[f'ch{ch}', 'gain'] = 0.00002\n",
    "        #view3.by_channel_params[f'ch{ch}', 'offset'] = 0.1\n",
    "        view3.by_channel_params[f'ch{ch}', 'color'] = matplotlib.colors.to_hex(cmap(ch/nCh), keep_alpha=False)\n",
    "        pass\n",
    "\n",
    "#Run\n",
    "win.show()\n",
    "#app.exec()  #if commented, the app is shown and fonctionnal. Maybe detecting buttons. the Python icon doesn't close any better"
   ]
  }
 ],
 "metadata": {
  "kernelspec": {
   "display_name": "Python 3.9.12 ('formation')",
   "language": "python",
   "name": "python3"
  },
  "language_info": {
   "codemirror_mode": {
    "name": "ipython",
    "version": 3
   },
   "file_extension": ".py",
   "mimetype": "text/x-python",
   "name": "python",
   "nbconvert_exporter": "python",
   "pygments_lexer": "ipython3",
   "version": "3.11.9"
  },
  "orig_nbformat": 4,
  "vscode": {
   "interpreter": {
    "hash": "984d3fbee8ffa490637705ae3d7233e001ab0304f3daaca07b5aa8569b88ca53"
   }
  }
 },
 "nbformat": 4,
 "nbformat_minor": 2
}
