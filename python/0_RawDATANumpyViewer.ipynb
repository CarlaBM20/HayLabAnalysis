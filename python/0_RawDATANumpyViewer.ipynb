{
 "cells": [
  {
   "cell_type": "markdown",
   "metadata": {},
   "source": [
    "# This is just a notebook to visualise 1kHz filtered raw data"
   ]
  },
  {
   "cell_type": "markdown",
   "metadata": {},
   "source": [
    "## Setup everything"
   ]
  },
  {
   "cell_type": "markdown",
   "metadata": {},
   "source": [
    "### Import packages"
   ]
  },
  {
   "cell_type": "code",
   "execution_count": 1,
   "metadata": {},
   "outputs": [],
   "source": [
    "import os\n",
    "import numpy as np\n",
    "import matplotlib\n",
    "\n",
    "from ephyviewer import mkQApp, MainViewer, TraceViewer\n",
    "from ephyviewer import AnalogSignalSourceWithScatter\n",
    "\n",
    "# add the Contrib dir that contains all tools developped by MB : mbTools.py\n",
    "#sys.path.append(os.path.join(os.path.dirname(sys.path[0]),'python'))\n",
    "#print(os.path.join(os.path.dirname(sys.path[0]),'python'))\n",
    "import mbTools"
   ]
  },
  {
   "cell_type": "markdown",
   "metadata": {},
   "source": [
    "### Import local config, create it if inexistant\n",
    "All user-specific configuration (projects, defautl path to files...) are stored in a file named localConfig.ini in the python subfolder of AudreyHayLab repo. It is ignored by git so that it remains truely local. If the file does not exist at beginning, it is created with default values that can be modified at whishes."
   ]
  },
  {
   "cell_type": "code",
   "execution_count": 2,
   "metadata": {},
   "outputs": [
    {
     "name": "stdout",
     "output_type": "stream",
     "text": [
      "Local config file loaded from localConfig.ini\n",
      "All raw data are expected to be found in the folder: C:\\Users\\manip\n",
      "All analysis will be saved in the folder: C:\\Users\\manip\\Documments\\MB\\Analysis\n",
      "DATA\n",
      "[('path', 'C:\\\\Users\\\\manip')]\n",
      "ANALYSIS\n",
      "[('path', 'C:\\\\Users\\\\manip\\\\Documments\\\\MB\\\\Analysis'),\n",
      " ('projecttype', '0'),\n",
      " ('animalid', '0'),\n",
      " ('projectid', 'Annie'),\n",
      " ('subprojectid', 'NPX'),\n",
      " ('conditionid', 'control'),\n",
      " ('recordingid', '0'),\n",
      " ('suffix', '')]\n",
      "Annie.NPX\n",
      "[('design', '0'),\n",
      " ('nanimal', '6'),\n",
      " ('conditions', \"['control']\"),\n",
      " ('nrecordings', '1')]\n"
     ]
    }
   ],
   "source": [
    "config = mbTools.localConf()\n",
    "rawDataPath = config['DATA']['path']\n",
    "print(f'All raw data are expected to be found in the folder: {rawDataPath}')\n",
    "analysisPath = config['ANALYSIS']['path']\n",
    "print(f'All analysis will be saved in the folder: {analysisPath}')\n",
    "config.printAll()"
   ]
  },
  {
   "cell_type": "markdown",
   "metadata": {},
   "source": [
    "## Choose experiment\n",
    "Select the experiment to display. If the experiment was already analyzed, a saved_dictionary.pkl was created and contains all necessary variables. Select this file. Otherwise select the raw data recording file.\n",
    ">**If you have a file with channel mapping somewhere**, we should make sure it is properly translated into a dict.pkl"
   ]
  },
  {
   "cell_type": "code",
   "execution_count": 3,
   "metadata": {},
   "outputs": [
    {
     "name": "stdout",
     "output_type": "stream",
     "text": [
      "no stored variable or alias currentFile\n",
      "Local config file loaded from localConfig.ini\n"
     ]
    },
    {
     "data": {
      "application/vnd.jupyter.widget-view+json": {
       "model_id": "310814bcfc2a44beb147b91a90df48e4",
       "version_major": 2,
       "version_minor": 0
      },
      "text/plain": [
       "FileChooser(path='C:\\Users\\manip\\Documents\\MB\\HayLabAnalysis\\python', filename='', title='<b>Select file</b>',…"
      ]
     },
     "metadata": {},
     "output_type": "display_data"
    },
    {
     "name": "stdout",
     "output_type": "stream",
     "text": [
      "this is a config file so we are loading it\n",
      "this is not a config file and we should deal with that\n",
      "\\\\10.69.168.1\\crnldata\\waking\\audrey_hay\\NPX\\NPX4_claustrum\\Expe_2024-07-18_12-00-43\\\n"
     ]
    },
    {
     "data": {
      "application/vnd.jupyter.widget-view+json": {
       "model_id": "9f9610863e734a27b7546f712db8c319",
       "version_major": 2,
       "version_minor": 0
      },
      "text/plain": [
       "interactive(children=(Dropdown(description='Project (you can update the list in your localConfig.ini file):', …"
      ]
     },
     "metadata": {},
     "output_type": "display_data"
    },
    {
     "data": {
      "application/vnd.jupyter.widget-view+json": {
       "model_id": "b27774dc74344564ad157306c5b389b2",
       "version_major": 2,
       "version_minor": 0
      },
      "text/plain": [
       "Button(description='Validate', style=ButtonStyle())"
      ]
     },
     "metadata": {},
     "output_type": "display_data"
    },
    {
     "data": {
      "application/vnd.jupyter.widget-view+json": {
       "model_id": "dfb388e0c4914fb0b5f5174ae8446745",
       "version_major": 2,
       "version_minor": 0
      },
      "text/plain": [
       "Output()"
      ]
     },
     "metadata": {},
     "output_type": "display_data"
    },
    {
     "name": "stdout",
     "output_type": "stream",
     "text": [
      "Project config dict created\n"
     ]
    }
   ],
   "source": [
    "currentFile = None\n",
    "%store -r currentFile\n",
    "try:\n",
    "    theExpe = mbTools.expeConfigDict(currentFile)\n",
    "except:\n",
    "    theExpe = mbTools.expeConfigDict()"
   ]
  },
  {
   "cell_type": "markdown",
   "metadata": {},
   "source": [
    "### Possibility to change raw data path \n",
    "if for some reason the path to the raw data is wrong, you can update it here"
   ]
  },
  {
   "cell_type": "code",
   "execution_count": 4,
   "metadata": {},
   "outputs": [
    {
     "data": {
      "application/vnd.jupyter.widget-view+json": {
       "model_id": "b433d6ce709e4be8a8d7c096d87d497f",
       "version_major": 2,
       "version_minor": 0
      },
      "text/plain": [
       "FileChooser(path='C:\\Users\\manip\\Documments\\MB\\Analysis\\Annie\\NPX\\control\\4', filename='saved_dictionary.pkl',…"
      ]
     },
     "metadata": {},
     "output_type": "display_data"
    }
   ],
   "source": [
    "theExpe.rawDataSelector()"
   ]
  },
  {
   "cell_type": "markdown",
   "metadata": {},
   "source": [
    "## Load Data"
   ]
  },
  {
   "cell_type": "markdown",
   "metadata": {},
   "source": [
    "### Map the whole data into memory"
   ]
  },
  {
   "cell_type": "code",
   "execution_count": 13,
   "metadata": {},
   "outputs": [
    {
     "data": {
      "application/vnd.jupyter.widget-view+json": {
       "model_id": "a463b2b834f945258f00b21494764a8e",
       "version_major": 2,
       "version_minor": 0
      },
      "text/plain": [
       "FileChooser(path='\\\\10.69.168.1\\crnldata\\waking\\audrey_hay\\NPX\\NPX4_claustrum\\Expe_2024-07-18_12-00-43', filen…"
      ]
     },
     "metadata": {},
     "output_type": "display_data"
    }
   ],
   "source": [
    "dpath = None #  '//10.69.168.1/crnldata/waking/audrey_hay/NPX/NPX4_claustrum/Expe_2024-07-18_12-00-43/'\n",
    "# %store dpath\n",
    "%store -r dpath\n",
    "theExpe.rawDataPath = dpath\n",
    "thedata = mbTools.experiment(theExpe)"
   ]
  },
  {
   "cell_type": "code",
   "execution_count": 11,
   "metadata": {},
   "outputs": [
    {
     "name": "stdout",
     "output_type": "stream",
     "text": [
      "warning: this function is not confirmed yet. Please see with MB, that it is porperly working when you want to use it\n",
      "c:\\Users\\manip\\Documents\\MB\\HayLabAnalysis\\python\n",
      "None\n"
     ]
    }
   ],
   "source": [
    "Timestamps = thedata.loadRecording_TimeStamps()\n",
    "print(Timestamps)"
   ]
  },
  {
   "cell_type": "code",
   "execution_count": 14,
   "metadata": {},
   "outputs": [
    {
     "name": "stdout",
     "output_type": "stream",
     "text": [
      "The autoreload extension is already loaded. To reload it, use:\n",
      "  %reload_ext autoreload\n",
      "\\\\10.69.168.1\\crnldata\\waking\\audrey_hay\\NPX\\NPX4_claustrum\\Expe_2024-07-18_12-00-43\n",
      "found some .bin files\n",
      "importing \\\\10.69.168.1\\crnldata\\waking\\audrey_hay\\NPX\\NPX4_claustrum\\Expe_2024-07-18_12-00-43\\OE_32ch_data_2024-07-18T12_01_54.bin\n",
      "IntanLFP file loaded, with 32 channels and 2052352 datapoint\n",
      "found some NPX files\n"
     ]
    }
   ],
   "source": [
    "%load_ext autoreload\n",
    "%autoreload 2\n",
    "%reload_ext autoreload\n",
    "thedata.analyseExpe_findData()"
   ]
  },
  {
   "cell_type": "markdown",
   "metadata": {},
   "source": [
    "### Extract submatrix of interest"
   ]
  },
  {
   "cell_type": "code",
   "execution_count": 40,
   "metadata": {},
   "outputs": [],
   "source": [
    "#LFP\n",
    "combined = thedata.data['OE_LFP'].combineStructures(None)\n",
    "channelLabels = thedata.data['OE_LFP'].channelLabels"
   ]
  },
  {
   "cell_type": "code",
   "execution_count": 15,
   "metadata": {},
   "outputs": [],
   "source": [
    "#NPX\n",
    "combined = thedata.data['NPX'].signal['spike']\n",
    "channelLabels = thedata.data['NPX'].channelLabels"
   ]
  },
  {
   "cell_type": "code",
   "execution_count": 16,
   "metadata": {},
   "outputs": [],
   "source": [
    "%gui qt\n",
    "app = mkQApp()\n",
    "\n",
    "\n",
    "sample_rate = 1000.\n",
    "t_start = 0.\n",
    "\n",
    "TTL = Timestamps\n",
    "\n",
    "#create 2 familly scatters from theses 2 indexes\n",
    "scatter_indexes = {0: TTL, 1: TTL}\n",
    "#and asign them to some channels each\n",
    "scatter_channels = {0: [0, 12], 1: [0, 1]}\n",
    "source = AnalogSignalSourceWithScatter(All, sample_rate, t_start, scatter_indexes, scatter_channels)\n",
    "\n",
    "\n",
    "#Create the main window that can contain several viewers\n",
    "win = MainViewer()\n",
    "view1 = TraceViewer.from_numpy(combined, sample_rate, t_start, 'Signals', channel_names=channelLabels)\n",
    "#view1 = TraceViewer(source=source)\n",
    "win.add_view(view1)\n",
    "\n",
    "#Parameters can be set in script\n",
    "view1.params['display_labels'] = True\n",
    "view1.params['scale_mode'] = 'same_for_all'\n",
    "view1.auto_scale()\n",
    "\n",
    "cmap = matplotlib.colormaps[\"hsv\"]#Wistia\"]\n",
    "nCh = len(view1.by_channel_params.children())\n",
    "for ch in range(nCh):\n",
    "    #view1.by_channel_params[f'ch{ch}', 'gain'] = 0.00002\n",
    "    #view1.by_channel_params[f'ch{ch}', 'offset'] = 0.1\n",
    "    view1.by_channel_params[f'ch{ch}', 'color'] = matplotlib.colors.to_hex(cmap(ch/nCh), keep_alpha=False)\n",
    "    pass\n",
    "\n",
    "\n",
    "#Run\n",
    "win.show()\n",
    "#app.exec()  #if commented, the app is shown and fonctionnal. Maybe detecting buttons. the Python icon doesn't close any better"
   ]
  }
 ],
 "metadata": {
  "kernelspec": {
   "display_name": "Python 3.9.12 ('formation')",
   "language": "python",
   "name": "python3"
  },
  "language_info": {
   "codemirror_mode": {
    "name": "ipython",
    "version": 3
   },
   "file_extension": ".py",
   "mimetype": "text/x-python",
   "name": "python",
   "nbconvert_exporter": "python",
   "pygments_lexer": "ipython3",
   "version": "3.11.9"
  },
  "orig_nbformat": 4,
  "vscode": {
   "interpreter": {
    "hash": "984d3fbee8ffa490637705ae3d7233e001ab0304f3daaca07b5aa8569b88ca53"
   }
  }
 },
 "nbformat": 4,
 "nbformat_minor": 2
}
