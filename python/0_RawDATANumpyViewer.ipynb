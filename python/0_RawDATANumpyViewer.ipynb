{
 "cells": [
  {
   "cell_type": "markdown",
   "metadata": {},
   "source": [
    "# This is just a notebook to visualise 1kHz filtered raw data"
   ]
  },
  {
   "cell_type": "markdown",
   "metadata": {},
   "source": [
    "## Setup everything"
   ]
  },
  {
   "cell_type": "markdown",
   "metadata": {},
   "source": [
    "### Import packages"
   ]
  },
  {
   "cell_type": "code",
   "execution_count": null,
   "metadata": {},
   "outputs": [],
   "source": [
    "import os\n",
    "import sys\n",
    "import quantities as pq\n",
    "import numpy as np\n",
    "import neo\n",
    "from pathlib import Path\n",
    "import pandas as pd\n",
    "import matplotlib.pyplot as plt\n",
    "import matplotlib\n",
    "from matplotlib.widgets import Slider, Button, Cursor\n",
    "import scipy\n",
    "from scipy import interpolate\n",
    "from scipy import fftpack\n",
    "from scipy import signal\n",
    "from open_ephys.analysis import Session\n",
    "\n",
    "import mmap\n",
    "import xarray as xr\n",
    "import dask.array as da\n",
    "#%matplotlib widget\n",
    "\n",
    "from ephyviewer import mkQApp, MainViewer, TraceViewer\n",
    "from ephyviewer import AnalogSignalSourceWithScatter\n",
    "\n",
    "\n",
    "from ipyfilechooser import FileChooser\n",
    "import ipywidgets as widgets\n",
    "import pickle\n",
    "import configparser\n",
    "import ast"
   ]
  },
  {
   "cell_type": "markdown",
   "metadata": {},
   "source": [
    "### Import local config, create it if inexistant\n",
    "Local congig file will be a file named localConfig.ini and stored in the python subfolder of AudreyHayLab repo that will be ignored during commits and will store all user-specific variables (projects, defautl path to files...). If the file does not exist at beginning, it is created with default values that can be modified."
   ]
  },
  {
   "cell_type": "code",
   "execution_count": null,
   "metadata": {},
   "outputs": [],
   "source": [
    "def generateLocalConfigFile(configFN):\n",
    "    config = configparser.ConfigParser()\n",
    "    config['DATA'] = {'path': os.path.expanduser(\"~\")}\n",
    "    config['ANALYSIS'] = {\n",
    "        'path': os.path.join(os.path.expanduser(\"~\"),'Analysis'),\n",
    "        'projecttype': 0,\n",
    "        'animalid': 0,\n",
    "        'projectid': 'AProject',\n",
    "        'subprojectid': 'OneOfItsSubProject',\n",
    "        'conditionid': 'control',\n",
    "        'recordingID': 0,\n",
    "        'suffix': ''\n",
    "        }\n",
    "    config['AProject.OneOfItsSubProject'] = {\n",
    "        'design': 0,\n",
    "        'nAnimal': 6,\n",
    "        'conditions': [\"control\"],\n",
    "        'nrecordings': 1\n",
    "        }\n",
    "    with open(configFN, 'w') as configfile:\n",
    "        config.write(configfile)\n",
    "    return config"
   ]
  },
  {
   "cell_type": "code",
   "execution_count": null,
   "metadata": {},
   "outputs": [],
   "source": [
    "configFN = 'localConfig.ini'\n",
    "\n",
    "if os.path.isfile(configFN):\n",
    "    config = configparser.ConfigParser()\n",
    "    config.read(configFN)\n",
    "else:\n",
    "    config = generateLocalConfigFile(configFN)\n",
    "\n",
    "rawDataPath = config['DATA']['path']\n",
    "\n",
    "def updateConf():\n",
    "    with open(configFN, 'w') as configfile:\n",
    "        config.write(configfile)\n",
    "\n",
    "def updateDict(dictName, key, value):\n",
    "    with open(dictName, 'rb') as f:\n",
    "        loaded_dict = pickle.load(f)\n",
    "    with open(dictName, 'wb') as f:\n",
    "        loaded_dict[key] = value\n",
    "        pickle.dump(loaded_dict,f)"
   ]
  },
  {
   "cell_type": "markdown",
   "metadata": {},
   "source": [
    "## This is not implemented yet\n",
    "This section defines functions that will be used to load the parameters for each experiment so that the script is truely independant of experiment while can be reproduced reliably\n",
    "\n",
    "### Define usefull functions to deal with config dictionaries\n",
    "channelsMap is a dictionary with one key per brain region and/or canal of interest (TTL). The value associated to the key is an array with every corresponding canal. The \"status\" key defines which of these canals to use for analyses:\n",
    "- 0: not to use\n",
    "- 1 only: floating point canal\n",
    "- 1 and 2: differential signal 2-1"
   ]
  },
  {
   "cell_type": "code",
   "execution_count": null,
   "metadata": {},
   "outputs": [],
   "source": [
    "def getPathComponent(filename,projectType):\n",
    "    \n",
    "    dirPathComponents = os.path.normpath(filename).split(os.sep)\n",
    "    expeInfo = dict()\n",
    "\n",
    "    expeInfo['analysisPath'] = os.path.join('/',*dirPathComponents[0:-5])\n",
    "    expeInfo['ProjectID'] = dirPathComponents[-5]\n",
    "    expeInfo['subProjectID'] = dirPathComponents[-4]\n",
    "\n",
    "    projectConfig = os.path.join('/',*dirPathComponents[0:-3],'projectConfig.pkl')\n",
    "    if os.path.isfile(projectConfig):\n",
    "        with open(projectConfig, 'rb') as f:\n",
    "            loaded_dict = pickle.load(f)\n",
    "            expeInfo['projectType'] = loaded_dict['projectType']\n",
    "    else:\n",
    "        with open(projectConfig, 'wb') as f:\n",
    "            projDict = dict(projectType = projectType)\n",
    "            pickle.dump(projDict, f)\n",
    "            print('Project config dict created')\n",
    "\n",
    "    if projectType == 0:\n",
    "        expeInfo['conditionID'] = dirPathComponents[-3]\n",
    "        expeInfo['AnimalID'] = dirPathComponents[-2]\n",
    "    else:\n",
    "        expeInfo['AnimalID'] = dirPathComponents[-3]\n",
    "        expeInfo['conditionID'] = dirPathComponents[-2]\n",
    "        \n",
    "    expeInfo['recordingID'] = dirPathComponents[-1]\n",
    "\n",
    "    return expeInfo\n"
   ]
  },
  {
   "cell_type": "code",
   "execution_count": null,
   "metadata": {},
   "outputs": [],
   "source": [
    "expeInfo = dict()\n",
    "\n",
    "projects = [p.split('.')[0] for p in config.sections() if p not in ['DATA','ANALYSIS']]\n",
    "\n",
    "subprojects = {p.split('.')[0]: widgets.Dropdown(\n",
    "    options=[p.split('.')[1]],\n",
    "    description='Sub-project (you can update the list in your localConfig.ini file):',\n",
    "    ) for p in config.sections() if p not in ['DATA','ANALYSIS']} \n",
    "\n",
    "\n",
    "def printExpeInfo(**func_kwargs):\n",
    "    pass#print(expeInfo)\n",
    "\n",
    "def updateProject(widget):\n",
    "    ProjectID = widget.new\n",
    "    expeInfo['ProjectID'] = ProjectID\n",
    "    new_i = widgets.interactive(printExpeInfo, project=wProject, subProject=subprojects[ProjectID])\n",
    "    i.children = new_i.children\n",
    "\n",
    "\n",
    "def updateSubProject(widget):\n",
    "    if widget['type'] == 'change' and widget['name'] == 'value':\n",
    "        expeInfo['subProjectID'] = widget.new\n",
    "\n",
    "def update_design(widget):\n",
    "    projectType = widget.new\n",
    "    if projectType == 0:\n",
    "        new_i = widgets.interactive(printExpeInfo, project=wProject, subProject=subprojects[ProjectID], design=wDesign, condition=wCondition, animal=wAnimal, rec=wRec)\n",
    "    else:\n",
    "        new_i = widgets.interactive(printExpeInfo, project=wProject, subProject=subprojects[ProjectID], design=wDesign, animal=wAnimal, condition=wCondition, rec=wRec)\n",
    "    i.children = new_i.children\n",
    "    %store projectType\n",
    "\n",
    "analysisPath = config['ANALYSIS']['path']\n",
    "projectType = int(config['ANALYSIS']['projectType'])\n",
    "ProjectID = config['ANALYSIS']['ProjectID']\n",
    "subProjectID = config['ANALYSIS']['subProjectID']\n",
    "conditionID = config['ANALYSIS']['conditionID']\n",
    "AnimalID = int(config['ANALYSIS']['AnimalID'])\n",
    "recordingID = int(config['ANALYSIS']['recordingID'])\n",
    "\n",
    "wProject = widgets.Dropdown(\n",
    "    options=projects,\n",
    "    value=ProjectID,\n",
    "    description='Project (you can update the list in your localConfig.ini file):',\n",
    "    disabled=False,\n",
    ")\n",
    "wProject.observe(updateProject, 'value')\n",
    "\n",
    "#wSubProject.observe(updateSubProject)\n",
    "\n",
    "designs = ['independant groups', 'within subject']\n",
    "wDesign = widgets.RadioButtons(\n",
    "    options=designs,\n",
    "    value=designs[projectType], # Defaults to 'independant groups'\n",
    "    description='Experiment design:'\n",
    ")\n",
    "wDesign.observe(update_design, names=['index'])\n",
    "\n",
    "wAnimal = widgets.BoundedIntText(\n",
    "    value=AnimalID,\n",
    "    min=0,\n",
    "    #max=10,\n",
    "    step=1,\n",
    "    description='Animal ID:'\n",
    ")\n",
    "\n",
    "conditions = ast.literal_eval(config[\"{}.{}\".format(ProjectID, subProjectID)]['conditions'])\n",
    "wCondition = widgets.Dropdown(\n",
    "    options=conditions,\n",
    "    value=conditionID,\n",
    "    description='Condition:',\n",
    ")\n",
    "\n",
    "wRec = widgets.BoundedIntText(\n",
    "    value=recordingID,\n",
    "    min=0,\n",
    "    #max=10,\n",
    "    step=1,\n",
    "    description='Recording ID:'\n",
    ")\n",
    "\n",
    "if projectType == 0:\n",
    "    i = widgets.interactive(printExpeInfo, project=wProject, subProject=subprojects[ProjectID], design=wDesign, condition=wCondition, animal=wAnimal, rec=wRec)\n",
    "else:\n",
    "    i = widgets.interactive(printExpeInfo, project=wProject, subProject=subprojects[ProjectID], design=wDesign, animal=wAnimal, condition=wCondition, rec=wRec)\n",
    "\n",
    "\n",
    "def defineExpeInfo():\n",
    "    display(i)"
   ]
  },
  {
   "cell_type": "code",
   "execution_count": null,
   "metadata": {},
   "outputs": [],
   "source": [
    "def generateConfigDict(filename, rawDataPath = None):\n",
    "    \n",
    "    numChanels=64\n",
    "\n",
    "    channelsMap = dict( \\\n",
    "        EMG = [dict(canal = 6, status=1)],\n",
    "        PFC = [dict(canal = 5, status=1),\n",
    "            dict(canal = 4, status=2)\n",
    "            ],\n",
    "        CA1 = [dict(canal = 8, status=1),\n",
    "            dict(canal = 0, status=0),\n",
    "            dict(canal = 1, status=0),\n",
    "            ],\n",
    "        TTL = [dict(canal = 10, status=1)],\n",
    "    )\n",
    "\n",
    "    projectType = int(config['ANALYSIS']['projectType'])\n",
    "    expeInfo = getPathComponent(filename,projectType)\n",
    "\n",
    "    allParamsDict = dict(channelsMap = channelsMap, numChanels = numChanels, rawDataPath = rawDataPath, expeInfo = expeInfo)\n",
    "\n",
    "    with open(filename, 'wb') as f:\n",
    "        pickle.dump(allParamsDict, f)\n",
    "            "
   ]
  },
  {
   "cell_type": "code",
   "execution_count": null,
   "metadata": {},
   "outputs": [],
   "source": [
    "def loadConfigDict(filename):\n",
    "    global numChanels, rawDataPath, expeInfo, channelsMap\n",
    "    with open(filename, 'rb') as f:\n",
    "        loaded_dict = pickle.load(f, encoding='UTF8')\n",
    "        numChanels = loaded_dict['numChanels']\n",
    "        rawDataPath = loaded_dict['rawDataPath']\n",
    "        if 'expeInfo' in loaded_dict:\n",
    "            expeInfo = loaded_dict['expeInfo']\n",
    "        else:\n",
    "            expeInfo = getPathComponent(filename,projectType)\n",
    "            updateDict(filename,'expeInfo',expeInfo)\n",
    "        channelsMap = loaded_dict['channelsMap']"
   ]
  },
  {
   "cell_type": "markdown",
   "metadata": {},
   "source": [
    "## Choose experiment\n",
    "Select the experiment to display. If the experiment was already analyzed, a saved_dictionary.pkl was created and contains all necessary variables. Select this file. Otherwise select the raw data recording file.\n",
    ">**If you have a file with channel mapping somewhere**, we should make sure it is properly translated into a dict.pkl"
   ]
  },
  {
   "cell_type": "code",
   "execution_count": null,
   "metadata": {},
   "outputs": [],
   "source": [
    "currentFile = None\n",
    "%store -r currentFile\n",
    "print(currentFile)\n",
    "\n",
    "if currentFile is not None and os.path.isfile(currentFile): # a file is currently being used\n",
    "    pathName, fileName = os.path.split(currentFile)\n",
    "    loadConfigDict(currentFile)\n",
    "else:\n",
    "    pathName = rawDataPath\n",
    "    fileName = \"\"\n",
    "    \n",
    "fc = FileChooser(path=pathName, filename=fileName, select_default=True, show_only_dirs = False, title = \"<b>Select file</b>\")\n",
    "display(fc)\n",
    "\n",
    "def update_my_folder(chooser):\n",
    "    global currentFile\n",
    "    selection = chooser.selected\n",
    "    if selection.endswith(\"pkl\"):\n",
    "        currentFile = str(selection)\n",
    "        loadConfigDict(selection)\n",
    "    else:\n",
    "        print(\"this is not a config file and we should deal with that\")\n",
    "        defineExpeInfo()\n",
    "        if projectType == 0:\n",
    "            path = os.path.join(analysisPath, ProjectID, subProjectID, conditionID, str(AnimalID), str(recordingID))\n",
    "            \n",
    "        else:\n",
    "            path = os.path.join(analysisPath, ProjectID, subProjectID, str(AnimalID), conditionID, str(recordingID))\n",
    "        os.makedirs(path, exist_ok=True)\n",
    "        currentFile = os.path.join(os.path.split(path)[0],'saved_dictionary.pkl')\n",
    "        generateConfigDict(currentFile, rawDataPath = selection)\n",
    "        loadConfigDict(currentFile)\n",
    "    %store currentFile\n",
    "    \n",
    "# Register callback function\n",
    "fc.register_callback(update_my_folder)"
   ]
  },
  {
   "cell_type": "markdown",
   "metadata": {},
   "source": [
    "### Possibility to change raw data path \n",
    "if for some reason the path to the raw data is wrong, you can update it here"
   ]
  },
  {
   "cell_type": "code",
   "execution_count": null,
   "metadata": {},
   "outputs": [],
   "source": [
    "#print(rawDataPath)\n",
    "if rawDataPath is not None:\n",
    "    rawDirname, rawFN = os.path.split(rawDataPath)\n",
    "    rfc = FileChooser(path=rawDirname, filename=rawFN,select_default=True, show_only_dirs = False, title = \"<b>ePhys data</b>\")\n",
    "else:\n",
    "    rfc = FileChooser(show_only_dirs = False, title = \"<b>ePhys data</b>\")\n",
    "display(rfc)\n",
    "\n",
    "# Sample callback function\n",
    "def update_rawDataPath(chooser):\n",
    "    global rawDataPath\n",
    "    rawDataPath = chooser.selected\n",
    "    #updateDict(currentFile, 'rawDataPath', rawDataPath)\n",
    "\n",
    "# Register callback function\n",
    "rfc.register_callback(update_rawDataPath)"
   ]
  },
  {
   "cell_type": "markdown",
   "metadata": {},
   "source": [
    "## Load Data"
   ]
  },
  {
   "cell_type": "markdown",
   "metadata": {},
   "source": [
    "### Map the whole data into memory"
   ]
  },
  {
   "cell_type": "code",
   "execution_count": null,
   "metadata": {},
   "outputs": [],
   "source": [
    "rawDataDir, rawFileBaseName = os.path.split(rawDataPath)\n",
    "\n",
    "if rawFileBaseName == \"continuous.dat\":\n",
    "    All = np.memmap(rawDataPath, mode='r', dtype='int16')\n",
    "    #All = np.fromfile(filename, dtype=\"int16\")\n",
    "    All = All.reshape(-1,numChanels)\n",
    "elif rawFileBaseName.endswith(\".npy\"):\n",
    "    All = np.load(rawDataPath, mmap_mode= 'r')"
   ]
  },
  {
   "cell_type": "code",
   "execution_count": null,
   "metadata": {},
   "outputs": [],
   "source": [
    "filenameT = os.path.join(rawDataDir,\"timestamps.npy\")\n",
    "if os.path.isfile(filenameT):\n",
    "    Timestamps = np.load(filenameT)\n",
    "    Timestamps.shape\n",
    "    Timestamps = Timestamps*2000\n",
    "    Timestamps = Timestamps.astype(int)"
   ]
  },
  {
   "cell_type": "markdown",
   "metadata": {},
   "source": [
    "### Extract submatrix of interest"
   ]
  },
  {
   "cell_type": "code",
   "execution_count": null,
   "metadata": {},
   "outputs": [],
   "source": [
    "start = 000000\n",
    "end = All.shape[0]\n",
    "combined = np.empty((end-start,0),np.int16)\n",
    "channelLabels = []\n",
    "for region in channelsMap:\n",
    "    print(region, \"->\", channelsMap[region])\n",
    "    if len([canal[\"canal\"] for canal in channelsMap[region] if canal[\"status\"]==2])>0:\n",
    "        c2 = [canal[\"canal\"] for canal in channelsMap[region] if canal[\"status\"]==2][0]\n",
    "        c1 = [canal[\"canal\"] for canal in channelsMap[region] if canal[\"status\"]==1][0]\n",
    "        print(\"Getting differential signal of channel {} - channel {} for {}\".format(c2,c1,region))\n",
    "        channelLabels.append(region)\n",
    "        combined = np.append(combined, All[start:end, c2, np.newaxis] - All[:, c1, np.newaxis], axis=1)\n",
    "    elif len([canal[\"canal\"] for canal in channelsMap[region] if canal[\"status\"]==1])>0:\n",
    "        c = [canal[\"canal\"] for canal in channelsMap[region] if canal[\"status\"]==1][0]\n",
    "        print(\"Getting floating signal of channel {} for {}\".format(c,region))\n",
    "        combined = np.append(combined, All[start:end,c, np.newaxis], axis=1)\n",
    "        channelLabels.append(region)"
   ]
  },
  {
   "cell_type": "code",
   "execution_count": null,
   "metadata": {},
   "outputs": [
    {
     "ename": "",
     "evalue": "",
     "output_type": "error",
     "traceback": [
      "\u001b[1;31mThe Kernel crashed while executing code in the current cell or a previous cell. \n",
      "\u001b[1;31mPlease review the code in the cell(s) to identify a possible cause of the failure. \n",
      "\u001b[1;31mClick <a href='https://aka.ms/vscodeJupyterKernelCrash'>here</a> for more info. \n",
      "\u001b[1;31mView Jupyter <a href='command:jupyter.viewOutput'>log</a> for further details."
     ]
    }
   ],
   "source": [
    "%gui qt # allows the app to be closed clean and reopen\n",
    "app = mkQApp()\n",
    "\n",
    "\n",
    "sample_rate = 1000.\n",
    "t_start = 0.\n",
    "\n",
    "TTL = Timestamps\n",
    "\n",
    "#create 2 familly scatters from theses 2 indexes\n",
    "scatter_indexes = {0: TTL, 1: TTL}\n",
    "#and asign them to some channels each\n",
    "scatter_channels = {0: [0, 12], 1: [0, 1]}\n",
    "source = AnalogSignalSourceWithScatter(All, sample_rate, t_start, scatter_indexes, scatter_channels)\n",
    "\n",
    "\n",
    "#Create the main window that can contain several viewers\n",
    "win = MainViewer()\n",
    "view1 = TraceViewer.from_numpy(combined, sample_rate, t_start, 'Signals', channel_names=channelLabels)\n",
    "#view1 = TraceViewer(source=source)\n",
    "win.add_view(view1)\n",
    "\n",
    "#Parameters can be set in script\n",
    "view1.params['display_labels'] = True\n",
    "view1.params['scale_mode'] = 'same_for_all'\n",
    "view1.auto_scale()\n",
    "\n",
    "cmap = matplotlib.colormaps[\"hsv\"]#Wistia\"]\n",
    "nCh = len(view1.by_channel_params.children())\n",
    "for ch in range(nCh):\n",
    "    #view1.by_channel_params[f'ch{ch}', 'gain'] = 0.00002\n",
    "    #view1.by_channel_params[f'ch{ch}', 'offset'] = 0.1\n",
    "    view1.by_channel_params[f'ch{ch}', 'color'] = matplotlib.colors.to_hex(cmap(ch/nCh), keep_alpha=False)\n",
    "    pass\n",
    "\n",
    "\n",
    "#Run\n",
    "win.show()\n",
    "#app.exec()  #if commented, the app is shown and fonctionnal. Maybe detecting buttons. the Python icon doesn't close any better"
   ]
  }
 ],
 "metadata": {
  "kernelspec": {
   "display_name": "Python 3.9.12 ('formation')",
   "language": "python",
   "name": "python3"
  },
  "language_info": {
   "codemirror_mode": {
    "name": "ipython",
    "version": 3
   },
   "file_extension": ".py",
   "mimetype": "text/x-python",
   "name": "python",
   "nbconvert_exporter": "python",
   "pygments_lexer": "ipython3",
   "version": "3.11.8"
  },
  "orig_nbformat": 4,
  "vscode": {
   "interpreter": {
    "hash": "984d3fbee8ffa490637705ae3d7233e001ab0304f3daaca07b5aa8569b88ca53"
   }
  }
 },
 "nbformat": 4,
 "nbformat_minor": 2
}
