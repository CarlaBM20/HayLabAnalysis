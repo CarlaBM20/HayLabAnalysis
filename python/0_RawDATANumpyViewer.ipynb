{
 "cells": [
  {
   "cell_type": "markdown",
   "metadata": {},
   "source": [
    "# This is just a notebook to visualise 1kHz filtered raw data"
   ]
  },
  {
   "cell_type": "markdown",
   "metadata": {},
   "source": [
    "## Setup everything"
   ]
  },
  {
   "cell_type": "markdown",
   "metadata": {},
   "source": [
    "### Import packages"
   ]
  },
  {
   "cell_type": "code",
   "execution_count": 1,
   "metadata": {},
   "outputs": [],
   "source": [
    "import os\n",
    "import sys\n",
    "import quantities as pq\n",
    "import numpy as np\n",
    "import neo\n",
    "from pathlib import Path\n",
    "import pandas as pd\n",
    "import matplotlib.pyplot as plt\n",
    "from matplotlib.widgets import Slider, Button, Cursor\n",
    "import scipy\n",
    "from scipy import interpolate\n",
    "from scipy import fftpack\n",
    "from scipy import signal\n",
    "from open_ephys.analysis import Session\n",
    "\n",
    "from PyQt6 import QtCore\n",
    "\n",
    "import mmap\n",
    "import xarray as xr\n",
    "import dask.array as da\n",
    "#%matplotlib widget\n",
    "\n",
    "# Use the sourced ephyviewer that is compatible with pyqt6\n",
    "ephyviewer_path = os.path.join(os.path.abspath('..'),'ephyviewer')\n",
    "sys.path.append(ephyviewer_path)\n",
    "\n",
    "from ephyviewer import mkQApp, MainViewer, TraceViewer\n",
    "from ephyviewer import AnalogSignalSourceWithScatter\n",
    "\n",
    "\n",
    "from ipyfilechooser import FileChooser"
   ]
  },
  {
   "cell_type": "markdown",
   "metadata": {},
   "source": [
    "### Define params"
   ]
  },
  {
   "cell_type": "code",
   "execution_count": 2,
   "metadata": {},
   "outputs": [],
   "source": [
    "numChanels=64"
   ]
  },
  {
   "cell_type": "markdown",
   "metadata": {},
   "source": [
    "### Define mapping dict"
   ]
  },
  {
   "cell_type": "markdown",
   "metadata": {},
   "source": [
    "channelsMap is a dictionary with one key per brain region and/or canal of interest (TTL). The value associated to the key is an array with every corresponding canal. The \"status\" key defines which of these canals to use for analyses:\n",
    "- 0: not to use\n",
    "- 1 only: floating point canal\n",
    "- 1 and 2: differential signal 2-1"
   ]
  },
  {
   "cell_type": "code",
   "execution_count": 3,
   "metadata": {},
   "outputs": [],
   "source": [
    "channelsMap = dict( \\\n",
    "    EMG = [dict(canal = 6, status=1)],\n",
    "    PFC = [dict(canal = 5, status=1),\n",
    "           dict(canal = 4, status=2)\n",
    "           ],\n",
    "    CA1 = [dict(canal = 8, status=1),\n",
    "           dict(canal = 0, status=0),\n",
    "           dict(canal = 1, status=0),\n",
    "        ],\n",
    "    TTL = [dict(canal = 10, status=1)],\n",
    ")"
   ]
  },
  {
   "cell_type": "markdown",
   "metadata": {},
   "source": [
    "### Define functions"
   ]
  },
  {
   "cell_type": "markdown",
   "metadata": {},
   "source": [
    "#### Read data file"
   ]
  },
  {
   "cell_type": "code",
   "execution_count": 4,
   "metadata": {},
   "outputs": [],
   "source": [
    "def other_mmap(filename, shape, dtype, chunks):\n",
    "    with open(filename, \"rb\") as fh:\n",
    "        # `mmap` duplicates the file descriptor\n",
    "        # `0` means map the full file\n",
    "        mm = mmap.mmap(fh.fileno(), 0, access=mmap.ACCESS_READ)\n",
    "\n",
    "    # coerce to NumPy array of expected type and shape\n",
    "    a = np.asarray(mm).view(dtype).reshape(shape)\n",
    "\n",
    "    # Don't call `asarray`\n",
    "    # name=False to avoid hashing\n",
    "    a_d = da.from_array(a, chunks=chunks, asarray=False, name=False)\n",
    "    return a_d"
   ]
  },
  {
   "cell_type": "markdown",
   "metadata": {},
   "source": [
    "#### Choose path"
   ]
  },
  {
   "cell_type": "code",
   "execution_count": 5,
   "metadata": {},
   "outputs": [
    {
     "data": {
      "application/vnd.jupyter.widget-view+json": {
       "model_id": "0eabc349f2be4ff4b6e06aa509bc88bd",
       "version_major": 2,
       "version_minor": 0
      },
      "text/plain": [
       "FileChooser(path='/Users/mb/Documents/Syntuitio/AudreyHay/PlanB/recording8/continuous/Rhythm_FPGA-133.0', file…"
      ]
     },
     "metadata": {},
     "output_type": "display_data"
    }
   ],
   "source": [
    "expePath = None\n",
    "subpath4FPGA = None\n",
    "fileBaseName = None\n",
    "\n",
    "%store -r expePath subpath4FPGA fileBaseName\n",
    "if expePath is None:\n",
    "    expePath = \"/Users/mb/Documents/Syntuitio/AudreyHay/PlanB/\"\n",
    "    print(\"The experiment path is not in strore yet, setting it to default: {}\".format(expePath))\n",
    "\n",
    "if subpath4FPGA is None:\n",
    "    subpath4FPGA = \"recording8/continuous/Rhythm_FPGA-133.0/\"\n",
    "    print(\"The experiment path is not in strore yet, setting it to default: {}\".format(subpath4FPGA))\n",
    "\n",
    "if fileBaseName is None:\n",
    "    fileBaseName = \"continuous.dat\"\n",
    "    print(\"The experiment path is not in strore yet, setting it to default: {}\".format(fileBaseName))\n",
    "\n",
    "\n",
    "fc = FileChooser(path=os.path.join(expePath,subpath4FPGA), filename=fileBaseName,select_default=True, show_only_dirs = False, title = \"<b>ePhys data</b>\")\n",
    "display(fc)\n",
    "\n",
    "# Sample callback function\n",
    "def update_my_folder(chooser):\n",
    "    global expePath, subpath4FPGA, fileBaseName\n",
    "    filePath = chooser.selected\n",
    "    subpath4FPGA = \"\"\n",
    "    fileBaseName = os.path.basename(filePath)\n",
    "    print(\"Storing filename: {}\".format(fileBaseName))\n",
    "    level=4\n",
    "    for i in range(level):\n",
    "        filePath = os.path.dirname(filePath)\n",
    "        if i < level-1:\n",
    "            subpath4FPGA = os.path.basename(filePath) + \"/\" + subpath4FPGA\n",
    "    expePath = filePath\n",
    "    print(\"Storing experiement path: {}\".format(expePath))\n",
    "    print(\"Storing subpath: {}\".format(subpath4FPGA))\n",
    "    %store expePath subpath4FPGA fileBaseName\n",
    "    return \n",
    "\n",
    "# Register callback function\n",
    "fc.register_callback(update_my_folder)"
   ]
  },
  {
   "cell_type": "markdown",
   "metadata": {},
   "source": [
    "## Load Data"
   ]
  },
  {
   "cell_type": "markdown",
   "metadata": {},
   "source": [
    "### Map the whole data into memory"
   ]
  },
  {
   "cell_type": "code",
   "execution_count": 6,
   "metadata": {},
   "outputs": [],
   "source": [
    "filename = os.path.join(expePath,subpath4FPGA,fileBaseName)\n",
    "\n",
    "if fileBaseName == \"continuous.dat\":\n",
    "    All = np.memmap(filename, mode='r', dtype='int16')\n",
    "    #All = np.fromfile(filename, dtype=\"int16\")\n",
    "    All = All.reshape(-1,numChanels)\n",
    "elif fileBaseName.endswith(\".npy\"):\n",
    "    All = np.load(filename, mmap_mode= 'r')"
   ]
  },
  {
   "cell_type": "code",
   "execution_count": 7,
   "metadata": {},
   "outputs": [
    {
     "data": {
      "text/plain": [
       "array([506597888000, 506597890000, 506597892000, ..., 553625594000,\n",
       "       553625596000, 553625598000])"
      ]
     },
     "execution_count": 7,
     "metadata": {},
     "output_type": "execute_result"
    }
   ],
   "source": [
    "filenameT = filename = os.path.join(expePath,subpath4FPGA,\"timestamps.npy\")\n",
    "Timestamps = np.load(filenameT)\n",
    "Timestamps.shape\n",
    "Timestamps = Timestamps*2000\n",
    "Timestamps = Timestamps.astype(int)\n",
    "Timestamps"
   ]
  },
  {
   "cell_type": "markdown",
   "metadata": {},
   "source": [
    "### Extract submatrix of interest"
   ]
  },
  {
   "cell_type": "code",
   "execution_count": 8,
   "metadata": {},
   "outputs": [
    {
     "name": "stdout",
     "output_type": "stream",
     "text": [
      "EMG -> [{'canal': 6, 'status': 1}]\n",
      "Getting floating signal of channel 6 for EMG\n",
      "PFC -> [{'canal': 5, 'status': 1}, {'canal': 4, 'status': 2}]\n"
     ]
    },
    {
     "ename": "TypeError",
     "evalue": "list indices must be integers or slices, not str",
     "output_type": "error",
     "traceback": [
      "\u001b[0;31m---------------------------------------------------------------------------\u001b[0m",
      "\u001b[0;31mTypeError\u001b[0m                                 Traceback (most recent call last)",
      "Cell \u001b[0;32mIn[8], line 9\u001b[0m\n\u001b[1;32m      7\u001b[0m \u001b[38;5;28;01mif\u001b[39;00m \u001b[38;5;28mlen\u001b[39m([canal[\u001b[38;5;124m\"\u001b[39m\u001b[38;5;124mcanal\u001b[39m\u001b[38;5;124m\"\u001b[39m] \u001b[38;5;28;01mfor\u001b[39;00m canal \u001b[38;5;129;01min\u001b[39;00m channelsMap[region] \u001b[38;5;28;01mif\u001b[39;00m canal[\u001b[38;5;124m\"\u001b[39m\u001b[38;5;124mstatus\u001b[39m\u001b[38;5;124m\"\u001b[39m]\u001b[38;5;241m==\u001b[39m\u001b[38;5;241m2\u001b[39m])\u001b[38;5;241m>\u001b[39m\u001b[38;5;241m0\u001b[39m:\n\u001b[1;32m      8\u001b[0m     c2 \u001b[38;5;241m=\u001b[39m [canal[\u001b[38;5;124m\"\u001b[39m\u001b[38;5;124mcanal\u001b[39m\u001b[38;5;124m\"\u001b[39m] \u001b[38;5;28;01mfor\u001b[39;00m canal \u001b[38;5;129;01min\u001b[39;00m channelsMap[region] \u001b[38;5;28;01mif\u001b[39;00m canal[\u001b[38;5;124m\"\u001b[39m\u001b[38;5;124mstatus\u001b[39m\u001b[38;5;124m\"\u001b[39m]\u001b[38;5;241m==\u001b[39m\u001b[38;5;241m2\u001b[39m][\u001b[38;5;241m0\u001b[39m]\n\u001b[0;32m----> 9\u001b[0m     c1 \u001b[38;5;241m=\u001b[39m [canal[\u001b[38;5;124m\"\u001b[39m\u001b[38;5;124mcanal\u001b[39m\u001b[38;5;124m\"\u001b[39m] \u001b[38;5;28;01mfor\u001b[39;00m canal \u001b[38;5;129;01min\u001b[39;00m \u001b[43mchannelLabels\u001b[49m\u001b[43m[\u001b[49m\u001b[43mregion\u001b[49m\u001b[43m]\u001b[49m \u001b[38;5;28;01mif\u001b[39;00m canal[\u001b[38;5;124m\"\u001b[39m\u001b[38;5;124mstatus\u001b[39m\u001b[38;5;124m\"\u001b[39m]\u001b[38;5;241m==\u001b[39m\u001b[38;5;241m1\u001b[39m][\u001b[38;5;241m0\u001b[39m]\n\u001b[1;32m     10\u001b[0m     \u001b[38;5;28mprint\u001b[39m(\u001b[38;5;124m\"\u001b[39m\u001b[38;5;124mGetting differential signal of channel \u001b[39m\u001b[38;5;132;01m{}\u001b[39;00m\u001b[38;5;124m - channel \u001b[39m\u001b[38;5;132;01m{}\u001b[39;00m\u001b[38;5;124m for \u001b[39m\u001b[38;5;132;01m{}\u001b[39;00m\u001b[38;5;124m\"\u001b[39m\u001b[38;5;241m.\u001b[39mformat(c2,c1,region))\n\u001b[1;32m     11\u001b[0m     channelLabels\u001b[38;5;241m.\u001b[39mappend(region)\n",
      "\u001b[0;31mTypeError\u001b[0m: list indices must be integers or slices, not str"
     ]
    }
   ],
   "source": [
    "start = 000000\n",
    "end = All.shape[0]\n",
    "combined = np.empty((end-start,0),np.int16)\n",
    "channelLabels = []\n",
    "for region in channelsMap:\n",
    "    print(region, \"->\", channelsMap[region])\n",
    "    if len([canal[\"canal\"] for canal in channelsMap[region] if canal[\"status\"]==2])>0:\n",
    "        c2 = [canal[\"canal\"] for canal in channelsMap[region] if canal[\"status\"]==2][0]\n",
    "        c1 = [canal[\"canal\"] for canal in channelsMap[region] if canal[\"status\"]==1][0]\n",
    "        print(\"Getting differential signal of channel {} - channel {} for {}\".format(c2,c1,region))\n",
    "        channelLabels.append(region)\n",
    "        combined = np.append(combined, All[start:end, c2, np.newaxis] - All[:, c1, np.newaxis], axis=1)\n",
    "    elif len([canal[\"canal\"] for canal in channelsMap[region] if canal[\"status\"]==1])>0:\n",
    "        c = [canal[\"canal\"] for canal in channelsMap[region] if canal[\"status\"]==1][0]\n",
    "        print(\"Getting floating signal of channel {} for {}\".format(c,region))\n",
    "        combined = np.append(combined, All[start:end,c, np.newaxis], axis=1)\n",
    "        channelLabels.append(region)"
   ]
  },
  {
   "cell_type": "code",
   "execution_count": null,
   "metadata": {},
   "outputs": [],
   "source": [
    "plt.plot(combined[:1000,:])\n",
    "plt.show()"
   ]
  },
  {
   "cell_type": "code",
   "execution_count": null,
   "metadata": {},
   "outputs": [],
   "source": [
    "%gui qt \n",
    "# allows the app to be closed clean and reopen\n",
    "app = mkQApp()\n",
    "\n",
    "\n",
    "sample_rate = 1000.\n",
    "t_start = 0.\n",
    "\n",
    "TTL = Timestamps\n",
    "\n",
    "#create 2 familly scatters from theses 2 indexes\n",
    "scatter_indexes = {0: TTL, 1: TTL}\n",
    "#and asign them to some channels each\n",
    "scatter_channels = {0: [0, 12], 1: [0, 1]}\n",
    "source = AnalogSignalSourceWithScatter(All, sample_rate, t_start, scatter_indexes, scatter_channels)\n",
    "\n",
    "\n",
    "#Create the main window that can contain several viewers\n",
    "win = MainViewer()\n",
    "view1 = TraceViewer.from_numpy(combined, sample_rate, t_start, 'Signals', channel_names=channelLabels)\n",
    "#view1 = TraceViewer(source=source)\n",
    "win.add_view(view1)\n",
    "\n",
    "#Parameters can be set in script\n",
    "#view1.params['scale_mode'] = 'same_for_all'\n",
    "view1.params['display_labels'] = True\n",
    "\n",
    "view1.by_channel_params['ch0', 'gain'] = 0.00002\n",
    "view1.by_channel_params['ch1', 'gain'] = 0.00004\n",
    "view1.by_channel_params['ch2', 'gain'] = 0.00004\n",
    "view1.by_channel_params['ch3', 'gain'] = 0.00005\n",
    "#view1.by_channel_params['ch4', 'gain'] = 0.00005\n",
    "\n",
    "view1.by_channel_params['ch0', 'offset'] = 0.1\n",
    "view1.by_channel_params['ch1', 'offset'] = 0.05\n",
    "view1.by_channel_params['ch2', 'offset'] = -0.0\n",
    "view1.by_channel_params['ch3', 'offset'] = -0.05\n",
    "#view1.by_channel_params['ch4', 'offset'] = -0.1\n",
    "\n",
    "#And also parameters for each channel\n",
    "view1.by_channel_params['ch0', 'color'] = '#aa0000'\n",
    "view1.by_channel_params['ch1', 'color'] = '#ff5500'\n",
    "view1.by_channel_params['ch2', 'color'] = '#9b3b70'\n",
    "view1.by_channel_params['ch3', 'color'] = '#0055ff'\n",
    "\n",
    "\n",
    "#Run\n",
    "win.show()\n",
    "app.exec()"
   ]
  },
  {
   "cell_type": "code",
   "execution_count": null,
   "metadata": {},
   "outputs": [],
   "source": [
    "combined.shape"
   ]
  },
  {
   "cell_type": "code",
   "execution_count": null,
   "metadata": {},
   "outputs": [],
   "source": [
    "combined2 = combined[363000:369000,:]\n",
    "#times = np.arange(0, 2000/2000, 1./2000)\n",
    "#tt = times[363000:369000]\n",
    "Cortext = combined2\n",
    "\n",
    "plt.close('all')\n",
    "plt.plot(Cortext)\n",
    "plt.ylim((-1000,1000))\n",
    "\n",
    "filename = expePath / f'extract.svg'\n",
    "plt.savefig(filename, format=\"svg\")"
   ]
  },
  {
   "cell_type": "markdown",
   "metadata": {},
   "source": [
    "plt.close()\n",
    "All3t = All3[3587000:3602000,:]\n",
    "times = np.arange(3587000, 3602000, 1)\n",
    "plt.plot(times, All3t)\n",
    "plt.show()\n",
    "\n",
    "filename = folder_base / f'plot.svg'\n",
    "plt.savefig(filename, format=\"svg\")"
   ]
  }
 ],
 "metadata": {
  "kernelspec": {
   "display_name": "Python 3.9.12 ('formation')",
   "language": "python",
   "name": "python3"
  },
  "language_info": {
   "codemirror_mode": {
    "name": "ipython",
    "version": 3
   },
   "file_extension": ".py",
   "mimetype": "text/x-python",
   "name": "python",
   "nbconvert_exporter": "python",
   "pygments_lexer": "ipython3",
   "version": "3.11.8"
  },
  "orig_nbformat": 4,
  "vscode": {
   "interpreter": {
    "hash": "984d3fbee8ffa490637705ae3d7233e001ab0304f3daaca07b5aa8569b88ca53"
   }
  }
 },
 "nbformat": 4,
 "nbformat_minor": 2
}
