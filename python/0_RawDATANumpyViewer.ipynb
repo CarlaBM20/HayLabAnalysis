{
 "cells": [
  {
   "cell_type": "markdown",
   "metadata": {},
   "source": [
    "# This is just a notebook to visualise 1kHz filtered raw data"
   ]
  },
  {
   "cell_type": "markdown",
   "metadata": {},
   "source": [
    "## Setup everything"
   ]
  },
  {
   "cell_type": "markdown",
   "metadata": {},
   "source": [
    "### Import packages"
   ]
  },
  {
   "cell_type": "code",
   "execution_count": null,
   "metadata": {},
   "outputs": [],
   "source": [
    "import os\n",
    "import sys\n",
    "import quantities as pq\n",
    "import numpy as np\n",
    "import neo\n",
    "from pathlib import Path\n",
    "import pandas as pd\n",
    "import matplotlib.pyplot as plt\n",
    "from matplotlib.widgets import Slider, Button, Cursor\n",
    "import scipy\n",
    "from scipy import interpolate\n",
    "from scipy import fftpack\n",
    "from scipy import signal\n",
    "from open_ephys.analysis import Session\n",
    "\n",
    "import mmap\n",
    "import xarray as xr\n",
    "import dask.array as da\n",
    "#%matplotlib widget\n",
    "\n",
    "from ephyviewer import mkQApp, MainViewer, TraceViewer\n",
    "from ephyviewer import AnalogSignalSourceWithScatter\n",
    "\n",
    "\n",
    "from ipyfilechooser import FileChooser"
   ]
  },
  {
   "cell_type": "markdown",
   "metadata": {},
   "source": [
    "### Define params"
   ]
  },
  {
   "cell_type": "code",
   "execution_count": null,
   "metadata": {},
   "outputs": [],
   "source": [
    "numChanels=64"
   ]
  },
  {
   "cell_type": "markdown",
   "metadata": {},
   "source": [
    "### Define mapping dict"
   ]
  },
  {
   "cell_type": "markdown",
   "metadata": {},
   "source": [
    "channelsMap is a dictionary with one key per brain region and/or canal of interest (TTL). The value associated to the key is an array with every corresponding canal. The \"status\" key defines which of these canals to use for analyses:\n",
    "- 0: not to use\n",
    "- 1 only: floating point canal\n",
    "- 1 and 2: differential signal 2-1"
   ]
  },
  {
   "cell_type": "code",
   "execution_count": null,
   "metadata": {},
   "outputs": [],
   "source": [
    "channelsMap = dict( \\\n",
    "    EMG = [dict(canal = 6, status=1)],\n",
    "    PFC = [dict(canal = 5, status=1),\n",
    "           dict(canal = 4, status=2)\n",
    "           ],\n",
    "    CA1 = [dict(canal = 8, status=1),\n",
    "           dict(canal = 0, status=0),\n",
    "           dict(canal = 1, status=0),\n",
    "        ],\n",
    "    TTL = [dict(canal = 10, status=1)],\n",
    ")"
   ]
  },
  {
   "cell_type": "markdown",
   "metadata": {},
   "source": [
    "### Define functions"
   ]
  },
  {
   "cell_type": "markdown",
   "metadata": {},
   "source": [
    "#### Read data file"
   ]
  },
  {
   "cell_type": "code",
   "execution_count": null,
   "metadata": {},
   "outputs": [],
   "source": [
    "def other_mmap(filename, shape, dtype, chunks):\n",
    "    with open(filename, \"rb\") as fh:\n",
    "        # `mmap` duplicates the file descriptor\n",
    "        # `0` means map the full file\n",
    "        mm = mmap.mmap(fh.fileno(), 0, access=mmap.ACCESS_READ)\n",
    "\n",
    "    # coerce to NumPy array of expected type and shape\n",
    "    a = np.asarray(mm).view(dtype).reshape(shape)\n",
    "\n",
    "    # Don't call `asarray`\n",
    "    # name=False to avoid hashing\n",
    "    a_d = da.from_array(a, chunks=chunks, asarray=False, name=False)\n",
    "    return a_d"
   ]
  },
  {
   "cell_type": "markdown",
   "metadata": {},
   "source": [
    "#### Choose path"
   ]
  },
  {
   "cell_type": "code",
   "execution_count": null,
   "metadata": {},
   "outputs": [],
   "source": [
    "expePath = None\n",
    "subpath4FPGA = None\n",
    "fileBaseName = None\n",
    "\n",
    "%store -r expePath subpath4FPGA fileBaseName\n",
    "if expePath is None:\n",
    "    expePath = \"/Users/mb/Documents/Syntuitio/AudreyHay/PlanB/\"\n",
    "    print(\"The experiment path is not in strore yet, setting it to default: {}\".format(expePath))\n",
    "\n",
    "if subpath4FPGA is None:\n",
    "    subpath4FPGA = \"recording8/continuous/Rhythm_FPGA-133.0/\"\n",
    "    print(\"The experiment path is not in strore yet, setting it to default: {}\".format(subpath4FPGA))\n",
    "\n",
    "if fileBaseName is None:\n",
    "    fileBaseName = \"continuous.dat\"\n",
    "    print(\"The experiment path is not in strore yet, setting it to default: {}\".format(fileBaseName))\n",
    "\n",
    "try:\n",
    "    fc = FileChooser(path=os.path.join(expePath,subpath4FPGA), filename=fileBaseName,select_default=True, show_only_dirs = False, title = \"<b>ePhys data</b>\")\n",
    "except:\n",
    "    fc = FileChooser(show_only_dirs = False, title = \"<b>ePhys data</b>\")\n",
    "display(fc)\n",
    "\n",
    "# Sample callback function\n",
    "def update_my_folder(chooser):\n",
    "    global expePath, subpath4FPGA, fileBaseName\n",
    "    filePath = chooser.selected\n",
    "    subpath4FPGA = \"\"\n",
    "    fileBaseName = os.path.basename(filePath)\n",
    "    print(\"Storing filename: {}\".format(fileBaseName))\n",
    "    level=4\n",
    "    for i in range(level):\n",
    "        filePath = os.path.dirname(filePath)\n",
    "        if i < level-1:\n",
    "            subpath4FPGA = os.path.basename(filePath) + \"/\" + subpath4FPGA\n",
    "    expePath = filePath\n",
    "    print(\"Storing experiement path: {}\".format(expePath))\n",
    "    print(\"Storing subpath: {}\".format(subpath4FPGA))\n",
    "    %store expePath subpath4FPGA fileBaseName\n",
    "    return \n",
    "\n",
    "# Register callback function\n",
    "fc.register_callback(update_my_folder)"
   ]
  },
  {
   "cell_type": "markdown",
   "metadata": {},
   "source": [
    "## Load Data"
   ]
  },
  {
   "cell_type": "markdown",
   "metadata": {},
   "source": [
    "### Map the whole data into memory"
   ]
  },
  {
   "cell_type": "code",
   "execution_count": null,
   "metadata": {},
   "outputs": [],
   "source": [
    "filename = os.path.join(expePath,subpath4FPGA,fileBaseName)\n",
    "\n",
    "if fileBaseName == \"continuous.dat\":\n",
    "    All = np.memmap(filename, mode='r', dtype='int16')\n",
    "    #All = np.fromfile(filename, dtype=\"int16\")\n",
    "    All = All.reshape(-1,numChanels)\n",
    "elif fileBaseName.endswith(\".npy\"):\n",
    "    All = np.load(filename, mmap_mode= 'r')"
   ]
  },
  {
   "cell_type": "code",
   "execution_count": null,
   "metadata": {},
   "outputs": [],
   "source": [
    "filenameT = filename = os.path.join(expePath,subpath4FPGA,\"timestamps.npy\")\n",
    "Timestamps = np.load(filenameT)\n",
    "Timestamps.shape\n",
    "Timestamps = Timestamps*2000\n",
    "Timestamps = Timestamps.astype(int)\n",
    "Timestamps"
   ]
  },
  {
   "cell_type": "markdown",
   "metadata": {},
   "source": [
    "### Extract submatrix of interest"
   ]
  },
  {
   "cell_type": "code",
   "execution_count": null,
   "metadata": {},
   "outputs": [],
   "source": [
    "start = 000000\n",
    "end = All.shape[0]\n",
    "combined = np.empty((end-start,0),np.int16)\n",
    "channelLabels = []\n",
    "for region in channelsMap:\n",
    "    print(region, \"->\", channelsMap[region])\n",
    "    if len([canal[\"canal\"] for canal in channelsMap[region] if canal[\"status\"]==2])>0:\n",
    "        c2 = [canal[\"canal\"] for canal in channelsMap[region] if canal[\"status\"]==2][0]\n",
    "        c1 = [canal[\"canal\"] for canal in channelsMap[region] if canal[\"status\"]==1][0]\n",
    "        print(\"Getting differential signal of channel {} - channel {} for {}\".format(c2,c1,region))\n",
    "        channelLabels.append(region)\n",
    "        combined = np.append(combined, All[start:end, c2, np.newaxis] - All[:, c1, np.newaxis], axis=1)\n",
    "    elif len([canal[\"canal\"] for canal in channelsMap[region] if canal[\"status\"]==1])>0:\n",
    "        c = [canal[\"canal\"] for canal in channelsMap[region] if canal[\"status\"]==1][0]\n",
    "        print(\"Getting floating signal of channel {} for {}\".format(c,region))\n",
    "        combined = np.append(combined, All[start:end,c, np.newaxis], axis=1)\n",
    "        channelLabels.append(region)"
   ]
  },
  {
   "cell_type": "code",
   "execution_count": null,
   "metadata": {},
   "outputs": [],
   "source": [
    "%gui qt \n",
    "# allows the app to be closed clean and reopen\n",
    "app = mkQApp()\n",
    "\n",
    "\n",
    "sample_rate = 1000.\n",
    "t_start = 0.\n",
    "\n",
    "TTL = Timestamps\n",
    "\n",
    "#create 2 familly scatters from theses 2 indexes\n",
    "scatter_indexes = {0: TTL, 1: TTL}\n",
    "#and asign them to some channels each\n",
    "scatter_channels = {0: [0, 12], 1: [0, 1]}\n",
    "source = AnalogSignalSourceWithScatter(All, sample_rate, t_start, scatter_indexes, scatter_channels)\n",
    "\n",
    "\n",
    "#Create the main window that can contain several viewers\n",
    "win = MainViewer()\n",
    "view1 = TraceViewer.from_numpy(combined, sample_rate, t_start, 'Signals', channel_names=channelLabels)\n",
    "#view1 = TraceViewer(source=source)\n",
    "win.add_view(view1)\n",
    "\n",
    "#Parameters can be set in script\n",
    "#view1.params['scale_mode'] = 'same_for_all'\n",
    "view1.params['display_labels'] = True\n",
    "\n",
    "view1.by_channel_params['ch0', 'gain'] = 0.00002\n",
    "view1.by_channel_params['ch1', 'gain'] = 0.00004\n",
    "view1.by_channel_params['ch2', 'gain'] = 0.00004\n",
    "view1.by_channel_params['ch3', 'gain'] = 0.00005\n",
    "#view1.by_channel_params['ch4', 'gain'] = 0.00005\n",
    "\n",
    "view1.by_channel_params['ch0', 'offset'] = 0.1\n",
    "view1.by_channel_params['ch1', 'offset'] = 0.05\n",
    "view1.by_channel_params['ch2', 'offset'] = -0.0\n",
    "view1.by_channel_params['ch3', 'offset'] = -0.05\n",
    "#view1.by_channel_params['ch4', 'offset'] = -0.1\n",
    "\n",
    "#And also parameters for each channel\n",
    "view1.by_channel_params['ch0', 'color'] = '#aa0000'\n",
    "view1.by_channel_params['ch1', 'color'] = '#ff5500'\n",
    "view1.by_channel_params['ch2', 'color'] = '#9b3b70'\n",
    "view1.by_channel_params['ch3', 'color'] = '#0055ff'\n",
    "\n",
    "\n",
    "#Run\n",
    "win.show()\n",
    "app.exec()"
   ]
  },
  {
   "cell_type": "code",
   "execution_count": null,
   "metadata": {},
   "outputs": [],
   "source": [
    "combined2 = combined[363000:369000,:]\n",
    "#times = np.arange(0, 2000/2000, 1./2000)\n",
    "#tt = times[363000:369000]\n",
    "Cortext = combined2\n",
    "\n",
    "plt.close('all')\n",
    "plt.plot(Cortext)\n",
    "plt.ylim((-1000,1000))\n",
    "\n",
    "filename = expePath / f'extract.svg'\n",
    "plt.savefig(filename, format=\"svg\")"
   ]
  },
  {
   "cell_type": "markdown",
   "metadata": {},
   "source": [
    "plt.close()\n",
    "All3t = All3[3587000:3602000,:]\n",
    "times = np.arange(3587000, 3602000, 1)\n",
    "plt.plot(times, All3t)\n",
    "plt.show()\n",
    "\n",
    "filename = folder_base / f'plot.svg'\n",
    "plt.savefig(filename, format=\"svg\")"
   ]
  }
 ],
 "metadata": {
  "kernelspec": {
   "display_name": "Python 3.9.12 ('formation')",
   "language": "python",
   "name": "python3"
  },
  "language_info": {
   "codemirror_mode": {
    "name": "ipython",
    "version": 3
   },
   "file_extension": ".py",
   "mimetype": "text/x-python",
   "name": "python",
   "nbconvert_exporter": "python",
   "pygments_lexer": "ipython3",
   "version": "3.11.8"
  },
  "orig_nbformat": 4,
  "vscode": {
   "interpreter": {
    "hash": "984d3fbee8ffa490637705ae3d7233e001ab0304f3daaca07b5aa8569b88ca53"
   }
  }
 },
 "nbformat": 4,
 "nbformat_minor": 2
}
