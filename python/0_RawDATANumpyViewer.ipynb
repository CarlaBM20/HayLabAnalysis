{
 "cells": [
  {
   "cell_type": "markdown",
   "metadata": {},
   "source": [
    "# This is just a notebook to visualise 1kHz filtered raw data"
   ]
  },
  {
   "cell_type": "markdown",
   "metadata": {},
   "source": [
    "## Setup everything"
   ]
  },
  {
   "cell_type": "markdown",
   "metadata": {},
   "source": [
    "### Import packages"
   ]
  },
  {
   "cell_type": "code",
   "execution_count": 1,
   "metadata": {},
   "outputs": [],
   "source": [
    "import os\n",
    "import numpy as np\n",
    "import matplotlib\n",
    "import matplotlib.pyplot as plt\n",
    "import pandas as pd\n",
    "\n",
    "from ephyviewer import mkQApp, MainViewer, TraceViewer, TimeFreqViewer, InMemoryAnalogSignalSource, EventList\n",
    "from ephyviewer import AnalogSignalSourceWithScatter, SpikeInterfaceRecordingSource, InMemoryEventSource\n",
    "\n",
    "# add the Contrib dir that contains all tools developped by MB : mbTools.py\n",
    "#sys.path.append(os.path.join(os.path.dirname(sys.path[0]),'python'))\n",
    "#print(os.path.join(os.path.dirname(sys.path[0]),'python'))\n",
    "from mbTools import mbTools\n",
    "\n",
    "import configparser\n",
    "import json\n",
    "import ast\n"
   ]
  },
  {
   "cell_type": "markdown",
   "metadata": {},
   "source": [
    "### Import local config, create it if inexistant\n",
    "All user-specific configuration (projects, defautl path to files...) are stored in a file named localConfig.ini in the python subfolder of AudreyHayLab repo. It is ignored by git so that it remains truely local. If the file does not exist at beginning, it is created with default values that can be modified at whishes."
   ]
  },
  {
   "cell_type": "code",
   "execution_count": 2,
   "metadata": {},
   "outputs": [
    {
     "name": "stdout",
     "output_type": "stream",
     "text": [
      "Local config file loaded from localConfig.ini\n",
      "All raw data are expected to be found in the folder: C:\\Users\\Manip1\n",
      "All analysis will be saved in the folder: C:\\Users\\Manip1\\Analysis\n",
      "DATA\n",
      "[('path', 'C:\\\\Users\\\\Manip1')]\n",
      "ANALYSIS\n",
      "[('path', 'C:\\\\Users\\\\Manip1\\\\Analysis'),\n",
      " ('projecttype', '0'),\n",
      " ('animalid', '0'),\n",
      " ('projectid', 'AProject'),\n",
      " ('subprojectid', 'OneOfItsSubProject'),\n",
      " ('conditionid', 'control'),\n",
      " ('recordingid', '0'),\n",
      " ('suffix', '')]\n",
      "AProject.OneOfItsSubProject\n",
      "[('design', '0'),\n",
      " ('nanimal', '6'),\n",
      " ('conditions', \"['control']\"),\n",
      " ('nrecordings', '1')]\n"
     ]
    }
   ],
   "source": [
    "config = mbTools.localConf()\n",
    "rawDataPath = config['DATA']['path']\n",
    "print(f'All raw data are expected to be found in the folder: {rawDataPath}')\n",
    "analysisPath = config['ANALYSIS']['path']\n",
    "print(f'All analysis will be saved in the folder: {analysisPath}')\n",
    "config.printAll()"
   ]
  },
  {
   "cell_type": "markdown",
   "metadata": {},
   "source": [
    "## Choose experiment\n",
    "Select the experiment to display. If the experiment was already analyzed, a saved_dictionary.pkl was created and contains all necessary variables. Select this file. Otherwise select the raw data recording file.\n",
    ">**If you have a file with channel mapping somewhere**, we should make sure it is properly translated into a dict.pkl"
   ]
  },
  {
   "cell_type": "code",
   "execution_count": 3,
   "metadata": {},
   "outputs": [
    {
     "name": "stdout",
     "output_type": "stream",
     "text": [
      "C:\\Users\\Manip1\\Analysis\\AProject\\OneOfItsSubProject\\control\\0\\saved_dictionary.pkl\n",
      "Local config file loaded from localConfig.ini\n",
      "the file is C:\\Users\\Manip1\\Analysis\\AProject\\OneOfItsSubProject\\control\\0\\saved_dictionary.pkl\n"
     ]
    },
    {
     "data": {
      "application/vnd.jupyter.widget-view+json": {
       "model_id": "98e859c60cb943289bd421370d700040",
       "version_major": 2,
       "version_minor": 0
      },
      "text/plain": [
       "FileChooser(path='C:\\Users\\Manip1\\Analysis\\AProject\\OneOfItsSubProject\\control\\0', filename='saved_dictionary.…"
      ]
     },
     "metadata": {},
     "output_type": "display_data"
    }
   ],
   "source": [
    "currentFile = None\n",
    "%store -r currentFile\n",
    "print(currentFile)\n",
    "try:\n",
    "    theExpe = mbTools.expeConfigDict(currentFile)\n",
    "except Exception as error:\n",
    "    print(error)\n",
    "    theExpe = mbTools.expeConfigDict()"
   ]
  },
  {
   "cell_type": "markdown",
   "metadata": {},
   "source": [
    "### Possibility to change raw data path \n",
    "if for some reason the path to the raw data is wrong, you can update it here"
   ]
  },
  {
   "cell_type": "code",
   "execution_count": 4,
   "metadata": {},
   "outputs": [
    {
     "data": {
      "application/vnd.jupyter.widget-view+json": {
       "model_id": "c47668706c4c491686cf5f997f8412aa",
       "version_major": 2,
       "version_minor": 0
      },
      "text/plain": [
       "FileChooser(path='C:\\Users\\Manip1\\Documents\\MB\\HayLabAnalysis\\python', filename='', title='<b>ePhys data</b>',…"
      ]
     },
     "metadata": {},
     "output_type": "display_data"
    }
   ],
   "source": [
    "theExpe.rawDataSelector()"
   ]
  },
  {
   "cell_type": "markdown",
   "metadata": {},
   "source": [
    "## Load Data"
   ]
  },
  {
   "cell_type": "markdown",
   "metadata": {},
   "source": [
    "### Map the whole data into memory"
   ]
  },
  {
   "cell_type": "code",
   "execution_count": 5,
   "metadata": {},
   "outputs": [
    {
     "name": "stdout",
     "output_type": "stream",
     "text": [
      "\\\\10.69.168.1\\crnldata\\waking\\audrey_hay\\NPX\\NPX1\\Reuniens\\Expe_2024-07-20_12-45-29\\\n"
     ]
    },
    {
     "data": {
      "application/vnd.jupyter.widget-view+json": {
       "model_id": "e4e578c481c04408b201d35575fe8bd0",
       "version_major": 2,
       "version_minor": 0
      },
      "text/plain": [
       "FileChooser(path='\\\\10.69.168.1\\crnldata\\waking\\audrey_hay\\NPX\\NPX1\\Reuniens\\Expe_2024-07-20_12-45-29', filena…"
      ]
     },
     "metadata": {},
     "output_type": "display_data"
    }
   ],
   "source": [
    "if False:\n",
    "    dpath = None #  '//10.69.168.1/crnldata/waking/audrey_hay/NPX/NPX4_claustrum/Expe_2024-07-18_12-00-43/'\n",
    "    # %store dpath\n",
    "    %store -r dpath\n",
    "    print(dpath)\n",
    "    theExpe.rawDataPath = dpath\n",
    "print(theExpe.rawDataPath)\n",
    "thedata = mbTools.experiment(theExpe)"
   ]
  },
  {
   "cell_type": "code",
   "execution_count": 6,
   "metadata": {},
   "outputs": [
    {
     "name": "stdout",
     "output_type": "stream",
     "text": [
      "\\\\10.69.168.1\\crnldata\\waking\\audrey_hay\\NPX\\NPX1\\Reuniens\\Expe_2024-07-20_12-45-29\n",
      "found some .bin files\n",
      "data recorded with Bonsai\n",
      "importing \\\\10.69.168.1\\crnldata\\waking\\audrey_hay\\NPX\\NPX1\\Reuniens\\Expe_2024-07-20_12-45-29\\OE_32ch_data_2024-07-20T12_45_29.bin\n",
      "applying offset\n",
      "converting to int16\n",
      "IntanLFP file loaded, with 32 channels and 106671104 datapoint\n",
      "found some NPX files\n",
      "the calculated sampling rate is 30070.243213822876 Hz\n",
      "launch start would be 2024-07-20 12:45:29.896598+02:00\n",
      "the interval to first clock is 0.041224\n",
      "the first timestamp for 10306075 samples, corresponding to 0.041224 s, would be 2024-07-20 12:45:29.937822+02:00\n",
      "there are 161553312 timestamps\n",
      "the calculated sampling rate is 30070.243213822876 Hz\n",
      "launch start would be 2024-07-20 12:45:29.896598+02:00\n",
      "the interval to first clock is 0.041224\n",
      "the first timestamp for 10306075 samples, corresponding to 0.041224 s, would be 2024-07-20 12:45:29.937822+02:00\n",
      "there are 161553312 timestamps\n"
     ]
    }
   ],
   "source": [
    "%load_ext autoreload\n",
    "%autoreload 2\n",
    "%reload_ext autoreload\n",
    "thedata.analyseExpe_findData()"
   ]
  },
  {
   "cell_type": "markdown",
   "metadata": {},
   "source": [
    "### Extract submatrix of interest"
   ]
  },
  {
   "cell_type": "code",
   "execution_count": 7,
   "metadata": {},
   "outputs": [],
   "source": [
    "#initiate combined and channelLabels\n",
    "combined =  {}\n",
    "channelLabels = {}\n",
    "sample_rates = {}\n",
    "t_start = {}\n",
    "#t_end = 300 #seconds"
   ]
  },
  {
   "cell_type": "code",
   "execution_count": 8,
   "metadata": {},
   "outputs": [
    {
     "name": "stdout",
     "output_type": "stream",
     "text": [
      "mapping exists so loading it\n",
      "the mapping: {'M1': [{'canal': 17, 'status': 1}, {'canal': 16, 'status': 2}]}\n",
      "the offset:  51.44846048\n",
      "the sampling rate:  20046.76684681\n"
     ]
    }
   ],
   "source": [
    "expeConfigFN=os.path.sep.join([theExpe.rawDataPath,'expeConfig.ini'])\n",
    "parser = configparser.ConfigParser()\n",
    "parser.read(expeConfigFN)\n",
    "\n",
    "if os.path.isfile(expeConfigFN):\n",
    "    print('mapping exists so loading it')\n",
    "    thedata.data['OE_LFP'].channelsMap = ast.literal_eval(parser['OE_LFP']['channelsMap'])\n",
    "    thedata.data['OE_LFP'].start=ast.literal_eval(parser['OE_LFP']['start'])\n",
    "    thedata.data['OE_LFP'].sampling_rate=ast.literal_eval(parser['OE_LFP']['freq'])\n",
    "else:\n",
    "    print(\"mapping doesn't exist so generating it\")\n",
    "    thedata.data['OE_LFP'].channelsMap = dict( \\\n",
    "            M1 = [dict(canal = 17, status=1),\n",
    "                dict(canal = 16, status=2)],\n",
    "        )\n",
    "\n",
    "    parser['OE_LFP'] = {'channelsMap': thedata.data['OE_LFP'].channelsMap}\n",
    "\n",
    "\n",
    "    artefacts=[55.2, 88.74, 90.6, 121.18, 123, 188, 268, 2065, 3036, 3754, 3590]\n",
    "    parser['OE_LFP']['artefacts']=str(artefacts)\n",
    "\n",
    "\n",
    "    parser['OE_LFP']['start']=str(52.7137)\n",
    "\n",
    "    with open(expeConfigFN, 'w') as configfile:\n",
    "        parser.write(configfile)\n",
    "\n",
    "print(\"the mapping:\", thedata.data['OE_LFP'].channelsMap)\n",
    "print(\"the offset: \", thedata.data['OE_LFP'].start)\n",
    "print(\"the sampling rate: \", thedata.data['OE_LFP'].sampling_rate)\n",
    "\n",
    "thedata.data['OE_LFP'].reAlignTimes()\n"
   ]
  },
  {
   "cell_type": "markdown",
   "metadata": {},
   "source": [
    "### Extract submatrix of interest"
   ]
  },
  {
   "cell_type": "code",
   "execution_count": 14,
   "metadata": {},
   "outputs": [
    {
     "name": "stdout",
     "output_type": "stream",
     "text": [
      "M1 -> [{'canal': 17, 'status': 1}, {'canal': 16, 'status': 2}]\n",
      "Getting differential signal of channel 16 - channel 17 for M1\n",
      "LFP data combined\n"
     ]
    }
   ],
   "source": [
    "#LFP\n",
    "if 'OE_LFP' in thedata.data:\n",
    "    sample_rates['LFP'] = thedata.data['OE_LFP'].sampling_rate #20000\n",
    "    t_start['LFP'] = thedata.data['OE_LFP'].start\n",
    "    combined['LFP'] = thedata.data['OE_LFP'].combineStructures(['M1'])\n",
    "    channelLabels['LFP'] = thedata.data['OE_LFP'].channelLabels[:]\n",
    "    print(\"LFP data combined\")\n",
    "else:\n",
    "    print(\"no LFP data to combine\")"
   ]
  },
  {
   "cell_type": "code",
   "execution_count": 10,
   "metadata": {},
   "outputs": [
    {
     "name": "stdout",
     "output_type": "stream",
     "text": [
      "NPX data combined\n"
     ]
    }
   ],
   "source": [
    "#NPX\n",
    "if 'NPX' in thedata.data:\n",
    "    sample_rates['NPX'] = thedata.data['NPX'].sampling_rate #30000\n",
    "    t_start['NPX'] = thedata.data['NPX'].start\n",
    "    combined['NPX'] = thedata.data['NPX'].signal['spike']\n",
    "    channelLabels['NPX'] = thedata.data['NPX'].channelLabels\n",
    "    print(\"NPX data combined\")\n",
    "else:\n",
    "    print(\"no NPX data to combine\")"
   ]
  },
  {
   "cell_type": "markdown",
   "metadata": {},
   "source": [
    "### Load extra stuff"
   ]
  },
  {
   "cell_type": "code",
   "execution_count": 11,
   "metadata": {},
   "outputs": [
    {
     "name": "stdout",
     "output_type": "stream",
     "text": [
      "file \\\\10.69.168.1\\crnldata\\waking\\audrey_hay\\NPX\\NPX1\\Reuniens\\Expe_2024-07-20_12-45-29\\../LFP\\Spindlesproperties_M1.csv doesn't exist yet which is probably because you haven't done the analysis or the relative path is wrong\n",
      "no file \\\\10.69.168.1\\crnldata\\waking\\audrey_hay\\NPX\\NPX1\\Reuniens\\Expe_2024-07-20_12-45-29\\../LFP\\SignalM1.npy was found, please make sure it exists\n",
      "cannot access local variable 'signal' where it is not associated with a value\n"
     ]
    }
   ],
   "source": [
    "from mbTools import mbTools\n",
    "try:\n",
    "    All_Spindle, M1 = thedata.data['OE_LFP'].loadSpindles(relativePath='../LFP', structure = \"M1\")\n",
    "    combined['LFP_DS']=M1[:,np.newaxis]\n",
    "    channelLabels['LFP_DS'] = ['M1_DS']\n",
    "    freqInitTheoric=20000\n",
    "    freqDS=1000\n",
    "    realignFactor=freqInitTheoric/sample_rates['LFP']\n",
    "    sample_rates['LFP_DS']=freqDS*realignFactor\n",
    "    t_start['LFP_DS']=t_start['LFP']\n",
    "    print(realignFactor)\n",
    "except Exception as error:\n",
    "    print(error)"
   ]
  },
  {
   "cell_type": "code",
   "execution_count": 30,
   "metadata": {},
   "outputs": [
    {
     "name": "stdout",
     "output_type": "stream",
     "text": [
      "55.00000578461223\n",
      "71197\n",
      "M1 -> [{'canal': 17, 'status': 1}, {'canal': 16, 'status': 2}]\n",
      "Getting differential signal of channel 16 - channel 17 for M1\n",
      "[4.12243000e-02 4.12575560e-02 4.12908080e-02 ... 5.37257206e+03\n",
      " 5.37257210e+03 5.37257213e+03]\n",
      "1652612\n"
     ]
    },
    {
     "data": {
      "application/vnd.jupyter.widget-view+json": {
       "model_id": "4cc8a8fa405343afb3774a26508b5536",
       "version_major": 2,
       "version_minor": 0
      },
      "image/png": "[encoded data removed]",
      "text/html": [
       "\n",
       "            <div style=\"display: inline-block;\">\n",
       "                <div class=\"jupyter-widgets widget-label\" style=\"text-align: center;\">\n",
       "                    Figure\n",
       "                </div>\n",
       "                <img src='data:image/png;base64,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' width=640.0/>\n",
       "            </div>\n",
       "        "
      ],
      "text/plain": [
       "Canvas(toolbar=Toolbar(toolitems=[('Home', 'Reset original view', 'home', 'home'), ('Back', 'Back to previous …"
      ]
     },
     "metadata": {},
     "output_type": "display_data"
    }
   ],
   "source": [
    "#this cell can be used to plot very precisely time of interest. Beware that it conflicts with ephyviewer however. It might be possible to have 2 notebooks open simultanéeously...\n",
    "if False:\n",
    "    %matplotlib widget\n",
    "    #you can confiure a y-offset and some scaling, have a look at the help of superCleanPlot\n",
    "    mbTools.superCleanPlot(thedata.data['OE_LFP'], thedata.data['NPX'], structureLFP=['M1'], canauxNPX=[0], time=55) #canauxLFP=16, \n",
    "    picFN = os.path.sep.join([theExpe.rawDataPath,'A1-8978.svg'])\n",
    "    plt.savefig(picFN, format=\"svg\")"
   ]
  },
  {
   "cell_type": "markdown",
   "metadata": {},
   "source": [
    "## Display"
   ]
  },
  {
   "cell_type": "code",
   "execution_count": null,
   "metadata": {},
   "outputs": [],
   "source": [
    "%gui qt\n",
    "app = mkQApp()\n",
    "\n",
    "\n",
    "try:\n",
    "    TTL = Timestamps\n",
    "\n",
    "    #create 2 familly scatters from theses 2 indexes\n",
    "    scatter_indexes = {0: TTL, 1: TTL}\n",
    "    #and asign them to some channels each\n",
    "    scatter_channels = {0: [0, 12], 1: [0, 1]}\n",
    "    #source = AnalogSignalSourceWithScatter(combined, sample_rate, t_start, scatter_indexes, scatter_channels)\n",
    "except Exception:\n",
    "    pass\n",
    "\n",
    "#Create the main window that can contain several viewers\n",
    "win = MainViewer(debug=True)\n",
    "\n",
    "if 'LFP' in combined:\n",
    "    source = InMemoryAnalogSignalSource(combined['LFP'], np.round(sample_rates['LFP']), t_start['LFP'], channel_names=channelLabels['LFP'])\n",
    "    view1 = TraceViewer(source=source, name = 'LFP')\n",
    "\n",
    "    #Parameters can be set in script\n",
    "    view1.params['display_labels'] = True\n",
    "    view1.params['scale_mode'] = 'same_for_all'\n",
    "    view1.auto_scale()\n",
    "\n",
    "    cmap = matplotlib.colormaps[\"hsv\"]#Wistia\"]\n",
    "    nCh = len(view1.by_channel_params.children())\n",
    "    for ch in range(nCh):\n",
    "        #view1.by_channel_params[f'ch{ch}', 'gain'] = 0.00002\n",
    "        #view1.by_channel_params[f'ch{ch}', 'offset'] = 0.1\n",
    "        view1.by_channel_params[f'ch{ch}', 'color'] = matplotlib.colors.to_hex(cmap(ch/nCh), keep_alpha=False)\n",
    "        pass\n",
    "\n",
    "    #create a time freq viewer conencted to the same source\n",
    "    view2 = TimeFreqViewer(source=source, name='tfr')\n",
    "    view2.params['show_axis'] = False\n",
    "    view2.params['timefreq', 'deltafreq'] = 1\n",
    "    #view2.by_channel_params['ch3', 'visible'] = False\n",
    "    view2.auto_scale()\n",
    "\n",
    "    win.add_view(view1)\n",
    "    #win.add_view(view2)\n",
    "\n",
    "if False:#'LFP_DS' in combined:\n",
    "\n",
    "    if All_Spindle is not None:\n",
    "        #Create one data source with 3 event channel\n",
    "        all_events = []\n",
    "        conditions = ['All','Good','Bad']\n",
    "        for c,cond in enumerate(conditions):\n",
    "            match cond:\n",
    "                case 'All':\n",
    "                    selection = \"All_Spindle['toKeep'] | ~All_Spindle['toKeep']\"\n",
    "                case 'Good':\n",
    "                    selection = \"All_Spindle['toKeep']\"\n",
    "                case 'Bad':\n",
    "                    selection = \"~All_Spindle['toKeep']\"\n",
    "            ev_times = mbTools.convertTheoricIndex2realTime(All_Spindle.loc[pd.eval(selection),'peak time'].values, realFreq=sample_rates['LFP_DS'], offset=t_start['LFP_DS'])\n",
    "            ev_labels = [f'spindle {i}'for i in All_Spindle[pd.eval(selection)].index]\n",
    "            all_events.append({ 'time':ev_times, 'label':ev_labels, 'name': conditions[c] })\n",
    "        source_ev = InMemoryEventSource(all_events=all_events)\n",
    "\n",
    "        Spindle_peak = All_Spindle['peak time'].astype(int)\n",
    "        Spindle_start = All_Spindle['start time'].astype(int)\n",
    "        Spindle_end = All_Spindle['end time'].astype(int)\n",
    "\n",
    "        #create 2 familly scatters from theses 2 indexes\n",
    "        scatter_indexes = {0: Spindle_peak, 1: Spindle_start, 2: Spindle_end}\n",
    "        #and asign them to some channels each\n",
    "        scatter_channels = {0: [0], 1: [0], 2: [0]}\n",
    "        source = AnalogSignalSourceWithScatter(combined['LFP_DS'], sample_rates['LFP_DS'], t_start['LFP_DS'], scatter_indexes, scatter_channels)#, channel_names=channelLabels['LFP_DS']\n",
    "        view_Events = EventList(source=source_ev, name='event')\n",
    "        \n",
    "    else:\n",
    "        source = InMemoryAnalogSignalSource(combined['LFP_DS'], sample_rates['LFP_DS'], t_start['LFP_DS'], channel_names=channelLabels['LFP_DS'])\n",
    "        view_Events = None\n",
    "    view_DS = TraceViewer(source=source, name = 'LFP_DS')\n",
    "\n",
    "    #Parameters can be set in script\n",
    "    view_DS.params['display_labels'] = True\n",
    "    view_DS.params['scale_mode'] = 'same_for_all'\n",
    "    view_DS.auto_scale()\n",
    "\n",
    "    cmap = matplotlib.colormaps[\"hsv\"]#Wistia\"]\n",
    "    nCh = len(view_DS.by_channel_params.children())\n",
    "    for ch in range(nCh):\n",
    "        #view_DS.by_channel_params[f'ch{ch}', 'gain'] = 0.00002\n",
    "        #view_DS.by_channel_params[f'ch{ch}', 'offset'] = 0.1\n",
    "        view_DS.by_channel_params[f'ch{ch}', 'color'] = matplotlib.colors.to_hex(cmap(ch/nCh), keep_alpha=False)\n",
    "        pass\n",
    "\n",
    "    win.add_view(view_DS)\n",
    "else:\n",
    "    view_Events=None\n",
    "\n",
    "\n",
    "if 'NPX' in combined:\n",
    "    sig_source = SpikeInterfaceRecordingSource(recording=combined['NPX'])\n",
    "    #view3 = TraceViewer.from_numpy(combined['NPX'], sample_rates['NPX'], t_start['NPX'], 'NPX', channel_names=channelLabels['NPX'])\n",
    "    view3 = TraceViewer(source=sig_source, name='NPX')\n",
    "    win.add_view(view3)\n",
    "\n",
    "    #Parameters can be set in script\n",
    "    view3.params['display_labels'] = True\n",
    "    view3.params['scale_mode'] = 'same_for_all'\n",
    "    view3.auto_scale()\n",
    "\n",
    "    cmap = matplotlib.colormaps[\"hsv\"]#Wistia\"]\n",
    "    nCh = len(view3.by_channel_params.children())\n",
    "    for ch in range(nCh):\n",
    "        #view3.by_channel_params[f'ch{ch}', 'gain'] = 0.00002\n",
    "        #view3.by_channel_params[f'ch{ch}', 'offset'] = 0.1\n",
    "        view3.by_channel_params[f'ch{ch}', 'color'] = matplotlib.colors.to_hex(cmap(ch/nCh), keep_alpha=False)\n",
    "        pass\n",
    "\n",
    "if view_Events is not None:\n",
    "    win.add_view(view_Events)\n",
    "\n",
    "\n",
    "#Run\n",
    "win.show()\n",
    "#app.exec()  #if commented, the app is shown and fonctionnal. Maybe detecting buttons. the Python icon doesn't close any better"
   ]
  }
 ],
 "metadata": {
  "kernelspec": {
   "display_name": ".venv",
   "language": "python",
   "name": "python3"
  },
  "language_info": {
   "codemirror_mode": {
    "name": "ipython",
    "version": 3
   },
   "file_extension": ".py",
   "mimetype": "text/x-python",
   "name": "python",
   "nbconvert_exporter": "python",
   "pygments_lexer": "ipython3",
   "version": "3.11.9"
  },
  "orig_nbformat": 4
 },
 "nbformat": 4,
 "nbformat_minor": 2
}
