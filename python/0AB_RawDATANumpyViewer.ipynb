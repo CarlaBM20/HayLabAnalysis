{
 "cells": [
  {
   "cell_type": "markdown",
   "metadata": {},
   "source": [
    "# This is just a notebook to visualise 1kHz filtered raw data"
   ]
  },
  {
   "cell_type": "code",
   "execution_count": null,
   "metadata": {},
   "outputs": [],
   "source": [
    "import quantities as pq\n",
    "import numpy as np\n",
    "import neo\n",
    "from pathlib import Path\n",
    "import pandas as pd\n",
    "import matplotlib.pyplot as plt\n",
    "from matplotlib.widgets import Slider, Button, Cursor\n",
    "import scipy\n",
    "from scipy import interpolate\n",
    "from scipy import fftpack\n",
    "from scipy import signal\n",
    "import fnmatch\n",
    "import os\n",
    "import mmap\n",
    "import xarray as xr\n",
    "import dask.array as da\n",
    "%matplotlib widget\n",
    "from IPython.display import display\n",
    "from ipyfilechooser import FileChooser\n",
    "\n",
    "from ephyviewer import mkQApp, MainViewer, TraceViewer"
   ]
  },
  {
   "cell_type": "code",
   "execution_count": null,
   "metadata": {},
   "outputs": [],
   "source": [
    "def other_mmap(filename, shape, dtype, chunks):\n",
    "    with open(filename, \"rb\") as fh:\n",
    "        # `mmap` duplicates the file descriptor\n",
    "        # `0` means map the full file\n",
    "        mm = mmap.mmap(fh.fileno(), 0, access=mmap.ACCESS_READ)\n",
    "\n",
    "    # coerce to NumPy array of expected type and shape\n",
    "    a = np.asarray(mm).view(dtype).reshape(shape)\n",
    "\n",
    "    # Don't call `asarray`\n",
    "    # name=False to avoid hashing\n",
    "    a_d = da.from_array(a, chunks=chunks, asarray=False, name=False)\n",
    "    return a_d\n",
    "\n",
    "# Function to find files containing a specific string\n",
    "def find_files_with_string(folder_path, search_string):\n",
    "    matching_file = []\n",
    "    # Traverse the folder to find files\n",
    "    for root, _, files in os.walk(folder_path):\n",
    "        for file in files:\n",
    "            if fnmatch.fnmatch(file, f\"*{search_string}*\"):\n",
    "                matching_file=os.path.join(root, file)\n",
    "    return matching_file"
   ]
  },
  {
   "cell_type": "code",
   "execution_count": 22,
   "metadata": {},
   "outputs": [
    {
     "data": {
      "application/vnd.jupyter.widget-view+json": {
       "model_id": "b4d17dc9e42c43b48c8a485629546e0f",
       "version_major": 2,
       "version_minor": 0
      },
      "text/plain": [
       "FileChooser(path='\\\\10.69.168.1\\crnldata\\waking\\audrey_hay\\L1imaging\\AnalysedMarch2023\\Gaelle\\Baseline_recordi…"
      ]
     },
     "metadata": {},
     "output_type": "display_data"
    },
    {
     "name": "stdout",
     "output_type": "stream",
     "text": [
      "Stored 'dpath' (str)\n",
      "Stored 'dpath' (str)\n",
      "Stored 'dpath' (str)\n"
     ]
    }
   ],
   "source": [
    "dpath = \"//10.69.168.1/crnldata/waking/audrey_hay/L1imaging/AnalysedMarch2023/Gaelle/Baseline_recording\"\n",
    "try:\n",
    "    %store -r dpath\n",
    "except:\n",
    "    print(\"data not in strore\")\n",
    "    dpath =\"//10.69.168.1/crnldata/waking/audrey_hay/L1imaging/AnalysedMarch2023/Gaelle/Baseline_recording\"\n",
    "\n",
    "\n",
    "# Set up Initial Basic Parameters#\n",
    "minian_path = \".\"\n",
    "\n",
    "fc1 = FileChooser(dpath,select_default=True, show_only_dirs = True, title = \"<b>OpenEphys Folder</b>\")\n",
    "display(fc1)\n",
    "\n",
    "# Sample callback function\n",
    "def update_my_folder(chooser):\n",
    "    global dpath\n",
    "    dpath = chooser.selected\n",
    "    %store dpath\n",
    "    return \n",
    "\n",
    "# Register callback function\n",
    "fc1.register_callback(update_my_folder)"
   ]
  },
  {
   "cell_type": "markdown",
   "metadata": {},
   "source": [
    "Load LFPs data"
   ]
  },
  {
   "cell_type": "code",
   "execution_count": 25,
   "metadata": {},
   "outputs": [
    {
     "name": "stdout",
     "output_type": "stream",
     "text": [
      "File loaded: RawDataChannelExtractedDS.npy, 32 channels\n"
     ]
    },
    {
     "data": {
      "text/plain": [
       "(940555, 31)"
      ]
     },
     "execution_count": 25,
     "metadata": {},
     "output_type": "execute_result"
    }
   ],
   "source": [
    "folderpath = Path(dpath)\n",
    "numchannels=32\n",
    "\n",
    "if find_files_with_string(folderpath,  \".bin\"): #Bonsai\n",
    "    matching_file = find_files_with_string(folderpath, \".bin\")\n",
    "    All = np.fromfile(matching_file, dtype=np.uint16)\n",
    "    All = All - int(65535/2)\n",
    "    All = All.astype(np.int16)\n",
    "    if 'sommeil' in dpath:\n",
    "        numchannels=64\n",
    "    All = All.reshape(-1,numchannels)\n",
    "    print('File loaded: OE32channels.bin,', numchannels, 'channels')\n",
    "\n",
    "elif find_files_with_string(folderpath,  \"continuous.dat\"): #OpenEphys\n",
    "    matching_file = find_files_with_string(folderpath, \"continuous.dat\")\n",
    "    All = np.fromfile(matching_file, dtype=np.int16)\n",
    "\n",
    "    #All =np.memmap(matching_file, dtype='int16', mode='c')\n",
    "    \n",
    "    #All = All - int(65535/2)\n",
    "    #All = All.astype(np.int16)    \n",
    "    if 'sommeil' in dpath:\n",
    "        numchannels=64\n",
    "    All = All.reshape(-1,numchannels)\n",
    "    print('File loaded: continuous.dat,', numchannels, 'channels')\n",
    "\n",
    "elif find_files_with_string(folderpath,  \"RawDataChannelExtractedDS.npy\"): #OpenEphys Gaelle's Data\n",
    "    matching_file = find_files_with_string(folderpath, \"RawDataChannelExtractedDS.npy\")\n",
    "    All = np.load(matching_file, mmap_mode= 'r')\n",
    "    \n",
    "    #All = All.reshape(-1,numchannels)\n",
    "    print('File loaded: RawDataChannelExtractedDS.npy,', numchannels, 'channels')\n",
    "\n",
    "All.shape"
   ]
  },
  {
   "cell_type": "code",
   "execution_count": null,
   "metadata": {},
   "outputs": [],
   "source": [
    "All = np.fromfile(matching_file, dtype=np.int16)\n",
    "numchannels=64\n",
    "All = All.reshape(-1,numchannels)"
   ]
  },
  {
   "cell_type": "code",
   "execution_count": null,
   "metadata": {},
   "outputs": [],
   "source": [
    "#BOB\n",
    "S1=All[:, 5]-All[:,6]\n",
    "PFC=All[:, 2]-All[:,3]\n",
    "CA1=All[:, 29]-All[:,30]\n",
    "EMG=All[:,27]\n",
    "combined = np.stack([S1, PFC, CA1, EMG/10], axis = 1)"
   ]
  },
  {
   "cell_type": "code",
   "execution_count": null,
   "metadata": {},
   "outputs": [],
   "source": [
    "# Filtre parameter:\n",
    "f_lowcut = 1\n",
    "f_hicut = 50.\n",
    "fs = 1000\n",
    "nyq = 0.5 * fs\n",
    "N = 4                 # Filtre order\n",
    "Wn = [f_lowcut/nyq,f_hicut/nyq]  # Nyquist frequency fraction\n",
    "\n",
    "# Filtering:\n",
    "b, a = signal.butter(N, Wn, 'band')\n"
   ]
  },
  {
   "cell_type": "code",
   "execution_count": null,
   "metadata": {},
   "outputs": [],
   "source": [
    "#Blue\n",
    "PFC=All[:, 14]-All[:,15]\n",
    "PFC = signal.filtfilt(b, a, PFC)\n",
    "S1=All[:, 8]-All[:,9]\n",
    "S1 = signal.filtfilt(b, a, S1)\n",
    "EMG=All[:,20]\n",
    "combined = np.stack([S1,PFC, EMG/10], axis = 1)"
   ]
  },
  {
   "cell_type": "code",
   "execution_count": null,
   "metadata": {},
   "outputs": [],
   "source": [
    "#Pink\n",
    "PFC=All[:, 26+32]-All[:,27+32]\n",
    "EMG=All[:,9+32]\n",
    "S1=All[:, 0+32]-All[:,1+32]\n",
    "combined = np.stack([S1,PFC, EMG/10], axis = 1)"
   ]
  },
  {
   "cell_type": "markdown",
   "metadata": {},
   "source": [
    "Visualise All"
   ]
  },
  {
   "cell_type": "code",
   "execution_count": 26,
   "metadata": {},
   "outputs": [
    {
     "data": {
      "text/plain": [
       "0"
      ]
     },
     "execution_count": 26,
     "metadata": {},
     "output_type": "execute_result"
    }
   ],
   "source": [
    "from ephyviewer import mkQApp, MainViewer, TraceViewer, TimeFreqViewer\n",
    "from ephyviewer import InMemoryAnalogSignalSource\n",
    "import ephyviewer\n",
    "\n",
    "app = mkQApp()\n",
    "\n",
    "sample_rate = 1000.\n",
    "t_start = 0.\n",
    "\n",
    "#Create the main window that can contain several viewers\n",
    "\n",
    "win = MainViewer()\n",
    "view1 = TraceViewer.from_numpy(All, sample_rate, t_start, 'Signals')\n",
    "#add them to mainwindow\n",
    "\n",
    "view1.params['display_labels'] = True\n",
    "view1.params['scale_mode'] = 'same_for_all'\n",
    "view1.auto_scale()\n",
    "\n",
    "win.add_view(view1)\n",
    "\n",
    "\n",
    "#Run\n",
    "win.show()\n",
    "app.exec_()\n"
   ]
  },
  {
   "cell_type": "code",
   "execution_count": null,
   "metadata": {},
   "outputs": [],
   "source": [
    "from ephyviewer import mkQApp, MainViewer, TraceViewer, TimeFreqViewer\n",
    "from ephyviewer import InMemoryAnalogSignalSource\n",
    "import ephyviewer\n",
    "\n",
    "app = mkQApp()\n",
    "\n",
    "sample_rate = 1000.\n",
    "t_start = 0.\n",
    "\n",
    "#Create the main window that can contain several viewers\n",
    "\n",
    "win = MainViewer()\n",
    "#view1 = TraceViewer.from_numpy(All, sample_rate, t_start, 'Signals')\n",
    "\n",
    "source = InMemoryAnalogSignalSource(combined, sample_rate, t_start)\n",
    "view1 = TraceViewer(source=source, name='trace')\n",
    "\n",
    "view1.params['display_labels'] = True\n",
    "view1.params['scale_mode'] = 'same_for_all'\n",
    "view1.auto_scale()\n",
    "\n",
    "#create a time freq viewer conencted to the same source\n",
    "view2 = TimeFreqViewer(source=source, name='tfr')\n",
    "\n",
    "view2.params['show_axis'] = True\n",
    "view2.params['timefreq', 'deltafreq'] = 1\n",
    "view2.params['timefreq', 'f_stop'] = 200\n",
    "#view2.by_channel_params['ch0', 'timefreq', 'f_stop'] = 20\n",
    "#view2.by_channel_params['ch1', 'timefreq', 'f_stop'] = 150\n",
    "view2.by_channel_params['ch0', 'visible'] = False\n",
    "view2.by_channel_params['ch1', 'visible'] = True\n",
    "view2.by_channel_params['ch1', 'clim'] = 100\n",
    "\n",
    "#add them to mainwindow\n",
    "win.add_view(view1)\n",
    "win.add_view(view2)\n",
    "\n",
    "\n",
    "#Run\n",
    "win.show()\n",
    "app.exec_()\n"
   ]
  }
 ],
 "metadata": {
  "kernelspec": {
   "display_name": "Python 3.9.12 ('formation')",
   "language": "python",
   "name": "python3"
  },
  "language_info": {
   "codemirror_mode": {
    "name": "ipython",
    "version": 3
   },
   "file_extension": ".py",
   "mimetype": "text/x-python",
   "name": "python",
   "nbconvert_exporter": "python",
   "pygments_lexer": "ipython3",
   "version": "3.11.7"
  },
  "orig_nbformat": 4,
  "vscode": {
   "interpreter": {
    "hash": "984d3fbee8ffa490637705ae3d7233e001ab0304f3daaca07b5aa8569b88ca53"
   }
  }
 },
 "nbformat": 4,
 "nbformat_minor": 2
}
