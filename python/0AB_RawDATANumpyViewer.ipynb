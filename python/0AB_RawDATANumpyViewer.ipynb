{
 "cells": [
  {
   "cell_type": "markdown",
   "metadata": {},
   "source": [
    "# This is just a notebook to visualise 1kHz filtered raw data"
   ]
  },
  {
   "cell_type": "code",
   "execution_count": 1,
   "metadata": {},
   "outputs": [
    {
     "name": "stdout",
     "output_type": "stream",
     "text": [
      "\\\\10.69.168.1\\crnldata\\waking\\audrey_hay\\L1imaging\\AnalysedMarch2023\n"
     ]
    }
   ],
   "source": [
    "cd \"//10.69.168.1/crnldata/waking/audrey_hay/L1imaging/AnalysedMarch2023/\""
   ]
  },
  {
   "cell_type": "code",
   "execution_count": 36,
   "metadata": {},
   "outputs": [],
   "source": [
    "import quantities as pq\n",
    "import numpy as np\n",
    "import neo\n",
    "from pathlib import Path\n",
    "import pandas as pd\n",
    "import matplotlib.pyplot as plt\n",
    "from matplotlib.widgets import Slider, Button, Cursor\n",
    "import scipy\n",
    "from scipy import interpolate\n",
    "from scipy import fftpack\n",
    "from scipy import signal\n",
    "import fnmatch\n",
    "import os\n",
    "import mmap\n",
    "import xarray as xr\n",
    "import dask.array as da\n",
    "%matplotlib widget\n",
    "from IPython.display import display\n",
    "from ipyfilechooser import FileChooser\n",
    "\n",
    "from ephyviewer import mkQApp, MainViewer, TraceViewer"
   ]
  },
  {
   "cell_type": "code",
   "execution_count": 57,
   "metadata": {},
   "outputs": [],
   "source": [
    "def other_mmap(filename, shape, dtype, chunks):\n",
    "    with open(filename, \"rb\") as fh:\n",
    "        # `mmap` duplicates the file descriptor\n",
    "        # `0` means map the full file\n",
    "        mm = mmap.mmap(fh.fileno(), 0, access=mmap.ACCESS_READ)\n",
    "\n",
    "    # coerce to NumPy array of expected type and shape\n",
    "    a = np.asarray(mm).view(dtype).reshape(shape)\n",
    "\n",
    "    # Don't call `asarray`\n",
    "    # name=False to avoid hashing\n",
    "    a_d = da.from_array(a, chunks=chunks, asarray=False, name=False)\n",
    "    return a_d\n",
    "\n",
    "# Function to find files containing a specific string\n",
    "def find_files_with_string(folder_path, search_string):\n",
    "    matching_file = []\n",
    "    # Traverse the folder to find files\n",
    "    for root, _, files in os.walk(folder_path):\n",
    "        for file in files:\n",
    "            if fnmatch.fnmatch(file, f\"*{search_string}*\"):\n",
    "                matching_file=os.path.join(root, file)\n",
    "    return matching_file"
   ]
  },
  {
   "cell_type": "code",
   "execution_count": 45,
   "metadata": {},
   "outputs": [
    {
     "data": {
      "application/vnd.jupyter.widget-view+json": {
       "model_id": "864ac649d78240669097d0b8190a3aab",
       "version_major": 2,
       "version_minor": 0
      },
      "text/plain": [
       "FileChooser(path='C:\\Users\\Manip2\\DATA\\CamilleData\\enregistrements\\22.04\\cheeseboard blue\\trial 8.1', filename…"
      ]
     },
     "metadata": {},
     "output_type": "display_data"
    },
    {
     "name": "stdout",
     "output_type": "stream",
     "text": [
      "Stored 'dpath' (str)\n",
      "Stored 'dpath' (str)\n"
     ]
    }
   ],
   "source": [
    "dpath = \"//10.69.168.1/crnldata/waking/audrey_hay/L1imaging/AnalysedMarch2023/Gaelle/Baseline_recording\"\n",
    "try:\n",
    "    %store -r dpath\n",
    "except:\n",
    "    print(\"data not in strore\")\n",
    "    dpath =\"//10.69.168.1/crnldata/waking/audrey_hay/L1imaging/AnalysedMarch2023/Gaelle/Baseline_recording\"\n",
    "\n",
    "# Set up Initial Basic Parameters#\n",
    "minian_path = \".\"\n",
    "\n",
    "fc1 = FileChooser(dpath,select_default=True, show_only_dirs = True, title = \"<b>Folder with videos</b>\")\n",
    "display(fc1)\n",
    "\n",
    "# Sample callback function\n",
    "def update_my_folder(chooser):\n",
    "    global dpath\n",
    "    dpath = chooser.selected\n",
    "    %store dpath\n",
    "    return \n",
    "\n",
    "# Register callback function\n",
    "fc1.register_callback(update_my_folder)"
   ]
  },
  {
   "cell_type": "markdown",
   "metadata": {},
   "source": [
    "Load LFPs data"
   ]
  },
  {
   "cell_type": "code",
   "execution_count": 64,
   "metadata": {},
   "outputs": [
    {
     "name": "stdout",
     "output_type": "stream",
     "text": [
      "File loaded: OE32channels.bin\n"
     ]
    }
   ],
   "source": [
    "folderpath = Path(dpath)\n",
    "\n",
    "if find_files_with_string(folderpath,  \".bin\"): #Bonsai\n",
    "    matching_file = find_files_with_string(folderpath, \".bin\")\n",
    "    All = np.fromfile(matching_file, dtype=\"int16\")\n",
    "    All = All.reshape(-1,32)\n",
    "    print('File loaded: OE32channels.bin')\n",
    "elif find_files_with_string(folderpath,  \"continuous.dat\"): #OpenEphys\n",
    "    matching_file = find_files_with_string(folderpath, \"continuous.dat\")\n",
    "    All = np.fromfile(matching_file, dtype=\"int16\")\n",
    "    All = All.reshape(-1,64)\n",
    "    print('File loaded: continuous.dat')\n",
    "elif find_files_with_string(folderpath,  \"RawDataChannelExtractedDS.npy\"): #OpenEphys Gaelle's Data\n",
    "    matching_file = find_files_with_string(folderpath, \"RawDataChannelExtractedDS.npy\")\n",
    "    All = np.load(matching_file, mmap_mode= 'r')\n",
    "    All = All.reshape(-1,32)\n",
    "    print('File loaded: RawDataChannelExtractedDS.npy')"
   ]
  },
  {
   "cell_type": "markdown",
   "metadata": {},
   "source": [
    "Visualise All"
   ]
  },
  {
   "cell_type": "code",
   "execution_count": 65,
   "metadata": {},
   "outputs": [
    {
     "data": {
      "text/plain": [
       "0"
      ]
     },
     "execution_count": 65,
     "metadata": {},
     "output_type": "execute_result"
    }
   ],
   "source": [
    "app = mkQApp()\n",
    "\n",
    "sample_rate = 1000.\n",
    "t_start = 0.\n",
    "\n",
    "#Create the main window that can contain several viewers\n",
    "win = MainViewer()\n",
    "view1 = TraceViewer.from_numpy(All, sample_rate, t_start, 'Signals')\n",
    "\n",
    "view1.params['display_labels'] = True\n",
    "view1.params['scale_mode'] = 'same_for_all'\n",
    "view1.auto_scale()\n",
    "\n",
    "win.add_view(view1)\n",
    "\n",
    "#Run\n",
    "win.show()\n",
    "app.exec_()\n"
   ]
  }
 ],
 "metadata": {
  "kernelspec": {
   "display_name": "Python 3.9.12 ('formation')",
   "language": "python",
   "name": "python3"
  },
  "language_info": {
   "codemirror_mode": {
    "name": "ipython",
    "version": 3
   },
   "file_extension": ".py",
   "mimetype": "text/x-python",
   "name": "python",
   "nbconvert_exporter": "python",
   "pygments_lexer": "ipython3",
   "version": "3.11.7"
  },
  "orig_nbformat": 4,
  "vscode": {
   "interpreter": {
    "hash": "984d3fbee8ffa490637705ae3d7233e001ab0304f3daaca07b5aa8569b88ca53"
   }
  }
 },
 "nbformat": 4,
 "nbformat_minor": 2
}
