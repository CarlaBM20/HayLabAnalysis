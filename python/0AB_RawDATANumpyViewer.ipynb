{
 "cells": [
  {
   "cell_type": "markdown",
   "metadata": {},
   "source": [
    "# This is just a notebook to visualise 1kHz filtered raw data"
   ]
  },
  {
   "cell_type": "code",
   "execution_count": 2,
   "metadata": {},
   "outputs": [],
   "source": [
    "import quantities as pq\n",
    "import numpy as np\n",
    "import neo\n",
    "from pathlib import Path\n",
    "import pandas as pd\n",
    "import matplotlib.pyplot as plt\n",
    "from matplotlib.widgets import Slider, Button, Cursor\n",
    "import scipy\n",
    "from scipy import interpolate\n",
    "from scipy import fftpack\n",
    "from scipy import signal\n",
    "import fnmatch\n",
    "import os\n",
    "import mmap\n",
    "import xarray as xr\n",
    "import dask.array as da\n",
    "%matplotlib widget\n",
    "from IPython.display import display\n",
    "from ipyfilechooser import FileChooser\n",
    "\n",
    "from ephyviewer import mkQApp, MainViewer, TraceViewer"
   ]
  },
  {
   "cell_type": "code",
   "execution_count": 3,
   "metadata": {},
   "outputs": [],
   "source": [
    "def other_mmap(filename, shape, dtype, chunks):\n",
    "    with open(filename, \"rb\") as fh:\n",
    "        # `mmap` duplicates the file descriptor\n",
    "        # `0` means map the full file\n",
    "        mm = mmap.mmap(fh.fileno(), 0, access=mmap.ACCESS_READ)\n",
    "\n",
    "    # coerce to NumPy array of expected type and shape\n",
    "    a = np.asarray(mm).view(dtype).reshape(shape)\n",
    "\n",
    "    # Don't call `asarray`\n",
    "    # name=False to avoid hashing\n",
    "    a_d = da.from_array(a, chunks=chunks, asarray=False, name=False)\n",
    "    return a_d\n",
    "\n",
    "# Function to find files containing a specific string\n",
    "def find_files_with_string(folder_path, search_string):\n",
    "    matching_file = []\n",
    "    # Traverse the folder to find files\n",
    "    for root, _, files in os.walk(folder_path):\n",
    "        for file in files:\n",
    "            if fnmatch.fnmatch(file, f\"*{search_string}*\"):\n",
    "                matching_file=os.path.join(root, file)\n",
    "    return matching_file"
   ]
  },
  {
   "cell_type": "code",
   "execution_count": 4,
   "metadata": {},
   "outputs": [
    {
     "data": {
      "application/vnd.jupyter.widget-view+json": {
       "model_id": "c20ac70c94fc445db7d9845d99e41807",
       "version_major": 2,
       "version_minor": 0
      },
      "text/plain": [
       "FileChooser(path='\\\\10.69.168.1\\crnldata\\waking\\audrey_hay\\CamilleData\\enregistrements\\22.04\\sommeil avant\\Rec…"
      ]
     },
     "metadata": {},
     "output_type": "display_data"
    },
    {
     "name": "stdout",
     "output_type": "stream",
     "text": [
      "Stored 'dpath' (str)\n",
      "Stored 'dpath' (str)\n",
      "Stored 'dpath' (str)\n",
      "Stored 'dpath' (str)\n",
      "Stored 'dpath' (str)\n",
      "Stored 'dpath' (str)\n",
      "Stored 'dpath' (str)\n"
     ]
    }
   ],
   "source": [
    "dpath = \"//10.69.168.1/crnldata/waking/audrey_hay/L1imaging/AnalysedMarch2023/Gaelle/Baseline_recording\"\n",
    "try:\n",
    "    %store -r dpath\n",
    "except:\n",
    "    print(\"data not in strore\")\n",
    "    dpath =\"//10.69.168.1/crnldata/waking/audrey_hay/L1imaging/AnalysedMarch2023/Gaelle/Baseline_recording\"\n",
    "\n",
    "\n",
    "# Set up Initial Basic Parameters#\n",
    "minian_path = \".\"\n",
    "\n",
    "fc1 = FileChooser(dpath,select_default=True, show_only_dirs = True, title = \"<b>OpenEphys Folder</b>\")\n",
    "display(fc1)\n",
    "\n",
    "# Sample callback function\n",
    "def update_my_folder(chooser):\n",
    "    global dpath\n",
    "    dpath = chooser.selected\n",
    "    %store dpath\n",
    "    return \n",
    "\n",
    "# Register callback function\n",
    "fc1.register_callback(update_my_folder)"
   ]
  },
  {
   "cell_type": "markdown",
   "metadata": {},
   "source": [
    "Load LFPs data"
   ]
  },
  {
   "cell_type": "code",
   "execution_count": 55,
   "metadata": {},
   "outputs": [
    {
     "name": "stdout",
     "output_type": "stream",
     "text": [
      "File loaded: continuous.dat, 64 channels\n"
     ]
    },
    {
     "data": {
      "text/plain": [
       "(3224948, 64)"
      ]
     },
     "execution_count": 55,
     "metadata": {},
     "output_type": "execute_result"
    }
   ],
   "source": [
    "folderpath = Path(dpath)\n",
    "numchannels=32\n",
    "\n",
    "if find_files_with_string(folderpath,  \".bin\"): #Bonsai\n",
    "    matching_file = find_files_with_string(folderpath, \".bin\")\n",
    "    All = np.fromfile(matching_file, dtype=np.uint16)\n",
    "    All = All - int(65535/2)\n",
    "    All = All.astype(np.int16)\n",
    "    if 'sommeil' in dpath:\n",
    "        numchannels=64\n",
    "    All = All.reshape(-1,numchannels)\n",
    "    print('File loaded: OE32channels.bin,', numchannels, 'channels')\n",
    "\n",
    "elif find_files_with_string(folderpath,  \"continuous.dat\"): #OpenEphys\n",
    "    matching_file = find_files_with_string(folderpath, \"continuous.dat\")\n",
    "    All = np.fromfile(matching_file, dtype=np.int16)\n",
    "\n",
    "    #All =np.memmap(matching_file, dtype='int16', mode='c')\n",
    "    \n",
    "    #All = All - int(65535/2)\n",
    "    #All = All.astype(np.int16)    \n",
    "    if 'sommeil' in dpath:\n",
    "        numchannels=64\n",
    "    All = All.reshape(-1,numchannels)\n",
    "    print('File loaded: continuous.dat,', numchannels, 'channels')\n",
    "\n",
    "elif find_files_with_string(folderpath,  \"RawDataChannelExtractedDS.npy\"): #OpenEphys Gaelle's Data\n",
    "    matching_file = find_files_with_string(folderpath, \"RawDataChannelExtractedDS.npy\")\n",
    "    All = np.load(matching_file, mmap_mode= 'r')\n",
    "    \n",
    "    All = All.reshape(-1,numchannels)\n",
    "    print('File loaded: RawDataChannelExtractedDS.npy,', numchannels, 'channels')\n",
    "\n",
    "All.shape"
   ]
  },
  {
   "cell_type": "code",
   "execution_count": 43,
   "metadata": {},
   "outputs": [],
   "source": [
    "All = np.fromfile(matching_file, dtype=np.int16)\n",
    "numchannels=64\n",
    "All = All.reshape(-1,numchannels)"
   ]
  },
  {
   "cell_type": "code",
   "execution_count": 19,
   "metadata": {},
   "outputs": [],
   "source": [
    "#BOB\n",
    "S1=All[:, 5]-All[:,6]\n",
    "PFC=All[:, 2]-All[:,3]\n",
    "CA1=All[:, 29]-All[:,30]\n",
    "EMG=All[:,27]\n",
    "combined = np.stack([S1, PFC, CA1, EMG/10], axis = 1)"
   ]
  },
  {
   "cell_type": "code",
   "execution_count": 73,
   "metadata": {},
   "outputs": [],
   "source": [
    "# Filtre parameter:\n",
    "f_lowcut = 1\n",
    "f_hicut = 50.\n",
    "fs = 1000\n",
    "nyq = 0.5 * fs\n",
    "N = 4                 # Filtre order\n",
    "Wn = [f_lowcut/nyq,f_hicut/nyq]  # Nyquist frequency fraction\n",
    "\n",
    "# Filtering:\n",
    "b, a = signal.butter(N, Wn, 'band')\n"
   ]
  },
  {
   "cell_type": "code",
   "execution_count": 74,
   "metadata": {},
   "outputs": [],
   "source": [
    "#Blue\n",
    "PFC=All[:, 14]-All[:,15]\n",
    "PFC = signal.filtfilt(b, a, PFC)\n",
    "S1=All[:, 8]-All[:,9]\n",
    "S1 = signal.filtfilt(b, a, S1)\n",
    "EMG=All[:,20]\n",
    "combined = np.stack([S1,PFC, EMG/10], axis = 1)"
   ]
  },
  {
   "cell_type": "code",
   "execution_count": 50,
   "metadata": {},
   "outputs": [],
   "source": [
    "#Pink\n",
    "PFC=All[:, 26+32]-All[:,27+32]\n",
    "EMG=All[:,9+32]\n",
    "S1=All[:, 0+32]-All[:,1+32]\n",
    "combined = np.stack([S1,PFC, EMG/10], axis = 1)"
   ]
  },
  {
   "cell_type": "markdown",
   "metadata": {},
   "source": [
    "Visualise All"
   ]
  },
  {
   "cell_type": "code",
   "execution_count": 38,
   "metadata": {},
   "outputs": [
    {
     "data": {
      "text/plain": [
       "0"
      ]
     },
     "execution_count": 38,
     "metadata": {},
     "output_type": "execute_result"
    }
   ],
   "source": [
    "from ephyviewer import mkQApp, MainViewer, TraceViewer, TimeFreqViewer\n",
    "from ephyviewer import InMemoryAnalogSignalSource\n",
    "import ephyviewer\n",
    "\n",
    "app = mkQApp()\n",
    "\n",
    "sample_rate = 1000.\n",
    "t_start = 0.\n",
    "\n",
    "#Create the main window that can contain several viewers\n",
    "\n",
    "win = MainViewer()\n",
    "view1 = TraceViewer.from_numpy(All, sample_rate, t_start, 'Signals')\n",
    "#add them to mainwindow\n",
    "\n",
    "view1.params['display_labels'] = True\n",
    "view1.params['scale_mode'] = 'same_for_all'\n",
    "view1.auto_scale()\n",
    "\n",
    "win.add_view(view1)\n",
    "\n",
    "\n",
    "#Run\n",
    "win.show()\n",
    "app.exec_()\n"
   ]
  },
  {
   "cell_type": "code",
   "execution_count": 75,
   "metadata": {},
   "outputs": [
    {
     "name": "stdout",
     "output_type": "stream",
     "text": [
      "viewer has moved already 1 38.699376 29.024531999999997\n",
      "viewer has moved already 1 67.723908 58.049063999999994\n",
      "viewer has moved already 1 96.74843999999999 87.073596\n",
      "viewer has moved already 1 174.147192 154.797504\n",
      "viewer has moved already 1 174.147192 164.47234799999998\n",
      "viewer has moved already 1 222.521412 203.17172399999998\n",
      "viewer has moved already 1 222.521412 212.846568\n",
      "viewer has moved already 1 280.570476 251.545944\n",
      "viewer has moved already 1 280.570476 261.22078799999997\n",
      "viewer has moved already 1 280.570476 270.895632\n",
      "viewer has moved already 1 338.61954 309.595008\n",
      "viewer has moved already 1 338.61954 328.94469599999996\n",
      "viewer has moved already 1 396.66860399999996 367.644072\n",
      "viewer has moved already 1 396.66860399999996 377.318916\n",
      "viewer has moved already 1 396.66860399999996 386.99375999999995\n",
      "viewer has moved already 1 445.042824 425.693136\n",
      "viewer has moved already 1 445.042824 435.36798\n",
      "viewer has moved already 1 503.091888 474.06735599999996\n",
      "viewer has moved already 1 503.091888 483.74219999999997\n",
      "viewer has moved already 1 503.091888 493.417044\n",
      "viewer has moved already 1 557.9160039999999 528.891472\n",
      "viewer has moved already 1 557.9160039999999 538.566316\n",
      "viewer has moved already 1 606.290224 577.265692\n",
      "viewer has moved already 1 606.290224 586.940536\n",
      "viewer has moved already 1 606.290224 596.61538\n",
      "viewer has moved already 1 654.664444 635.314756\n",
      "viewer has moved already 1 654.664444 644.9896\n",
      "viewer has moved already 1 674.0141319999999 664.3392879999999\n",
      "viewer has moved already 1 712.7135079999999 693.3638199999999\n",
      "viewer has moved already 1 712.7135079999999 703.0386639999999\n",
      "viewer has moved already 1 732.063196 722.3883519999999\n",
      "viewer has moved already 1 770.762572 751.412884\n",
      "viewer has moved already 1 770.762572 761.087728\n",
      "viewer has moved already 1 790.11226 780.437416\n",
      "viewer has moved already 1 819.136792 809.461948\n",
      "viewer has moved already 1 896.5355440000001 857.836168\n",
      "viewer has moved already 1 896.5355440000001 867.511012\n",
      "viewer has moved already 1 896.5355440000001 877.1858560000001\n",
      "viewer has moved already 1 896.5355440000001 886.8607000000001\n",
      "viewer has moved already 1 925.5600759999999 915.8852319999999\n",
      "viewer has moved already 1 944.9097639999999 935.2349199999999\n",
      "viewer has moved already 1 993.2839839999999 964.2594519999999\n",
      "viewer has moved already 1 993.2839839999999 973.9342959999999\n",
      "viewer has moved already 1 993.2839839999999 983.6091399999999\n",
      "viewer has moved already 1 1041.658204 1022.3085159999999\n",
      "viewer has moved already 1 1041.658204 1031.98336\n",
      "viewer has moved already 1 1099.707268 1070.682736\n",
      "viewer has moved already 1 1099.707268 1080.35758\n",
      "viewer has moved already 1 1099.707268 1090.032424\n",
      "viewer has moved already 1 1148.0814879999998 1128.7317999999998\n",
      "viewer has moved already 1 1148.0814879999998 1138.406644\n",
      "viewer has moved already 1 1167.4311759999998 1157.756332\n",
      "viewer has moved already 1 1222.255292 1186.7808639999998\n",
      "viewer has moved already 1 1222.255292 1193.23076\n",
      "viewer has moved already 1 1222.255292 1202.905604\n",
      "viewer has moved already 1 1222.255292 1212.580448\n",
      "viewer has moved already 1 1270.629512 1241.60498\n",
      "viewer has moved already 1 1270.629512 1251.279824\n",
      "viewer has moved already 1 1270.629512 1260.954668\n",
      "viewer has moved already 1 1270.629512 1251.279824\n",
      "viewer has moved already 1 1270.629512 1260.954668\n",
      "viewer has moved already 1 2041.3920839999998 2031.71724\n",
      "viewer has moved already 1 2260.6885479999996 2251.013704\n",
      "viewer has moved already 1 2309.062768 2289.71308\n",
      "viewer has moved already 1 2309.062768 2299.3879239999997\n",
      "viewer has moved already 1 2347.762144 2338.0872999999997\n",
      "viewer has moved already 1 2386.46152 2376.7866759999997\n",
      "viewer has moved already 1 2405.811208 2396.136364\n",
      "viewer has moved already 1 2473.535116 2454.185428\n",
      "viewer has moved already 1 2473.535116 2463.860272\n",
      "viewer has moved already 1 2512.234492 2502.559648\n",
      "viewer has moved already 1 2541.259024 2521.909336\n",
      "viewer has moved already 1 2541.259024 2531.58418\n",
      "viewer has moved already 1 2579.9584 2560.608712\n",
      "viewer has moved already 1 2579.9584 2570.283556\n",
      "viewer has moved already 1 2599.308088 2589.633244\n",
      "viewer has moved already 1 2638.007464 2618.657776\n",
      "viewer has moved already 1 2638.007464 2628.3326199999997\n",
      "viewer has moved already 1 2667.0319959999997 2657.3571519999996\n",
      "viewer has moved already 1 2715.406216 2705.7313719999997\n",
      "viewer has moved already 1 2754.105592 2744.4307479999998\n",
      "viewer has moved already 1 2763.780436 2773.4552799999997\n",
      "viewer has moved already 1 2725.08106 2734.7559039999996\n",
      "viewer has moved already 1 2705.7313719999997 2715.406216\n",
      "viewer has moved already 1 2744.4307479999998 2725.08106\n",
      "viewer has moved already 1 2744.4307479999998 2734.7559039999996\n",
      "viewer has moved already 1 2763.780436 2754.105592\n",
      "viewer has moved already 1 2802.479812 2783.130124\n",
      "viewer has moved already 1 2802.479812 2792.804968\n",
      "viewer has moved already 1 2850.8540319999997 2831.504344\n",
      "viewer has moved already 1 2850.8540319999997 2841.179188\n",
      "viewer has moved already 1 2908.903096 2879.878564\n",
      "viewer has moved already 1 2908.903096 2889.5534079999998\n",
      "viewer has moved already 1 2908.903096 2899.228252\n",
      "viewer has moved already 1 2937.927628 2928.252784\n",
      "viewer has moved already 1 2944.377524 2928.252784\n",
      "viewer has moved already 1 2944.377524 2934.70268\n",
      "viewer has moved already 1 2983.0769 2963.727212\n",
      "viewer has moved already 1 2983.0769 2973.402056\n",
      "viewer has moved already 1 3018.551328 3008.876484\n",
      "viewer has moved already 1 3037.901016 3028.2261719999997\n",
      "viewer has moved already 1 3076.600392 3057.2507039999996\n",
      "viewer has moved already 1 3076.600392 3066.9255479999997\n",
      "viewer has moved already 1 3124.974612 3105.6249239999997\n",
      "viewer has moved already 1 3124.974612 3115.299768\n",
      "viewer has moved already 1 3183.023676 3153.999144\n",
      "viewer has moved already 1 3183.023676 3163.673988\n",
      "viewer has moved already 1 3183.023676 3173.3488319999997\n",
      "viewer has moved already 1 3224.948 3202.373364\n",
      "viewer has moved already 1 3224.948 3212.0482079999997\n",
      "viewer has moved already 1 3224.948 3221.723052\n",
      "viewer has moved already 1 3186.248624 3205.5983119999996\n",
      "viewer has moved already 1 3186.248624 3195.923468\n",
      "viewer has moved already 1 3134.6494559999996 3153.999144\n",
      "viewer has moved already 1 3134.6494559999996 3144.3242999999998\n"
     ]
    },
    {
     "data": {
      "text/plain": [
       "0"
      ]
     },
     "execution_count": 75,
     "metadata": {},
     "output_type": "execute_result"
    }
   ],
   "source": [
    "from ephyviewer import mkQApp, MainViewer, TraceViewer, TimeFreqViewer\n",
    "from ephyviewer import InMemoryAnalogSignalSource\n",
    "import ephyviewer\n",
    "\n",
    "app = mkQApp()\n",
    "\n",
    "sample_rate = 1000.\n",
    "t_start = 0.\n",
    "\n",
    "#Create the main window that can contain several viewers\n",
    "\n",
    "win = MainViewer()\n",
    "#view1 = TraceViewer.from_numpy(All, sample_rate, t_start, 'Signals')\n",
    "\n",
    "source = InMemoryAnalogSignalSource(combined, sample_rate, t_start)\n",
    "view1 = TraceViewer(source=source, name='trace')\n",
    "\n",
    "view1.params['display_labels'] = True\n",
    "view1.params['scale_mode'] = 'same_for_all'\n",
    "view1.auto_scale()\n",
    "\n",
    "#create a time freq viewer conencted to the same source\n",
    "view2 = TimeFreqViewer(source=source, name='tfr')\n",
    "\n",
    "view2.params['show_axis'] = True\n",
    "view2.params['timefreq', 'deltafreq'] = 1\n",
    "view2.params['timefreq', 'f_stop'] = 200\n",
    "#view2.by_channel_params['ch0', 'timefreq', 'f_stop'] = 20\n",
    "#view2.by_channel_params['ch1', 'timefreq', 'f_stop'] = 150\n",
    "view2.by_channel_params['ch0', 'visible'] = False\n",
    "view2.by_channel_params['ch1', 'visible'] = True\n",
    "view2.by_channel_params['ch1', 'clim'] = 100\n",
    "\n",
    "#add them to mainwindow\n",
    "win.add_view(view1)\n",
    "win.add_view(view2)\n",
    "\n",
    "\n",
    "#Run\n",
    "win.show()\n",
    "app.exec_()\n"
   ]
  }
 ],
 "metadata": {
  "kernelspec": {
   "display_name": "Python 3.9.12 ('formation')",
   "language": "python",
   "name": "python3"
  },
  "language_info": {
   "codemirror_mode": {
    "name": "ipython",
    "version": 3
   },
   "file_extension": ".py",
   "mimetype": "text/x-python",
   "name": "python",
   "nbconvert_exporter": "python",
   "pygments_lexer": "ipython3",
   "version": "3.11.7"
  },
  "orig_nbformat": 4,
  "vscode": {
   "interpreter": {
    "hash": "984d3fbee8ffa490637705ae3d7233e001ab0304f3daaca07b5aa8569b88ca53"
   }
  }
 },
 "nbformat": 4,
 "nbformat_minor": 2
}
