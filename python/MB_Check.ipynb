{
 "cells": [
  {
   "cell_type": "markdown",
   "metadata": {},
   "source": [
    "# This is a notebook to import ONIX system data"
   ]
  },
  {
   "cell_type": "code",
   "execution_count": 1,
   "metadata": {},
   "outputs": [],
   "source": [
    "import numpy as np\n",
    "import pandas as pd\n",
    "import os\n",
    "from pathlib import Path\n",
    "import matplotlib.pyplot as plt"
   ]
  },
  {
   "cell_type": "markdown",
   "metadata": {},
   "source": [
    "By default, data is saved at the path C:\\Users\\Manip1\\Documents\\data\\\n",
    "in a folder named \"Expe_timestamp\"\n",
    "\n",
    "11 files can be saved at most:\n",
    "- from the miniscope:\n",
    "    - frames:\n",
    "    - timestamps: miniscopeTS_{timestamp}.csv\n",
    "    - head rotation: heading_{timestamp}.csv\n",
    "- from openePhys:\n",
    "    - data: OE_32ch_data_{timestamp}.bin\n",
    "    - timestamps: OE_32ch_timestamps_{timestamp}.bin\n",
    "- from Neuropixel:\n",
    "    - NP_FrameCounter_{timestamp}.raw\n",
    "    - NP_LFPdata_{timestamp}.raw\n",
    "    - NP_LFPtimestamps_{timestamp}.raw\n",
    "    - NP_spikes_{timestamp}.raw\n",
    "    - NP_timestamps_{timestamp}.raw\n",
    "- from the webcam:\n",
    "    - frames: webcam_video_{timestamp}.avi\n",
    "    - timestamps: webcam_timestamps_{timestamp}.csv\n",
    "    "
   ]
  },
  {
   "cell_type": "code",
   "execution_count": 5,
   "metadata": {},
   "outputs": [
    {
     "name": "stdout",
     "output_type": "stream",
     "text": [
      "2024-03-04T18-04-10\n"
     ]
    }
   ],
   "source": [
    "pathname = r\"C:\\Users\\Manip1\\Documents\\data\"\n",
    "timeStamp = \"2024-03-04_18-04-10\"\n",
    "expeFolder = \"Expe_{}\".format(timeStamp)\n",
    "\n",
    "tsFiles = timeStamp[:10] + \"T\" + timeStamp[11:]\n",
    "\n",
    "print(tsFiles)\n",
    "fileBaseNames = dict(\n",
    "    miniscopeIMG = \"miniscopeFrame_\",\n",
    "    miniscopeTS = \"miniscopeTS_\",\n",
    "    miniscopeHead = \"heading_\",\n",
    "    OEData = \"OE_32ch_data_\",\n",
    "    OETS = \"OE_32ch_timestamps_\",\n",
    "    NP_FrameCounter = \"NP_FrameCounter_\",\n",
    "    NP_LFPdata = \"NP_LFPdata_\",\n",
    "    NP_LFPTS = \"NP_LFPtimestamps_\",\n",
    "    NP_spk = \"NP_spikes_\",\n",
    "    NP_spkTS = \"NP_timestamps_\",\n",
    "    webcamIMG = \"webcam_video_\",\n",
    "    webcamTS = \"webcam_timestamps_\"\n",
    ")"
   ]
  },
  {
   "cell_type": "code",
   "execution_count": 8,
   "metadata": {},
   "outputs": [
    {
     "name": "stdout",
     "output_type": "stream",
     "text": [
      "headingTS_2024-03-04T18_04_10.csv\n",
      "                                     ts\n",
      "0   2024-03-04 18:04:10.340377600+01:00\n",
      "1   2024-03-04 18:04:10.484748800+01:00\n",
      "2   2024-03-04 18:04:10.557772800+01:00\n",
      "3   2024-03-04 18:04:10.622425600+01:00\n",
      "4   2024-03-04 18:04:10.695654400+01:00\n",
      "..                                  ...\n",
      "819 2024-03-04 18:04:38.923763200+01:00\n",
      "820 2024-03-04 18:04:38.956364800+01:00\n",
      "821    2024-03-04 18:04:38.988800+01:00\n",
      "822 2024-03-04 18:04:39.021363200+01:00\n",
      "823 2024-03-04 18:04:39.054668800+01:00\n",
      "\n",
      "[824 rows x 1 columns]\n",
      "heading_2024-03-04T18_04_10.csv\n",
      "                                     ts\n",
      "0   2024-03-04 18:04:10.340377600+01:00\n",
      "1   2024-03-04 18:04:10.484748800+01:00\n",
      "2   2024-03-04 18:04:10.557772800+01:00\n",
      "3   2024-03-04 18:04:10.622425600+01:00\n",
      "4   2024-03-04 18:04:10.695654400+01:00\n",
      "..                                  ...\n",
      "819 2024-03-04 18:04:38.923763200+01:00\n",
      "820 2024-03-04 18:04:38.956364800+01:00\n",
      "821    2024-03-04 18:04:38.988800+01:00\n",
      "822 2024-03-04 18:04:39.021363200+01:00\n",
      "823 2024-03-04 18:04:39.054668800+01:00\n",
      "\n",
      "[824 rows x 1 columns]\n",
      "miniscopeTS_2024-03-04T18_04_10.csv\n",
      "                                     ts\n",
      "0   2024-03-04 18:04:10.340377600+01:00\n",
      "1   2024-03-04 18:04:10.484748800+01:00\n",
      "2   2024-03-04 18:04:10.557772800+01:00\n",
      "3   2024-03-04 18:04:10.622425600+01:00\n",
      "4   2024-03-04 18:04:10.695654400+01:00\n",
      "..                                  ...\n",
      "819 2024-03-04 18:04:38.923763200+01:00\n",
      "820 2024-03-04 18:04:38.956364800+01:00\n",
      "821    2024-03-04 18:04:38.988800+01:00\n",
      "822 2024-03-04 18:04:39.021363200+01:00\n",
      "823 2024-03-04 18:04:39.054668800+01:00\n",
      "\n",
      "[824 rows x 1 columns]\n",
      "NP_FrameCounter_2024-03-04T18_04_11.raw\n",
      "NP_LFPdata_2024-03-04T18_04_11.raw\n",
      "NP_LFPtimestamps_2024-03-04T18_04_11.raw\n",
      "NP_spikes_2024-03-04T18_04_11.raw\n",
      "NP_timestamps_2024-03-04T18_04_11.raw\n",
      "OE_32ch_data_2024-03-04T18_04_10.bin\n",
      "OE_32ch_timestamps_2024-03-04T18_04_10.csv\n",
      "                                     ts\n",
      "0   2024-03-04 18:04:10.340377600+01:00\n",
      "1   2024-03-04 18:04:10.484748800+01:00\n",
      "2   2024-03-04 18:04:10.557772800+01:00\n",
      "3   2024-03-04 18:04:10.622425600+01:00\n",
      "4   2024-03-04 18:04:10.695654400+01:00\n",
      "..                                  ...\n",
      "819 2024-03-04 18:04:38.923763200+01:00\n",
      "820 2024-03-04 18:04:38.956364800+01:00\n",
      "821    2024-03-04 18:04:38.988800+01:00\n",
      "822 2024-03-04 18:04:39.021363200+01:00\n",
      "823 2024-03-04 18:04:39.054668800+01:00\n",
      "\n",
      "[824 rows x 1 columns]\n",
      "webcam_timestamps_2024-03-04T18_04_10.csv\n",
      "                                     ts\n",
      "0   2024-03-04 18:04:10.340377600+01:00\n",
      "1   2024-03-04 18:04:10.484748800+01:00\n",
      "2   2024-03-04 18:04:10.557772800+01:00\n",
      "3   2024-03-04 18:04:10.622425600+01:00\n",
      "4   2024-03-04 18:04:10.695654400+01:00\n",
      "..                                  ...\n",
      "819 2024-03-04 18:04:38.923763200+01:00\n",
      "820 2024-03-04 18:04:38.956364800+01:00\n",
      "821    2024-03-04 18:04:38.988800+01:00\n",
      "822 2024-03-04 18:04:39.021363200+01:00\n",
      "823 2024-03-04 18:04:39.054668800+01:00\n",
      "\n",
      "[824 rows x 1 columns]\n",
      "webcam_video_2024-03-04T18_04_10.avi\n"
     ]
    }
   ],
   "source": [
    "folder = os.path.join(pathname,expeFolder)\n",
    "\n",
    "files = [filename for filename in os.listdir(folder)]\n",
    "\n",
    "for file in files:\n",
    "    print(file)\n",
    "    if file.endswith('.csv'):\n",
    "        try:\n",
    "            d = pd.read_csv(os.path.join(folder,files[0]),names=['ts'])\n",
    "            d['ts']= pd.to_datetime(d['ts'], \n",
    "                          format='%Y%m%dT%H:%M:%S.%f%z')\n",
    "            df = d.values\n",
    "            print(d)\n",
    "        except Exception as error:\n",
    "            print(error)\n",
    "    else:\n",
    "        #arr = np.load(os.path.join(folder,files[0]), allow_pickle=True)\n",
    "        pass\n",
    "\n",
    "\n"
   ]
  },
  {
   "cell_type": "code",
   "execution_count": 10,
   "metadata": {},
   "outputs": [
    {
     "name": "stdout",
     "output_type": "stream",
     "text": [
      "ERROR: Skipped frame detected.\n",
      "Spike sample rate: 30065.458654889047\n",
      "LFP sample rate: 2505.45488242813\n"
     ]
    },
    {
     "data": {
      "image/png": "[encoded data removed]",
      "text/plain": [
       "<Figure size 432x288 with 6 Axes>"
      ]
     },
     "metadata": {
      "needs_background": "light"
     },
     "output_type": "display_data"
    }
   ],
   "source": [
    "#%% Load all the data from NeuropixelsV1e workflow\n",
    "\n",
    "suffix = '2024-03-04T18_04_11'; # Change to match file names' suffix\n",
    "\n",
    "# Neuropixels V1 Probe\n",
    "npix = {}\n",
    "npix['frame-counter'] = np.fromfile(os.path.join(folder,fileBaseNames[\"NP_FrameCounter\"] + suffix + '.raw'), dtype=np.int32)\n",
    "\n",
    "npix['spike'] = np.fromfile(os.path.join(folder,fileBaseNames[\"NP_spk\"] + suffix + '.raw'), dtype=np.uint16).reshape(-1, 384)\n",
    "npix['spike-clock'] = np.fromfile(os.path.join(folder,fileBaseNames[\"NP_spkTS\"] + suffix + '.raw'), dtype=np.uint64)\n",
    "\n",
    "npix['lfp'] = np.fromfile(os.path.join(folder,fileBaseNames[\"NP_LFPdata\"] + suffix + '.raw'), dtype=np.uint16).reshape(-1, 384)\n",
    "npix['lfp-clock'] = np.fromfile(os.path.join(folder,fileBaseNames[\"NP_LFPTS\"] + suffix + '.raw'), dtype=np.uint64)\n",
    "\n",
    "\n",
    "#%% Ensure Counters are correct\n",
    "\n",
    "plt.close('all')\n",
    "\n",
    "ax = plt.subplot(3,2,1)\n",
    "ax.plot(npix['frame-counter'])\n",
    "\n",
    "ax = plt.subplot(3,2,2)\n",
    "ax.plot(np.diff(npix['frame-counter']))\n",
    "\n",
    "ax = plt.subplot(3,2,3)\n",
    "ax.plot(npix['spike-clock'])\n",
    "\n",
    "ax = plt.subplot(3,2,4)\n",
    "ax.plot(np.diff(npix['spike-clock']))\n",
    "\n",
    "ax = plt.subplot(3,2,5)\n",
    "ax.plot(npix['lfp-clock'], 'k.')\n",
    "\n",
    "ax = plt.subplot(3,2,6)\n",
    "ax.plot(np.diff(npix['lfp-clock']))\n",
    "\n",
    "\n",
    "if ~np.all(np.diff(npix['frame-counter']) == 1):\n",
    "    print(\"ERROR: Skipped frame detected.\")\n",
    "    \n",
    "print('Spike sample rate: {}'.format(250e6 / np.mean(np.diff(npix['spike-clock']))))\n",
    "print('LFP sample rate: {}'.format(250e6 / np.mean(np.diff(npix['lfp-clock']))))\n",
    "\n",
    "\n",
    "#%% \n",
    "\n",
    "#plt.close('all')\n",
    "#plt.plot(npix['spike'])\n",
    "\n",
    "\n",
    "\n",
    "\n"
   ]
  }
 ],
 "metadata": {
  "kernelspec": {
   "display_name": "base",
   "language": "python",
   "name": "python3"
  },
  "language_info": {
   "codemirror_mode": {
    "name": "ipython",
    "version": 3
   },
   "file_extension": ".py",
   "mimetype": "text/x-python",
   "name": "python",
   "nbconvert_exporter": "python",
   "pygments_lexer": "ipython3",
   "version": "3.9.12"
  }
 },
 "nbformat": 4,
 "nbformat_minor": 2
}
