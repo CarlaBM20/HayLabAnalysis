{
 "cells": [
  {
   "cell_type": "markdown",
   "metadata": {},
   "source": [
    "# This is a notebook to import ONIX system data"
   ]
  },
  {
   "cell_type": "code",
   "execution_count": 26,
   "metadata": {},
   "outputs": [],
   "source": [
    "import numpy as np\n",
    "import pandas as pd\n",
    "import os\n",
    "from pathlib import Path"
   ]
  },
  {
   "cell_type": "markdown",
   "metadata": {},
   "source": [
    "By default, data is saved at the path C:\\Users\\Manip1\\Documents\\data\\\n",
    "in a folder named \"Expe_timestamp\"\n",
    "\n",
    "11 files can be saved at most:\n",
    "- from the miniscope:\n",
    "    - frames:\n",
    "    - timestamps: miniscopeTS_{timestamp}.csv\n",
    "    - head rotation: heading_{timestamp}.csv\n",
    "- from openePhys:\n",
    "    - data: OE_32ch_data_{timestamp}.bin\n",
    "    - timestamps: OE_32ch_timestamps_{timestamp}.bin\n",
    "- from Neuropixel:\n",
    "    - NP_FrameCounter_{timestamp}.raw\n",
    "    - NP_LFPdata_{timestamp}.raw\n",
    "    - NP_LFPtimestamps_{timestamp}.raw\n",
    "    - NP_spikes_{timestamp}.raw\n",
    "    - NP_timestamps_{timestamp}.raw\n",
    "- from the webcam:\n",
    "    - frames: webcam_video_{timestamp}.avi\n",
    "    - timestamps: webcam_timestamps_{timestamp}.csv\n",
    "    "
   ]
  },
  {
   "cell_type": "code",
   "execution_count": 42,
   "metadata": {},
   "outputs": [
    {
     "name": "stdout",
     "output_type": "stream",
     "text": [
      "2024-03-04T17-11-01\n"
     ]
    }
   ],
   "source": [
    "pathname = r\"C:\\Users\\Manip1\\Documents\\data\"\n",
    "timeStamp = \"2024-03-04_17-11-01\"\n",
    "expeFolder = \"Expe_{}\".format(timeStamp)\n",
    "\n",
    "tsFiles = timeStamp[:10] + \"T\" + timeStamp[11:]\n",
    "\n",
    "print(tsFiles)\n",
    "fileBaseNames = dict(\n",
    "    miniscopeIMG = \"miniscopeFrame_\",\n",
    "    miniscopeTS = \"miniscopeTS_\",\n",
    "    miniscopeHead = \"heading_\",\n",
    "    OEData = \"OE_32ch_data_\",\n",
    "    OETS = \"OE_32ch_timestamps_\",\n",
    "    NP_FrameCounter = \"NP_FrameCounter_\",\n",
    "    NP_LFPdata = \"NP_LFPdata_\",\n",
    "    NP_LFPTS = \"NP_LFPtimestamps_\",\n",
    "    NP_spk = \"NP_spikes_\",\n",
    "    NP_spkTS = \"NP_timestamps_\",\n",
    "    webcamIMG = \"webcam_video_\",\n",
    "    webcamTS = \"webcam_timestamps_\"\n",
    ")"
   ]
  },
  {
   "cell_type": "code",
   "execution_count": 44,
   "metadata": {},
   "outputs": [
    {
     "name": "stdout",
     "output_type": "stream",
     "text": [
      "headingTS_2024-03-04T17_11_01.csv\n",
      "                                     ts\n",
      "0   2024-03-04 17:11:01.598438400+01:00\n",
      "1      2024-03-04 17:11:01.733504+01:00\n",
      "2   2024-03-04 17:11:01.813273600+01:00\n",
      "3      2024-03-04 17:11:01.873856+01:00\n",
      "4      2024-03-04 17:11:01.989184+01:00\n",
      "..                                  ...\n",
      "681    2024-03-04 17:11:25.460608+01:00\n",
      "682    2024-03-04 17:11:25.493248+01:00\n",
      "683 2024-03-04 17:11:25.526233600+01:00\n",
      "684 2024-03-04 17:11:25.558425600+01:00\n",
      "685 2024-03-04 17:11:25.590156800+01:00\n",
      "\n",
      "[686 rows x 1 columns]\n",
      "heading_2024-03-04T17_11_01.csv\n",
      "                                     ts\n",
      "0   2024-03-04 17:11:01.598438400+01:00\n",
      "1      2024-03-04 17:11:01.733504+01:00\n",
      "2   2024-03-04 17:11:01.813273600+01:00\n",
      "3      2024-03-04 17:11:01.873856+01:00\n",
      "4      2024-03-04 17:11:01.989184+01:00\n",
      "..                                  ...\n",
      "681    2024-03-04 17:11:25.460608+01:00\n",
      "682    2024-03-04 17:11:25.493248+01:00\n",
      "683 2024-03-04 17:11:25.526233600+01:00\n",
      "684 2024-03-04 17:11:25.558425600+01:00\n",
      "685 2024-03-04 17:11:25.590156800+01:00\n",
      "\n",
      "[686 rows x 1 columns]\n",
      "miniscopeTS_2024-03-04T17_11_01.csv\n",
      "                                     ts\n",
      "0   2024-03-04 17:11:01.598438400+01:00\n",
      "1      2024-03-04 17:11:01.733504+01:00\n",
      "2   2024-03-04 17:11:01.813273600+01:00\n",
      "3      2024-03-04 17:11:01.873856+01:00\n",
      "4      2024-03-04 17:11:01.989184+01:00\n",
      "..                                  ...\n",
      "681    2024-03-04 17:11:25.460608+01:00\n",
      "682    2024-03-04 17:11:25.493248+01:00\n",
      "683 2024-03-04 17:11:25.526233600+01:00\n",
      "684 2024-03-04 17:11:25.558425600+01:00\n",
      "685 2024-03-04 17:11:25.590156800+01:00\n",
      "\n",
      "[686 rows x 1 columns]\n",
      "NP_FrameCounter_2024-03-04T17_11_02.raw\n",
      "NP_LFPdata_2024-03-04T17_11_02.raw\n",
      "NP_LFPtimestamps_2024-03-04T17_11_02.raw\n",
      "NP_spikes_2024-03-04T17_11_02.raw\n",
      "NP_timestamps_2024-03-04T17_11_02.raw\n",
      "OE_32ch_data_2024-03-04T17_11_01.bin\n",
      "OE_32ch_timestamps_2024-03-04T17_11_01.csv\n",
      "                                     ts\n",
      "0   2024-03-04 17:11:01.598438400+01:00\n",
      "1      2024-03-04 17:11:01.733504+01:00\n",
      "2   2024-03-04 17:11:01.813273600+01:00\n",
      "3      2024-03-04 17:11:01.873856+01:00\n",
      "4      2024-03-04 17:11:01.989184+01:00\n",
      "..                                  ...\n",
      "681    2024-03-04 17:11:25.460608+01:00\n",
      "682    2024-03-04 17:11:25.493248+01:00\n",
      "683 2024-03-04 17:11:25.526233600+01:00\n",
      "684 2024-03-04 17:11:25.558425600+01:00\n",
      "685 2024-03-04 17:11:25.590156800+01:00\n",
      "\n",
      "[686 rows x 1 columns]\n",
      "webcam_timestamps_2024-03-04T17_11_01.csv\n",
      "                                     ts\n",
      "0   2024-03-04 17:11:01.598438400+01:00\n",
      "1      2024-03-04 17:11:01.733504+01:00\n",
      "2   2024-03-04 17:11:01.813273600+01:00\n",
      "3      2024-03-04 17:11:01.873856+01:00\n",
      "4      2024-03-04 17:11:01.989184+01:00\n",
      "..                                  ...\n",
      "681    2024-03-04 17:11:25.460608+01:00\n",
      "682    2024-03-04 17:11:25.493248+01:00\n",
      "683 2024-03-04 17:11:25.526233600+01:00\n",
      "684 2024-03-04 17:11:25.558425600+01:00\n",
      "685 2024-03-04 17:11:25.590156800+01:00\n",
      "\n",
      "[686 rows x 1 columns]\n",
      "webcam_video_2024-03-04T17_11_01.avi\n"
     ]
    }
   ],
   "source": [
    "folder = os.path.join(pathname,expeFolder)\n",
    "\n",
    "files = [filename for filename in os.listdir(folder)]\n",
    "\n",
    "for file in files:\n",
    "    print(file)\n",
    "    if file.endswith('.csv'):\n",
    "        try:\n",
    "            d = pd.read_csv(os.path.join(folder,files[0]),names=['ts'])\n",
    "            d['ts']= pd.to_datetime(d['ts'], \n",
    "                          format='%Y%m%dT%H:%M:%S.%f%z')\n",
    "            df = d.values\n",
    "            print(d)\n",
    "        except Exception as error:\n",
    "            print(error)\n",
    "    else:\n",
    "        #arr = np.load(os.path.join(folder,files[0]), allow_pickle=True)\n",
    "        pass\n",
    "\n",
    "\n"
   ]
  },
  {
   "cell_type": "code",
   "execution_count": null,
   "metadata": {},
   "outputs": [],
   "source": []
  }
 ],
 "metadata": {
  "kernelspec": {
   "display_name": "base",
   "language": "python",
   "name": "python3"
  },
  "language_info": {
   "codemirror_mode": {
    "name": "ipython",
    "version": 3
   },
   "file_extension": ".py",
   "mimetype": "text/x-python",
   "name": "python",
   "nbconvert_exporter": "python",
   "pygments_lexer": "ipython3",
   "version": "3.9.12"
  }
 },
 "nbformat": 4,
 "nbformat_minor": 2
}
