{
 "cells": [
  {
   "cell_type": "markdown",
   "metadata": {},
   "source": [
    "# Reanalyse Rudy's data\n",
    "The aim of this script is to check Rudy's analysis"
   ]
  },
  {
   "cell_type": "code",
   "execution_count": 1,
   "metadata": {},
   "outputs": [],
   "source": [
    "import os\n",
    "import numpy as np\n",
    "import pandas as pd\n"
   ]
  },
  {
   "cell_type": "code",
   "execution_count": 2,
   "metadata": {},
   "outputs": [
    {
     "name": "stdout",
     "output_type": "stream",
     "text": [
      "True\n"
     ]
    }
   ],
   "source": [
    "folderPath = 'W:\\projets_communs\\TMRodent\\enregistrements rats openephys'\n",
    "print(os.path.exists(folderPath))"
   ]
  },
  {
   "cell_type": "code",
   "execution_count": 7,
   "metadata": {},
   "outputs": [
    {
     "name": "stdout",
     "output_type": "stream",
     "text": [
      "         date  SoundInt  SoundFreq     Animal\n",
      "0  2024-02-23    1000.0     5000.0    femelle\n",
      "1  2024-02-14       NaN        NaN  gros mâle\n",
      "2  2024-02-19       NaN        NaN           \n",
      "3  2024-02-20    1000.0     5000.0  gros mâle\n",
      "4  2024-02-22     560.0    20000.0  gros mâle\n",
      "5  2024-02-21     560.0     5000.0    femelle\n",
      "6  2024-02-26     560.0     5000.0  gros mâle\n",
      "7  2024-02-29     220.0    20000.0  gros mâle\n",
      "8  2024-02-27     560.0    20000.0    femelle\n",
      "9  2024-02-15     560.0      440.0  gros mâle\n",
      "10 2024-02-28     220.0    20000.0    femelle\n",
      "11 2024-02-14     560.0      440.0    femelle\n",
      "12 2024-02-16    1000.0      440.0  gros mâle\n",
      "13 2024-02-12       NaN        NaN    femelle\n",
      "date         datetime64[ns]\n",
      "SoundInt            float64\n",
      "SoundFreq           float64\n",
      "Animal               object\n",
      "dtype: object\n"
     ]
    }
   ],
   "source": [
    "conditions = pd.DataFrame(\n",
    "    data={\n",
    "        ('2024/02/12',np.nan, np.nan, 'femelle'),\n",
    "        ('2024/02/14',560, 440, 'femelle'),\n",
    "        ('2024/02/14',np.nan, np.nan, 'gros mâle'),\n",
    "        ('2024/02/15',560, 440, 'gros mâle'),\n",
    "        ('2024/02/16',1000, 440, 'gros mâle'),\n",
    "        ('2024/02/19',np.nan, np.nan, ''),\n",
    "        ('2024/02/20',1000, 5000, 'gros mâle'),\n",
    "        ('2024/02/21',560, 5000, 'femelle'),\n",
    "        ('2024/02/22',560, 20000, 'gros mâle'),\n",
    "        ('2024/02/23',1000, 5000, 'femelle'),\n",
    "        ('2024/02/26',560, 5000, 'gros mâle'),\n",
    "        ('2024/02/27',560, 20000, 'femelle'),\n",
    "        ('2024/02/28',220, 20000, 'femelle'),\n",
    "        ('2024/02/29',220, 20000, 'gros mâle')\n",
    "        },\n",
    "    columns=('date','SoundInt','SoundFreq','Animal')\n",
    ")\n",
    "conditions['date']=pd.to_datetime(conditions['date'])\n",
    "print(conditions)\n",
    "print(conditions.dtypes)"
   ]
  },
  {
   "cell_type": "code",
   "execution_count": null,
   "metadata": {},
   "outputs": [],
   "source": []
  }
 ],
 "metadata": {
  "kernelspec": {
   "display_name": ".venv",
   "language": "python",
   "name": "python3"
  },
  "language_info": {
   "codemirror_mode": {
    "name": "ipython",
    "version": 3
   },
   "file_extension": ".py",
   "mimetype": "text/x-python",
   "name": "python",
   "nbconvert_exporter": "python",
   "pygments_lexer": "ipython3",
   "version": "3.11.9"
  }
 },
 "nbformat": 4,
 "nbformat_minor": 2
}
