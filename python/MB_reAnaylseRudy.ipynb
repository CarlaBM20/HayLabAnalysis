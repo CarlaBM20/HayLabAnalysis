{
 "cells": [
  {
   "cell_type": "markdown",
   "metadata": {},
   "source": [
    "# Reanalyse Rudy's data\n",
    "The aim of this script is to check Rudy's analysis"
   ]
  },
  {
   "cell_type": "code",
   "execution_count": 19,
   "metadata": {},
   "outputs": [],
   "source": [
    "import os\n",
    "import numpy as np\n",
    "import pandas as pd\n",
    "import glob\n"
   ]
  },
  {
   "cell_type": "code",
   "execution_count": 2,
   "metadata": {},
   "outputs": [
    {
     "name": "stdout",
     "output_type": "stream",
     "text": [
      "True\n"
     ]
    }
   ],
   "source": [
    "folderPath = 'W:\\projets_communs\\TMRodent\\enregistrements rats openephys'\n",
    "print(os.path.exists(folderPath))"
   ]
  },
  {
   "cell_type": "code",
   "execution_count": 7,
   "metadata": {},
   "outputs": [
    {
     "name": "stdout",
     "output_type": "stream",
     "text": [
      "         date  SoundInt  SoundFreq     Animal\n",
      "0  2024-02-23    1000.0     5000.0    femelle\n",
      "1  2024-02-14       NaN        NaN  gros mâle\n",
      "2  2024-02-19       NaN        NaN           \n",
      "3  2024-02-20    1000.0     5000.0  gros mâle\n",
      "4  2024-02-22     560.0    20000.0  gros mâle\n",
      "5  2024-02-21     560.0     5000.0    femelle\n",
      "6  2024-02-26     560.0     5000.0  gros mâle\n",
      "7  2024-02-29     220.0    20000.0  gros mâle\n",
      "8  2024-02-27     560.0    20000.0    femelle\n",
      "9  2024-02-15     560.0      440.0  gros mâle\n",
      "10 2024-02-28     220.0    20000.0    femelle\n",
      "11 2024-02-14     560.0      440.0    femelle\n",
      "12 2024-02-16    1000.0      440.0  gros mâle\n",
      "13 2024-02-12       NaN        NaN    femelle\n",
      "date         datetime64[ns]\n",
      "SoundInt            float64\n",
      "SoundFreq           float64\n",
      "Animal               object\n",
      "dtype: object\n"
     ]
    }
   ],
   "source": [
    "conditions = pd.DataFrame(\n",
    "    data={\n",
    "        ('2024/02/12',np.nan, np.nan, 'femelle'),\n",
    "        ('2024/02/14',560, 440, 'femelle'),\n",
    "        ('2024/02/14',np.nan, np.nan, 'gros mâle'),\n",
    "        ('2024/02/15',560, 440, 'gros mâle'),\n",
    "        ('2024/02/16',1000, 440, 'gros mâle'),\n",
    "        ('2024/02/19',np.nan, np.nan, ''),\n",
    "        ('2024/02/20',1000, 5000, 'gros mâle'),\n",
    "        ('2024/02/21',560, 5000, 'femelle'),\n",
    "        ('2024/02/22',560, 20000, 'gros mâle'),\n",
    "        ('2024/02/23',1000, 5000, 'femelle'),\n",
    "        ('2024/02/26',560, 5000, 'gros mâle'),\n",
    "        ('2024/02/27',560, 20000, 'femelle'),\n",
    "        ('2024/02/28',220, 20000, 'femelle'),\n",
    "        ('2024/02/29',220, 20000, 'gros mâle')\n",
    "        },\n",
    "    columns=('date','SoundInt','SoundFreq','Animal')\n",
    ")\n",
    "conditions['date']=pd.to_datetime(conditions['date'])\n",
    "print(conditions)\n",
    "print(conditions.dtypes)"
   ]
  },
  {
   "cell_type": "code",
   "execution_count": 43,
   "metadata": {},
   "outputs": [
    {
     "name": "stdout",
     "output_type": "stream",
     "text": [
      "2024-02-12_10-03-15\n",
      "W:\\projets_communs\\TMRodent\\enregistrements rats openephys\\2024-02-12_10-03-15\\Record Node 102\\experiment1\\recording1\\continuous\\Acquisition_Board-104.Rhythm Data\\continuous.dat\n",
      "2024-02-14_09-42-36\n",
      "W:\\projets_communs\\TMRodent\\enregistrements rats openephys\\2024-02-14_09-42-36\\Record Node 102\\experiment1\\recording1\\continuous\\Acquisition_Board-104.Rhythm Data\\continuous.dat\n",
      "2024-02-15_10-38-30\n",
      "W:\\projets_communs\\TMRodent\\enregistrements rats openephys\\2024-02-15_10-38-30\\Record Node 102\\experiment1\\recording1\\continuous\\Acquisition_Board-104.Rhythm Data\\continuous.dat\n",
      "W:\\projets_communs\\TMRodent\\enregistrements rats openephys\\2024-02-15_10-38-30\\Record Node 102\\experiment2\\recording1\\continuous\\Acquisition_Board-104.Rhythm Data\\continuous.dat\n",
      "W:\\projets_communs\\TMRodent\\enregistrements rats openephys\\2024-02-15_10-38-30\\Record Node 102\\experiment3\\recording1\\continuous\\Acquisition_Board-104.Rhythm Data\\continuous.dat\n",
      "W:\\projets_communs\\TMRodent\\enregistrements rats openephys\\2024-02-15_10-38-30\\Record Node 102\\experiment4\\recording1\\continuous\\Acquisition_Board-104.Rhythm Data\\continuous.dat\n",
      "W:\\projets_communs\\TMRodent\\enregistrements rats openephys\\2024-02-15_10-38-30\\Record Node 102\\experiment5\\recording1\\continuous\\Acquisition_Board-104.Rhythm Data\\continuous.dat\n",
      "W:\\projets_communs\\TMRodent\\enregistrements rats openephys\\2024-02-15_10-38-30\\Record Node 102\\experiment6\\recording1\\continuous\\Acquisition_Board-104.Rhythm Data\\continuous.dat\n",
      "2024-02-16_11-11-21\n",
      "W:\\projets_communs\\TMRodent\\enregistrements rats openephys\\2024-02-16_11-11-21\\Record Node 102\\experiment1\\recording1\\continuous\\Acquisition_Board-104.Rhythm Data\\continuous.dat\n",
      "W:\\projets_communs\\TMRodent\\enregistrements rats openephys\\2024-02-16_11-11-21\\Record Node 102\\experiment1\\recording2\\continuous\\Acquisition_Board-104.Rhythm Data\\continuous.dat\n",
      "W:\\projets_communs\\TMRodent\\enregistrements rats openephys\\2024-02-16_11-11-21\\Record Node 102\\experiment2\\recording1\\continuous\\Acquisition_Board-104.Rhythm Data\\continuous.dat\n",
      "W:\\projets_communs\\TMRodent\\enregistrements rats openephys\\2024-02-16_11-11-21\\Record Node 102\\experiment3\\recording1\\continuous\\Acquisition_Board-104.Rhythm Data\\continuous.dat\n",
      "W:\\projets_communs\\TMRodent\\enregistrements rats openephys\\2024-02-16_11-11-21\\Record Node 102\\experiment3\\recording2\\continuous\\Acquisition_Board-104.Rhythm Data\\continuous.dat\n",
      "2024-02-16_12-59-52\n",
      "W:\\projets_communs\\TMRodent\\enregistrements rats openephys\\2024-02-16_12-59-52\\Record Node 102\\experiment1\\recording1\\continuous\\Acquisition_Board-104.Rhythm Data\\continuous.dat\n",
      "W:\\projets_communs\\TMRodent\\enregistrements rats openephys\\2024-02-16_12-59-52\\Record Node 102\\experiment2\\recording1\\continuous\\Acquisition_Board-104.Rhythm Data\\continuous.dat\n",
      "2024-02-16_14-20-19\n",
      "W:\\projets_communs\\TMRodent\\enregistrements rats openephys\\2024-02-16_14-20-19\\Record Node 102\\experiment1\\recording1\\continuous\\Acquisition_Board-104.Rhythm Data\\continuous.dat\n",
      "W:\\projets_communs\\TMRodent\\enregistrements rats openephys\\2024-02-16_14-20-19\\Record Node 102\\experiment2\\recording1\\continuous\\Acquisition_Board-104.Rhythm Data\\continuous.dat\n",
      "W:\\projets_communs\\TMRodent\\enregistrements rats openephys\\2024-02-16_14-20-19\\Record Node 102\\experiment3\\recording1\\continuous\\Acquisition_Board-104.Rhythm Data\\continuous.dat\n",
      "2024-02-19_13-22-33\n",
      "W:\\projets_communs\\TMRodent\\enregistrements rats openephys\\2024-02-19_13-22-33\\Record Node 110\\experiment1\\recording1\\continuous\\Acquisition_Board-112.Rhythm Data\\continuous.dat\n",
      "2024-02-20_09-48-56\n",
      "W:\\projets_communs\\TMRodent\\enregistrements rats openephys\\2024-02-20_09-48-56\\Record Node 103\\experiment1\\recording1\\continuous\\Acquisition_Board-100.Rhythm Data\\continuous.dat\n",
      "W:\\projets_communs\\TMRodent\\enregistrements rats openephys\\2024-02-20_09-48-56\\Record Node 103\\experiment2\\recording1\\continuous\\Acquisition_Board-100.Rhythm Data\\continuous.dat\n",
      "W:\\projets_communs\\TMRodent\\enregistrements rats openephys\\2024-02-20_09-48-56\\Record Node 103\\experiment3\\recording1\\continuous\\Acquisition_Board-100.Rhythm Data\\continuous.dat\n",
      "2024-02-20_10-59-51\n",
      "W:\\projets_communs\\TMRodent\\enregistrements rats openephys\\2024-02-20_10-59-51\\Record Node 103\\experiment1\\recording1\\continuous\\Acquisition_Board-100.Rhythm Data\\continuous.dat\n",
      "W:\\projets_communs\\TMRodent\\enregistrements rats openephys\\2024-02-20_10-59-51\\Record Node 103\\experiment2\\recording1\\continuous\\Acquisition_Board-100.Rhythm Data\\continuous.dat\n",
      "2024-02-20_13-32-20\n",
      "W:\\projets_communs\\TMRodent\\enregistrements rats openephys\\2024-02-20_13-32-20\\Record Node 103\\experiment1\\recording1\\continuous\\Acquisition_Board-100.Rhythm Data\\continuous.dat\n",
      "W:\\projets_communs\\TMRodent\\enregistrements rats openephys\\2024-02-20_13-32-20\\Record Node 103\\experiment2\\recording1\\continuous\\Acquisition_Board-100.Rhythm Data\\continuous.dat\n",
      "2024-02-20_14-31-33\n",
      "W:\\projets_communs\\TMRodent\\enregistrements rats openephys\\2024-02-20_14-31-33\\Record Node 103\\experiment1\\recording1\\continuous\\Acquisition_Board-100.Rhythm Data\\continuous.dat\n",
      "2024-02-21_09-55-34\n",
      "W:\\projets_communs\\TMRodent\\enregistrements rats openephys\\2024-02-21_09-55-34\\Record Node 103\\experiment1\\recording1\\continuous\\Acquisition_Board-100.Rhythm Data\\continuous.dat\n",
      "2024-02-22_10-08-48\n",
      "W:\\projets_communs\\TMRodent\\enregistrements rats openephys\\2024-02-22_10-08-48\\Record Node 103\\experiment1\\recording1\\continuous\\Acquisition_Board-100.Rhythm Data\\continuous.dat\n",
      "2024-02-23_09-56-10\n",
      "W:\\projets_communs\\TMRodent\\enregistrements rats openephys\\2024-02-23_09-56-10\\Record Node 103\\experiment1\\recording1\\continuous\\Acquisition_Board-100.Rhythm Data\\continuous.dat\n",
      "2024-02-26_10-02-40\n",
      "W:\\projets_communs\\TMRodent\\enregistrements rats openephys\\2024-02-26_10-02-40\\Record Node 103\\experiment1\\recording1\\continuous\\Acquisition_Board-100.Rhythm Data\\continuous.dat\n",
      "2024-02-27_09-55-37\n",
      "W:\\projets_communs\\TMRodent\\enregistrements rats openephys\\2024-02-27_09-55-37\\Record Node 103\\experiment1\\recording1\\continuous\\Acquisition_Board-100.Rhythm Data\\continuous.dat\n",
      "2024-02-28_09-41-48\n",
      "W:\\projets_communs\\TMRodent\\enregistrements rats openephys\\2024-02-28_09-41-48\\Record_Node_103\\experiment1\\recording1\\continuous\\Acquisition_Board-100.Rhythm Data\\continuous.dat\n",
      "2024-02-29_09-45-35\n",
      "W:\\projets_communs\\TMRodent\\enregistrements rats openephys\\2024-02-29_09-45-35\\Record Node 103\\experiment1\\recording1\\continuous\\Acquisition_Board-100.Rhythm Data\\continuous.dat\n",
      "données brutes csv\n",
      "résultats\n",
      "{'2024-02-12_10-03-15': ['W:\\\\projets_communs\\\\TMRodent\\\\enregistrements rats openephys\\\\2024-02-12_10-03-15\\\\Record Node 102\\\\experiment1\\\\recording1\\\\continuous\\\\Acquisition_Board-104.Rhythm Data\\\\continuous.dat'], '2024-02-14_09-42-36': ['W:\\\\projets_communs\\\\TMRodent\\\\enregistrements rats openephys\\\\2024-02-14_09-42-36\\\\Record Node 102\\\\experiment1\\\\recording1\\\\continuous\\\\Acquisition_Board-104.Rhythm Data\\\\continuous.dat'], '2024-02-15_10-38-30': ['W:\\\\projets_communs\\\\TMRodent\\\\enregistrements rats openephys\\\\2024-02-15_10-38-30\\\\Record Node 102\\\\experiment1\\\\recording1\\\\continuous\\\\Acquisition_Board-104.Rhythm Data\\\\continuous.dat', 'W:\\\\projets_communs\\\\TMRodent\\\\enregistrements rats openephys\\\\2024-02-15_10-38-30\\\\Record Node 102\\\\experiment2\\\\recording1\\\\continuous\\\\Acquisition_Board-104.Rhythm Data\\\\continuous.dat', 'W:\\\\projets_communs\\\\TMRodent\\\\enregistrements rats openephys\\\\2024-02-15_10-38-30\\\\Record Node 102\\\\experiment3\\\\recording1\\\\continuous\\\\Acquisition_Board-104.Rhythm Data\\\\continuous.dat', 'W:\\\\projets_communs\\\\TMRodent\\\\enregistrements rats openephys\\\\2024-02-15_10-38-30\\\\Record Node 102\\\\experiment4\\\\recording1\\\\continuous\\\\Acquisition_Board-104.Rhythm Data\\\\continuous.dat', 'W:\\\\projets_communs\\\\TMRodent\\\\enregistrements rats openephys\\\\2024-02-15_10-38-30\\\\Record Node 102\\\\experiment5\\\\recording1\\\\continuous\\\\Acquisition_Board-104.Rhythm Data\\\\continuous.dat', 'W:\\\\projets_communs\\\\TMRodent\\\\enregistrements rats openephys\\\\2024-02-15_10-38-30\\\\Record Node 102\\\\experiment6\\\\recording1\\\\continuous\\\\Acquisition_Board-104.Rhythm Data\\\\continuous.dat'], '2024-02-16_11-11-21': ['W:\\\\projets_communs\\\\TMRodent\\\\enregistrements rats openephys\\\\2024-02-16_11-11-21\\\\Record Node 102\\\\experiment1\\\\recording1\\\\continuous\\\\Acquisition_Board-104.Rhythm Data\\\\continuous.dat', 'W:\\\\projets_communs\\\\TMRodent\\\\enregistrements rats openephys\\\\2024-02-16_11-11-21\\\\Record Node 102\\\\experiment1\\\\recording2\\\\continuous\\\\Acquisition_Board-104.Rhythm Data\\\\continuous.dat', 'W:\\\\projets_communs\\\\TMRodent\\\\enregistrements rats openephys\\\\2024-02-16_11-11-21\\\\Record Node 102\\\\experiment2\\\\recording1\\\\continuous\\\\Acquisition_Board-104.Rhythm Data\\\\continuous.dat', 'W:\\\\projets_communs\\\\TMRodent\\\\enregistrements rats openephys\\\\2024-02-16_11-11-21\\\\Record Node 102\\\\experiment3\\\\recording1\\\\continuous\\\\Acquisition_Board-104.Rhythm Data\\\\continuous.dat', 'W:\\\\projets_communs\\\\TMRodent\\\\enregistrements rats openephys\\\\2024-02-16_11-11-21\\\\Record Node 102\\\\experiment3\\\\recording2\\\\continuous\\\\Acquisition_Board-104.Rhythm Data\\\\continuous.dat'], '2024-02-16_12-59-52': ['W:\\\\projets_communs\\\\TMRodent\\\\enregistrements rats openephys\\\\2024-02-16_12-59-52\\\\Record Node 102\\\\experiment1\\\\recording1\\\\continuous\\\\Acquisition_Board-104.Rhythm Data\\\\continuous.dat', 'W:\\\\projets_communs\\\\TMRodent\\\\enregistrements rats openephys\\\\2024-02-16_12-59-52\\\\Record Node 102\\\\experiment2\\\\recording1\\\\continuous\\\\Acquisition_Board-104.Rhythm Data\\\\continuous.dat'], '2024-02-16_14-20-19': ['W:\\\\projets_communs\\\\TMRodent\\\\enregistrements rats openephys\\\\2024-02-16_14-20-19\\\\Record Node 102\\\\experiment1\\\\recording1\\\\continuous\\\\Acquisition_Board-104.Rhythm Data\\\\continuous.dat', 'W:\\\\projets_communs\\\\TMRodent\\\\enregistrements rats openephys\\\\2024-02-16_14-20-19\\\\Record Node 102\\\\experiment2\\\\recording1\\\\continuous\\\\Acquisition_Board-104.Rhythm Data\\\\continuous.dat', 'W:\\\\projets_communs\\\\TMRodent\\\\enregistrements rats openephys\\\\2024-02-16_14-20-19\\\\Record Node 102\\\\experiment3\\\\recording1\\\\continuous\\\\Acquisition_Board-104.Rhythm Data\\\\continuous.dat'], '2024-02-19_13-22-33': ['W:\\\\projets_communs\\\\TMRodent\\\\enregistrements rats openephys\\\\2024-02-19_13-22-33\\\\Record Node 110\\\\experiment1\\\\recording1\\\\continuous\\\\Acquisition_Board-112.Rhythm Data\\\\continuous.dat'], '2024-02-20_09-48-56': ['W:\\\\projets_communs\\\\TMRodent\\\\enregistrements rats openephys\\\\2024-02-20_09-48-56\\\\Record Node 103\\\\experiment1\\\\recording1\\\\continuous\\\\Acquisition_Board-100.Rhythm Data\\\\continuous.dat', 'W:\\\\projets_communs\\\\TMRodent\\\\enregistrements rats openephys\\\\2024-02-20_09-48-56\\\\Record Node 103\\\\experiment2\\\\recording1\\\\continuous\\\\Acquisition_Board-100.Rhythm Data\\\\continuous.dat', 'W:\\\\projets_communs\\\\TMRodent\\\\enregistrements rats openephys\\\\2024-02-20_09-48-56\\\\Record Node 103\\\\experiment3\\\\recording1\\\\continuous\\\\Acquisition_Board-100.Rhythm Data\\\\continuous.dat'], '2024-02-20_10-59-51': ['W:\\\\projets_communs\\\\TMRodent\\\\enregistrements rats openephys\\\\2024-02-20_10-59-51\\\\Record Node 103\\\\experiment1\\\\recording1\\\\continuous\\\\Acquisition_Board-100.Rhythm Data\\\\continuous.dat', 'W:\\\\projets_communs\\\\TMRodent\\\\enregistrements rats openephys\\\\2024-02-20_10-59-51\\\\Record Node 103\\\\experiment2\\\\recording1\\\\continuous\\\\Acquisition_Board-100.Rhythm Data\\\\continuous.dat'], '2024-02-20_13-32-20': ['W:\\\\projets_communs\\\\TMRodent\\\\enregistrements rats openephys\\\\2024-02-20_13-32-20\\\\Record Node 103\\\\experiment1\\\\recording1\\\\continuous\\\\Acquisition_Board-100.Rhythm Data\\\\continuous.dat', 'W:\\\\projets_communs\\\\TMRodent\\\\enregistrements rats openephys\\\\2024-02-20_13-32-20\\\\Record Node 103\\\\experiment2\\\\recording1\\\\continuous\\\\Acquisition_Board-100.Rhythm Data\\\\continuous.dat'], '2024-02-20_14-31-33': ['W:\\\\projets_communs\\\\TMRodent\\\\enregistrements rats openephys\\\\2024-02-20_14-31-33\\\\Record Node 103\\\\experiment1\\\\recording1\\\\continuous\\\\Acquisition_Board-100.Rhythm Data\\\\continuous.dat'], '2024-02-21_09-55-34': ['W:\\\\projets_communs\\\\TMRodent\\\\enregistrements rats openephys\\\\2024-02-21_09-55-34\\\\Record Node 103\\\\experiment1\\\\recording1\\\\continuous\\\\Acquisition_Board-100.Rhythm Data\\\\continuous.dat'], '2024-02-22_10-08-48': ['W:\\\\projets_communs\\\\TMRodent\\\\enregistrements rats openephys\\\\2024-02-22_10-08-48\\\\Record Node 103\\\\experiment1\\\\recording1\\\\continuous\\\\Acquisition_Board-100.Rhythm Data\\\\continuous.dat'], '2024-02-23_09-56-10': ['W:\\\\projets_communs\\\\TMRodent\\\\enregistrements rats openephys\\\\2024-02-23_09-56-10\\\\Record Node 103\\\\experiment1\\\\recording1\\\\continuous\\\\Acquisition_Board-100.Rhythm Data\\\\continuous.dat'], '2024-02-26_10-02-40': ['W:\\\\projets_communs\\\\TMRodent\\\\enregistrements rats openephys\\\\2024-02-26_10-02-40\\\\Record Node 103\\\\experiment1\\\\recording1\\\\continuous\\\\Acquisition_Board-100.Rhythm Data\\\\continuous.dat'], '2024-02-27_09-55-37': ['W:\\\\projets_communs\\\\TMRodent\\\\enregistrements rats openephys\\\\2024-02-27_09-55-37\\\\Record Node 103\\\\experiment1\\\\recording1\\\\continuous\\\\Acquisition_Board-100.Rhythm Data\\\\continuous.dat'], '2024-02-28_09-41-48': ['W:\\\\projets_communs\\\\TMRodent\\\\enregistrements rats openephys\\\\2024-02-28_09-41-48\\\\Record_Node_103\\\\experiment1\\\\recording1\\\\continuous\\\\Acquisition_Board-100.Rhythm Data\\\\continuous.dat'], '2024-02-29_09-45-35': ['W:\\\\projets_communs\\\\TMRodent\\\\enregistrements rats openephys\\\\2024-02-29_09-45-35\\\\Record Node 103\\\\experiment1\\\\recording1\\\\continuous\\\\Acquisition_Board-100.Rhythm Data\\\\continuous.dat'], 'données brutes csv': [], 'résultats': []}\n"
     ]
    }
   ],
   "source": [
    "listexpe = dict()\n",
    "for d in filter(lambda d: os.path.isdir(os.path.join(folderPath,d)), os.listdir(folderPath)):\n",
    "    print(d)\n",
    "    listexpe[d]=[]\n",
    "    for file in glob.glob(os.path.join(folderPath,d,'**','*.dat'),recursive = True):\n",
    "        print(file)\n",
    "        listexpe[d].append(file)\n",
    "print(listexpe)"
   ]
  },
  {
   "cell_type": "code",
   "execution_count": null,
   "metadata": {},
   "outputs": [],
   "source": []
  }
 ],
 "metadata": {
  "kernelspec": {
   "display_name": ".venv",
   "language": "python",
   "name": "python3"
  },
  "language_info": {
   "codemirror_mode": {
    "name": "ipython",
    "version": 3
   },
   "file_extension": ".py",
   "mimetype": "text/x-python",
   "name": "python",
   "nbconvert_exporter": "python",
   "pygments_lexer": "ipython3",
   "version": "3.11.9"
  }
 },
 "nbformat": 4,
 "nbformat_minor": 2
}
