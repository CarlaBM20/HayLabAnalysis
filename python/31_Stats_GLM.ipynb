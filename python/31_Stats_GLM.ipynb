{
 "cells": [
  {
   "cell_type": "code",
   "execution_count": 46,
   "metadata": {},
   "outputs": [
    {
     "name": "stdout",
     "output_type": "stream",
     "text": [
      "         Mixed Linear Model Regression Results\n",
      "========================================================\n",
      "Model:              MixedLM Dependent Variable: Score   \n",
      "No. Observations:   8       Method:             REML    \n",
      "No. Groups:         3       Scale:              57.1644 \n",
      "Min. group size:    2       Log-Likelihood:     -22.0380\n",
      "Max. group size:    3       Converged:          No      \n",
      "Mean group size:    2.7                                 \n",
      "--------------------------------------------------------\n",
      "                Coef. Std.Err.   z   P>|z| [0.025 0.975]\n",
      "--------------------------------------------------------\n",
      "Intercept       5.000    1.909 2.619 0.009  1.258  8.742\n",
      "Treatment[T.BB] 6.500    1.944 3.344 0.001  2.690 10.310\n",
      "Subject Var     0.006                                   \n",
      "========================================================\n",
      "\n",
      "                   0        1                    2         3\n",
      "0             Model:  MixedLM  Dependent Variable:     Score\n",
      "1  No. Observations:        8              Method:      REML\n",
      "2        No. Groups:        3               Scale:   57.1644\n",
      "3   Min. group size:        2      Log-Likelihood:  -22.0380\n",
      "4   Max. group size:        3           Converged:        No\n",
      "5   Mean group size:      2.7                               \n",
      "Intercept          5.000239\n",
      "Treatment[T.BB]    6.499635\n",
      "Subject Var        0.000101\n",
      "dtype: float64\n",
      "5.0002392490500975\n"
     ]
    },
    {
     "name": "stderr",
     "output_type": "stream",
     "text": [
      "c:\\Users\\Manip2\\.conda\\envs\\minian311new2\\Lib\\site-packages\\statsmodels\\base\\model.py:607: ConvergenceWarning: Maximum Likelihood optimization failed to converge. Check mle_retvals\n",
      "  warnings.warn(\"Maximum Likelihood optimization failed to \"\n",
      "c:\\Users\\Manip2\\.conda\\envs\\minian311new2\\Lib\\site-packages\\statsmodels\\regression\\mixed_linear_model.py:2201: ConvergenceWarning: Retrying MixedLM optimization with lbfgs\n",
      "  warnings.warn(\n",
      "c:\\Users\\Manip2\\.conda\\envs\\minian311new2\\Lib\\site-packages\\statsmodels\\base\\model.py:607: ConvergenceWarning: Maximum Likelihood optimization failed to converge. Check mle_retvals\n",
      "  warnings.warn(\"Maximum Likelihood optimization failed to \"\n",
      "c:\\Users\\Manip2\\.conda\\envs\\minian311new2\\Lib\\site-packages\\statsmodels\\regression\\mixed_linear_model.py:2201: ConvergenceWarning: Retrying MixedLM optimization with cg\n",
      "  warnings.warn(\n",
      "c:\\Users\\Manip2\\.conda\\envs\\minian311new2\\Lib\\site-packages\\statsmodels\\base\\model.py:607: ConvergenceWarning: Maximum Likelihood optimization failed to converge. Check mle_retvals\n",
      "  warnings.warn(\"Maximum Likelihood optimization failed to \"\n",
      "c:\\Users\\Manip2\\.conda\\envs\\minian311new2\\Lib\\site-packages\\statsmodels\\regression\\mixed_linear_model.py:2207: ConvergenceWarning: MixedLM optimization failed, trying a different optimizer may help.\n",
      "  warnings.warn(msg, ConvergenceWarning)\n",
      "c:\\Users\\Manip2\\.conda\\envs\\minian311new2\\Lib\\site-packages\\statsmodels\\regression\\mixed_linear_model.py:2219: ConvergenceWarning: Gradient optimization failed, |grad| = 0.026396\n",
      "  warnings.warn(msg, ConvergenceWarning)\n",
      "c:\\Users\\Manip2\\.conda\\envs\\minian311new2\\Lib\\site-packages\\statsmodels\\regression\\mixed_linear_model.py:2238: ConvergenceWarning: The MLE may be on the boundary of the parameter space.\n",
      "  warnings.warn(msg, ConvergenceWarning)\n",
      "c:\\Users\\Manip2\\.conda\\envs\\minian311new2\\Lib\\site-packages\\statsmodels\\regression\\mixed_linear_model.py:2262: ConvergenceWarning: The Hessian matrix at the estimated parameter values is not positive definite.\n",
      "  warnings.warn(msg, ConvergenceWarning)\n"
     ]
    }
   ],
   "source": [
    "import statsmodels.api as sm\n",
    "import pandas as pd\n",
    "import matplotlib.pyplot as plt\n",
    "# Sample data\n",
    "data  = {\n",
    "    'Subject': ['A', 'A', 'B', 'B', 'B', 'C', 'C', 'C'],\n",
    "    'Treatment': ['AA', 'BB', 'AA', 'BB', 'AA','BB', 'AA', 'BB'],\n",
    "    'VigST': ['Ad', 'Bv', 'Ad', 'Bv','Ad', 'Bv','Ad', 'Bv'],\n",
    "    'Score': [10, 11, 11, 12, -11, 11, 10, 12]\n",
    "}\n",
    "\n",
    "df = pd.DataFrame(data)\n",
    "\n",
    "# Fit the mixed-effects model\n",
    "mixedlm_model = sm.MixedLM.from_formula(\"Score ~ Treatment\", groups='Subject', data=df)\n",
    "result = mixedlm_model.fit()\n",
    "\n",
    "print(result.summary())\n",
    "print(result.summary().tables[0])\n",
    "# Print model summary\n",
    "print(result.params)\n",
    "print(result.params['Intercept'])"
   ]
  },
  {
   "cell_type": "code",
   "execution_count": 73,
   "metadata": {},
   "outputs": [
    {
     "name": "stdout",
     "output_type": "stream",
     "text": [
      "0.009\n",
      "0.001\n",
      "5.000\n",
      "6.500\n",
      "                 Coef. Std.Err.      z  P>|z| [0.025  0.975]\n",
      "Intercept        5.000    1.909  2.619  0.009  1.258   8.742\n",
      "Treatment[T.BB]  6.500    1.944  3.344  0.001  2.690  10.310\n",
      "Subject Var      0.006                                      \n",
      "                   0        1                    2         3\n",
      "0             Model:  MixedLM  Dependent Variable:     Score\n",
      "1  No. Observations:        8              Method:      REML\n",
      "2        No. Groups:        3               Scale:   57.1644\n",
      "3   Min. group size:        2      Log-Likelihood:  -22.0380\n",
      "4   Max. group size:        3           Converged:        No\n",
      "5   Mean group size:      2.7                               \n"
     ]
    }
   ],
   "source": [
    "print(result.summary().tables[1]['P>|z|']['Intercept'])\n",
    "print(result.summary().tables[1]['P>|z|']['Treatment[T.BB]'])\n",
    "print(result.summary().tables[1]['Coef.']['Intercept'])\n",
    "print(result.summary().tables[1]['Coef.']['Treatment[T.BB]'])\n",
    "test=pd.DataFrame(result.summary().tables[1])\n",
    "print(test)\n",
    "test=pd.DataFrame(result.summary().tables[0])\n",
    "print(test)"
   ]
  }
 ],
 "metadata": {
  "kernelspec": {
   "display_name": "minian311new2",
   "language": "python",
   "name": "python3"
  },
  "language_info": {
   "codemirror_mode": {
    "name": "ipython",
    "version": 3
   },
   "file_extension": ".py",
   "mimetype": "text/x-python",
   "name": "python",
   "nbconvert_exporter": "python",
   "pygments_lexer": "ipython3",
   "version": "3.11.7"
  }
 },
 "nbformat": 4,
 "nbformat_minor": 2
}
