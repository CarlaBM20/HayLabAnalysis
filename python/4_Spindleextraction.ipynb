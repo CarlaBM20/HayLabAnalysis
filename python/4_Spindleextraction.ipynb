{
 "cells": [
  {
   "cell_type": "markdown",
   "metadata": {},
   "source": [
    "# Extraction of Spindles from Neocortex recordings\n",
    "\n",
    "Restarting from LFPwake0 and LFPwakeremoved.\n",
    "\n",
    "LFPwakeremoved will be used to determined signal variance for threshold adjustement. \n",
    "\n",
    "LFPwake0 will be used for time determination. "
   ]
  },
  {
   "cell_type": "markdown",
   "metadata": {},
   "source": [
    "## Load LFP and packages"
   ]
  },
  {
   "cell_type": "code",
   "execution_count": null,
   "metadata": {},
   "outputs": [],
   "source": [
    "from scipy import signal\n",
    "import numpy as np\n",
    "import matplotlib.pyplot as plt\n",
    "from matplotlib.widgets import Slider, Button, Cursor\n",
    "from scipy import fftpack\n",
    "import pandas as pd\n",
    "\n",
    "%matplotlib widget\n",
    "\n",
    "EMGboolean = pd.read_pickle('EMGframeBoolean_2.pkl')\n",
    "LFPwakeremoved = np.load('LFPwakeremoved_2.npy', mmap_mode= 'r')\n",
    "All = np.load('RawDataChannelExtractedDS_2.npy', mmap_mode= 'r')\n",
    "PFC = All[:, 1]\n",
    "PFCwakeremoved = LFPwakeremoved[:,0]\n",
    "S1 = All[:, 2]\n",
    "S1wakeremoved = LFPwakeremoved[:,1]"
   ]
  },
  {
   "cell_type": "markdown",
   "metadata": {},
   "source": [
    "# Band pass filter\n",
    "        Spindles: 8-20 Hz"
   ]
  },
  {
   "cell_type": "code",
   "execution_count": null,
   "metadata": {},
   "outputs": [],
   "source": [
    "# Filtre parameter:\n",
    "f_lowcut = 8.\n",
    "f_hicut = 20.\n",
    "fs = 1000\n",
    "nyq = 0.5 * fs\n",
    "N = 4                 # Filtre order\n",
    "Wn = [f_lowcut/nyq,f_hicut/nyq]  # Nyquist frequency fraction\n",
    "\n",
    "# Filtering:\n",
    "b, a = signal.butter(N, Wn, 'band')\n",
    "filt_PFC = signal.filtfilt(b, a, PFC)\n",
    "filt_PFCwakeremoved = signal.filtfilt(b, a, PFCwakeremoved)\n",
    "\n",
    "filt_S1 = signal.filtfilt(b, a, S1)\n",
    "filt_S1wakeremoved = signal.filtfilt(b, a, S1wakeremoved)\n",
    "\n",
    "# Plot\n",
    "# times = np.arange(0, PFC.size/fs, 1./fs)\n",
    "# timesmin = np.arange(0, PFC.size/fs/60, 1./fs/60)\n",
    "# fig, ax = plt.subplots()\n",
    "# ax.plot(timesmin, filt_S1)"
   ]
  },
  {
   "cell_type": "markdown",
   "metadata": {},
   "source": [
    "## Continuous Wavelet Transform and projection calculation\n",
    "\n",
    "First on signal with no wake time to determine sd of signal"
   ]
  },
  {
   "cell_type": "code",
   "execution_count": null,
   "metadata": {},
   "outputs": [],
   "source": [
    "# Parameter and computation of CWT\n",
    "w = 10.\n",
    "freq = np.linspace(8, 20, 24)\n",
    "widths = w*fs / (2*freq*np.pi)\n",
    "PFCNWcwt = signal.cwt(filt_PFCwakeremoved, signal.morlet2, widths, w=w)\n",
    "S1NWcwt = signal.cwt(filt_S1wakeremoved, signal.morlet2, widths, w=w)\n",
    "\n",
    "# Projection calculation PFC\n",
    "absPFCNWcwt = np.absolute(PFCNWcwt)\n",
    "proj_PFCNWcwt = np.sum(absPFCNWcwt, axis = 0)/24\n",
    "sdproj_PFCcwt = np.std(proj_PFCNWcwt)\n",
    "sd7proj_PFCcwt = sdproj_PFCcwt*7\n",
    "\n",
    "# Projection calculation S1\n",
    "absS1NWcwt = np.absolute(S1NWcwt)\n",
    "proj_S1NWcwt = np.sum(absS1NWcwt, axis = 0)/24\n",
    "sdproj_S1cwt = np.std(proj_S1NWcwt)\n",
    "sd7proj_S1cwt = sdproj_S1cwt*7\n"
   ]
  },
  {
   "cell_type": "markdown",
   "metadata": {},
   "source": [
    "Second on the signal for which wake times have been zeroed"
   ]
  },
  {
   "cell_type": "code",
   "execution_count": null,
   "metadata": {},
   "outputs": [],
   "source": [
    "#####################################\n",
    "########        PFC         #########\n",
    "#####################################\n",
    "# Conservative boolean filtering of PFC filtered signal\n",
    "BooleanCons = EMGboolean['BooleanConservative']\n",
    "fPFCwake0C = filt_PFC.copy()\n",
    "fPFCwake0C[BooleanCons] = 0\n",
    "PFCwake0C = PFC.copy()\n",
    "PFCwake0C[BooleanCons] = 0\n",
    "# Liberal boolean filtering of PFC filtered signal\n",
    "BooleanLib = EMGboolean['BooleanLiberal']\n",
    "fPFCwake0L = filt_PFC.copy()\n",
    "fPFCwake0L[BooleanLib] = 0\n",
    "PFCwake0L = PFC.copy()\n",
    "PFCwake0L[BooleanLib] = 0\n",
    "\n",
    "# Computation of CWT\n",
    "PFCcwtWake0cons = signal.cwt(fPFCwake0C, signal.morlet2, widths, w=w)\n",
    "PFCcwtWake0lib = signal.cwt(fPFCwake0L, signal.morlet2, widths, w=w)\n",
    "\n",
    "# Projection calculation\n",
    "absPFCW0Ccwt = np.absolute(PFCcwtWake0cons)\n",
    "proj_PFCW0Ccwt = np.sum(absPFCW0Ccwt, axis = 0)/24\n",
    "absPFCW0Lcwt = np.absolute(PFCcwtWake0lib)\n",
    "proj_PFCW0Lcwt = np.sum(absPFCW0Lcwt, axis = 0)/24\n",
    "\n",
    "#####################################\n",
    "########         S1         #########\n",
    "#####################################\n",
    "# Conservative boolean filtering of S1 filtered signal\n",
    "BooleanCons = EMGboolean['BooleanConservative']\n",
    "fS1wake0C = filt_S1.copy()\n",
    "fS1wake0C[BooleanCons] = 0\n",
    "S1wake0C = S1.copy()\n",
    "S1wake0C[BooleanCons] = 0\n",
    "# Liberal boolean filtering of S1 filtered signal\n",
    "BooleanLib = EMGboolean['BooleanLiberal']\n",
    "fS1wake0L = filt_S1.copy()\n",
    "fS1wake0L[BooleanLib] = 0\n",
    "S1wake0L = S1.copy()\n",
    "S1wake0L[BooleanLib] = 0\n",
    "\n",
    "# Computation of CWT\n",
    "S1cwtWake0cons = signal.cwt(fS1wake0C, signal.morlet2, widths, w=w)\n",
    "S1cwtWake0lib = signal.cwt(fS1wake0L, signal.morlet2, widths, w=w)\n",
    "\n",
    "# Projection calculation\n",
    "absS1W0Ccwt = np.absolute(S1cwtWake0cons)\n",
    "proj_S1W0Ccwt = np.sum(absS1W0Ccwt, axis = 0)/24\n",
    "absS1W0Lcwt = np.absolute(S1cwtWake0lib)\n",
    "proj_S1W0Lcwt = np.sum(absS1W0Lcwt, axis = 0)/24"
   ]
  },
  {
   "cell_type": "markdown",
   "metadata": {},
   "source": [
    "### Display subset \n",
    "\n",
    "Not necessary cell to run"
   ]
  },
  {
   "cell_type": "code",
   "execution_count": null,
   "metadata": {},
   "outputs": [],
   "source": [
    "# Defining subset\n",
    "start = 00000\n",
    "end = 800000\n",
    "\n",
    "times = np.arange(0, PFC.size/fs, 1./fs)\n",
    "tt = times[start:end]\n",
    "Cortext = PFCwake0C[start:end]/10\n",
    "#Cortexcwtt = PFCNWcwt[:, start:end]\n",
    "proj_Cortexcwtt = proj_PFCW0Ccwt[start:end]\n",
    "\n",
    "plt.close('all')\n",
    "plt.axhline(sdproj_PFCcwt, color='r') # horizontal\n",
    "plt.axhline(sd7proj_PFCcwt, color='g') # horizontal\n",
    "plt.plot(tt, Cortext)\n",
    "plt.plot(tt, proj_Cortexcwtt)\n",
    "plt.show()\n",
    "\n",
    "## WARNING: Plot only short subsets (~ 10 s), too memory consuming otherwise\n",
    "#plt.pcolormesh(tt, freq, np.abs(PFCcwtt), cmap='viridis', shading='gouraud')\n",
    "#plt.plot(tt, PFCt)\n",
    "#plt.show()\n"
   ]
  },
  {
   "cell_type": "markdown",
   "metadata": {},
   "source": [
    "Display with ephyviewer, not needed"
   ]
  },
  {
   "cell_type": "code",
   "execution_count": null,
   "metadata": {},
   "outputs": [],
   "source": [
    "from ephyviewer import mkQApp, MainViewer, TraceViewer\n",
    "\n",
    "combined = np.stack([PFC, filt_PFC, proj_PFCW0Ccwt, proj_PFCW0Lcwt, S1, filt_S1, proj_S1W0Ccwt, proj_S1W0Lcwt], axis = 1)\n",
    "\n",
    "app = mkQApp()\n",
    "\n",
    "sample_rate = 1000.\n",
    "t_start = 0.\n",
    "\n",
    "#Create the main window that can contain several viewers\n",
    "win = MainViewer()\n",
    "view1 = TraceViewer.from_numpy(combined, sample_rate, t_start, 'Signals')\n",
    "win.add_view(view1)\n",
    "\n",
    "#Parameters can be set in script\n",
    "#view1.params['scale_mode'] = 'same_for_all'\n",
    "view1.params['display_labels'] = True\n",
    "#And also parameters for each channel\n",
    "view1.by_channel_params['ch0', 'color'] = '#ffffff'\n",
    "view1.by_channel_params['ch1', 'color'] = '#0055ff'\n",
    "view1.by_channel_params['ch2', 'color'] = '#ff5500'\n",
    "view1.by_channel_params['ch3', 'color'] = '#ffffff'\n",
    "view1.by_channel_params['ch4', 'color'] = '#ffffff'\n",
    "view1.by_channel_params['ch5', 'color'] = '#0055ff'\n",
    "view1.by_channel_params['ch6', 'color'] = '#ff5500'\n",
    "view1.by_channel_params['ch7', 'color'] = '#ffffff'\n",
    "\n",
    "view1.by_channel_params['ch0', 'gain'] = 0.05\n",
    "view1.by_channel_params['ch1', 'gain'] = 0.1\n",
    "view1.by_channel_params['ch2', 'gain'] = 0.1\n",
    "view1.by_channel_params['ch3', 'gain'] = 0.1\n",
    "view1.by_channel_params['ch4', 'gain'] = 0.05\n",
    "view1.by_channel_params['ch5', 'gain'] = 0.1\n",
    "view1.by_channel_params['ch6', 'gain'] = 0.1\n",
    "view1.by_channel_params['ch7', 'gain'] = 0.1\n",
    "\n",
    "view1.by_channel_params['ch0', 'offset'] = 200\n",
    "view1.by_channel_params['ch1', 'offset'] = 0\n",
    "view1.by_channel_params['ch2', 'offset'] = 0\n",
    "view1.by_channel_params['ch3', 'offset'] = 0\n",
    "view1.by_channel_params['ch4', 'offset'] = -200\n",
    "view1.by_channel_params['ch5', 'offset'] = -400\n",
    "view1.by_channel_params['ch6', 'offset'] = -400\n",
    "view1.by_channel_params['ch7', 'offset'] = -400\n",
    "\n",
    "\n",
    "#Run\n",
    "win.show()\n",
    "app.exec_()"
   ]
  },
  {
   "cell_type": "markdown",
   "metadata": {},
   "source": [
    "## Extracting Spindles and determining main properties \n",
    "\n",
    "First extraction of spindle peaks, initiation, end and width"
   ]
  },
  {
   "cell_type": "code",
   "execution_count": null,
   "metadata": {},
   "outputs": [],
   "source": [
    "from scipy.signal import find_peaks\n",
    "from scipy.signal import chirp, find_peaks, peak_widths\n",
    "\n",
    "cortex = S1\n",
    "proj_cortex = proj_S1W0Lcwt\n",
    "proj_cortexC = proj_S1W0Ccwt\n",
    "sd_proj_cortex = sd7proj_S1cwt\n",
    "lib_wake0_cortex = S1cwtWake0lib\n",
    "filt_cortex = filt_S1\n",
    "\n",
    "# 7 sd threshold\n",
    "peaks, properties = find_peaks(proj_cortex, prominence=1, width=200, height=sd_proj_cortex)\n",
    "properties[\"prominences\"], properties[\"widths\"]\n",
    "\n",
    "# Spindles boundaries taken at 70% from peak of intensity. This means that the spindles with small amplitude will be longer than the big ones.\n",
    "results_width = peak_widths(proj_cortex, peaks, rel_height=0.6)\n",
    "\n",
    "# Organise results in numpy array\n",
    "peaks2 = peaks.reshape(len(peaks),1)\n",
    "npresults_width = np.array(results_width).reshape(4,-1)\n",
    "Spindle_prop = np.append(peaks2, results_width).reshape(5,len(peaks2)).round()\n",
    "peaks.shape"
   ]
  },
  {
   "cell_type": "markdown",
   "metadata": {},
   "source": [
    "Second extraction of main frequency and power "
   ]
  },
  {
   "cell_type": "code",
   "execution_count": null,
   "metadata": {},
   "outputs": [],
   "source": [
    "projMaxP_cwtmg = np.max(lib_wake0_cortex, axis = 0)\n",
    "projMaxF_cwtmg = np.argmax(lib_wake0_cortex, axis = 0)/2 + 8\n",
    "projMaxP_cwtmg.shape\n",
    "\n",
    "nb_Spindles = np.arange(0,len(peaks),1)\n",
    "data = np.zeros((len(peaks),4))\n",
    "\n",
    "for tt in nb_Spindles:\n",
    "    Spindle_start = int(Spindle_prop[3,tt])\n",
    "    Spindle_stop = int(Spindle_prop[4,tt])\n",
    "    Spindle_MaxP = projMaxP_cwtmg[Spindle_start:Spindle_stop]\n",
    "    Spindle_MaxF = projMaxF_cwtmg[Spindle_start:Spindle_stop]\n",
    "    data[tt, 0] = max(Spindle_MaxF).round()\n",
    "    data[tt, 1] = max(Spindle_MaxP).round()\n",
    "    data[tt, 2] = round(sum(Spindle_MaxF)/len(Spindle_MaxF))\n",
    "    data[tt, 3] = round(sum(Spindle_MaxP)/len(Spindle_MaxP))\n",
    "\n",
    "param_Spindle = pd.DataFrame(data, columns = ['Max freq', 'Max int', 'Avg freq', 'Avg int'])\n",
    "tSpindle_prop = Spindle_prop.transpose()\n",
    "pd_prop_Spindle = pd.DataFrame(tSpindle_prop, columns = ['peak time', 'Duration', 'peak amp', 'start time', 'end time'])\n",
    "All_Spindle = pd.concat([pd_prop_Spindle, param_Spindle], axis=1)"
   ]
  },
  {
   "cell_type": "markdown",
   "metadata": {},
   "source": [
    "### Store the results in All_Spindle_prop pd dataframe and save as pkl/csv for post processing.\n",
    "\n",
    "End of Notebook. "
   ]
  },
  {
   "cell_type": "code",
   "execution_count": null,
   "metadata": {},
   "outputs": [],
   "source": [
    "All_Spindle.to_pickle('Spindleproperties_S1_2.pkl')\n",
    "All_Spindle.to_csv('Spindleproperties_S1_2.csv', sep = ',')\n",
    "\n",
    "# if done and no intention to display for assessment\n",
    "#%reset\n",
    "#plt.close('all')"
   ]
  },
  {
   "cell_type": "markdown",
   "metadata": {},
   "source": [
    "### Display\n",
    "\n",
    "ephys viewer to check Spindle detection"
   ]
  },
  {
   "cell_type": "code",
   "execution_count": null,
   "metadata": {},
   "outputs": [],
   "source": [
    "from ephyviewer import mkQApp, MainViewer, TraceViewer\n",
    "from ephyviewer import AnalogSignalSourceWithScatter\n",
    "import ephyviewer\n",
    "\n",
    "app = mkQApp()\n",
    "\n",
    "sample_rate = 1000.\n",
    "t_start = 0.\n",
    "\n",
    "combined = np.stack([cortex, filt_cortex, proj_cortexC, proj_cortex], axis = 1)\n",
    "\n",
    "Spindle_peak = peaks\n",
    "Spindle_start = Spindle_prop[3,:].astype(int)\n",
    "Spindle_end = Spindle_prop[4,:].astype(int)\n",
    "\n",
    "#create 2 familly scatters from theses 2 indexes\n",
    "scatter_indexes = {0: Spindle_peak, 1: Spindle_start, 2: Spindle_end}\n",
    "#and asign them to some channels each\n",
    "scatter_channels = {0: [1, 2], 1: [0, 1], 2: [0, 1]}\n",
    "source = AnalogSignalSourceWithScatter(combined, sample_rate, t_start, scatter_indexes, scatter_channels)\n",
    "\n",
    "#Create the main window that can contain several viewers\n",
    "win = MainViewer(debug=True, show_auto_scale=True)\n",
    "\n",
    "#create a viewer for signal with TraceViewer\n",
    "#connected to the signal source\n",
    "view1 = TraceViewer(source=source)\n",
    "\n",
    "#Parameters can be set in script\n",
    "#view1.params['scale_mode'] = 'same_for_all'\n",
    "view1.params['display_labels'] = True\n",
    "#And also parameters for each channel\n",
    "view1.by_channel_params['ch0', 'color'] = '#ffffff'\n",
    "view1.by_channel_params['ch1', 'color'] = '#0055ff'\n",
    "view1.by_channel_params['ch2', 'color'] = '#ff5500'\n",
    "view1.by_channel_params['ch3', 'color'] = '#ffffff'\n",
    "\n",
    "view1.by_channel_params['ch0', 'gain'] = 0.003\n",
    "view1.by_channel_params['ch1', 'gain'] = 0.004\n",
    "view1.by_channel_params['ch2', 'gain'] = 0.002\n",
    "view1.by_channel_params['ch3', 'gain'] = 0.002\n",
    "\n",
    "\n",
    "view1.by_channel_params['ch0', 'offset'] = 6\n",
    "view1.by_channel_params['ch1', 'offset'] = -1\n",
    "view1.by_channel_params['ch2', 'offset'] = -1\n",
    "view1.by_channel_params['ch3', 'offset'] = -1\n",
    "\n",
    "#put this viewer in the main window\n",
    "win.add_view(view1)\n",
    "\n",
    "#Run\n",
    "win.show()\n",
    "app.exec_()"
   ]
  }
 ],
 "metadata": {
  "interpreter": {
   "hash": "984d3fbee8ffa490637705ae3d7233e001ab0304f3daaca07b5aa8569b88ca53"
  },
  "kernelspec": {
   "display_name": "Python 3.9.12 ('formation')",
   "language": "python",
   "name": "python3"
  },
  "language_info": {
   "codemirror_mode": {
    "name": "ipython",
    "version": 3
   },
   "file_extension": ".py",
   "mimetype": "text/x-python",
   "name": "python",
   "nbconvert_exporter": "python",
   "pygments_lexer": "ipython3",
   "version": "3.9.12"
  },
  "orig_nbformat": 4
 },
 "nbformat": 4,
 "nbformat_minor": 2
}
