{
 "cells": [
  {
   "cell_type": "markdown",
   "metadata": {},
   "source": [
    "# Extract values to be able to synchronise Miniscope, webcam and ephys\n",
    "\n",
    "Webcam not synchronised at the moment because there is no conflict between OE_miniscope and miniscope timestamps. "
   ]
  },
  {
   "cell_type": "markdown",
   "metadata": {},
   "source": [
    "## Initialize"
   ]
  },
  {
   "cell_type": "markdown",
   "metadata": {
    "tags": []
   },
   "source": [
    "### Load the required packages (and many more that are not useful)"
   ]
  },
  {
   "cell_type": "code",
   "execution_count": 4,
   "metadata": {},
   "outputs": [],
   "source": [
    "import numpy as np\n",
    "import csv\n",
    "from pathlib import Path\n",
    "import xarray as xr\n",
    "import pandas as pd\n",
    "import matplotlib.pyplot as plt\n",
    "from ipyfilechooser import FileChooser"
   ]
  },
  {
   "cell_type": "markdown",
   "metadata": {
    "tags": []
   },
   "source": [
    "## Import the files"
   ]
  },
  {
   "cell_type": "markdown",
   "metadata": {
    "tags": []
   },
   "source": [
    "### Define paths"
   ]
  },
  {
   "cell_type": "code",
   "execution_count": 6,
   "metadata": {
    "tags": []
   },
   "outputs": [
    {
     "data": {
      "application/vnd.jupyter.widget-view+json": {
       "model_id": "01b366d8cf3046e3a0ce6f46fdf13a0e",
       "version_major": 2,
       "version_minor": 0
      },
      "text/plain": [
       "FileChooser(path='\\\\10.69.168.1\\crnldata\\waking\\audrey_hay\\L1imaging\\AnalysedMarch2023\\Gaelle\\Baseline_recordi…"
      ]
     },
     "metadata": {},
     "output_type": "display_data"
    },
    {
     "name": "stdout",
     "output_type": "stream",
     "text": [
      "Stored 'dpath' (str)\n",
      "Stored 'dpath' (str)\n",
      "Stored 'dpath' (str)\n"
     ]
    }
   ],
   "source": [
    "dpath = \"//10.69.168.1/crnldata/waking/audrey_hay/L1imaging/AnalysedMarch2023/Gaelle/Baseline_recording\"\n",
    "try:\n",
    "    %store -r dpath\n",
    "except:\n",
    "    print(\"data not in strore\")\n",
    "    dpath =\"//10.69.168.1/crnldata/waking/audrey_hay/L1imaging/AnalysedMarch2023/Gaelle/Baseline_recording\"\n",
    "\n",
    "fc1 = FileChooser(dpath,select_default=True, show_only_dirs = True, title = \"<b>Session folder</b>\")\n",
    "display(fc1)\n",
    "\n",
    "# Sample callback function\n",
    "def update_my_folder(chooser):\n",
    "    global dpath\n",
    "    dpath = chooser.selected\n",
    "    %store dpath\n",
    "    return \n",
    "\n",
    "# Register callback function\n",
    "fc1.register_callback(update_my_folder)"
   ]
  },
  {
   "cell_type": "markdown",
   "metadata": {
    "tags": []
   },
   "source": [
    "### Get timestamps"
   ]
  },
  {
   "cell_type": "code",
   "execution_count": 25,
   "metadata": {
    "tags": []
   },
   "outputs": [],
   "source": [
    "folder = Path(dpath)\n",
    "\n",
    "file_path= f'{folder}/V4_Miniscope/timeStamps.csv'\n",
    "stamps_miniscope = pd.read_csv(file_path)\n",
    "\n",
    "file_path= f'{folder}/OpenEphys/timeStamps.npy'\n",
    "stamps_OE = np.load(file_path)\n",
    "\n",
    "file_path= f'{folder}/TTL/timeStamps.npy'\n",
    "stamps_ttl = np.load(file_path)"
   ]
  },
  {
   "cell_type": "markdown",
   "metadata": {},
   "source": [
    "### Detect frame drops\n",
    "\n",
    "Compute the delta between each time stamp in the miniscope timestamp file, this allows for determining if and when a frame was dropped."
   ]
  },
  {
   "cell_type": "code",
   "execution_count": 35,
   "metadata": {},
   "outputs": [
    {
     "name": "stdout",
     "output_type": "stream",
     "text": [
      "The calculated frame rate is : 20 Hz\n"
     ]
    }
   ],
   "source": [
    "stamps_miniscope_time = stamps_miniscope['Time Stamp (ms)']\n",
    "delay_stamps = []\n",
    "number_frames = stamps_miniscope['Time Stamp (ms)'].count()\n",
    "for i in range(number_frames -1):\n",
    "    delay_stamps.append(stamps_miniscope_time[i+1] - stamps_miniscope_time[i])\n",
    "\n",
    "freq_acq = round(1000/(sum(delay_stamps)/len(delay_stamps)))\n",
    "print(\"The calculated frame rate is : {} Hz\".format(freq_acq) )"
   ]
  },
  {
   "cell_type": "code",
   "execution_count": 36,
   "metadata": {},
   "outputs": [],
   "source": [
    "delaystampMini = (1000/freq_acq)*1.5\n",
    "delaystampOE = (25000/freq_acq)*1.5*2"
   ]
  },
  {
   "cell_type": "code",
   "execution_count": 42,
   "metadata": {},
   "outputs": [
    {
     "data": {
      "image/png": "[encoded data removed]",
      "text/plain": [
       "<Figure size 640x480 with 1 Axes>"
      ]
     },
     "metadata": {},
     "output_type": "display_data"
    },
    {
     "name": "stdout",
     "output_type": "stream",
     "text": [
      "Threshold dropped frame= 75.0\n"
     ]
    }
   ],
   "source": [
    "plt.close()\n",
    "plt.plot(np.diff(stamps_miniscope_time))\n",
    "plt.show()\n",
    "print('Threshold dropped frame=',delaystampMini)"
   ]
  },
  {
   "cell_type": "code",
   "execution_count": 34,
   "metadata": {},
   "outputs": [
    {
     "name": "stdout",
     "output_type": "stream",
     "text": [
      "3 frame(s) were dropped : [23659, 23698, 28448]\n"
     ]
    }
   ],
   "source": [
    "delay_stamps = []\n",
    "dropped_frames = []\n",
    "number_frames = stamps_miniscope['Time Stamp (ms)'].count()\n",
    "for i in range(number_frames -1):\n",
    "    delay_stamps.append(stamps_miniscope_time[i+1] - stamps_miniscope_time[i])\n",
    "    if delay_stamps[i] > delaystampMini:\n",
    "        dropped_frames.append(i)\n",
    "\n",
    "print(\"{} frame(s) were dropped : {}\".format(len(dropped_frames),dropped_frames))"
   ]
  },
  {
   "cell_type": "markdown",
   "metadata": {},
   "source": [
    "### Normalise time stamps from open ephys signal"
   ]
  },
  {
   "cell_type": "code",
   "execution_count": 43,
   "metadata": {},
   "outputs": [
    {
     "name": "stdout",
     "output_type": "stream",
     "text": [
      "it reads ['413951488@25000Hz']\n"
     ]
    }
   ],
   "source": [
    "A = []\n",
    "file_path= f'{folder}/sync_messages.txt'\n",
    "with open(file_path, \"r\") as f:\n",
    "    lines = f.readlines()\n",
    "# Loop through all lines, ignoring header.\n",
    "# take last element to list (i.e. the process name)\n",
    "    for l in lines[1:]:\n",
    "        A.append(l.split()[-1])\n",
    "print(\"it reads {}\".format(A))\n",
    "\n",
    "# remove acquisition frequency that is normally always 25 kHz\n",
    "initial_OE_start = int(' '.join([x.split('@')[0] for x in A]))#int(''.join([x.strip('@25000Hz') for x in A]))\n",
    "acqFreqOE = int(' '.join([x[:-2].split('@')[1] for x in A]))\n"
   ]
  },
  {
   "cell_type": "code",
   "execution_count": 44,
   "metadata": {},
   "outputs": [
    {
     "data": {
      "text/plain": [
       "Miniscope start from 0                              0.30124\n",
       "Miniscope start from Acq time soft                413959019\n",
       "mini acq freq                                            20\n",
       "dropped frames                        [23659, 23698, 28448]\n",
       "dtype: object"
      ]
     },
     "execution_count": 44,
     "metadata": {},
     "output_type": "execute_result"
    }
   ],
   "source": [
    "acquisition_mini_start_n = (stamps_ttl[0]-initial_OE_start)/acqFreqOE\n",
    "acquisition_mini_start_a = stamps_ttl[0]\n",
    "\n",
    "outSumm = pd.Series([acquisition_mini_start_n, acquisition_mini_start_a, freq_acq, dropped_frames],\n",
    "              index=['Miniscope start from 0', 'Miniscope start from Acq time soft', 'mini acq freq', 'dropped frames'])\n",
    "outSumm\n"
   ]
  },
  {
   "cell_type": "code",
   "execution_count": 45,
   "metadata": {},
   "outputs": [],
   "source": [
    "filenameOut = folder / f'SynchroFile.xlsx'\n",
    "writer = pd.ExcelWriter(filenameOut)\n",
    "outSumm.to_excel(writer)\n",
    "writer.close()       "
   ]
  }
 ],
 "metadata": {
  "kernelspec": {
   "display_name": "minian311new2",
   "language": "python",
   "name": "python3"
  },
  "language_info": {
   "codemirror_mode": {
    "name": "ipython",
    "version": 3
   },
   "file_extension": ".py",
   "mimetype": "text/x-python",
   "name": "python",
   "nbconvert_exporter": "python",
   "pygments_lexer": "ipython3",
   "version": "3.11.7"
  }
 },
 "nbformat": 4,
 "nbformat_minor": 4
}
