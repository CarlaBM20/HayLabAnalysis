{
 "cells": [
  {
   "cell_type": "markdown",
   "metadata": {},
   "source": [
    "# Validate Minian outputs\n",
    "\n",
    "- Load\n",
    "    - spatial map (A) -> maybe to associate with a projection of neuron fluorescence\n",
    "    - temporal activity of detected neurons\n",
    "\n",
    "- Validate units\n",
    "- Extract and save relevant data for each selected unit\n",
    "    - spatial location (x, y); no need for shape\n",
    "    - Ca2+ trace\n",
    "    - Ca2+ peak time and amplitude\n",
    "    - Deconvolved spikes\n"
   ]
  },
  {
   "cell_type": "markdown",
   "metadata": {},
   "source": [
    "## Load the required packages (and many more that are not useful)"
   ]
  },
  {
   "cell_type": "code",
   "execution_count": null,
   "metadata": {},
   "outputs": [],
   "source": [
    "\n",
    "import numpy as np\n",
    "import csv\n",
    "from pathlib import Path\n",
    "import xarray as xr\n",
    "import pandas as pd\n",
    "from pandas import concat\n",
    "import matplotlib.pyplot as plt\n",
    "import itertools as itt\n",
    "import os\n",
    "import sys\n",
    "import json\n",
    "from scipy import signal\n",
    "from scipy.signal import find_peaks\n",
    "from scipy.signal import chirp, find_peaks, peak_widths\n",
    "\n",
    "import holoviews as hv\n",
    "import panel as pn\n",
    "import param\n",
    "from dask.distributed import Client, LocalCluster\n",
    "from holoviews.operation.datashader import datashade, regrid\n",
    "from holoviews.util import Dynamic\n",
    "from holoviews import opts\n",
    "from holoviews import Store\n",
    "from holoviews.operation.datashader import shade\n",
    "hv.extension('bokeh', 'matplotlib')\n",
    "#from IPython.core.display import display\n",
    "from IPython.display import display\n",
    "from ipyfilechooser import FileChooser\n",
    "\n",
    "\n",
    "\n",
    "#%reset"
   ]
  },
  {
   "cell_type": "code",
   "execution_count": null,
   "metadata": {},
   "outputs": [],
   "source": [
    "minian_path = os.path.join(os.path.abspath('..'),'minian')\n",
    "print(\"The folder used for minian procedures is : {}\".format(minian_path))\n",
    "\n",
    "sys.path.append(minian_path)\n",
    "from minian.utilities import (\n",
    "    TaskAnnotation,\n",
    "    get_optimal_chk,\n",
    "    load_videos,\n",
    "    open_minian,\n",
    "    save_minian,\n",
    ")"
   ]
  },
  {
   "cell_type": "markdown",
   "metadata": {},
   "source": [
    "## Import the minian files"
   ]
  },
  {
   "cell_type": "markdown",
   "metadata": {},
   "source": [
    "### Select the folder"
   ]
  },
  {
   "cell_type": "code",
   "execution_count": null,
   "metadata": {},
   "outputs": [],
   "source": [
    "try: # tries to retrieve dpath either from a previous run or from a previous notebook\n",
    "    %store -r dpath\n",
    "except:\n",
    "    print(\"the path was not defined in store\")\n",
    "    #dpath = \"/Users/mb/Documents/Syntuitio/AudreyHay/PlanB/ExampleRedLines/2022_08_06/13_30_01/My_V4_Miniscope/\"\n",
    "    dpath = \"//10.69.168.1/crnldata/waking/audrey_hay/L1imaging/AnalysedMarch2023/Gaelle/Baseline_recording\"\n",
    "\n",
    "fc1 = FileChooser(dpath,select_default=True, show_only_dirs = True, title = \"<b>Folder with videos</b>\")\n",
    "display(fc1)\n",
    "\n",
    "# Sample callback function\n",
    "def update_my_folder(chooser):\n",
    "    global dpath\n",
    "    dpath = chooser.selected\n",
    "    %store dpath\n",
    "    return \n",
    "\n",
    "# Register callback function\n",
    "fc1.register_callback(update_my_folder)\n",
    "\n"
   ]
  },
  {
   "cell_type": "markdown",
   "metadata": {},
   "source": [
    "### Import spatial map, Ca2+ traces, deconvolved spikes"
   ]
  },
  {
   "cell_type": "code",
   "execution_count": null,
   "metadata": {},
   "outputs": [],
   "source": [
    "minianversion = 'minian' # or 'minian_intermediate'\n",
    "\n",
    "folderMouse = Path(os.path.join(dpath,minianversion))\n",
    "print(folderMouse)\n",
    "minian_ds = open_minian(folderMouse)\n",
    "\n",
    "A = minian_ds['A']\n",
    "C = minian_ds['C']\n",
    "S = minian_ds['S']\n",
    "\n",
    "B = A['unit_id']\n",
    "series = B.to_series()\n",
    "D = series.count()\n",
    "\n",
    "idloc = A.idxmax(\"unit_id\")\n",
    "Hmax = A.idxmax(\"height\")\n",
    "Hmax2 = Hmax.max(\"width\")\n",
    "\n",
    "Wmax = A.idxmax(\"width\")\n",
    "Wmax2 = Wmax.max(\"height\")\n",
    "coord1 = Wmax2.to_series()\n",
    "coord2 = Hmax2.to_series()\n",
    "\n",
    "a = pd.concat([coord1,coord2], axis=1)\n",
    "unit = len(a)\n",
    "print(\"{} units have been found\".format(unit))"
   ]
  },
  {
   "cell_type": "markdown",
   "metadata": {},
   "source": [
    "## Plot either all cells or just the one of interest"
   ]
  },
  {
   "cell_type": "markdown",
   "metadata": {},
   "source": [
    "### Define the actions triggered by drop/keep buttons"
   ]
  },
  {
   "cell_type": "code",
   "execution_count": null,
   "metadata": {},
   "outputs": [],
   "source": [
    "class ActionSelect(param.Parameterized):\n",
    "    actionDrop = param.Action(default=lambda x: x.param.trigger('actionDrop'), label='Click here to drop!')\n",
    "    actionKeep = param.Action(default=lambda x: x.param.trigger('actionKeep'), label='Click here to keep!')\n",
    "\n",
    "    unit_to_keep=a.index.tolist()\n",
    "\n",
    "    unit = lambda: None\n",
    "    unit.value = 0\n",
    "\n",
    "    @param.depends('actionDrop')\n",
    "    def drop_unit(self):\n",
    "        number = self.unit.value\n",
    "        if number in self.unit_to_keep:\n",
    "            self.unit_to_keep.remove(number)\n",
    "           \n",
    "    @param.depends('actionKeep')\n",
    "    def keep_unit(self):\n",
    "        number = self.unit.value\n",
    "        if number not in self.unit_to_keep:\n",
    "            self.unit_to_keep.append(number)\n",
    "            self.unit_to_keep.sort()"
   ]
  },
  {
   "cell_type": "markdown",
   "metadata": {},
   "source": [
    "### Plot the spatial map for all cells + interactive Ca2+ trace"
   ]
  },
  {
   "cell_type": "code",
   "execution_count": 6,
   "metadata": {},
   "outputs": [],
   "source": [
    "\n",
    "output_size = 80\n",
    "hv.output(size=int(output_size))\n",
    "opts = dict(\n",
    "    plot=dict(colorbar=True, invert_yaxis=True),\n",
    "    style=dict(cmap=\"Viridis\"),\n",
    ")\n",
    "\n",
    "drop_unit_button = pn.widgets.Button(name='Drop this unit! >', button_type='primary')\n",
    "keep_unit_button = pn.widgets.Button(name='Keep this unit!')\n",
    "next_unit_button = pn.widgets.Button(name='Next unit > ', button_type='primary')\n",
    "previous_unit_button = pn.widgets.Button(name='< Previous unit')\n",
    "\n",
    "text_input = pn.widgets.TextInput(value='', width=300)\n",
    "\n",
    "# Define a callback function for the button\n",
    "def dropunit_callback(event):\n",
    "    selected_value = discrete_slider.value\n",
    "    text=f'Unit n°{selected_value} dropped!'\n",
    "    number = selected_value\n",
    "    if number in unit_to_keep:\n",
    "        unit_to_keep.remove(number)\n",
    "    nextunit_callback(event)\n",
    "    text_input.value = text\n",
    "\n",
    "# Define a callback function for the button\n",
    "def keepunit_callback(event):\n",
    "    selected_value = discrete_slider.value\n",
    "    text=f'Unit n°{selected_value} kept!'\n",
    "    number = selected_value\n",
    "    if number not in unit_to_keep:\n",
    "        unit_to_keep.append(number)\n",
    "        unit_to_keep.sort()\n",
    "    text_input.value = text\n",
    "\n",
    "# Define a callback function for the button\n",
    "def nextunit_callback(event):\n",
    "    position = np.where(a.index == discrete_slider.value)[0]\n",
    "    position = position[0]\n",
    "    nextunitvalue=a.index[position + 1] if position+2<=len(a) else a.index[0]\n",
    "    discrete_slider.value = nextunitvalue\n",
    "    \n",
    "# Define a callback function for the button\n",
    "def previousunit_callback(event):\n",
    "    position = np.where(a.index == discrete_slider.value)[0]\n",
    "    position = position[0]\n",
    "    previousunitvalue=a.index [position - 1]\n",
    "    discrete_slider.value = previousunitvalue\n",
    "\n",
    "drop_unit_button.on_click(dropunit_callback)\n",
    "keep_unit_button.on_click(keepunit_callback)\n",
    "next_unit_button.on_click(nextunit_callback)\n",
    "previous_unit_button.on_click(previousunit_callback)"
   ]
  },
  {
   "cell_type": "code",
   "execution_count": 228,
   "metadata": {},
   "outputs": [],
   "source": [
    "# Define interactivity\n",
    "@pn.depends(indexes=discrete_slider)\n",
    "def calciumtrace(indexes):\n",
    "    index = indexes\n",
    "    position = np.where(a.index == index)[0]\n",
    "    position = position[0]\n",
    "    return hv.Curve((C[position, :]), label=f'Unit n° {index}').opts(ylim=(-0.5, 20))\n",
    "\n",
    "@pn.depends(indexes=discrete_slider)\n",
    "def circlepath(indexes):\n",
    "    index = indexes\n",
    "    radius = 15\n",
    "    num_points=100\n",
    "    theta = np.linspace(0, 2*np.pi, num_points)\n",
    "    position = np.where(a.index == index)[0]\n",
    "    position = position[0]\n",
    "    return hv.Path((a.iloc[position, 0] + radius * np.cos(theta), a.iloc[position, 1] + radius * np.sin(theta)), group='keep').opts(ylim=(0, 600), xlim=(0, 600), line_color='red', line_width=3) #\n",
    "\n",
    "#@pn.depends(indexes=discrete_slider)\n",
    "#def imgZoom(indexes):\n",
    "#    index = indexes\n",
    "#    position = np.where(a.index == index)[0]\n",
    "#    position = position[0]\n",
    "#    xx1=int(a.iloc[position, 0]-20)\n",
    "#    xx2=int(a.iloc[position, 0]+20)\n",
    "#    yy1=int(a.iloc[position, 1]-20)\n",
    "#    yy2=int(a.iloc[position, 1]+20)   \n",
    "#    return hv.Image(A.max(\"unit_id\")[yy1:yy2,xx1:xx2], kdims=[\"width\", \"height\"]).opts(ylim=(xx1, xx2), xlim=(yy1, yy2), colorbar=False, invert_yaxis=False,cmap=\"Viridis\", shared_axes=False)"
   ]
  },
  {
   "cell_type": "markdown",
   "metadata": {},
   "source": [
    "### Plot the spatial map for all cells + interactive Ca2+ trace"
   ]
  },
  {
   "cell_type": "code",
   "execution_count": 229,
   "metadata": {},
   "outputs": [],
   "source": [
    "output_size = 180\n",
    "hv.output(size=int(output_size))\n",
    "\n",
    "image = hv.Image(\n",
    "    A.max(\"unit_id\").compute().astype(np.float32).rename(\"A\"),\n",
    "    kdims=[\"width\", \"height\"],\n",
    ")#.opts(**opts)\n",
    "\n",
    "#labels = hv.Labels([(a.iloc[i,0], a.iloc[i,1], a.index[i]) for i in range(5)]) #np.arange(50,100,1)\n",
    "labels = hv.Labels([(a.iloc[i,0], a.iloc[i,1], a.index[i]) for i in range(len(a))]).opts(text_color='orange',  text_font_size='9pt')\n",
    "\n",
    "plot_unit = hv.HoloMap({a.index[i]: hv.Curve((C[i,:]), group='keep') for i in range(len(a))}, kdims='Value').opts(ylim=(-0.5, 20)) #np.arange(50,100,1)\n",
    "\n",
    "\n",
    "selection = ActionSelect()\n",
    "\n",
    "layout = pn.Row(image * labels, plot_unit, pn.Column(\n",
    "        pn.panel(selection, show_name=False, margin=0, widgets={\"actionDrop\": {\"button_type\": \"primary\"}, }),\n",
    "    selection.drop_unit, selection.keep_unit,\n",
    "    )\n",
    "    )\n",
    "display(layout)\n",
    "\n"
   ]
  },
  {
   "cell_type": "markdown",
   "metadata": {},
   "source": [
    "Feel unit to keep"
   ]
  },
  {
   "cell_type": "code",
   "execution_count": null,
   "metadata": {},
   "outputs": [],
   "source": [
    "# fill in unit_to_kepp with cell_id of cells to keep \n",
    "\n",
    "print(\"The units kept are:\")\n",
    "print(selection.unit_to_keep)\n",
    "\n",
    "all_units=a.index.tolist()\n",
    "unit_to_drop = [e for e in all_units if e not in selection.unit_to_keep]\n",
    "print(\"The units dropped are:\")\n",
    "print(unit_to_drop)\n"
   ]
  },
  {
   "cell_type": "markdown",
   "metadata": {},
   "source": [
    "Remove dropped units"
   ]
  },
  {
   "cell_type": "code",
   "execution_count": null,
   "metadata": {},
   "outputs": [],
   "source": [
    "copyB = list(B.copy())\n",
    "for i in range(len(unit_to_drop)):\n",
    "    elem = unit_to_drop[i]\n",
    "    print(elem)\n",
    "    copyB.remove(elem) # IF CELL ID \n",
    "unit_to_keep = copyB\n",
    "\n",
    "A_upd = A.loc[unit_to_keep,:,:]\n",
    "C_upd = C.loc[unit_to_keep,:]\n",
    "S_upd = S.loc[unit_to_keep,:]\n",
    "\n",
    "TodropFile = folderMouse / f'TodropFileAB.json'\n",
    "\n",
    "with open(TodropFile, 'w') as f:\n",
    "    json.dump(unit_to_drop, f, indent=2) "
   ]
  },
  {
   "cell_type": "markdown",
   "metadata": {},
   "source": [
    "Extract Ca2+ peaks"
   ]
  },
  {
   "cell_type": "code",
   "execution_count": 256,
   "metadata": {},
   "outputs": [],
   "source": [
    "## For one neuron, need to be implemented for the whole set and concatenate the np into one xarray with \n",
    "\n",
    "Indiv_trace = C_upd[2,:].to_series()\n",
    "peaks, properties = find_peaks(Indiv_trace)\n",
    "# peak boundaries taken at 70% from peak of intensity. This means that the peaks with small amplitude will be longer than the big ones.\n",
    "results_width = peak_widths(Indiv_trace, peaks, rel_height=0.7)\n",
    "# Organise results in numpy array\n",
    "peaks2 = peaks.reshape(len(peaks),1)\n",
    "npresults_width = np.array(results_width).reshape(4,-1)\n",
    "peak_prop = np.append(peaks2, results_width).reshape(5,len(peaks2)).round()\n"
   ]
  },
  {
   "cell_type": "code",
   "execution_count": 257,
   "metadata": {},
   "outputs": [],
   "source": [
    "for i in range(len(unit_to_keep)):\n",
    "    Indiv_trace = C_upd[i,:].to_series()\n",
    "    peaks, properties = find_peaks(Indiv_trace)\n",
    "# peak boundaries taken at 70% from peak of intensity. This means that the peaks with small amplitude will be longer than the big ones.\n",
    "    results_width = peak_widths(Indiv_trace, peaks, rel_height=0.7)\n",
    "# Organise results in numpy array\n",
    "    peaks2 = peaks.reshape(len(peaks),1)\n",
    "    npresults_width = np.array(results_width).reshape(4,-1)\n",
    "    peak_prop = np.append(peaks2, results_width).reshape(5,len(peaks2)).round()"
   ]
  },
  {
   "cell_type": "code",
   "execution_count": 258,
   "metadata": {},
   "outputs": [],
   "source": [
    "for i in range((unit)):\n",
    "    file_path=folderMouse\n",
    "    subfolder = file_path.parents[1].stem\n",
    "    if subfolder == 'continuous':\n",
    "        recording = file_path.parents[2].stem.replace('recording','')\n",
    "        print(recording)\n",
    "        file = file_path.stem\n",
    "        print(recording, file)\n",
    "        np_arr = np.load(file_path)\n",
    "        datalen = len(np_arr)\n",
    "        print(file, datalen)\n",
    "        if recording == 1: #not in TTL_stamp2:\n",
    "            TTL_stamp2.append(recording)\n",
    "            coords = {\n",
    "                'channels' : np.array(['synchronized_timestamps', 'timestamps']),\n",
    "                'duration_rec' : np.arange(datalen)\n",
    "            }\n",
    "            globals()[f\"StampsCont_{recording}\"] = xr.DataArray(coords=coords, dims=['channels', 'duration_rec'])\n",
    "        globals()[f\"StampsCont_{recording}\"].loc[file,:] = np_arr   \n"
   ]
  },
  {
   "cell_type": "code",
   "execution_count": null,
   "metadata": {},
   "outputs": [],
   "source": [
    "\"\"\"\n",
    "MapSessionsPath = folderMouse.parents[2] / f'mappings.pkl'\n",
    "MapSessions = pd.read_pickle(MapSessionsPath)\n",
    "MapSessions\n",
    "\"\"\""
   ]
  }
 ],
 "metadata": {
  "kernelspec": {
   "display_name": "Python 3.8.12 ('minian')",
   "language": "python",
   "name": "python3"
  },
  "language_info": {
   "codemirror_mode": {
    "name": "ipython",
    "version": 3
   },
   "file_extension": ".py",
   "mimetype": "text/x-python",
   "name": "python",
   "nbconvert_exporter": "python",
   "pygments_lexer": "ipython3",
   "version": "3.11.8"
  },
  "orig_nbformat": 4,
  "vscode": {
   "interpreter": {
    "hash": "d28f0aa69d972f186b6eef62f149b885b857325c1e4e259a67006c9c0c737cc7"
   }
  }
 },
 "nbformat": 4,
 "nbformat_minor": 2
}
