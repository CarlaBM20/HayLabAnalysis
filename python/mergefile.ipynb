{
 "cells": [
  {
   "cell_type": "code",
   "execution_count": null,
   "metadata": {},
   "outputs": [],
   "source": [
    "from pathlib import Path\n",
    "import numpy as np\n",
    "\n",
    "# Define the base folder path\n",
    "folder_base = Path('C:/Users/AudreyHay/Desktop/fusion 20 février')\n",
    "\n",
    "# List of filenames\n",
    "filenames = ['RawDataChannelExtractedDS21.npy', 'RawDataChannelExtractedDS22.npy', \n",
    "              'RawDataChannelExtractedDS23.npy', 'RawDataChannelExtractedDS24.npy']\n",
    "\n",
    "# Initialize an empty array to store the merged data\n",
    "nCanaux = 32 # nombre de canaux de tes enregistrements\n",
    "merged_data = np.empty(shape=[nCanaux, 0])\n",
    "\n",
   "# Loop through each file\n",
    "for filename in filenames:\n",
    "  # Load the current file\n",
    "  file_data = np.load(folder_base / filename)\n",
    "  \n",
    "  merged_data = np.append(merged_data, file_data, axis=1)\n",
    "print(merged_data.shape)\n",
    "# Save the merged data to a new file (optional)\n",
    "merged_filename = 'merged_data.npy'\n",
    "np.save(folder_base / merged_filename, merged_data)\n",
    "\n",
    "print(f\"Files successfully merged into: {folder_base / merged_filename}\")\n",
    "\n",
    "\n"
   ]
  },
  {
   "cell_type": "code",
   "execution_count": null,
   "metadata": {},
   "outputs": [],
   "source": []
  }
 ],
 "metadata": {
  "kernelspec": {
   "display_name": "env",
   "language": "python",
   "name": "python3"
  },
  "language_info": {
   "codemirror_mode": {
    "name": "ipython",
    "version": 3
   },
   "file_extension": ".py",
   "mimetype": "text/x-python",
   "name": "python",
   "nbconvert_exporter": "python",
   "pygments_lexer": "ipython3",
   "version": "3.11.8"
  }
 },
 "nbformat": 4,
 "nbformat_minor": 2
}
