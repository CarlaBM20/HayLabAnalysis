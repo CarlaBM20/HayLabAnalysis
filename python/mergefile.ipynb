{
 "cells": [
  {
   "cell_type": "code",
<<<<<<< HEAD
<<<<<<< HEAD
   "execution_count": 5,
   "metadata": {},
   "outputs": [
    {
     "ename": "ValueError",
     "evalue": "all the input array dimensions except for the concatenation axis must match exactly, but along dimension 1, the array at index 0 has size 4075008 and the array at index 1 has size 9034368",
     "output_type": "error",
     "traceback": [
      "\u001b[1;31m---------------------------------------------------------------------------\u001b[0m",
      "\u001b[1;31mValueError\u001b[0m                                Traceback (most recent call last)",
      "Cell \u001b[1;32mIn[5], line 27\u001b[0m\n\u001b[0;32m     24\u001b[0m     merged_data \u001b[38;5;241m=\u001b[39m file_data\n\u001b[0;32m     25\u001b[0m   \u001b[38;5;28;01melse\u001b[39;00m:\n\u001b[0;32m     26\u001b[0m     \u001b[38;5;66;03m# Concatenate the data along the desired axis (usually axis 0 for rows)\u001b[39;00m\n\u001b[1;32m---> 27\u001b[0m     merged_data \u001b[38;5;241m=\u001b[39m \u001b[43mnp\u001b[49m\u001b[38;5;241;43m.\u001b[39;49m\u001b[43mconcatenate\u001b[49m\u001b[43m(\u001b[49m\u001b[43m(\u001b[49m\u001b[43mmerged_data\u001b[49m\u001b[43m,\u001b[49m\u001b[43m \u001b[49m\u001b[43mfile_data\u001b[49m\u001b[43m)\u001b[49m\u001b[43m,\u001b[49m\u001b[43m \u001b[49m\u001b[43maxis\u001b[49m\u001b[38;5;241;43m=\u001b[39;49m\u001b[38;5;241;43m0\u001b[39;49m\u001b[43m)\u001b[49m\n\u001b[0;32m     29\u001b[0m \u001b[38;5;66;03m# Save the merged data to a new file (optional)\u001b[39;00m\n\u001b[0;32m     30\u001b[0m merged_filename \u001b[38;5;241m=\u001b[39m \u001b[38;5;124m'\u001b[39m\u001b[38;5;124mmerged_data.npy\u001b[39m\u001b[38;5;124m'\u001b[39m\n",
      "\u001b[1;31mValueError\u001b[0m: all the input array dimensions except for the concatenation axis must match exactly, but along dimension 1, the array at index 0 has size 4075008 and the array at index 1 has size 9034368"
     ]
    }
   ],
=======
   "execution_count": null,
   "metadata": {},
   "outputs": [],
>>>>>>> 6140f242c51330cd0d548d4da69572150e9ed81b
=======
   "execution_count": null,
   "metadata": {},
   "outputs": [],
>>>>>>> 6140f242c51330cd0d548d4da69572150e9ed81b
   "source": [
    "from pathlib import Path\n",
    "import numpy as np\n",
    "\n",
<<<<<<< HEAD
<<<<<<< HEAD
    "# Define the base folder path\n",
    "folder_base = Path('C:/Users/AudreyHay/Desktop/fusion 20 février')\n",
    "\n",
    "# List of filenames\n",
    "filenames = ['RawDataChannelExtractedDS21.npy', 'RawDataChannelExtractedDS22.npy', \n",
    "              'RawDataChannelExtractedDS23.npy', 'RawDataChannelExtractedDS24.npy']\n",
    "\n",
    "# Load the first file to get the data shape (assuming consistent shapes)\n",
    "data = np.load(folder_base / filenames[0])\n",
    "\n",
    "# Initialize an empty array to store the merged data\n",
    "merged_data = None\n",
    "\n",
    "# Loop through each file\n",
    "for filename in filenames:\n",
    "  # Load the current file\n",
    "  file_data = np.load(folder_base / filename)\n",
    "  \n",
    "  # Check if it's the first iteration (to initialize merged_data)\n",
    "  if merged_data is None:\n",
    "    merged_data = file_data\n",
    "  else:\n",
    "    # Concatenate the data along the desired axis (usually axis 0 for rows)\n",
    "    merged_data = np.concatenate((merged_data, file_data), axis=0)\n",
    "\n",
    "# Save the merged data to a new file (optional)\n",
    "merged_filename = 'merged_data.npy'\n",
    "np.save(folder_base / merged_filename, merged_data)\n",
    "\n",
    "print(f\"Files successfully merged into: {folder_base / merged_filename}\")\n",
    "\n",
    "\n"
   ]
=======
=======
>>>>>>> 6140f242c51330cd0d548d4da69572150e9ed81b
    "# Chemin de base\n",
    "folder_base = Path('C:/Users/AudreyHay/Desktop/fusion 20 février')\n",
    "\n",
    "# Noms des fichiers à fusionner\n",
    "noms_fichiers = ['RawDataChannelExtractedDS21.npy', 'RawDataChannelExtractedDS22.npy', 'RawDataChannelExtractedDS23.npy', 'RawDataChannelExtractedDS24.npy']\n",
    "\n",
    "# Initialiser une liste pour stocker les données des fichiers\n",
    "#donnees_fusionnees = []\n",
    "nCanaux = 32 # nombre de canaux de tes enregistrements\n",
    "donnees_fusionnees = np.empty(shape=[nCanaux, 0])\n",
    "\n",
    "# Charger chaque fichier et redimensionner les données pour qu'elles aient la même taille le long de l'axe de fusion\n",
    "max_shape = None\n",
    "for nom_fichier in noms_fichiers:\n",
    "    chemin_fichier = folder_base / nom_fichier\n",
    "    donnees = np.load(chemin_fichier)\n",
    "    print(donnees.shape)\n",
    "    donnees_fusionnees = np.append(donnees_fusionnees, donnees, axis=1)\n",
    "    \n",
    "print(donnees_fusionnees.shape)\n",
    "chemin_fusion = folder_base / 'fusion.npy'\n",
    "np.save(chemin_fusion, donnees_fusionnees)\n",
    "\n",
    "print(\"Les fichiers .npy ont été fusionnés avec succès ! \")\n",
    "\n"
   ]
  },
  {
   "cell_type": "code",
   "execution_count": null,
   "metadata": {},
   "outputs": [],
   "source": []
<<<<<<< HEAD
>>>>>>> 6140f242c51330cd0d548d4da69572150e9ed81b
=======
>>>>>>> 6140f242c51330cd0d548d4da69572150e9ed81b
  }
 ],
 "metadata": {
  "kernelspec": {
   "display_name": "env",
   "language": "python",
   "name": "python3"
  },
  "language_info": {
   "codemirror_mode": {
    "name": "ipython",
    "version": 3
   },
   "file_extension": ".py",
   "mimetype": "text/x-python",
   "name": "python",
   "nbconvert_exporter": "python",
   "pygments_lexer": "ipython3",
<<<<<<< HEAD
<<<<<<< HEAD
   "version": "3.9.19"
=======
   "version": "3.11.8"
>>>>>>> 6140f242c51330cd0d548d4da69572150e9ed81b
=======
   "version": "3.11.8"
>>>>>>> 6140f242c51330cd0d548d4da69572150e9ed81b
  }
 },
 "nbformat": 4,
 "nbformat_minor": 2
}
