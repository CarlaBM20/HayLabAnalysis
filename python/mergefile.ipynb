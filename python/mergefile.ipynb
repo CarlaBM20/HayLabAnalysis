{
 "cells": [
  {
   "cell_type": "code",
   "execution_count": null,
   "metadata": {},
   "outputs": [],
   "source": [
    "from pathlib import Path\n",
    "import numpy as np\n",
    "\n",
    "# Chemin de base\n",
    "folder_base = Path('C:/Users/AudreyHay/Desktop/fusion 20 février')\n",
    "\n",
    "# Noms des fichiers à fusionner\n",
    "noms_fichiers = ['RawDataChannelExtractedDS21.npy', 'RawDataChannelExtractedDS22.npy', 'RawDataChannelExtractedDS23.npy', 'RawDataChannelExtractedDS24.npy']\n",
    "\n",
    "# Initialiser une liste pour stocker les données des fichiers\n",
    "#donnees_fusionnees = []\n",
    "nCanaux = 32 # nombre de canaux de tes enregistrements\n",
    "donnees_fusionnees = np.empty(shape=[nCanaux, 0])\n",
    "\n",
    "# Charger chaque fichier et redimensionner les données pour qu'elles aient la même taille le long de l'axe de fusion\n",
    "max_shape = None\n",
    "for nom_fichier in noms_fichiers:\n",
    "    chemin_fichier = folder_base / nom_fichier\n",
    "    donnees = np.load(chemin_fichier)\n",
    "    print(donnees.shape)\n",
    "    donnees_fusionnees = np.append(donnees_fusionnees, donnees, axis=1)\n",
    "    \n",
    "print(donnees_fusionnees.shape)\n",
    "chemin_fusion = folder_base / 'fusion.npy'\n",
    "np.save(chemin_fusion, donnees_fusionnees)\n",
    "\n",
    "print(\"Les fichiers .npy ont été fusionnés avec succès ! \")\n",
    "\n"
   ]
  },
  {
   "cell_type": "code",
   "execution_count": null,
   "metadata": {},
   "outputs": [],
   "source": []
  }
 ],
 "metadata": {
  "kernelspec": {
   "display_name": "env",
   "language": "python",
   "name": "python3"
  },
  "language_info": {
   "codemirror_mode": {
    "name": "ipython",
    "version": 3
   },
   "file_extension": ".py",
   "mimetype": "text/x-python",
   "name": "python",
   "nbconvert_exporter": "python",
   "pygments_lexer": "ipython3",
   "version": "3.11.8"
  }
 },
 "nbformat": 4,
 "nbformat_minor": 2
}
