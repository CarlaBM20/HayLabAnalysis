{
 "cells": [
  {
   "attachments": {},
   "cell_type": "markdown",
   "metadata": {},
   "source": [
    "## To match left and right SWR"
   ]
  },
  {
   "cell_type": "code",
   "execution_count": null,
   "metadata": {},
   "outputs": [],
   "source": [
    "from scipy import signal\n",
    "import numpy as np\n",
    "import matplotlib.pyplot as plt\n",
    "from matplotlib.widgets import Slider, Button, Cursor\n",
    "from scipy import fftpack\n",
    "import pandas as pd\n",
    "from pathlib import Path\n",
    "\n",
    "%matplotlib widget\n",
    "\n",
    "folder_base = Path('/Users/ahay/Documents/DATA/DREADDthalamus/20230223/2204/')\n",
    "\n",
    "filenamel = folder_base / f'Spindleproperties_PFCl.csv' #\n",
    "filenamer = folder_base / f'Spindleproperties_PFCr.csv' #\n",
    "\n",
    "Eventsl = pd.read_csv(filenamel)\n",
    "Eventsr = pd.read_csv(filenamer)\n"
   ]
  },
  {
   "cell_type": "code",
   "execution_count": null,
   "metadata": {},
   "outputs": [],
   "source": [
    "numptsl = len(Eventsl)\n",
    "numptsr = len(Eventsr)\n",
    "EventsrP = Eventsr[\"peak time\"]\n",
    "EventslP = Eventsl[\"peak time\"]\n",
    "\n",
    "matdist = np.empty((numptsl, numptsr), dtype=float)\n",
    "for i in range(numptsl):\n",
    "    for j in range(numptsr):\n",
    "        matdist[i,j] = abs(EventslP[i]- EventsrP[j])"
   ]
  },
  {
   "cell_type": "code",
   "execution_count": null,
   "metadata": {},
   "outputs": [],
   "source": [
    "plt.close()\n",
    "im = plt.imshow(matdist)\n",
    "plt.colorbar(im)\n",
    "plt.show()"
   ]
  },
  {
   "cell_type": "code",
   "execution_count": null,
   "metadata": {},
   "outputs": [],
   "source": [
    "mindistl = EventslP.copy()\n",
    "for i in range(numptsl):\n",
    "    mindistl[i] = min(matdist[i,:])\n",
    "\n",
    "mindistr = EventsrP.copy()\n",
    "for i in range(numptsr):\n",
    "    mindistr[i] = min(matdist[i,:])"
   ]
  },
  {
   "cell_type": "code",
   "execution_count": null,
   "metadata": {},
   "outputs": [],
   "source": [
    "OverlapR = len([e for e, elem in enumerate(mindistr) if elem < 1000])\n",
    "PerOverlapR = OverlapR/len(mindistr)\n",
    "OverlapL = len([e for e, elem in enumerate(mindistl) if elem < 1000])\n",
    "PerOverlapL = OverlapL/len(mindistl)\n",
    "print(PerOverlapL, PerOverlapR)\n",
    "\n"
   ]
  },
  {
   "cell_type": "code",
   "execution_count": null,
   "metadata": {},
   "outputs": [],
   "source": [
    "x = np.linspace(0, len(mindistr), num=len(mindistr))\n",
    "plt.close()\n",
    "fig, ax = plt.subplots()\n",
    "ax.plot(x, mindistr, marker='o',linestyle='')\n",
    "ax.set_ylim(0,20000)\n",
    "#ax.set_yscale('symlog')\n",
    "filename = folder_base / f'DistanceRight2205.svg'\n",
    "#plt.savefig(filename, format=\"svg\")\n",
    "plt.show()\n"
   ]
  },
  {
   "cell_type": "code",
   "execution_count": null,
   "metadata": {},
   "outputs": [],
   "source": [
    "\n",
    "filename3 = folder_base / f'SignalPFCr.npy'\n",
    "filename4 = folder_base / f'SignalPFCl.npy'\n",
    "\n",
    "CA1l = np.load(filename4, mmap_mode= 'r')\n",
    "CA1r = np.load(filename3, mmap_mode= 'r')\n",
    "\n",
    "\n",
    "A = np.concatenate((CA1l, CA1r), axis = 1)\n",
    "\n",
    "# use the choice method of the Generator class\n",
    "rng = np.random.default_rng()\n",
    "A_sampled = rng.choice(A, 1000)\n",
    "\n",
    "Points_CA1l = A_sampled[:,1]\n",
    "Points_CA1r = A_sampled[:,3]"
   ]
  },
  {
   "cell_type": "code",
   "execution_count": null,
   "metadata": {},
   "outputs": [],
   "source": [
    "r = np.corrcoef(Points_CA1l, Points_CA1r)\n",
    "r"
   ]
  },
  {
   "cell_type": "code",
   "execution_count": null,
   "metadata": {},
   "outputs": [],
   "source": [
    "plt.close()\n",
    "plt.plot(Points_CA1l, Points_CA1r, linestyle = '', marker = 'o', markersize = 5)"
   ]
  },
  {
   "cell_type": "code",
   "execution_count": null,
   "metadata": {},
   "outputs": [],
   "source": [
    "import seaborn as sns\n",
    "filename = folder_base / f'Correl2205.svg'\n",
    "A = {\"CA1L\": Points_CA1l, \"CA1R\": Points_CA1r}\n",
    "df = pd.DataFrame(data=A)\n",
    "\n",
    "sns.scatterplot(x=\"CA1L\", y=\"CA1R\", data=df)\n",
    "sns.lmplot(x=\"CA1L\", y=\"CA1R\", data=df)\n",
    "#plt.savefig(filename, format=\"svg\")\n",
    "plt.show()"
   ]
  },
  {
   "cell_type": "code",
   "execution_count": null,
   "metadata": {},
   "outputs": [],
   "source": [
    "from scipy import stats\n",
    "stats.pearsonr(Points_CA1l, Points_CA1r)"
   ]
  },
  {
   "cell_type": "code",
   "execution_count": null,
   "metadata": {},
   "outputs": [],
   "source": [
    "\n",
    "start = 1606000\n",
    "end = 1616000\n",
    "\n",
    "filename3 = folder_base / f'LFPwake0.npy'\n",
    "filename4 = folder_base / f'SignalPFCl.npy'\n",
    "filename5 = folder_base / f'SignalPFCr.npy'\n",
    "WakeRem = np.load(filename3, mmap_mode= 'r')\n",
    "SubstProjL = np.load(filename4, mmap_mode= 'r')\n",
    "SubstProjR = np.load(filename5, mmap_mode= 'r')\n",
    "TraceR = WakeRem[start:end,24]\n",
    "TraceL = WakeRem[start:end,22]\n",
    "TraceFiltR = SubstProjR[start:end,0]\n",
    "TraceFiltL = SubstProjL[start:end,0]\n",
    "ProjL = SubstProjL[start:end,1]\n",
    "ProjR = SubstProjR[start:end,1]\n",
    "EMG = WakeRem[start:end,6]"
   ]
  },
  {
   "cell_type": "code",
   "execution_count": null,
   "metadata": {},
   "outputs": [],
   "source": [
    "time = np.linspace(0, (end-start), num=(end-start))\n",
    "# Filter parameter :\n",
    "f_lowcut = 200.\n",
    "f_hicut = 400.\n",
    "N = 4\n",
    "fs = 1000\n",
    "nyq = 0.5 * fs\n",
    "Wn = [f_lowcut/nyq,f_hicut/nyq]  # Nyquist frequency fraction\n",
    "\n",
    "\n",
    "# Filter creation :\n",
    "b, a = signal.butter(N, Wn, 'band')\n",
    "filt_EMG = signal.filtfilt(b, a, EMG)\n",
    "\n",
    "plt.close()\n",
    "filename = folder_base / f'EMG2204_2.svg'\n",
    "plt.plot(time, filt_EMG)\n",
    "#plt.savefig(filename, format=\"svg\")\n",
    "plt.show()"
   ]
  },
  {
   "cell_type": "code",
   "execution_count": null,
   "metadata": {},
   "outputs": [],
   "source": [
    "time = np.linspace(0, (end-start), num=(end-start))\n",
    "plt.close()\n",
    "filename = folder_base / f'RTraces2205_2.svg'\n",
    "plt.plot(time, ProjR*1)\n",
    "plt.plot(time, TraceFiltR)\n",
    "plt.plot(time, TraceR)\n",
    "#plt.savefig(filename, format=\"svg\")\n",
    "plt.show()"
   ]
  },
  {
   "cell_type": "code",
   "execution_count": null,
   "metadata": {},
   "outputs": [],
   "source": [
    "time = np.linspace(0, (end-start), num=(end-start))\n",
    "plt.close()\n",
    "filename = folder_base / f'LTraces2205_2.svg'\n",
    "plt.plot(time, ProjL*1)\n",
    "plt.plot(time, TraceFiltL)\n",
    "plt.plot(time, TraceL)\n",
    "#plt.savefig(filename, format=\"svg\")\n",
    "plt.show()"
   ]
  }
 ],
 "metadata": {
  "kernelspec": {
   "display_name": "formation",
   "language": "python",
   "name": "python3"
  },
  "language_info": {
   "codemirror_mode": {
    "name": "ipython",
    "version": 3
   },
   "file_extension": ".py",
   "mimetype": "text/x-python",
   "name": "python",
   "nbconvert_exporter": "python",
   "pygments_lexer": "ipython3",
   "version": "3.9.12"
  },
  "orig_nbformat": 4,
  "vscode": {
   "interpreter": {
    "hash": "984d3fbee8ffa490637705ae3d7233e001ab0304f3daaca07b5aa8569b88ca53"
   }
  }
 },
 "nbformat": 4,
 "nbformat_minor": 2
}
