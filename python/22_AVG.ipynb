{
 "cells": [
  {
   "cell_type": "markdown",
   "metadata": {},
   "source": [
    "# average traces"
   ]
  },
  {
   "cell_type": "code",
   "execution_count": null,
   "metadata": {},
   "outputs": [],
   "source": [
    "import quantities as pq\n",
    "import numpy as np\n",
    "import neo\n",
    "from pathlib import Path\n",
    "import xarray as xr\n",
    "import pandas as pd\n",
    "import matplotlib.pyplot as plt\n",
    "from matplotlib.widgets import Slider, Button, Cursor\n",
    "import scipy\n",
    "from scipy import interpolate\n",
    "from scipy import fftpack\n",
    "from scipy import signal\n",
    "%matplotlib widget\n",
    "import mmap\n",
    "import dask.array as da\n",
    "\n",
    "from ephyviewer import mkQApp, MainViewer, TraceViewer\n",
    "from ephyviewer import AnalogSignalSourceWithScatter\n",
    "import ephyviewer\n"
   ]
  },
  {
   "cell_type": "code",
   "execution_count": null,
   "metadata": {},
   "outputs": [],
   "source": [
    "folder_base = Path('/Users/ahay/Documents/DATA/OPPK_Annie/2023-09-27_15-02-22/RecordNode116/experiment1/recording1/continuous/Acquisition_Board-115RhythmData/')\n",
    "\n",
    "filename = folder_base / f'continuous.dat'\n",
    "All = np.fromfile(filename, dtype=\"int16\")\n",
    "All = All.reshape(-1,64)\n",
    "#All = np.load(filename2, mmap_mode= 'r')\n",
    "#All = All.T\n",
    "\n",
    "All = All[:, 0:32]\n",
    "All.shape"
   ]
  },
  {
   "cell_type": "markdown",
   "metadata": {},
   "source": [
    "Load timestamps and find the first of each series"
   ]
  },
  {
   "cell_type": "code",
   "execution_count": null,
   "metadata": {},
   "outputs": [],
   "source": [
    "filenameT = folder_base / f'timestamps2.npy'\n",
    "Timestamps = np.load(filenameT)\n",
    "Timestamps = Timestamps*2000\n",
    "Timestamps = Timestamps.astype(int)\n",
    "Timestamps\n",
    "delaystamp = 1000"
   ]
  },
  {
   "cell_type": "code",
   "execution_count": null,
   "metadata": {},
   "outputs": [],
   "source": [
    "stamps_time = Timestamps\n",
    "first_stamps = []\n",
    "delay_stamps = []\n",
    "number_stamps = len(stamps_time)\n",
    "for i in range(number_stamps -1):\n",
    "    delay_stamps.append(stamps_time[i+1] - stamps_time[i])\n",
    "    if delay_stamps[i] > delaystamp:\n",
    "        first_stamps.append(stamps_time[i])"
   ]
  },
  {
   "cell_type": "code",
   "execution_count": null,
   "metadata": {},
   "outputs": [],
   "source": [
    "AllC0 = All[:,6]\n",
    "AllC11 = All[:,22]-All[:,23]\n",
    "AllC12 = All[:,24]-All[:,25]\n",
    "AllC13 = All[:,26]-All[:,27]\n",
    "AllC14 = All[:,28]-All[:,29]\n",
    "AllC15 = All[:,20]-All[:,21]\n",
    "L = [AllC0, AllC12, AllC13, AllC11, AllC14, AllC15]\n",
    "All2 = np.concatenate(L, axis=0)\n",
    "All2 = All2.reshape(6,-1)\n",
    "All2 = All2.T\n",
    "All2.shape"
   ]
  },
  {
   "cell_type": "code",
   "execution_count": null,
   "metadata": {},
   "outputs": [],
   "source": [
    "numb_sweep = len(first_stamps)\n",
    "TruncAll2 = np.zeros((2000, 6))\n",
    "for i in range(numb_sweep):\n",
    "    AllT = All2[first_stamps[i]-1200:first_stamps[i]+800,:]\n",
    "    TruncAll2 = TruncAll2 + AllT"
   ]
  },
  {
   "cell_type": "code",
   "execution_count": null,
   "metadata": {},
   "outputs": [],
   "source": [
    "# Defining subset\n",
    "start = 0\n",
    "end = 2000\n",
    "\n",
    "times = np.arange(0, 2000/2000, 1./2000)\n",
    "tt = times[start:end]\n",
    "Cortext = TruncAll2[start:end, 4]\n",
    "\n",
    "plt.close('all')\n",
    "plt.plot(tt, Cortext)\n",
    "\n",
    "plt.show()\n",
    "\n",
    "filename = folder_base / f'M18S1.svg'\n",
    "plt.savefig(filename, format=\"svg\")"
   ]
  },
  {
   "cell_type": "code",
   "execution_count": null,
   "metadata": {},
   "outputs": [],
   "source": []
  },
  {
   "cell_type": "code",
   "execution_count": null,
   "metadata": {},
   "outputs": [],
   "source": [
    "\n",
    "\n",
    "\n",
    "\n",
    "app = mkQApp()\n",
    "\n",
    "\n",
    "sample_rate = 2000.\n",
    "t_start = 0.\n",
    "\n",
    "TTL = Timestamps\n",
    "\n",
    "#create 2 familly scatters from theses 2 indexes\n",
    "scatter_indexes = {0: TTL, 1: TTL}\n",
    "#and asign them to some channels each\n",
    "scatter_channels = {0: [0, 2], 1: [0, 1]}\n",
    "source = AnalogSignalSourceWithScatter(All2, sample_rate, t_start, scatter_indexes, scatter_channels)\n",
    "\n",
    "#Create the main window that can contain several viewers\n",
    "win = MainViewer(debug=True, show_auto_scale=True)\n",
    "\n",
    "#create a viewer for signal with TraceViewer\n",
    "#connected to the signal source\n",
    "view1 = TraceViewer(source=source)\n",
    "\n",
    "#Parameters can be set in script\n",
    "#view1.params['scale_mode'] = 'same_for_all'\n",
    "view1.params['display_labels'] = True\n",
    "#And also parameters for each channel\n",
    "\n",
    "view1.by_channel_params['ch0', 'gain'] = 0.0000002\n",
    "view1.by_channel_params['ch1', 'gain'] = 0.00002\n",
    "view1.by_channel_params['ch2', 'gain'] = 0.00002\n",
    "view1.by_channel_params['ch3', 'gain'] = 0.00002\n",
    "view1.by_channel_params['ch4', 'gain'] = 0.00002\n",
    "\n",
    "view1.by_channel_params['ch0', 'offset'] = 0.2\n",
    "view1.by_channel_params['ch1', 'offset'] = 0.1\n",
    "view1.by_channel_params['ch2', 'offset'] = 0.0\n",
    "view1.by_channel_params['ch3', 'offset'] = -0.1\n",
    "view1.by_channel_params['ch4', 'offset'] = -0.2\n",
    "\n",
    "\n",
    "\n",
    "#put this viewer in the main window\n",
    "win.add_view(view1)\n",
    "\n",
    "#Run\n",
    "win.show()\n",
    "app.exec_()"
   ]
  }
 ],
 "metadata": {
  "kernelspec": {
   "display_name": "formation",
   "language": "python",
   "name": "python3"
  },
  "language_info": {
   "codemirror_mode": {
    "name": "ipython",
    "version": 3
   },
   "file_extension": ".py",
   "mimetype": "text/x-python",
   "name": "python",
   "nbconvert_exporter": "python",
   "pygments_lexer": "ipython3",
   "version": "3.9.12"
  },
  "orig_nbformat": 4
 },
 "nbformat": 4,
 "nbformat_minor": 2
}
