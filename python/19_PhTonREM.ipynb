{
 "cells": [
  {
   "attachments": {},
   "cell_type": "markdown",
   "metadata": {},
   "source": [
    "# Here the goal is look at Ca2+ signal in PhREM versus TonREM"
   ]
  },
  {
   "cell_type": "code",
   "execution_count": null,
   "metadata": {},
   "outputs": [],
   "source": [
    "import quantities as pq\n",
    "import numpy as np\n",
    "import neo\n",
    "import json\n",
    "from pathlib import Path\n",
    "import xarray as xr\n",
    "import pandas as pd\n",
    "import scipy\n",
    "from scipy import interpolate\n",
    "from scipy import fftpack\n",
    "from scipy import signal\n",
    "import seaborn as sns\n",
    "import matplotlib.pyplot as plt\n",
    "from matplotlib.widgets import Slider, Button, Cursor\n",
    "%matplotlib widget\n",
    "\n",
    "from ephyviewer import mkQApp, MainViewer, TraceViewer\n",
    "\n",
    "#from minian.utilities import (\n",
    "#    TaskAnnotation,\n",
    "#    get_optimal_chk,\n",
    "#    load_videos,\n",
    "#    open_minian,\n",
    "#    save_minian,\n",
    "#)"
   ]
  },
  {
   "cell_type": "code",
   "execution_count": null,
   "metadata": {},
   "outputs": [],
   "source": [
    "folder_base = Path('/Users/ahay/Documents/DATA/OPCA/20211014_OPCA_031TR_3263BR_TRstimON/')\n",
    "\n",
    "filenameE = folder_base / f'allTR.npy'\n",
    "All = np.load(filenameE)\n",
    "\n",
    "\n"
   ]
  },
  {
   "cell_type": "code",
   "execution_count": null,
   "metadata": {},
   "outputs": [],
   "source": [
    "ThetaCA1l = All[:,9]-All[:,10]\n",
    "TTL = All[:,11]\n",
    "fs = 1000\n",
    "times = np.arange(0, ThetaCA1l.size/fs, 1./fs)\n",
    "\n",
    "plt.close()\n",
    "plt.plot(times,ThetaCA1l)\n",
    "plt.plot(times,TTL/10)\n",
    "plt.show()"
   ]
  },
  {
   "cell_type": "code",
   "execution_count": null,
   "metadata": {},
   "outputs": [],
   "source": [
    "#GoodChannels = np.stack((EMG, BLAl, BLAr, PFCl, CA1l, CA1r, TTL), axis = 1)\n",
    "ThetaCA1l = All[:,4]-All[:,3]\n",
    "\n",
    "\n",
    "# Parameter and computation of CWT\n",
    "w = 10.\n",
    "freq = np.linspace(5, 10, 10)\n",
    "widths = w*fs / (2*freq*np.pi)\n",
    "ThetaCWT = signal.cwt(ThetaCA1l, signal.morlet2, widths, w=w)\n",
    "\n",
    "# Projection calculation\n",
    "absThetaCWT = np.absolute(ThetaCWT)\n",
    "from scipy import stats\n",
    "\n",
    "proj_ThetaCWT = np.max(absThetaCWT, axis = 0)/8\n",
    "sdproj_ThetaCWT = np.std(proj_ThetaCWT)\n",
    "meanproj_ThetaCWT = np.mean(absThetaCWT, axis = 0)/3\n",
    "maxFproj_ThetaCWT = np.argmax(absThetaCWT, axis = 0)/2+5\n",
    "\n",
    "numpnts = ThetaCA1l.size\n",
    "ThetaStatus = np.zeros(numpnts)\n",
    "#for ind in range(numpnts):\n",
    "#    if proj_ThetaCWT[ind]>(meanproj_ThetaCWT+1.4*sdproj_ThetaCWT):\n",
    "#        ThetaStatus[ind] = 1\n",
    "\n",
    "\n",
    "\n",
    "\n"
   ]
  },
  {
   "cell_type": "code",
   "execution_count": null,
   "metadata": {},
   "outputs": [],
   "source": [
    "times = times[4000:4900]\n",
    "absThetaCWT = absThetaCWT[4000:4900]\n",
    "\n",
    "plt.close()\n",
    "#sns.heatmap(absThetaCWT)\n",
    "#plt.plot(times, proj_ThetaCWT*15)\n",
    "#plt.plot(meanproj_ThetaCWT)\n",
    "#plt.plot(maxFproj_ThetaCWT)\n",
    "plt.show()"
   ]
  },
  {
   "cell_type": "code",
   "execution_count": null,
   "metadata": {},
   "outputs": [],
   "source": [
    "REM1CA1l = All[160000:260000,4]\n",
    "x = All[160000:260000,4]"
   ]
  },
  {
   "cell_type": "code",
   "execution_count": null,
   "metadata": {},
   "outputs": [],
   "source": [
    "f, Pxx_den = signal.periodogram(REM1CA1l, fs)\n",
    "\n",
    "plt.semilogy(f, Pxx_den)\n",
    "plt.ylim([1e-3, 1e5])\n",
    "plt.xlim([1, 20])\n",
    "plt.xlabel('frequency [Hz]')\n",
    "plt.ylabel('PSD [V**2/Hz]')\n",
    "plt.show()"
   ]
  },
  {
   "cell_type": "code",
   "execution_count": null,
   "metadata": {},
   "outputs": [],
   "source": [
    "f, Pxx_den = signal.welch(x, fs, nperseg=1024)\n",
    "plt.close()\n",
    "plt.semilogy(f, Pxx_den)\n",
    "plt.xlim([1, 20])\n",
    "plt.ylim([1e2, 1e5])\n",
    "plt.xlabel('frequency [Hz]')\n",
    "plt.ylabel('PSD [V**2/Hz]')\n",
    "plt.show()\n"
   ]
  },
  {
   "cell_type": "code",
   "execution_count": null,
   "metadata": {},
   "outputs": [],
   "source": [
    "BRremNL = All[840000:900000,]\n",
    "BRremNL2 = All[1653000:1668000,]\n",
    "BRremNL = np.concatenate([BRremNL, BRremNL2])\n",
    "BRremNL2 = All[1860000:1865000,]\n",
    "BRremNL = np.concatenate([BRremNL, BRremNL2])\n",
    "BRremNL2 = All[1900000:1930000,]\n",
    "BRremNL = np.concatenate([BRremNL, BRremNL2])\n",
    "BRremNL2 = All[1970000:2000000,]\n",
    "BRremNL = np.concatenate([BRremNL, BRremNL2])\n",
    "BRremNL2 = All[3000000:3035000,]\n",
    "BRremNL = np.concatenate([BRremNL, BRremNL2])\n",
    "BRremNL2 = All[3070000:3150000,]\n",
    "BRremNL = np.concatenate([BRremNL, BRremNL2])\n",
    "BRremNL2 = All[4890000:4905000,]\n",
    "BRremNL = np.concatenate([BRremNL, BRremNL2])\n",
    "BRremNL2 = All[4940000:4960000,]\n",
    "BRremNL = np.concatenate([BRremNL, BRremNL2])\n",
    "BRremNL2 = All[5400000:5435000,]\n",
    "BRremNL = np.concatenate([BRremNL, BRremNL2])\n",
    "\n",
    "BRremNL.shape"
   ]
  },
  {
   "cell_type": "code",
   "execution_count": null,
   "metadata": {},
   "outputs": [],
   "source": [
    "TRremNL = All[2402000:2412000,]\n",
    "TRremNL2 = All[2643000:2661000,]\n",
    "TRremNL = np.concatenate([TRremNL, TRremNL2])\n",
    "TRremNL2 = All[2692000:2720000,]\n",
    "TRremNL = np.concatenate([TRremNL, TRremNL2])\n",
    "TRremNL2 = All[3504000:3522000,]\n",
    "TRremNL = np.concatenate([TRremNL, TRremNL2])\n",
    "TRremNL2 = All[3552000:3571000,]\n",
    "TRremNL = np.concatenate([TRremNL, TRremNL2])\n",
    "TRremNL.shape"
   ]
  },
  {
   "cell_type": "code",
   "execution_count": null,
   "metadata": {},
   "outputs": [],
   "source": [
    "TRremL = All[1858000:1868000,]\n",
    "TRremL2 = All[2418000:2448000,]\n",
    "TRremL = np.concatenate([TRremL, TRremL2])\n",
    "TRremL2 = All[2662000:2691000,]\n",
    "TRremL = np.concatenate([TRremL, TRremL2])\n",
    "TRremL2 = All[3523000:3551000,]\n",
    "TRremL = np.concatenate([TRremL, TRremL2])\n",
    "TRremL.shape"
   ]
  },
  {
   "cell_type": "code",
   "execution_count": null,
   "metadata": {},
   "outputs": [],
   "source": [
    "BRremL = All[912000:924000,]\n",
    "BRremL2 = All[1670000:1695000,]\n",
    "BRremL = np.concatenate([BRremL, BRremL2])\n",
    "BRremL2 = All[1870000:1895000,]\n",
    "BRremL = np.concatenate([BRremL, BRremL2])\n",
    "BRremL2 = All[1940000:1960000,]\n",
    "BRremL = np.concatenate([BRremL, BRremL2])\n",
    "BRremL2 = All[3040000:3065000,]\n",
    "BRremL = np.concatenate([BRremL, BRremL2])\n",
    "BRremL2 = All[3155000:3180000,]\n",
    "BRremL = np.concatenate([BRremL, BRremL2])\n",
    "BRremL2 = All[4860000:4885000,]\n",
    "BRremL = np.concatenate([BRremL, BRremL2])\n",
    "BRremL2 = All[4910000:4935000,]\n",
    "BRremL = np.concatenate([BRremL, BRremL2])\n",
    "BRremL2 = All[5370000:5395000,]\n",
    "BRremL = np.concatenate([BRremL, BRremL2])\n",
    "BRremL2 = All[5445000:5470000,]\n",
    "BRremL = np.concatenate([BRremL, BRremL2])\n",
    "\n",
    "BRremL.shape"
   ]
  },
  {
   "cell_type": "code",
   "execution_count": null,
   "metadata": {},
   "outputs": [],
   "source": [
    "fs = 1000\n",
    "BRremLCA1 = TRremL[:,3]-TRremL[:,4]\n",
    "f, Pxx_den = signal.welch(BRremLCA1, fs, nperseg=1024)\n",
    "BRremNLCA1 = TRremNL[:,3]-TRremNL[:,4]\n",
    "Nf, NPxx_den = signal.welch(BRremNLCA1, fs, nperseg=1024)\n",
    "plt.close()\n",
    "plt.semilogy(f, Pxx_den, color='g')\n",
    "plt.semilogy(Nf, NPxx_den, color='k')\n",
    "plt.xlim([1, 50])\n",
    "plt.ylim([1e-1, 1e2])\n",
    "plt.xlabel('frequency [Hz]')\n",
    "plt.ylabel('PSD [V**2/Hz]')\n",
    "plt.show()\n",
    "\n",
    "filename = folder_base / f'PSDBLAR.svg'\n",
    "plt.savefig(filename, format=\"svg\")"
   ]
  }
 ],
 "metadata": {
  "kernelspec": {
   "display_name": "formation",
   "language": "python",
   "name": "python3"
  },
  "language_info": {
   "codemirror_mode": {
    "name": "ipython",
    "version": 3
   },
   "file_extension": ".py",
   "mimetype": "text/x-python",
   "name": "python",
   "nbconvert_exporter": "python",
   "pygments_lexer": "ipython3",
   "version": "3.10.12"
  },
  "orig_nbformat": 4,
  "vscode": {
   "interpreter": {
    "hash": "984d3fbee8ffa490637705ae3d7233e001ab0304f3daaca07b5aa8569b88ca53"
   }
  }
 },
 "nbformat": 4,
 "nbformat_minor": 2
}
