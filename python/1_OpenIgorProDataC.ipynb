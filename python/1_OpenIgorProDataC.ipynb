{
 "cells": [
  {
   "cell_type": "markdown",
   "metadata": {},
   "source": [
    "# Opening and cleaning out Bin data\n",
    "\n",
    "Note: Use L1imag/formation environment.\n",
    "## Import packages"
   ]
  },
  {
   "cell_type": "code",
   "execution_count": null,
   "metadata": {},
   "outputs": [],
   "source": [
    "import quantities as pq\n",
    "import numpy as np\n",
    "import neo\n",
    "from pathlib import Path\n",
    "import xarray as xr\n",
    "import pandas as pd\n",
    "import matplotlib.pyplot as plt\n",
    "from matplotlib.widgets import Slider, Button, Cursor\n",
    "import scipy\n",
    "from scipy import interpolate\n",
    "from scipy import fftpack\n",
    "from scipy import signal\n",
    "%matplotlib widget\n",
    "\n",
    "from ephyviewer import mkQApp, MainViewer, TraceViewer"
   ]
  },
  {
   "cell_type": "markdown",
   "metadata": {},
   "source": [
    "## Load data"
   ]
  },
  {
   "cell_type": "markdown",
   "metadata": {},
   "source": [
    "### Load timestamps from continuous recording\n",
    "WARNING: Absurd here, just temporary loading to see if and how I can access the data"
   ]
  },
  {
   "cell_type": "code",
   "execution_count": null,
   "metadata": {},
   "outputs": [],
   "source": [
    "folder_base = Path('/Users/ahay/Documents/DATA/OPNE/ArchTshort/')\n",
    "\n",
    "\n",
    "filename = folder_base / f'YSQT1_GreenStimOn2_g0_t0.exported.nidq.bin'\n",
    "All = np.fromfile(filename, dtype=\"int16\")\n",
    "All = All.reshape(-1,12)\n",
    "\n",
    "\n",
    "sampling_rate = 25000 # Hz\n",
    "new_sampling_rate = 1000 # Hz\n",
    "nmberchann = All.shape\n",
    "datalen = All.size/ nmberchann[1]\n",
    "Nmber_points = int(datalen * new_sampling_rate / sampling_rate)\n",
    "print(datalen, Nmber_points)\n",
    "DS_GoodChannels = signal.resample(All, Nmber_points, axis = 0)\n",
    "Good_channels_filtered = DS_GoodChannels\n",
    "\n",
    "filenameC = folder_base / f'YS2.npy'\n",
    "np.save(filenameC, Good_channels_filtered)\n"
   ]
  },
  {
   "cell_type": "code",
   "execution_count": null,
   "metadata": {},
   "outputs": [],
   "source": [
    "folder_base = Path('/Users/ahay/Documents/DATA/OPNE/ArchTshort/')\n",
    "filename = folder_base / f'OD1.npy'\n",
    "All1 = np.load(filename)\n",
    "filename = folder_base / f'OD2.npy'\n",
    "All2 = np.load(filename)\n",
    "filename = folder_base / f'YS1.npy'\n",
    "All3 = np.load(filename)\n",
    "filename = folder_base / f'YS2.npy'\n",
    "All4 = np.load(filename)\n",
    "\n",
    "All1.shape"
   ]
  },
  {
   "cell_type": "code",
   "execution_count": null,
   "metadata": {},
   "outputs": [],
   "source": [
    "OD1pfc = All1[:, 4]-All1[:, 5]\n",
    "OD1ca1 = All1[:, 0]-All1[:, 1]\n",
    "OD1ttl = All1[:, 11]\n",
    "OD1emg = All1[:, 6]\n",
    "\n",
    "OD2pfc = All2[:, 4]-All2[:, 5]\n",
    "OD2ca1 = All2[:, 0]-All2[:, 1]\n",
    "OD2ttl = All2[:, 11]\n",
    "OD2emg = All2[:, 6]\n"
   ]
  },
  {
   "cell_type": "code",
   "execution_count": null,
   "metadata": {},
   "outputs": [],
   "source": [
    "folder_base = Path('/Users/ahay/Documents/DATA/OPNE/ArchTlong/')\n",
    "filename = folder_base / f'OD.npy'\n",
    "All1 = np.load(filename)\n",
    "filename = folder_base / f'PS.npy'\n",
    "All2 = np.load(filename)\n",
    "filename = folder_base / f'PSr.npy'\n",
    "All3 = np.load(filename)\n",
    "filename = folder_base / f'RS.npy'\n",
    "All4 = np.load(filename)\n",
    "filename = folder_base / f'RT.npy'\n",
    "All5 = np.load(filename)\n",
    "filename = folder_base / f'YS.npy'\n",
    "All6 = np.load(filename)\n",
    "filename = folder_base / f'RT2.npy'\n",
    "All52 = np.load(filename)\n",
    "filename = folder_base / f'YS2.npy'\n",
    "All62 = np.load(filename)\n",
    "\n",
    "########################################################################################################################\n",
    "##########################      From the mice, take the TTL, EMG, PFC and M1 for analysis       ########################\n",
    "########################################################################################################################\n",
    "\n",
    "ODpfc = All1[:, 4]-All1[:, 5]\n",
    "ODm1 = All1[:, 9]-All1[:, 10]\n",
    "ODttl = All1[:, 11]\n",
    "ODemg = All1[:, 6]\n",
    "\n",
    "PSpfc = All2[:, 4]-All2[:, 5]\n",
    "PSm1 = All2[:, 0]-All2[:, 1]\n",
    "PSttl = All2[:, 9]\n",
    "PSemg = All2[:, 6]\n",
    "\n",
    "PSRpfc = All3[:, 3]-All3[:, 4]\n",
    "PSRm1 = All3[:, 1]-All3[:, 2]\n",
    "PSRttl = All3[:, 9]\n",
    "PSRemg = All3[:, 5]\n",
    "\n",
    "RSpfc = All4[:, 4]-All4[:, 5]\n",
    "RSm1 = All4[:, 0]-All4[:, 1]\n",
    "RSttl = All4[:, 14]\n",
    "RSemg = All4[:, 6]\n",
    "\n",
    "RTpfc = All5[:, 7]-All5[:, 8]\n",
    "RTm1 = All5[:, 5]-All5[:, 6]\n",
    "RTttl = All5[:, 9]\n",
    "RTemg = All5[:, 0]\n",
    "\n",
    "YSpfc = All6[:, 4]-All6[:, 5]\n",
    "YSm1 = All6[:, 7]-All6[:, 8]\n",
    "YSttl = All6[:, 11]\n",
    "YSemg = All6[:, 6]\n",
    "\n",
    "RT2pfc = All52[:, 7]-All52[:, 8]\n",
    "RT2m1 = All52[:, 5]-All52[:, 6]\n",
    "RT2ttl = All52[:, 9]\n",
    "RT2emg = All52[:, 0]\n",
    "\n",
    "YS2pfc = All62[:, 4]-All62[:, 5]\n",
    "YS2m1 = All62[:, 7]-All62[:, 8]\n",
    "YS2ttl = All62[:, 11]\n",
    "YS2emg = All62[:, 6]"
   ]
  },
  {
   "cell_type": "code",
   "execution_count": null,
   "metadata": {},
   "outputs": [],
   "source": [
    "fs = 1000\n",
    "triggertimeS = []\n",
    "triggertimeF = []\n",
    "for i in range(len(OD1emg)-1):\n",
    "    if OD1ttl[i] >= -5000 and OD1ttl[i+1] < -5000:\n",
    "        triggertimeS.append(i)\n",
    "    elif OD1ttl[i] < -5000 and OD1ttl[i+1] > -5000:\n",
    "        triggertimeF.append(i)\n",
    "\n",
    "\n",
    "\n",
    "# index = 0\n",
    "# for i in triggertimeS:\n",
    "#     index = index + 1\n",
    "#     pfcON = YS2pfc[i+100:i+29900]\n",
    "#     pfcOFF = YS2pfc[i+30100:i+59900]\n",
    "\n",
    "#     f, Pxx_denON = signal.welch(pfcON, fs, nperseg=1024)\n",
    "#     f, Pxx_denOFF = signal.welch(pfcOFF, fs, nperseg=1024)\n",
    "#     if index == 5:\n",
    "#         freq = f\n",
    "#         spectreON = Pxx_denON\n",
    "#         spectreOFF = Pxx_denOFF\n",
    "#     elif index > 5:\n",
    "#         freq = freq + f\n",
    "#         spectreON = spectreON + Pxx_denON\n",
    "#         spectreOFF = spectreOFF + Pxx_denOFF\n",
    "\n",
    "# freq = freq/index\n",
    "# YS2spectreON = spectreON/index\n",
    "# YS2spectreOFF = spectreOFF/index\n"
   ]
  },
  {
   "cell_type": "code",
   "execution_count": null,
   "metadata": {},
   "outputs": [],
   "source": [
    "data = np.zeros((len(triggertimeS),2))\n",
    "data[:, 0] = triggertimeS\n",
    "data[:, 1] = triggertimeF\n",
    "All_SWR = pd.DataFrame(data, columns = ['Start', 'End'])\n",
    "filename3 = folder_base / f'TTLproperties.csv'\n",
    "All_SWR.to_csv(filename3, sep = ',')"
   ]
  },
  {
   "cell_type": "code",
   "execution_count": null,
   "metadata": {},
   "outputs": [],
   "source": [
    "SpectreON = ODspectreON + PSspectreON + PSRspectreON + RSspectreON + RT2spectreON + YS2spectreON\n",
    "SpectreOFF = ODspectreOFF + PSspectreOFF + PSRspectreOFF + RSspectreOFF + RT2spectreOFF + YS2spectreOFF\n"
   ]
  },
  {
   "cell_type": "code",
   "execution_count": null,
   "metadata": {},
   "outputs": [],
   "source": [
    "spectreONswr = spectreON[120:251]\n",
    "spectreOFFswr = spectreOFF[120:251]\n",
    "OD2powerON = sum(spectreONswr)\n",
    "OD2powerOFF = sum(spectreOFFswr)"
   ]
  },
  {
   "cell_type": "code",
   "execution_count": null,
   "metadata": {},
   "outputs": [],
   "source": [
    "len(spectreON)"
   ]
  },
  {
   "cell_type": "code",
   "execution_count": null,
   "metadata": {},
   "outputs": [],
   "source": [
    "\n",
    "a = [ODpowerON,ODpowerOFF]\n",
    "\n",
    "\n",
    "fig, ax = plt.subplots()\n",
    "\n",
    "fruits = ['ON', 'OFF']\n",
    "counts = a\n",
    "\n",
    "ax.bar(fruits, counts)\n",
    "ax.set_ylabel('laser status')\n",
    "ax.set_title('power on swr')\n",
    "\n",
    "\n",
    "plt.show()"
   ]
  },
  {
   "cell_type": "code",
   "execution_count": null,
   "metadata": {},
   "outputs": [],
   "source": [
    "plt.close()\n",
    "\n",
    "plt.semilogy(freq, PSRspectreON, color='g')\n",
    "plt.semilogy(freq, PSRspectreOFF, color='k')\n",
    "plt.xlim([00, 60])\n",
    "#plt.ylim([0, 7000])\n",
    "plt.xlabel('frequency [Hz]')\n",
    "plt.ylabel('PSD [V**2/Hz]')\n",
    "plt.show()\n",
    "\n",
    "filename = folder_base / f'logodPSD30s.svg'\n",
    "#plt.savefig(filename, format=\"svg\")"
   ]
  },
  {
   "cell_type": "code",
   "execution_count": null,
   "metadata": {},
   "outputs": [],
   "source": [
    "print(triggertimeS)\n",
    "print(triggertimeF)\n",
    "\n"
   ]
  },
  {
   "cell_type": "code",
   "execution_count": null,
   "metadata": {},
   "outputs": [],
   "source": [
    "plt.close()\n",
    "fs = 1000\n",
    "times = np.arange(0, YS2emg.size/fs, 1./fs)\n",
    "timesmin = np.arange(0, YS2emg.size/fs/60, 1./fs/60)\n",
    "fig, ax = plt.subplots()\n",
    "ax.plot(timesmin, YS2ttl)\n",
    "ax.plot(timesmin, YS2pfc)\n",
    "ax.plot(timesmin, YS2emg - 4000)"
   ]
  },
  {
   "cell_type": "markdown",
   "metadata": {},
   "source": [
    "### Distribute channels.\n",
    "\n",
    "EMG = 0, BLA left = 1-2, BLA right = 3-4, PFC left = 5-6, PFC right = 9-10, CA1 = 7-8, TTL = 11\n",
    "\n",
    "WARNING: this has to be adjusted for every mouse. In the future, add a cell at the beginning to enter these parameters"
   ]
  },
  {
   "cell_type": "code",
   "execution_count": null,
   "metadata": {},
   "outputs": [],
   "source": []
  },
  {
   "cell_type": "code",
   "execution_count": null,
   "metadata": {},
   "outputs": [],
   "source": [
    "\n",
    "    # Distribute\n",
    "OD1pfc = All1[:, 4]-All1[:, 5]\n",
    "OD1ca1 = All1[:, 0]-All1[:, 1]\n",
    "OD1ttl = All1[:, 11]\n",
    "OD1emg = All1[:, 6]\n",
    "OD1m1 = All1[:, 9]-All1[:, 10]\n",
    "\n",
    "    # Stack back\n",
    "GoodChannels = np.stack((OD1emg, OD1pfc, OD1ca1, OD1m1, OD1ttl), axis = 1)#.reshape(-1, 4)\n",
    "nmberchann = GoodChannels.shape\n",
    "datalen = GoodChannels.size / nmberchann[1]\n",
    "print(datalen)\n",
    "coords = {\n",
    "    'brain_areas' : np.array(['EMG', \"PFC\", \"CA1\", \"M1\", \"TTL\"]),\n",
    "    'duration_rec' : np.arange(0, datalen/1000, 1/1000)\n",
    "}\n",
    "    # Put in xarray\n",
    "xrGoodChannels = xr.DataArray(coords=coords, dims=['duration_rec', 'brain_areas'])\n",
    "xrGoodChannels.loc[:,:]  = GoodChannels\n",
    "    # Save datas\n",
    "    #np.save(f'RawDataChannelExtracted.npy', xrGood_channels)\n",
    "\n",
    "    # Empty array to free memory \n"
   ]
  },
  {
   "cell_type": "markdown",
   "metadata": {},
   "source": [
    "#  Downsample all signals to 1 kz."
   ]
  },
  {
   "cell_type": "code",
   "execution_count": null,
   "metadata": {},
   "outputs": [],
   "source": [
    "sampling_rate = 25000 # Hz\n",
    "new_sampling_rate = 1000 # Hz\n",
    "nmberchann = GoodChannels.shape\n",
    "datalen = GoodChannels.size/ nmberchann[1]\n",
    "Nmber_points = int(datalen * new_sampling_rate / sampling_rate)\n",
    "print(datalen, Nmber_points)\n",
    "DS_GoodChannels = signal.resample(GoodChannels, Nmber_points, axis = 0)\n",
    "Good_channels_filtered = DS_GoodChannels\n",
    "#np.save(f'RawDataChannelExtractedDS_{ele2}.npy', Good_channels_filtered)\n",
    "xrGoodChannels = None\n",
    "\n"
   ]
  },
  {
   "cell_type": "markdown",
   "metadata": {},
   "source": [
    "## Filtering \n",
    "\n",
    "SWR: 120 - 200 Hz"
   ]
  },
  {
   "cell_type": "code",
   "execution_count": null,
   "metadata": {},
   "outputs": [],
   "source": [
    "Sample = DS_GoodChannels\n",
    "\n",
    "f_CA1r = Sample[:, 5].copy()\n",
    "f_CA1l = Sample[:, 4].copy()\n",
    "\n",
    "# Paramètres de notre filtre :\n",
    "f_lowcut = 120.\n",
    "f_hicut = 200.\n",
    "fs = new_sampling_rate\n",
    "nyq = 0.5 * fs\n",
    "N = 6                 # Ordre du filtre\n",
    "Wn = [f_lowcut/nyq,f_hicut/nyq]  # Nyquist frequency fraction\n",
    "print(Wn)\n",
    "\n",
    "# Création du filtre :\n",
    "b, a = scipy.signal.butter(N, Wn, 'band')\n",
    "filt_SWR_CA1r = scipy.signal.filtfilt(b, a, f_CA1r)\n",
    "filt_SWR_CA1l = scipy.signal.filtfilt(b, a, f_CA1l)\n",
    "\n",
    "times = np.arange(0, f_CA1r.size/new_sampling_rate, 1./new_sampling_rate)\n"
   ]
  },
  {
   "cell_type": "code",
   "execution_count": null,
   "metadata": {},
   "outputs": [],
   "source": [
    "Sample = DS_GoodChannels\n",
    "\n",
    "f_EMG = Sample[:, 0].copy()\n",
    "\n",
    "# Paramètres de notre filtre :\n",
    "f_lowcut = 200.\n",
    "f_hicut = 400.\n",
    "fs = new_sampling_rate\n",
    "nyq = 0.5 * fs\n",
    "N = 6                 # Ordre du filtre\n",
    "Wn = [f_lowcut/nyq,f_hicut/nyq]  # Nyquist frequency fraction\n",
    "print(Wn)\n",
    "\n",
    "# Création du filtre :\n",
    "b, a = scipy.signal.butter(N, Wn, 'band')\n",
    "filt_EMG = scipy.signal.filtfilt(b, a, f_EMG)\n"
   ]
  },
  {
   "cell_type": "markdown",
   "metadata": {},
   "source": [
    "# Display. \n",
    "\n",
    "with Open Ephys viewer"
   ]
  },
  {
   "cell_type": "code",
   "execution_count": null,
   "metadata": {},
   "outputs": [],
   "source": [
    "# prepare numpy array for ephyviewer\n",
    "filt_EMG_2= filt_EMG[:, np.newaxis]\n",
    "Sample2 = Sample[:, 1:5]\n",
    "filt_SWR_CA1_2l= filt_SWR_CA1l[:, np.newaxis]\n",
    "CA1r = Sample[:, 5:6]\n",
    "filt_SWR_CA1_2= filt_SWR_CA1r[:, np.newaxis]\n",
    "TTL = Sample[:, 6:7]\n",
    "combined = np.append(filt_EMG_2, Sample2, axis=1)\n",
    "combined1 = np.append(combined, filt_SWR_CA1_2l, axis=1)\n",
    "combined3 = np.append(combined1, CA1r, axis=1)\n",
    "combined4 = np.append(combined3, filt_SWR_CA1_2, axis=1)\n",
    "combined2 = np.append(combined4, TTL, axis=1)\n"
   ]
  },
  {
   "cell_type": "code",
   "execution_count": null,
   "metadata": {},
   "outputs": [],
   "source": [
    "combined2.shape"
   ]
  },
  {
   "cell_type": "code",
   "execution_count": null,
   "metadata": {},
   "outputs": [],
   "source": [
    "app = mkQApp()\n",
    "\n",
    "\n",
    "sample_rate = 1000.\n",
    "t_start = 0.\n",
    "\n",
    "#Create the main window that can contain several viewers\n",
    "win = MainViewer()\n",
    "view1 = TraceViewer.from_numpy(GoodChannels, sample_rate, t_start, 'Signals')\n",
    "win.add_view(view1)\n",
    "\n",
    "#Parameters can be set in script\n",
    "#view1.params['scale_mode'] = 'same_for_all'\n",
    "view1.params['display_labels'] = True\n",
    "#And also parameters for each channel\n",
    "view1.by_channel_params['ch0', 'color'] = '#aa0000'\n",
    "view1.by_channel_params['ch1', 'color'] = '#0055ff'\n",
    "view1.by_channel_params['ch2', 'color'] = '#0055ff'\n",
    "view1.by_channel_params['ch4', 'color'] = '#ff5500'\n",
    "\n",
    "view1.by_channel_params['ch0', 'gain'] = 0.0001\n",
    "view1.by_channel_params['ch1', 'gain'] = 0.0002\n",
    "view1.by_channel_params['ch2', 'gain'] = 0.0002\n",
    "view1.by_channel_params['ch3', 'gain'] = 0.0005\n",
    "view1.by_channel_params['ch4', 'gain'] = 0.00005\n",
    "\n",
    "view1.by_channel_params['ch0', 'offset'] = 0.2\n",
    "view1.by_channel_params['ch1', 'offset'] = 0.1\n",
    "view1.by_channel_params['ch2', 'offset'] = 0.0\n",
    "view1.by_channel_params['ch3', 'offset'] = -0.1\n",
    "view1.by_channel_params['ch4', 'offset'] = -0.2\n",
    "\n",
    "#Run\n",
    "win.show()\n",
    "app.exec_()"
   ]
  },
  {
   "cell_type": "code",
   "execution_count": null,
   "metadata": {},
   "outputs": [],
   "source": [
    "filenameC = folder_base / f'BR3_GoodChannels.npy'\n",
    "np.save(filenameC, combined2)"
   ]
  },
  {
   "cell_type": "code",
   "execution_count": null,
   "metadata": {},
   "outputs": [],
   "source": [
    "filenameC = folder_base / f'BrSqBurst1.npy'\n",
    "np.save(filenameC, All)"
   ]
  }
 ],
 "metadata": {
  "kernelspec": {
   "display_name": "formation",
   "language": "python",
   "name": "python3"
  },
  "language_info": {
   "codemirror_mode": {
    "name": "ipython",
    "version": 3
   },
   "file_extension": ".py",
   "mimetype": "text/x-python",
   "name": "python",
   "nbconvert_exporter": "python",
   "pygments_lexer": "ipython3",
   "version": "3.10.12"
  },
  "orig_nbformat": 4,
  "vscode": {
   "interpreter": {
    "hash": "984d3fbee8ffa490637705ae3d7233e001ab0304f3daaca07b5aa8569b88ca53"
   }
  }
 },
 "nbformat": 4,
 "nbformat_minor": 2
}
