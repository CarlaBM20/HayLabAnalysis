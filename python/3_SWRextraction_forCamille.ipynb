{
 "cells": [
  {
   "cell_type": "markdown",
   "metadata": {},
   "source": [
    "# Extraction of SWR from CA1 recordings\n",
    "\n",
    "Restarting from LFPwake0 and LFPwakeremoved.\n",
    "\n",
    "LFPwakeremoved will be used to determined signal variance for threshold adjustement. \n",
    "\n",
    "LFPwake0 will be used for time determination. "
   ]
  },
  {
   "cell_type": "markdown",
   "metadata": {},
   "source": [
    "## Load LFP and packages"
   ]
  },
  {
   "cell_type": "code",
   "execution_count": null,
   "metadata": {},
   "outputs": [],
   "source": [
    "cd \"C:/Users/AudreyHay/Documents/script\""
   ]
  },
  {
   "cell_type": "code",
   "execution_count": null,
   "metadata": {},
   "outputs": [],
   "source": [
    "from scipy import signal\n",
    "import numpy as np\n",
    "import matplotlib.pyplot as plt\n",
    "from matplotlib.widgets import Slider, Button, Cursor\n",
    "from scipy import fftpack\n",
    "import pandas as pd\n",
    "from pathlib import Path\n",
    "import os\n",
    "from IPython.display import display\n",
    "from ipyfilechooser import FileChooser\n",
    "from ephyviewer import mkQApp, MainViewer, TraceViewer\n",
    "from ephyviewer import AnalogSignalSourceWithScatter\n",
    "import ephyviewer\n",
    "import fnmatch\n",
    "\n",
    "from scipy.signal import find_peaks\n",
    "from scipy.signal import chirp, find_peaks, peak_widths\n",
    "\n",
    "%matplotlib widget\n",
    "\n",
    "\n",
    "# Function to find files containing a specific string\n",
    "def find_files_with_string(folder_path, search_string):\n",
    "    matching_file = []\n",
    "    # Traverse the folder to find files\n",
    "    for root, _, files in os.walk(folder_path):\n",
    "        for file in files:\n",
    "            if fnmatch.fnmatch(file, f\"*{search_string}*\"):\n",
    "                matching_file=os.path.join(root, file)\n",
    "    return matching_file"
   ]
  },
  {
   "cell_type": "code",
   "execution_count": null,
   "metadata": {},
   "outputs": [],
   "source": [
    "dpath = \"C:/Users/AudreyHay/Documents/\"\n",
    "#dpath = \"//10.69.168.1/crnldata/waking/audrey_hay/\"\n",
    "try:\n",
    "    %store -r dpath\n",
    "except:\n",
    "    print(\"data not in store\")\n",
    "    #dpath =\"//10.69.168.1/crnldata/waking/audrey_hay/\"\n",
    "    dpath = \"C:/Users/AudreyHay/Documents/\"\n",
    "\n",
    "fc1 = FileChooser(dpath,select_default=True, show_only_dirs = True, title = \"<b>Folder with videos</b>\")\n",
    "display(fc1)\n",
    "\n",
    "# Sample callback function\n",
    "def update_my_folder(chooser):\n",
    "    global dpath\n",
    "    dpath = chooser.selected\n",
    "    %store dpath\n",
    "    return \n",
    "\n",
    "# Register callback function\n",
    "fc1.register_callback(update_my_folder)"
   ]
  },
  {
   "cell_type": "markdown",
   "metadata": {},
   "source": [
    "### To change (only if 'sommeil' Bonsaï file)"
   ]
  },
  {
   "cell_type": "code",
   "execution_count": null,
   "metadata": {},
   "outputs": [],
   "source": [
    "mice='Blue'    # mice='Pink' OR  mice='Blue'"
   ]
  },
  {
   "cell_type": "markdown",
   "metadata": {},
   "source": [
    "## Load LFPs file"
   ]
  },
  {
   "cell_type": "code",
   "execution_count": null,
   "metadata": {},
   "outputs": [],
   "source": [
    "folderpath = Path(dpath)\n",
    "\n",
    "# Load channels map \n",
    "Channels = 'SoleneMiceLFPChannels.xlsx'\n",
    "#Channels = '//10.69.168.1/crnldata/waking/audrey_hay/CamilleData/SoleneMiceLFPChannels.xlsx'  \n",
    "allchannels = pd.read_excel(Channels)\n",
    "Map=np.array(allchannels['MICE'])\n",
    "\n",
    "ctx=7 # ctx=7 for CA1, ctx=6 for mEC, ctx=9 for RSP, ctx=10 for Perirhinal \n",
    "emg= 0\n",
    "\n",
    "############\n",
    "## Bonsai ##\n",
    "############\n",
    "\n",
    "if find_files_with_string(folderpath,  \".bin\"): \n",
    "    matching_file = find_files_with_string(folderpath, \".bin\")\n",
    "    All = np.fromfile(matching_file, dtype=np.uint16)\n",
    "    All = All - int(65535/2)\n",
    "    All = All.astype(np.int16)\n",
    "    \n",
    "    ### Sommeil ###\n",
    "    if 'sommeil' in dpath:\n",
    "        numchannel=64\n",
    "        All = All.reshape(-1,numchannel)      \n",
    "        Ch=32 if mice == 'Pink' else 0\n",
    "\n",
    "        EMGch=int(allchannels[mice][emg]) if mice == 'Blue' else int(allchannels[mice][emg])+Ch #EMG= 1st line in the excel file\n",
    "        EMG  =  All[:, EMGch]\n",
    "\n",
    "        try:\n",
    "            CA1ch1=int(allchannels[mice][ctx].split(',')[0]) if mice == 'Blue' else int(allchannels[mice][ctx].split(',')[0])+Ch     #CA1 == 8th line in the excel file\n",
    "            CA1ch2=int(allchannels[mice][ctx].split(',')[1]) if mice == 'Blue' else int(allchannels[mice][ctx].split(',')[1])+Ch\n",
    "            CA1  =  All[:, CA1ch1]-All[:, CA1ch2]\n",
    "        except:\n",
    "            CA1ch1=int(allchannels[mice][ctx]) if mice == 'Blue' else int(allchannels[mice][ctx].split(',')[0])+Ch\n",
    "            print('/!\\ One CA1 channel only')\n",
    "            CA1  =  All[:, CA1ch1] \n",
    "        print(f'Bonsaï file loaded: {mice} mouse / sommeil file')\n",
    "    \n",
    "    ### Cheeseboard ###\n",
    "    elif 'cheeseboard' in dpath:\n",
    "        numchannel=32\n",
    "        All = All.reshape(-1,numchannel)\n",
    "        Ch=32 if 'pink' in dpath  else 0\n",
    "        mice='Pink' if 'pink' in dpath  else 'Blue'      \n",
    "\n",
    "        EMGch=int(allchannels[mice][emg]) if mice == 'Blue' else int(allchannels[mice][emg])+Ch #EMG= 1st line in the excel file\n",
    "        EMG  =  All[:, EMGch]\n",
    "        try:\n",
    "            CA1ch1=int(allchannels[mice][ctx].split(',')[0]) if mice == 'Blue' else int(allchannels[mice][ctx].split(',')[0])+Ch     #CA1 == 8th line in the excel file\n",
    "            CA1ch2=int(allchannels[mice][ctx].split(',')[1]) if mice == 'Blue' else int(allchannels[mice][ctx].split(',')[1])+Ch\n",
    "            CA1  =  All[:, CA1ch1]-All[:, CA1ch2]\n",
    "        except:\n",
    "            CA1ch1=int(allchannels[mice][ctx]) if mice == 'Blue' else int(allchannels[mice][ctx].split(',')[0])+Ch\n",
    "            print('/!\\ One CA1 channel only')\n",
    "            CA1  =  All[:, CA1ch1]         \n",
    "        print(f'Bonsaï file loaded: {mice} mouse / cheeseboard file')\n",
    "        \n",
    "###############\n",
    "## OpenEphys ##\n",
    "###############\n",
    "\n",
    "elif find_files_with_string(folderpath,  \"continuous.dat\"): \n",
    "    matching_file = find_files_with_string(folderpath, \"continuous.dat\")\n",
    "    All = np.fromfile(matching_file, dtype=\"int16\")\n",
    "    numchannel=64\n",
    "    All = All.reshape(-1,numchannel)\n",
    "    All = np.memmap(matching_file, mode='r', dtype='int16')\n",
    "    All = All.reshape(-1, numchannel)     \n",
    "    print('Open Ephy file loaded: continuous.dat')\n",
    "    Ch=32 if 'pink' in dpath  else 0\n",
    "    mice='Pink' if 'pink' in dpath  else 'Blue'\n",
    "\n",
    "    EMGch=int(allchannels[mice][emg]) if mice == 'Blue' else int(allchannels[mice][emg])+Ch #EMG= 1st line in the excel file\n",
    "    CA1ch1=int(allchannels[mice][ctx].split(',')[0]) if mice == 'Blue' else int(allchannels[mice][ctx].split(',')[0])+Ch     #CA1 == 8th line in the excel file\n",
    "    CA1ch2=CA1ch1 if mice == 'Blue' else int(allchannels[mice][ctx].split(',')[1])+Ch       \n",
    "    \n",
    "    EMG  =  All[:, EMGch]\n",
    "    CA1  =  All[:, CA1ch1] if mice == 'Blue'else All[:, CA1ch1]-All[:, CA1ch2]\n",
    "\n",
    "## OpenEphys Gaelle's Data ##\n",
    "elif find_files_with_string(folderpath,  \"RawDataChannelExtractedDS.npy\"): \n",
    "    matching_file = find_files_with_string(folderpath, \"RawDataChannelExtractedDS.npy\")\n",
    "    All = np.load(matching_file, mmap_mode= 'r')\n",
    "    All = All.reshape(-1,32)\n",
    "    print('Open Ephy file loaded: RawDataChannelExtractedDS.npy')\n"
   ]
  },
  {
   "cell_type": "markdown",
   "metadata": {},
   "source": [
    "# Remove Wake signal"
   ]
  },
  {
   "cell_type": "code",
   "execution_count": null,
   "metadata": {},
   "outputs": [],
   "source": [
    "# Filter parameter :\n",
    "f_lowcut = 200.\n",
    "f_hicut = 400.\n",
    "N = 4\n",
    "fs = 1000\n",
    "nyq = 0.5 * fs\n",
    "Wn = [f_lowcut/nyq,f_hicut/nyq]  # Nyquist frequency fraction\n",
    "\n",
    "# Filter creation :\n",
    "b, a = signal.butter(N, Wn, 'band')\n",
    "filt_EMG = signal.filtfilt(b, a, EMG)\n",
    "\n",
    "# Plot\n",
    "times = np.arange(0, EMG.size/fs, 1./fs)\n",
    "timesmin = np.arange(0, EMG.size/fs/60, 1./fs/60)"
   ]
  },
  {
   "cell_type": "code",
   "execution_count": null,
   "metadata": {},
   "outputs": [],
   "source": [
    "# Parameter and computation of CWT\n",
    "w = 4.\n",
    "freq = np.linspace(200, 400, 50)\n",
    "widths = w*fs / (2*freq*np.pi)\n",
    "EMGcwt = signal.cwt(EMG, signal.morlet2, widths, w=w)\n",
    "\n",
    "# Projection calculation\n",
    "absEMGcwt = np.absolute(EMGcwt)\n",
    "proj_EMGcwt = np.sum(absEMGcwt, axis = 0)/50\n",
    "mproj_EMGcwt = np.mean(proj_EMGcwt)\n",
    "sdproj_EMGcwt = np.std(proj_EMGcwt)\n",
    "sd3proj_EMGcwt = mproj_EMGcwt + sdproj_EMGcwt*3\n",
    "sd05proj_EMGcwt = mproj_EMGcwt + sdproj_EMGcwt*0.5\n",
    "sd1proj_EMGcwt = mproj_EMGcwt + sdproj_EMGcwt\n"
   ]
  },
  {
   "cell_type": "code",
   "execution_count": null,
   "metadata": {},
   "outputs": [],
   "source": [
    "# Assigning values wake (1, 2) and sleep (0)\n",
    "numpnts = EMG.size\n",
    "EMGstatusRaw = np.zeros(numpnts)\n",
    "for ind in range(numpnts):\n",
    "    if proj_EMGcwt[ind]<sd05proj_EMGcwt:\n",
    "        EMGstatusRaw[ind] = 0\n",
    "    elif proj_EMGcwt[ind]>sd3proj_EMGcwt:\n",
    "        EMGstatusRaw[ind] = 2\n",
    "    else:\n",
    "        EMGstatusRaw[ind] = 1\n",
    "\n",
    "# Expanding borders for wake (1, 2) and sleep (0) to ±1 s around detected muscular activity\n",
    "EMGstatusRaw2 = np.zeros(numpnts)\n",
    "for ind in range(numpnts):\n",
    "    if EMGstatusRaw[ind]>1:\n",
    "       EMGstatusRaw2[ind-1000:ind+1000] = 2\n",
    "    elif EMGstatusRaw[ind]==1:\n",
    "        for ind2 in range(ind-1000, ind+1000):\n",
    "            if ind2==numpnts:\n",
    "                break\n",
    "            elif EMGstatusRaw2[ind2]<2:\n",
    "                EMGstatusRaw2[ind2] = 1"
   ]
  },
  {
   "cell_type": "code",
   "execution_count": null,
   "metadata": {},
   "outputs": [],
   "source": [
    "EMGStatusBoolLib = (EMGstatusRaw2>1)\n",
    "EMGStatusBoolCons = (EMGstatusRaw2>0)\n",
    "\n",
    "LFP = All[:,:]\n",
    "\n",
    "LFPwake0 = LFP.copy()\n",
    "LFPwake0[EMGStatusBoolLib,:] = 0\n",
    "\n",
    "LFPwakeremoved = LFP.copy()\n",
    "LFPwakeremoved = LFPwakeremoved[~EMGStatusBoolLib, :]"
   ]
  },
  {
   "cell_type": "markdown",
   "metadata": {},
   "source": [
    "Wake removed from CA1 LFP"
   ]
  },
  {
   "cell_type": "code",
   "execution_count": null,
   "metadata": {},
   "outputs": [],
   "source": [
    "try: \n",
    "    CA1wakeremoved = LFPwakeremoved[:,CA1ch1]-LFPwakeremoved[:,CA1ch2] \n",
    "except: \n",
    "    CA1wakeremoved = LFPwakeremoved[:,CA1ch1]"
   ]
  },
  {
   "cell_type": "markdown",
   "metadata": {},
   "source": [
    "# Band pass filter\n",
    "        SWR: 120-200 Hz"
   ]
  },
  {
   "cell_type": "code",
   "execution_count": null,
   "metadata": {},
   "outputs": [],
   "source": [
    "# Filtre parameter:\n",
    "f_lowcut = 120.\n",
    "f_hicut = 200.\n",
    "fs = 1000\n",
    "nyq = 0.5 * fs\n",
    "N = 6                 # Filtre order\n",
    "Wn = [f_lowcut/nyq,f_hicut/nyq]  # Nyquist frequency fraction\n",
    "\n",
    "# Filtering:\n",
    "b, a = signal.butter(N, Wn, 'band')\n",
    "filt_CA1 = signal.filtfilt(b, a, CA1)\n",
    "filt_CA1wakeremoved = signal.filtfilt(b, a, CA1wakeremoved)\n"
   ]
  },
  {
   "cell_type": "markdown",
   "metadata": {},
   "source": [
    "## Continuous Wavelet Transform and projection calculation\n",
    "\n",
    "First on signal with no wake time to determine sd of signal"
   ]
  },
  {
   "cell_type": "code",
   "execution_count": null,
   "metadata": {},
   "outputs": [],
   "source": [
    "# Parameter and computation of CWT\n",
    "w = 10.\n",
    "freq = np.linspace(120, 200, 80)\n",
    "widths = w*fs / (2*freq*np.pi)\n",
    "CA1NWcwt = signal.cwt(filt_CA1wakeremoved, signal.morlet2, widths, w=w)\n",
    "\n",
    "# Projection calculation\n",
    "absCA1NWcwt = np.absolute(CA1NWcwt)\n",
    "proj_CA1NWcwt = np.sum(absCA1NWcwt, axis = 0)/80\n",
    "sdproj_CA1cwt = np.std(proj_CA1NWcwt)\n",
    "#sd3proj_CA1cwt = sdproj_CA1cwt*3\n",
    "#sd10proj_CA1cwt = sdproj_CA1cwt*10\n",
    "#sd8proj_CA1cwt = sdproj_CA1cwt*8\n",
    "#sd7proj_CA1cwt = sdproj_CA1cwt*7\n",
    "sd6proj_CA1cwt = sdproj_CA1cwt*6"
   ]
  },
  {
   "cell_type": "markdown",
   "metadata": {},
   "source": [
    "Second on the signal for which wake times have been zeroed"
   ]
  },
  {
   "cell_type": "code",
   "execution_count": null,
   "metadata": {},
   "outputs": [],
   "source": [
    "# Conservative boolean filtering of CA1 filtered signal\n",
    "BooleanCons = EMGStatusBoolCons\n",
    "fCA1wake0C = filt_CA1.copy()\n",
    "fCA1wake0C[BooleanCons] = 0\n",
    "CA1wake0C = CA1.copy()\n",
    "CA1wake0C[BooleanCons] = 0\n",
    "# Liberal boolean filtering of CA1 filtered signal\n",
    "BooleanLib = EMGStatusBoolLib\n",
    "fCA1wake0L = filt_CA1.copy()\n",
    "fCA1wake0L[BooleanLib] = 0\n",
    "CA1wake0L = CA1.copy()\n",
    "CA1wake0L[BooleanLib] = 0\n",
    "\n",
    "# Computation of CWT\n",
    "CA1cwtWake0cons = signal.cwt(fCA1wake0C, signal.morlet2, widths, w=w)\n",
    "CA1cwtWake0lib = signal.cwt(fCA1wake0L, signal.morlet2, widths, w=w)\n",
    "\n",
    "# Projection calculation\n",
    "absCA1W0Ccwt = np.absolute(CA1cwtWake0cons)\n",
    "proj_CA1W0Ccwt = np.sum(absCA1W0Ccwt, axis = 0)/80\n",
    "absCA1W0Lcwt = np.absolute(CA1cwtWake0lib)\n",
    "proj_CA1W0Lcwt = np.sum(absCA1W0Lcwt, axis = 0)/80\n"
   ]
  },
  {
   "cell_type": "markdown",
   "metadata": {},
   "source": [
    "## Extracting SWRs and determining main properties \n",
    "\n",
    "First extraction of SWR peaks, initiation, end and width"
   ]
  },
  {
   "cell_type": "code",
   "execution_count": null,
   "metadata": {},
   "outputs": [],
   "source": [
    "# 10 sd threshold\n",
    "peaks, properties = find_peaks(proj_CA1W0Lcwt, prominence=1, width=20, height=sd6proj_CA1cwt) #AB detection with 8*SD // Audrey's detection=3*SD\n",
    "properties[\"prominences\"], properties[\"widths\"]\n",
    "\n",
    "# SWR boundaries taken at 70% from peak of intensity. This means that the SWRs with small amplitude will be longer than the big ones.\n",
    "results_width = peak_widths(proj_CA1W0Lcwt, peaks, rel_height=0.7)\n",
    "\n",
    "# Organise results in numpy array\n",
    "peaks2 = peaks.reshape(len(peaks),1)\n",
    "npresults_width = np.array(results_width).reshape(4,-1)\n",
    "SWR_prop = np.append(peaks2, results_width).reshape(5,len(peaks2)).round()"
   ]
  },
  {
   "cell_type": "markdown",
   "metadata": {},
   "source": [
    "Display subset"
   ]
  },
  {
   "cell_type": "markdown",
   "metadata": {},
   "source": [
    "Second extraction of main frequency and power "
   ]
  },
  {
   "cell_type": "code",
   "execution_count": null,
   "metadata": {},
   "outputs": [],
   "source": [
    "projMaxP_cwtmg = np.max(CA1cwtWake0lib, axis = 0)\n",
    "projMaxF_cwtmg = np.argmax(CA1cwtWake0lib, axis = 0) + 120\n",
    "projMaxP_cwtmg.shape\n",
    "\n",
    "nb_SWR = np.arange(0,len(peaks),1)\n",
    "data = np.zeros((len(peaks),4))\n",
    "\n",
    "for tt in nb_SWR:\n",
    "    SWR_start = int(SWR_prop[3,tt])\n",
    "    SWR_stop = int(SWR_prop[4,tt])\n",
    "    SWR_MaxP = projMaxP_cwtmg[SWR_start:SWR_stop]\n",
    "    SWR_MaxF = projMaxF_cwtmg[SWR_start:SWR_stop]\n",
    "    data[tt, 0] = max(SWR_MaxF).round()\n",
    "    data[tt, 1] = max(SWR_MaxP).round()\n",
    "    data[tt, 2] = round(sum(SWR_MaxF)/len(SWR_MaxF))\n",
    "    data[tt, 3] = round(sum(SWR_MaxP)/len(SWR_MaxP))\n",
    "\n",
    "param_SWR = pd.DataFrame(data, columns = ['Max freq', 'Max int', 'Avg freq', 'Avg int'])\n",
    "tSWR_prop = SWR_prop.transpose()\n",
    "pd_prop_SWR = pd.DataFrame(tSWR_prop, columns = ['peak time', 'Duration', 'peak amp', 'start time', 'end time'])\n",
    "All_SWR = pd.concat([pd_prop_SWR, param_SWR], axis=1)\n",
    "\n",
    "SWR_peak = peaks\n",
    "SWR_start = SWR_prop[3,:].astype(int)\n",
    "SWR_end = SWR_prop[4,:].astype(int)"
   ]
  },
  {
   "cell_type": "markdown",
   "metadata": {},
   "source": [
    "### Store the results in All_SWR_prop pd dataframe and save as pkl/csv for post processing."
   ]
  },
  {
   "cell_type": "code",
   "execution_count": null,
   "metadata": {},
   "outputs": [],
   "source": [
    "filename = folderpath / f'SWRproperties_{mice}_{Map[ctx]}Initial_AB.xlsx'\n",
    "All_SWR.to_excel(filename)\n",
    "\n",
    "filename = folderpath / f'SWRproperties_{mice}_{Map[ctx]}_AB.xlsx'\n",
    "All_SWR.to_excel(filename)"
   ]
  },
  {
   "cell_type": "markdown",
   "metadata": {},
   "source": [
    "### Display\n",
    "\n",
    "ephys viewer to check SWR detection"
   ]
  },
  {
   "cell_type": "code",
   "execution_count": null,
   "metadata": {},
   "outputs": [],
   "source": [
    "app = mkQApp()\n",
    "\n",
    "sample_rate = 1000.\n",
    "t_start = 0.\n",
    "\n",
    "#create 2 familly scatters from theses 2 indexes\n",
    "scatter_indexes = {0: SWR_peak, 1: SWR_start, 2: SWR_end}\n",
    "#and asign them to some channels each\n",
    "scatter_channels = {0: [1, 2], 1: [0, 1], 2: [0, 1]}\n",
    "combined = np.stack([CA1, filt_CA1*10, proj_CA1W0Ccwt*10, proj_CA1W0Lcwt*10], axis = 1)\n",
    "\n",
    "source = AnalogSignalSourceWithScatter(combined, sample_rate, t_start, scatter_indexes, scatter_channels)\n",
    "\n",
    "#Create the main window that can contain several viewers\n",
    "win = MainViewer(debug=True, show_auto_scale=True)\n",
    "\n",
    "#create a viewer for signal with TraceViewer\n",
    "#connected to the signal source\n",
    "view1 = TraceViewer(source=source)\n",
    "\n",
    "#Parameters can be set in script\n",
    "#view1.params['scale_mode'] = 'same_for_all'\n",
    "view1.params['display_labels'] = True\n",
    "#And also parameters for each channel\n",
    "\n",
    "view1.params['scale_mode'] = 'same_for_all'\n",
    "view1.auto_scale()\n",
    "\n",
    "view1.by_channel_params['ch0', 'color'] = '#ffffff'\n",
    "view1.by_channel_params['ch1', 'color'] = '#0055ff'\n",
    "view1.by_channel_params['ch2', 'color'] = '#ff5500'\n",
    "view1.by_channel_params['ch3', 'color'] = '#ffffff'\n",
    "\n",
    "#view1.by_channel_params['ch0', 'offset'] = 0\n",
    "#view1.by_channel_params['ch1', 'offset'] = -1\n",
    "#view1.by_channel_params['ch2', 'offset'] = -1\n",
    "#view1.by_channel_params['ch3', 'offset'] = -1\n",
    "\n",
    "#view1.by_channel_params['ch0', 'gain'] = .001\n",
    "#view1.by_channel_params['ch1', 'gain'] = .1\n",
    "#view1.by_channel_params['ch2', 'gain'] = .1\n",
    "#view1.by_channel_params['ch3', 'gain'] = .1\n",
    "\n",
    "#put this viewer in the main window\n",
    "win.add_view(view1)\n",
    "\n",
    "#Run\n",
    "win.show()\n",
    "app.exec_()"
   ]
  },
  {
   "cell_type": "markdown",
   "metadata": {},
   "source": [
    "Quick plot of average and max intensity (can be done with freq as well) paired."
   ]
  }
 ],
 "metadata": {
  "interpreter": {
   "hash": "984d3fbee8ffa490637705ae3d7233e001ab0304f3daaca07b5aa8569b88ca53"
  },
  "kernelspec": {
   "display_name": "Python 3.9.12 ('formation')",
   "language": "python",
   "name": "python3"
  },
  "language_info": {
   "codemirror_mode": {
    "name": "ipython",
    "version": 3
   },
   "file_extension": ".py",
   "mimetype": "text/x-python",
   "name": "python",
   "nbconvert_exporter": "python",
   "pygments_lexer": "ipython3",
   "version": "3.11.7"
  },
  "orig_nbformat": 4
 },
 "nbformat": 4,
 "nbformat_minor": 2
}
