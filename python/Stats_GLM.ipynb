{
 "cells": [
  {
   "cell_type": "code",
   "execution_count": 1,
   "metadata": {},
   "outputs": [
    {
     "name": "stdout",
     "output_type": "stream",
     "text": [
      "        Mixed Linear Model Regression Results\n",
      "======================================================\n",
      "Model:            MixedLM Dependent Variable: Score   \n",
      "No. Observations: 8       Method:             REML    \n",
      "No. Groups:       3       Scale:              0.3331  \n",
      "Min. group size:  2       Log-Likelihood:     -11.9607\n",
      "Max. group size:  3       Converged:          Yes     \n",
      "Mean group size:  2.7                                 \n",
      "------------------------------------------------------\n",
      "             Coef.  Std.Err.   z   P>|z| [0.025 0.975]\n",
      "------------------------------------------------------\n",
      "Intercept     8.997    2.510 3.585 0.000  4.078 13.916\n",
      "Treatment     2.002    0.272 7.360 0.000  1.469  2.535\n",
      "Subject Var  18.020   38.454                          \n",
      "======================================================\n",
      "\n"
     ]
    }
   ],
   "source": [
    "import statsmodels.api as sm\n",
    "import pandas as pd\n",
    "\n",
    "# Sample data\n",
    "data = {\n",
    "    'Subject': ['A', 'A', 'B', 'B', 'B', 'C', 'C', 'C'],\n",
    "    'Treatment': [1, 2, 1, 2, 3, 1, 2, 3],\n",
    "    'Score': [10, 12, 15, 18, 20, 8, 9, 11]\n",
    "}\n",
    "\n",
    "df = pd.DataFrame(data)\n",
    "\n",
    "# Fit the mixed-effects model\n",
    "mixedlm_model = sm.MixedLM.from_formula(\"Score ~ Treatment\", groups='Subject', data=df)\n",
    "result = mixedlm_model.fit()\n",
    "\n",
    "# Print model summary\n",
    "print(result.summary())"
   ]
  },
  {
   "cell_type": "code",
   "execution_count": 2,
   "metadata": {},
   "outputs": [
    {
     "name": "stdout",
     "output_type": "stream",
     "text": [
      "Wald test p-value: 1.8336307125901751e-13\n",
      "Parameter estimates:\n",
      "Intercept       8.997285\n",
      "Treatment       2.002036\n",
      "Subject Var    54.094059\n",
      "dtype: float64\n",
      "Confidence intervals:\n",
      "                     0           1\n",
      "Intercept     4.078327   13.916243\n",
      "Treatment     1.468924    2.535148\n",
      "Subject Var -76.487885  184.676002\n",
      "Random effects variance components:\n",
      "{'A': Subject   -0.991178\n",
      "dtype: float64, 'B': Subject    4.636737\n",
      "dtype: float64, 'C': Subject   -3.64556\n",
      "dtype: float64}\n",
      "Predicted values:\n",
      "0    10.999321\n",
      "1    13.001357\n",
      "2    15.003393\n",
      "dtype: float64\n"
     ]
    },
    {
     "name": "stderr",
     "output_type": "stream",
     "text": [
      "c:\\Users\\Manip2\\.conda\\envs\\minian311new2\\Lib\\site-packages\\statsmodels\\base\\model.py:1914: FutureWarning: The behavior of wald_test will change after 0.14 to returning scalar test statistic values. To get the future behavior now, set scalar to True. To silence this message while retaining the legacy behavior, set scalar to False.\n",
      "  warnings.warn(\n"
     ]
    }
   ],
   "source": [
    "# Hypothesis testing (Wald test)\n",
    "wald_test_result = result.wald_test(\"Treatment=0\")\n",
    "print(\"Wald test p-value:\", wald_test_result.pvalue)\n",
    "\n",
    "# Parameter estimates\n",
    "print(\"Parameter estimates:\")\n",
    "print(result.params)\n",
    "\n",
    "# Confidence intervals\n",
    "print(\"Confidence intervals:\")\n",
    "print(result.conf_int())\n",
    "\n",
    "# Variance components\n",
    "print(\"Random effects variance components:\")\n",
    "print(result.random_effects)\n",
    "\n",
    "# Predictions\n",
    "new_data = pd.DataFrame({'Treatment': [1, 2, 3]})\n",
    "predicted_values = result.predict(exog=new_data)\n",
    "print(\"Predicted values:\")\n",
    "print(predicted_values)\n"
   ]
  },
  {
   "cell_type": "code",
   "execution_count": 3,
   "metadata": {},
   "outputs": [
    {
     "ename": "NameError",
     "evalue": "name 'endog' is not defined",
     "output_type": "error",
     "traceback": [
      "\u001b[1;31m---------------------------------------------------------------------------\u001b[0m",
      "\u001b[1;31mNameError\u001b[0m                                 Traceback (most recent call last)",
      "Cell \u001b[1;32mIn[3], line 4\u001b[0m\n\u001b[0;32m      1\u001b[0m \u001b[38;5;28;01mimport\u001b[39;00m \u001b[38;5;21;01mstatsmodels\u001b[39;00m\u001b[38;5;21;01m.\u001b[39;00m\u001b[38;5;21;01mapi\u001b[39;00m \u001b[38;5;28;01mas\u001b[39;00m \u001b[38;5;21;01msm\u001b[39;00m\n\u001b[0;32m      3\u001b[0m \u001b[38;5;66;03m# Fit the mixed-effects model\u001b[39;00m\n\u001b[1;32m----> 4\u001b[0m model \u001b[38;5;241m=\u001b[39m sm\u001b[38;5;241m.\u001b[39mMixedLM(\u001b[43mendog\u001b[49m, exog, groups)\n\u001b[0;32m      5\u001b[0m result \u001b[38;5;241m=\u001b[39m model\u001b[38;5;241m.\u001b[39mfit()\n\u001b[0;32m      7\u001b[0m \u001b[38;5;66;03m# Obtain robust standard errors and Satterthwaite's degrees of freedom\u001b[39;00m\n",
      "\u001b[1;31mNameError\u001b[0m: name 'endog' is not defined"
     ]
    }
   ],
   "source": [
    "import statsmodels.api as sm\n",
    "\n",
    "# Fit the mixed-effects model\n",
    "model = sm.MixedLM(endog, exog, groups)\n",
    "result = model.fit()\n",
    "\n",
    "# Obtain robust standard errors and Satterthwaite's degrees of freedom\n",
    "robust_result = result.get_robustcov_results()\n",
    "\n",
    "# Perform hypothesis tests using Satterthwaite's degrees of freedom\n",
    "t_test_results = robust_result.t_test(hypothesis_matrix)\n",
    "print(t_test_results)\n"
   ]
  }
 ],
 "metadata": {
  "kernelspec": {
   "display_name": "minian311new2",
   "language": "python",
   "name": "python3"
  },
  "language_info": {
   "codemirror_mode": {
    "name": "ipython",
    "version": 3
   },
   "file_extension": ".py",
   "mimetype": "text/x-python",
   "name": "python",
   "nbconvert_exporter": "python",
   "pygments_lexer": "ipython3",
   "version": "3.11.7"
  }
 },
 "nbformat": 4,
 "nbformat_minor": 2
}
