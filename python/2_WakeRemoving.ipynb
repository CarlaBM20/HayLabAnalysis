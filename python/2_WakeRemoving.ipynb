{
 "cells": [
  {
   "cell_type": "markdown",
   "metadata": {},
   "source": [
    "# Extracting wake and filtering it out of data\n",
    "\n",
    "Restarting from the downsampled xrarray, extraction of active (without SWR) and quiet wake (with SWR) periods and removing these periods from the recordings."
   ]
  },
  {
   "cell_type": "markdown",
   "metadata": {},
   "source": [
    "## Load EMG and packages"
   ]
  },
  {
   "cell_type": "code",
   "execution_count": null,
   "metadata": {},
   "outputs": [],
   "source": [
    "from scipy import signal\n",
    "import numpy as np\n",
    "import matplotlib.pyplot as plt\n",
    "from matplotlib.widgets import Slider, Button, Cursor\n",
    "from scipy import fftpack\n",
    "import pandas as pd\n",
    "from pathlib import Path\n",
    "\n",
    "%matplotlib widget\n",
    "\n",
    "# mmap activated to not store everything in memory\n",
    "All = np.load('RawDataChannelExtractedDS_2.npy', mmap_mode= 'r')\n",
    "EMG = All[:, 11]\n"
   ]
  },
  {
   "cell_type": "markdown",
   "metadata": {},
   "source": [
    "## High pass filter"
   ]
  },
  {
   "cell_type": "code",
   "execution_count": null,
   "metadata": {},
   "outputs": [],
   "source": [
    "# Filter parameter :\n",
    "f_lowcut = 200.\n",
    "f_hicut = 400.\n",
    "N = 4\n",
    "fs = 1000\n",
    "nyq = 0.5 * fs\n",
    "Wn = [f_lowcut/nyq,f_hicut/nyq]  # Nyquist frequency fraction\n",
    "\n",
    "\n",
    "# Filter creation :\n",
    "b, a = signal.butter(N, Wn, 'band')\n",
    "filt_EMG = signal.filtfilt(b, a, EMG)\n",
    "\n",
    "# Plot\n",
    "times = np.arange(0, EMG.size/fs, 1./fs)\n",
    "timesmin = np.arange(0, EMG.size/fs/60, 1./fs/60)\n",
    "\n",
    "fig, ax = plt.subplots()\n",
    "ax.plot(timesmin, filt_EMG)\n"
   ]
  },
  {
   "cell_type": "markdown",
   "metadata": {},
   "source": [
    "## Continuous Wavelet Transform and projection calculation"
   ]
  },
  {
   "cell_type": "code",
   "execution_count": null,
   "metadata": {},
   "outputs": [],
   "source": [
    "# Parameter and computation of CWT\n",
    "w = 4.\n",
    "freq = np.linspace(200, 400, 50)\n",
    "widths = w*fs / (2*freq*np.pi)\n",
    "EMGcwt = signal.cwt(EMG, signal.morlet2, widths, w=w)\n",
    "\n",
    "# Projection calculation\n",
    "absEMGcwt = np.absolute(EMGcwt)\n",
    "proj_EMGcwt = np.sum(absEMGcwt, axis = 0)/50\n",
    "sdproj_EMGcwt = np.std(proj_EMGcwt)\n",
    "sd3proj_EMGcwt = sdproj_EMGcwt*3.5\n",
    "sd05proj_EMGcwt = sdproj_EMGcwt*0.5\n",
    "\n"
   ]
  },
  {
   "cell_type": "markdown",
   "metadata": {},
   "source": [
    "### Display subset \n",
    "\n",
    "Not necessary cell to run"
   ]
  },
  {
   "cell_type": "code",
   "execution_count": null,
   "metadata": {},
   "outputs": [],
   "source": [
    "# Defining subset\n",
    "start = 00000\n",
    "end = 400000\n",
    "\n",
    "tt = times[start:end]\n",
    "EMGt = EMG[start:end]\n",
    "EMGcwtt = EMGcwt[:, start:end]\n",
    "proj_EMGcwtt = proj_EMGcwt[start:end]\n",
    "\n",
    "plt.axhline(sdproj_EMGcwt, color='r') # horizontal\n",
    "plt.axhline(sd3proj_EMGcwt, color='g') # horizontal\n",
    "plt.axhline(sd05proj_EMGcwt, color='b') # horizontal\n",
    "plt.plot(tt, EMGt)\n",
    "plt.plot(tt, proj_EMGcwtt)\n",
    "plt.show()\n",
    "\n",
    "## WARNING: Plot only short subsets (~ 10 s), too memory consuming otherwise\n",
    "#plt.pcolormesh(tt, freq, np.abs(EMGcwt), cmap='viridis', shading='gouraud')\n",
    "#plt.plot(tt, EMGt)\n",
    "#plt.show()\n"
   ]
  },
  {
   "cell_type": "code",
   "execution_count": null,
   "metadata": {},
   "outputs": [],
   "source": [
    "plt.close('all')\n"
   ]
  },
  {
   "cell_type": "markdown",
   "metadata": {},
   "source": [
    "## Interpretating signal to extract wake (active and quiet) and sleep"
   ]
  },
  {
   "cell_type": "code",
   "execution_count": null,
   "metadata": {},
   "outputs": [],
   "source": [
    "# Assigning values wake (1, 2) and sleep (0)\n",
    "numpnts = EMG.size\n",
    "EMGstatusRaw = np.zeros(numpnts)\n",
    "for ind in range(numpnts):\n",
    "    if proj_EMGcwt[ind]<sd05proj_EMGcwt:\n",
    "        EMGstatusRaw[ind] = 0\n",
    "    elif proj_EMGcwt[ind]>sd3proj_EMGcwt:\n",
    "        EMGstatusRaw[ind] = 2\n",
    "    else: \n",
    "        EMGstatusRaw[ind] = 1\n",
    "\n",
    "# Expanding borders for wake (1, 2) and sleep (0) to ±1 s around detected muscular activity\n",
    "EMGstatusRaw2 = np.zeros(numpnts)\n",
    "for ind in range(numpnts):\n",
    "    if EMGstatusRaw[ind]>1:\n",
    "       EMGstatusRaw2[ind-1000:ind+1000] = 2\n",
    "    elif EMGstatusRaw[ind]==1:\n",
    "        for ind2 in range(ind-1000, ind+1000):\n",
    "            if ind2==numpnts:\n",
    "                break\n",
    "            elif EMGstatusRaw2[ind2]<2:\n",
    "                EMGstatusRaw2[ind2] = 1"
   ]
  },
  {
   "cell_type": "code",
   "execution_count": null,
   "metadata": {},
   "outputs": [],
   "source": [
    "# if needed, plot of the two layers of filters\n",
    "plt.close('all')\n",
    "plt.plot(tt, EMGstatusRaw)\n",
    "plt.plot(tt, EMGstatusRaw2)\n",
    "plt.show()"
   ]
  },
  {
   "cell_type": "markdown",
   "metadata": {},
   "source": [
    "## To Create boolean masks and to save recordings without movement\n",
    "#### Creating two masks: one conservative excludes weak muscular activity that can be quiet wake or dozing and one liberal that includes weak muscular activity"
   ]
  },
  {
   "cell_type": "code",
   "execution_count": null,
   "metadata": {},
   "outputs": [],
   "source": [
    "EMGStatusBoolLib = (EMGstatusRaw2>1)\n",
    "EMGStatusBoolCons = (EMGstatusRaw2>0)\n"
   ]
  },
  {
   "cell_type": "markdown",
   "metadata": {},
   "source": [
    "#### Removing wake time from the recordings.\n",
    "Two files created one with 0 instead of signal during wake and one with the wake time removed"
   ]
  },
  {
   "cell_type": "code",
   "execution_count": null,
   "metadata": {},
   "outputs": [],
   "source": [
    "LFP = All[:, 1:4]\n",
    "LFPwake0 = LFP.copy()\n",
    "LFPwake0[EMGStatusBoolLib] = 0\n",
    "np.save('LFPwake0.npy', LFPwake0)\n",
    "\n",
    "LFPwakeremoved = LFP.copy()\n",
    "LFPwakeremoved = LFPwakeremoved[~EMGStatusBoolLib, :]\n",
    "np.save('LFPwakeremoved_2.npy', LFPwakeremoved)\n",
    "\n",
    "data = {\n",
    "    'EMGstatus': EMGstatusRaw2,\n",
    "    'BooleanLiberal' : EMGStatusBoolLib,\n",
    "    'BooleanConservative' : EMGStatusBoolCons\n",
    "}\n",
    "WakeFrame = pd.DataFrame(data, columns=['EMGstatus', 'BooleanLiberal', 'BooleanConservative'])\n",
    "WakeFrame.to_pickle('EMGframeBoolean_2.pkl')\n",
    "# if done and no intention to display for assessment\n",
    "#%reset\n",
    "#plt.close('all')"
   ]
  },
  {
   "cell_type": "code",
   "execution_count": null,
   "metadata": {},
   "outputs": [],
   "source": [
    "WakeFrame"
   ]
  },
  {
   "cell_type": "code",
   "execution_count": null,
   "metadata": {},
   "outputs": [],
   "source": [
    "# Display on a subset (not a necessary step)\n",
    "start = 1000\n",
    "end = 2000\n",
    "\n",
    "LFP = All[start:end, 1:4]\n",
    "EMGStatusBoolLibt = EMGStatusBoolLib[start:end]\n",
    "tt2 = tt[start:end]\n",
    "EMGstatusRaw3 = EMGstatusRaw2[start:end]*2000\n",
    "tentative = LFP.copy()\n",
    "\n",
    "# to display LFP with wake time kept but signal set at 0\n",
    "#tentative[EMGStatusBoolLibt] = 0\n",
    "#plt.close('all')\n",
    "#plt.plot(tt2, tentative)\n",
    "#plt.plot(tt2, EMGstatusRaw3)\n",
    "#plt.show()\n",
    "\n",
    "# to display LFP with wake time removed.\n",
    "tentative = tentative[~EMGStatusBoolLibt, :]\n",
    "print(tentative.shape)\n",
    "tt3 = tt[start:tentative.shape[0]]\n",
    "plt.close('all')\n",
    "plt.plot(tt3, tentative)\n",
    "plt.show()\n"
   ]
  }
 ],
 "metadata": {
  "interpreter": {
   "hash": "984d3fbee8ffa490637705ae3d7233e001ab0304f3daaca07b5aa8569b88ca53"
  },
  "kernelspec": {
   "display_name": "Python 3.9.12 ('formation')",
   "language": "python",
   "name": "python3"
  },
  "language_info": {
   "codemirror_mode": {
    "name": "ipython",
    "version": 3
   },
   "file_extension": ".py",
   "mimetype": "text/x-python",
   "name": "python",
   "nbconvert_exporter": "python",
   "pygments_lexer": "ipython3",
   "version": "3.9.12"
  },
  "orig_nbformat": 4
 },
 "nbformat": 4,
 "nbformat_minor": 2
}
