{
 "cells": [
  {
   "cell_type": "markdown",
   "metadata": {},
   "source": [
    "# Extracting wake and filtering it out of data\n",
    "\n",
    "Restarting from the downsampled xrarray, extraction of active (without SWR) and quiet wake (with SWR) periods and removing these periods from the recordings."
   ]
  },
  {
   "cell_type": "markdown",
   "metadata": {},
   "source": [
    "## Setup everything"
   ]
  },
  {
   "cell_type": "markdown",
   "metadata": {},
   "source": [
    "### Load packages"
   ]
  },
  {
   "cell_type": "code",
   "execution_count": null,
   "metadata": {},
   "outputs": [],
   "source": [
    "import scipy\n",
    "from scipy import signal\n",
    "from scipy import interpolate\n",
    "from scipy import fftpack\n",
    "import numpy as np\n",
    "import matplotlib.pyplot as plt\n",
    "from matplotlib.widgets import Slider, Button, Cursor\n",
    "import pandas as pd\n",
    "import quantities as pq\n",
    "import neo\n",
    "from pathlib import Path\n",
    "import xarray as xr\n",
    "from IPython.display import display\n",
    "from ipyfilechooser import FileChooser\n",
    "import os\n",
    "from ephyviewer import mkQApp, MainViewer, TraceViewer\n",
    "\n",
    "%matplotlib widget\n"
   ]
  },
  {
   "cell_type": "markdown",
   "metadata": {},
   "source": [
    "### Choose experiment"
   ]
  },
  {
   "cell_type": "code",
   "execution_count": null,
   "metadata": {},
   "outputs": [],
   "source": [
    "dpath = \"//10.69.168.1/crnldata/waking/audrey_hay/L1imaging/AnalysedMarch2023/Gaelle/Baseline_recording\"\n",
    "try:\n",
    "    %store -r dpath\n",
    "except:\n",
    "    print(\"data not in strore\")\n",
    "    dpath =\"//10.69.168.1/crnldata/waking/audrey_hay/L1imaging/AnalysedMarch2023/Gaelle/Baseline_recording\"\n",
    "\n",
    "\n",
    "# Set up Initial Basic Parameters#\n",
    "minian_path = \".\"\n",
    "\n",
    "fc1 = FileChooser(dpath,select_default=True, show_only_dirs = True, title = \"<b>OpenEphys Folder</b>\")\n",
    "display(fc1)\n",
    "\n",
    "# Sample callback function\n",
    "def update_my_folder(chooser):\n",
    "    global dpath\n",
    "    dpath = chooser.selected\n",
    "    %store dpath\n",
    "    return \n",
    "\n",
    "# Register callback function\n",
    "fc1.register_callback(update_my_folder)"
   ]
  },
  {
   "cell_type": "code",
   "execution_count": null,
   "metadata": {},
   "outputs": [],
   "source": [
    "sep = -1 #-5\n",
    "animalIDPos = -3\n",
    "dirPathComponents = os.path.normpath(dpath).split(os.sep)\n",
    "rootPath = os.path.join('/',*dirPathComponents[:sep])\n",
    "folder_base = os.path.join(*dirPathComponents[sep:])\n",
    "mice = 'RedLinesOK' #dirPathComponents[animalIDPos]\n",
    "print(rootPath)\n",
    "print(folder_base)"
   ]
  },
  {
   "cell_type": "markdown",
   "metadata": {},
   "source": [
    "## Load EMG"
   ]
  },
  {
   "cell_type": "code",
   "execution_count": null,
   "metadata": {},
   "outputs": [],
   "source": [
    "filename2 = os.path.join(dpath,'RawDataChannelExtractedDS.npy')\n",
    "All = np.load(filename2, mmap_mode= 'r')\n",
    "\n",
    "%matplotlib widget\n",
    "\n",
    "# mmap activated to not store everything in memory\n",
    "folder_base = Path('/Users/ahay/Documents/DATA/OPNE/ArchTshort/')\n",
    "filename = folder_base/ f'OD2.npy'\n",
    "all = np.load(filename, mmap_mode= 'r')\n",
    "all = all.T\n",
    "EMG = all[6, :]\n",
    "all.shape"
   ]
  },
  {
   "cell_type": "markdown",
   "metadata": {},
   "source": [
    "## High pass filter"
   ]
  },
  {
   "cell_type": "code",
   "execution_count": null,
   "metadata": {},
   "outputs": [],
   "source": [
    "# Filter parameter :\n",
    "f_lowcut = 200.\n",
    "f_hicut = 400.\n",
    "N = 4\n",
    "fs = 1000\n",
    "nyq = 0.5 * fs\n",
    "Wn = [f_lowcut/nyq,f_hicut/nyq]  # Nyquist frequency fraction\n",
    "\n",
    "\n",
    "# Filter creation :\n",
    "b, a = signal.butter(N, Wn, 'band')\n",
    "filt_EMG = signal.filtfilt(b, a, EMG)\n",
    "\n",
    "# Plot\n",
    "times = np.arange(0, EMG.size/fs, 1./fs)\n",
    "timesmin = np.arange(0, EMG.size/fs/60, 1./fs/60)\n",
    "\n",
    "fig, ax = plt.subplots()\n",
    "ax.plot(timesmin, filt_EMG)\n"
   ]
  },
  {
   "cell_type": "markdown",
   "metadata": {},
   "source": [
    "## Continuous Wavelet Transform and projection calculation"
   ]
  },
  {
   "cell_type": "code",
   "execution_count": null,
   "metadata": {},
   "outputs": [],
   "source": [
    "# Parameter and computation of CWT\n",
    "w = 4.\n",
    "freq = np.linspace(200, 400, 50)\n",
    "widths = w*fs / (2*freq*np.pi)\n",
    "EMGcwt = signal.cwt(EMG, signal.morlet2, widths, w=w)\n",
    "\n",
    "# Projection calculation\n",
    "absEMGcwt = np.absolute(EMGcwt)\n",
    "proj_EMGcwt = np.sum(absEMGcwt, axis = 0)/50\n",
    "mproj_EMGcwt = np.mean(proj_EMGcwt)\n",
    "sdproj_EMGcwt = np.std(proj_EMGcwt)\n",
    "sd3proj_EMGcwt = mproj_EMGcwt + sdproj_EMGcwt*3\n",
    "sd05proj_EMGcwt = mproj_EMGcwt + sdproj_EMGcwt*0.5\n",
    "sd1proj_EMGcwt = mproj_EMGcwt + sdproj_EMGcwt\n",
    "\n"
   ]
  },
  {
   "cell_type": "markdown",
   "metadata": {},
   "source": [
    "### Display subset \n",
    "\n",
    "Not necessary cell to run"
   ]
  },
  {
   "cell_type": "code",
   "execution_count": null,
   "metadata": {},
   "outputs": [],
   "source": [
    "sd3proj_EMGcwt = mproj_EMGcwt + sdproj_EMGcwt*2\n",
    "sd05proj_EMGcwt = mproj_EMGcwt + sdproj_EMGcwt*1.5\n",
    "# Defining subset\n",
    "start = 000000\n",
    "end =   13000000\n",
    "\n",
    "tt = times[start:end]\n",
    "EMGt = EMG[start:end]\n",
    "EMGcwtt = EMGcwt[:, start:end]\n",
    "proj_EMGcwtt = proj_EMGcwt[start:end]\n",
    "\n",
    "plt.close()\n",
    "plt.plot(tt, proj_EMGcwtt)\n",
    "plt.axhline(sd1proj_EMGcwt, color='r') # horizontal\n",
    "plt.axhline(sd3proj_EMGcwt, color='g') # horizontal\n",
    "plt.axhline(sd05proj_EMGcwt, color='b') # horizontal\n",
    "#plt.plot(tt, EMGt)\n",
    "plt.show()\n",
    "\n",
    "## WARNING: Plot only short subsets (~ 10 s), too memory consuming otherwise\n",
    "#plt.pcolormesh(tt, freq, np.abs(EMGcwt), cmap='viridis', shading='gouraud')\n",
    "#plt.plot(tt, EMGt)\n",
    "#plt.show()\n"
   ]
  },
  {
   "cell_type": "code",
   "execution_count": null,
   "metadata": {},
   "outputs": [],
   "source": [
    "plt.close('all')\n"
   ]
  },
  {
   "cell_type": "markdown",
   "metadata": {},
   "source": [
    "## Interpretating signal to extract wake (active and quiet) and sleep"
   ]
  },
  {
   "cell_type": "code",
   "execution_count": null,
   "metadata": {},
   "outputs": [],
   "source": [
    "# Assigning values wake (1, 2) and sleep (0)\n",
    "numpnts = EMG.size\n",
    "EMGstatusRaw = np.zeros(numpnts)\n",
    "for ind in range(numpnts):\n",
    "    if proj_EMGcwt[ind]<sd05proj_EMGcwt:\n",
    "        EMGstatusRaw[ind] = 0\n",
    "    elif proj_EMGcwt[ind]>sd3proj_EMGcwt:\n",
    "        EMGstatusRaw[ind] = 2\n",
    "    else:\n",
    "        EMGstatusRaw[ind] = 1\n",
    "\n",
    "# Expanding borders for wake (1, 2) and sleep (0) to ±1 s around detected muscular activity\n",
    "EMGstatusRaw2 = np.zeros(numpnts)\n",
    "for ind in range(numpnts):\n",
    "    if EMGstatusRaw[ind]>1:\n",
    "       EMGstatusRaw2[ind-1000:ind+1000] = 2\n",
    "    elif EMGstatusRaw[ind]==1:\n",
    "        for ind2 in range(ind-1000, ind+1000):\n",
    "            if ind2==numpnts:\n",
    "                break\n",
    "            elif EMGstatusRaw2[ind2]<2:\n",
    "                EMGstatusRaw2[ind2] = 1"
   ]
  },
  {
   "cell_type": "markdown",
   "metadata": {},
   "source": [
    "## To Create boolean masks and to save recordings without movement\n",
    "#### Creating two masks: one conservative excludes weak muscular activity that can be quiet wake or dozing and one liberal that includes weak muscular activity"
   ]
  },
  {
   "cell_type": "code",
   "execution_count": null,
   "metadata": {},
   "outputs": [],
   "source": [
    "EMGStatusBoolLib = (EMGstatusRaw2>1)\n",
    "EMGStatusBoolCons = (EMGstatusRaw2>0)\n"
   ]
  },
  {
   "cell_type": "markdown",
   "metadata": {},
   "source": [
    "#### Removing wake time from the recordings.\n",
    "Two files created one with 0 instead of signal during wake and one with the wake time removed"
   ]
  },
  {
   "cell_type": "code",
   "execution_count": null,
   "metadata": {},
   "outputs": [],
   "source": [
    "\n",
    "LFP = all[:,:]\n",
    "LFPwake0 = LFP.copy().T\n",
    "LFPwake0[EMGStatusBoolLib] = 0\n",
    "filename = folder_base/ f'LFPwake0.npy'\n",
    "np.save(filename, LFPwake0)\n",
    "\n",
    "LFPwakeremoved = LFP.copy().T\n",
    "LFPwakeremoved = LFPwakeremoved[~EMGStatusBoolLib, :]\n",
    "filename = folder_base/ f'LFPwakeremoved.npy'\n",
    "np.save(filename, LFPwakeremoved)\n",
    "data = {\n",
    "    'EMGstatus': EMGstatusRaw2,\n",
    "    'BooleanLiberal' : EMGStatusBoolLib,\n",
    "    'BooleanConservative' : EMGStatusBoolCons\n",
    "}\n",
    "WakeFrame = pd.DataFrame(data, columns=['EMGstatus', 'BooleanLiberal', 'BooleanConservative'])\n",
    "filename = os.path.join(dpath,'EMGframeBoolean_AB.pkl')\n",
    "\n",
    "WakeFrame.to_pickle(filename)\n",
    "# if done and no intention to display for assessment\n",
    "#%reset\n",
    "#plt.close('all')"
   ]
  },
  {
   "cell_type": "code",
   "execution_count": null,
   "metadata": {},
   "outputs": [],
   "source": [
    "filename = folder_base/ f'RawDataChannelExtractedDS.npy'\n",
    "np.save(filename, all)"
   ]
  }
 ],
 "metadata": {
  "interpreter": {
   "hash": "984d3fbee8ffa490637705ae3d7233e001ab0304f3daaca07b5aa8569b88ca53"
  },
  "kernelspec": {
   "display_name": "Python 3.9.12 ('formation')",
   "language": "python",
   "name": "python3"
  },
  "language_info": {
   "codemirror_mode": {
    "name": "ipython",
    "version": 3
   },
   "file_extension": ".py",
   "mimetype": "text/x-python",
   "name": "python",
   "nbconvert_exporter": "python",
   "pygments_lexer": "ipython3",
   "version": "3.11.8"
  },
  "orig_nbformat": 4
 },
 "nbformat": 4,
 "nbformat_minor": 2
}
