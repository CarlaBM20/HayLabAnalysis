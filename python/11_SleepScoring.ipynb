{
 "cells": [
  {
   "cell_type": "markdown",
   "metadata": {},
   "source": [
    "# Sleep scoring"
   ]
  },
  {
   "cell_type": "markdown",
   "metadata": {},
   "source": [
    "Load packages"
   ]
  },
  {
   "cell_type": "code",
   "execution_count": null,
   "metadata": {},
   "outputs": [],
   "source": [
    "import quantities as pq\n",
    "import numpy as np\n",
    "import neo\n",
    "from pathlib import Path\n",
    "import xarray as xr\n",
    "import pandas as pd\n",
    "import matplotlib.pyplot as plt\n",
    "from matplotlib.widgets import Slider, Button, Cursor\n",
    "import scipy\n",
    "from scipy import interpolate\n",
    "from scipy import fftpack\n",
    "from scipy import signal\n",
    "%matplotlib widget\n",
    "\n",
    "from ephyviewer import mkQApp, MainViewer, TraceViewer"
   ]
  },
  {
   "cell_type": "markdown",
   "metadata": {},
   "source": [
    "Load downsampled recordings"
   ]
  },
  {
   "cell_type": "code",
   "execution_count": null,
   "metadata": {},
   "outputs": [],
   "source": [
    "folder_base = Path('Gaelle/Baseline_recording/GreenDotsOK/session1/OpenEphys/')\n",
    "\n",
    "filename0 = folder_base / f'LFPwake0.npy'\n",
    "filename2 = folder_base / f'RawDataChannelExtractedDS.npy'\n",
    "filenamePKL = folder_base / f'EMGframeBoolean.pkl'\n",
    "\n",
    "All = np.load(filename2, mmap_mode= 'r')\n",
    "All0 = np.load(filename0, mmap_mode= 'r')\n",
    "Bool = pd.read_pickle(filenamePKL)"
   ]
  },
  {
   "cell_type": "markdown",
   "metadata": {},
   "source": [
    "Associate channels to brain areas"
   ]
  },
  {
   "cell_type": "code",
   "execution_count": null,
   "metadata": {},
   "outputs": [],
   "source": [
    "EMG = All[:, 22]#GL 11\n",
    "PFC1 = All[:, 1]#GL 22\n",
    "PFC2 = All[:, 15]#GL 23\n",
    "PFC = PFC2 #- PFC1\n",
    "S11 = All[:, 21]#GL 18\n",
    "S12 = All[:, 23]#GL 19\n",
    "S1 = S11 #- S11\n",
    "CA11 = All0[:, 27]#GL 13\n",
    "CA12 = All0[:, 29]#GL 15\n",
    "CA13 = All[:, 1]\n",
    "CA1 = CA12# - CA11\n",
    "\n",
    "ThetaCh = CA1\n",
    "Beta1Ch = PFC\n",
    "Beta2Ch = S1\n"
   ]
  },
  {
   "cell_type": "markdown",
   "metadata": {},
   "source": [
    "Visualise to determine what channel/stereochannel to use to extract muscular activity, delta, theta, beta and maybe index of higher frequency"
   ]
  },
  {
   "cell_type": "code",
   "execution_count": null,
   "metadata": {},
   "outputs": [],
   "source": [
    "start = 000000\n",
    "end = len(EMG)\n",
    "EMGs = EMG[start:end, np.newaxis]\n",
    "PFC1s = PFC1[start:end, np.newaxis]\n",
    "PFC2s = PFC2[start:end, np.newaxis]\n",
    "PFCs = PFC[start:end, np.newaxis]\n",
    "S11s = S11[start:end, np.newaxis]\n",
    "S12s = S12[start:end, np.newaxis]\n",
    "S1s = S1[start:end, np.newaxis]\n",
    "CA11s = CA11[start:end, np.newaxis]\n",
    "CA12s = CA12[start:end, np.newaxis]\n",
    "CA1s = CA1[start:end, np.newaxis]\n",
    "combined = np.append(EMGs, PFC1s, axis=1)\n",
    "combined = np.append(combined, PFC2s, axis=1)\n",
    "combined = np.append(combined, PFCs, axis=1)\n",
    "combined = np.append(combined, S12s, axis=1)\n",
    "combined = np.append(combined, S11s, axis=1)\n",
    "combined = np.append(combined, S1s, axis=1)\n",
    "combined = np.append(combined, CA11s, axis=1)\n",
    "combined = np.append(combined, CA12s, axis=1)\n",
    "combined = np.append(combined, CA1s, axis=1)"
   ]
  },
  {
   "cell_type": "code",
   "execution_count": null,
   "metadata": {},
   "outputs": [],
   "source": [
    "app = mkQApp()\n",
    "\n",
    "\n",
    "sample_rate = 1000.\n",
    "t_start = 0.\n",
    "\n",
    "#Create the main window that can contain several viewers\n",
    "win = MainViewer()\n",
    "view1 = TraceViewer.from_numpy(combined, sample_rate, t_start, 'Signals')\n",
    "win.add_view(view1)\n",
    "\n",
    "#Parameters can be set in script\n",
    "#view1.params['scale_mode'] = 'same_for_all'\n",
    "view1.params['display_labels'] = True\n",
    "#And also parameters for each channel\n",
    "view1.by_channel_params['ch0', 'color'] = '#aa0000'\n",
    "view1.by_channel_params['ch1', 'color'] = '#0055ff'\n",
    "view1.by_channel_params['ch2', 'color'] = '#0055ff'\n",
    "view1.by_channel_params['ch4', 'color'] = '#ff5500'\n",
    "view1.by_channel_params['ch5', 'color'] = '#ff5500'\n",
    "view1.by_channel_params['ch7', 'color'] = '#9b3b70'\n",
    "view1.by_channel_params['ch8', 'color'] = '#9b3b70'\n",
    "#view1.by_channel_params['ch9', 'color'] = '#9b3b70'\n",
    "\n",
    "\n",
    "\n",
    "view1.by_channel_params['ch0', 'gain'] = 0.00002\n",
    "view1.by_channel_params['ch1', 'gain'] = 0.00002\n",
    "view1.by_channel_params['ch2', 'gain'] = 0.00002\n",
    "view1.by_channel_params['ch3', 'gain'] = 0.00006\n",
    "view1.by_channel_params['ch4', 'gain'] = 0.00002\n",
    "view1.by_channel_params['ch5', 'gain'] = 0.00002\n",
    "view1.by_channel_params['ch6', 'gain'] = 0.00003\n",
    "view1.by_channel_params['ch7', 'gain'] = 0.00002\n",
    "view1.by_channel_params['ch8', 'gain'] = 0.00002\n",
    "view1.by_channel_params['ch9', 'gain'] = 0.00002\n",
    "\n",
    "view1.by_channel_params['ch0', 'offset'] = 0.5\n",
    "view1.by_channel_params['ch1', 'offset'] = 0.4\n",
    "view1.by_channel_params['ch2', 'offset'] = 0.3\n",
    "view1.by_channel_params['ch3', 'offset'] = 0.2\n",
    "view1.by_channel_params['ch4', 'offset'] = 0.1\n",
    "view1.by_channel_params['ch5', 'offset'] = 0\n",
    "view1.by_channel_params['ch6', 'offset'] = -0.1\n",
    "view1.by_channel_params['ch7', 'offset'] = -0.2\n",
    "view1.by_channel_params['ch8', 'offset'] = -0.3\n",
    "view1.by_channel_params['ch9', 'offset'] = -0.4\n",
    "\n",
    "#Run\n",
    "win.show()\n",
    "app.exec_()"
   ]
  },
  {
   "cell_type": "markdown",
   "metadata": {},
   "source": [
    "## Build vigilance state scoring vector\n",
    "[we use here liberal boolean for wake detection]\n",
    "\n",
    "    ### 0 = wake\n",
    "    ### 1 = REM\n",
    "    ### >1 = NREM\n",
    "\n",
    "    "
   ]
  },
  {
   "cell_type": "markdown",
   "metadata": {},
   "source": [
    "Set all sleep at 1 and wake at 0"
   ]
  },
  {
   "cell_type": "code",
   "execution_count": null,
   "metadata": {},
   "outputs": [],
   "source": [
    "ScoringVectorLength = len(EMG)\n",
    "ScoringVector = np.zeros((ScoringVectorLength))\n",
    "WakeStatus = np.zeros((ScoringVectorLength))\n",
    "EMGStatusBoolLib = Bool.BooleanLiberal\n",
    "WakeStatus[EMGStatusBoolLib] = 1\n"
   ]
  },
  {
   "cell_type": "markdown",
   "metadata": {},
   "source": [
    "Extract REM and set NREM at 2"
   ]
  },
  {
   "cell_type": "code",
   "execution_count": null,
   "metadata": {},
   "outputs": [],
   "source": [
    "# Filtre parameter:\n",
    "f_lowcut = 5.\n",
    "f_hicut = 9.\n",
    "fs = 1000\n",
    "nyq = 0.5 * fs\n",
    "N = 4                 # Filtre order\n",
    "Wn = [f_lowcut/nyq,f_hicut/nyq]  # Nyquist frequency fraction\n",
    "\n",
    "# Filtering:\n",
    "b, a = signal.butter(N, Wn, 'band')\n",
    "filt_Theta = signal.filtfilt(b, a, ThetaCh)\n",
    "\n",
    "# Parameter and computation of CWT\n",
    "w = 30.\n",
    "freq = np.linspace(5, 9, 8)\n",
    "widths = w*fs / (2*freq*np.pi)\n",
    "ThetaCWT = signal.cwt(filt_Theta, signal.morlet2, widths, w=w)\n",
    "\n",
    "# Projection calculation\n",
    "absThetaCWT = np.absolute(ThetaCWT)\n",
    "from scipy import stats\n",
    "\n",
    "zabsThetaCWT = stats.zscore(absThetaCWT, axis=None)\n",
    "\n",
    "proj_ThetaCWT = np.max(zabsThetaCWT, axis = 0)/8\n",
    "sdproj_ThetaCWT = np.std(proj_ThetaCWT)\n",
    "meanproj_ThetaCWT = np.mean(proj_ThetaCWT)\n",
    "\n",
    "numpnts = EMG.size\n",
    "ThetaStatus = np.zeros(numpnts)\n",
    "for ind in range(numpnts):\n",
    "    if proj_ThetaCWT[ind]>(meanproj_ThetaCWT+1.4*sdproj_ThetaCWT):\n",
    "        ThetaStatus[ind] = 1\n",
    "\n"
   ]
  },
  {
   "cell_type": "code",
   "execution_count": null,
   "metadata": {},
   "outputs": [],
   "source": [
    "plt.close()\n",
    "plt.plot(proj_ThetaCWT)\n",
    "plt.plot(WakeStatus)\n",
    "\n",
    "plt.show()"
   ]
  },
  {
   "cell_type": "markdown",
   "metadata": {},
   "source": [
    "Extract beta "
   ]
  },
  {
   "cell_type": "code",
   "execution_count": null,
   "metadata": {},
   "outputs": [],
   "source": [
    "\n",
    "# Filtre parameter:\n",
    "f_lowcut = 10.\n",
    "f_hicut = 18.\n",
    "fs = 1000\n",
    "nyq = 0.5 * fs\n",
    "N = 4                 # Filtre order\n",
    "Wn = [f_lowcut/nyq,f_hicut/nyq]  # Nyquist frequency fraction\n",
    "\n",
    "# Filtering:\n",
    "b, a = signal.butter(N, Wn, 'band')\n",
    "filt_Beta1 = signal.filtfilt(b, a, Beta1Ch)\n",
    "filt_Beta2 = signal.filtfilt(b, a, Beta2Ch)\n",
    "\n",
    "# Parameter and computation of CWT\n",
    "w = 10.\n",
    "freq = np.linspace(10, 18, 16)\n",
    "widths = w*fs / (2*freq*np.pi)\n",
    "Beta1CWT = signal.cwt(filt_Beta1, signal.morlet2, widths, w=w)\n",
    "Beta2CWT = signal.cwt(filt_Beta2, signal.morlet2, widths, w=w)\n",
    "\n",
    "# Projection calculation\n",
    "absBeta1CWT = np.absolute(Beta1CWT)\n",
    "absBeta2CWT = np.absolute(Beta2CWT)\n",
    "from scipy import stats\n",
    "\n",
    "zabsBeta1CWT = stats.zscore(absBeta1CWT, axis=None)\n",
    "zabsBeta2CWT = stats.zscore(absBeta2CWT, axis=None)\n",
    "\n",
    "proj_Beta1CWT = np.max(zabsBeta1CWT, axis = 0)/16\n",
    "proj_Beta2CWT = np.max(zabsBeta2CWT, axis = 0)/16\n",
    "meanproj_Beta1CWT = np.mean(zabsBeta1CWT)\n",
    "meanproj_Beta2CWT = np.mean(zabsBeta2CWT)\n",
    "sdproj_Beta1CWT = np.std(proj_Beta1CWT)\n",
    "sdproj_Beta2CWT = np.std(proj_Beta2CWT)\n",
    "\n",
    "numpnts = EMG.size\n",
    "Beta1Status = np.zeros(numpnts)\n",
    "Beta2Status = np.zeros(numpnts)\n",
    "for ind in range(numpnts):\n",
    "    if proj_Beta1CWT[ind]>(meanproj_Beta1CWT+3*sdproj_Beta1CWT):\n",
    "        Beta1Status[ind] = 1\n",
    "    if proj_Beta2CWT[ind]>(meanproj_Beta2CWT+3*sdproj_Beta2CWT):\n",
    "        Beta2Status[ind] = 1\n",
    "\n",
    "\n",
    "plt.close()\n",
    "plt.plot(proj_Beta2CWT)\n",
    "plt.show()"
   ]
  },
  {
   "cell_type": "code",
   "execution_count": null,
   "metadata": {},
   "outputs": [],
   "source": [
    "plt.close()\n",
    "plt.plot(proj_Beta1CWT)\n",
    "#plt.plot(proj_Beta2CWT)\n",
    "#plt.plot(WakeStatus)\n",
    "\n",
    "plt.show()"
   ]
  },
  {
   "cell_type": "code",
   "execution_count": null,
   "metadata": {},
   "outputs": [],
   "source": [
    "ScoringVector = np.ones((ScoringVectorLength))\n",
    "for ind in range(numpnts):\n",
    "    if ThetaStatus[ind]>0:\n",
    "        ScoringVector[ind] = 2\n",
    "    if Beta1Status[ind]>0:\n",
    "        ScoringVector[ind] = 0\n",
    "    if WakeStatus[ind]==0:\n",
    "        ScoringVector[ind] = 3\n",
    "\n",
    "plt.close()\n",
    "plt.plot(ScoringVector)\n",
    "plt.show()"
   ]
  },
  {
   "cell_type": "markdown",
   "metadata": {},
   "source": [
    "Reduce bins"
   ]
  },
  {
   "cell_type": "code",
   "execution_count": null,
   "metadata": {},
   "outputs": [],
   "source": [
    "input_arr = ThetaStatus\n",
    "\n",
    "R = round(ScoringVectorLength/5000) # 5 sec bins\n",
    "\n",
    "split_arr = np.linspace(0, len(input_arr), num=R+1, dtype=int)\n",
    "\n",
    "dwnsmpl_subarr = np.split(input_arr, split_arr[1:])\n",
    "\n",
    "dwnsmpl_arrT = np.array( list( np.mean(item) for item in dwnsmpl_subarr[:-1] ) )\n",
    "\n",
    "for i in range(len(dwnsmpl_arrT)):\n",
    "    if dwnsmpl_arrT[i]<0.25:\n",
    "        dwnsmpl_arrT[i] = 0\n",
    "    else:\n",
    "        dwnsmpl_arrT[i] = 1  \n",
    "\n",
    "for i in range(len(dwnsmpl_arrT)-3):\n",
    "    if i > (len(dwnsmpl_arrT)-3):\n",
    "        print(i)\n",
    "        break          \n",
    "    elif (dwnsmpl_arrT[i]>0 and dwnsmpl_arrT[i+2]>0):\n",
    "        dwnsmpl_arrT[i+1]=1\n",
    "    elif (dwnsmpl_arrT[i]>0 and dwnsmpl_arrT[i+3]>0):\n",
    "        dwnsmpl_arrT[i+1]=1\n",
    "        dwnsmpl_arrT[i+2]=1\n",
    "\n",
    "for i in range(len(dwnsmpl_arrT)):\n",
    "    if i > (len(dwnsmpl_arrT)-3):\n",
    "        print(i)\n",
    "        break\n",
    "    elif (dwnsmpl_arrT[i]<1 and dwnsmpl_arrT[i+1]>0 and dwnsmpl_arrT[i+2]<1):\n",
    "        dwnsmpl_arrT[i+1]=0\n"
   ]
  },
  {
   "cell_type": "code",
   "execution_count": null,
   "metadata": {},
   "outputs": [],
   "source": [
    "input_arr1 = proj_Beta1CWT\n",
    "input_arr2 = proj_Beta2CWT\n",
    "\n",
    "R = round(ScoringVectorLength/5000) # 5 sec bins\n",
    "\n",
    "split_arr1 = np.linspace(0, len(input_arr1), num=R+1, dtype=int)\n",
    "split_arr2 = np.linspace(0, len(input_arr2), num=R+1, dtype=int)\n",
    "\n",
    "dwnsmpl_subarr1 = np.split(input_arr1, split_arr1[1:])\n",
    "dwnsmpl_subarr2 = np.split(input_arr2, split_arr2[1:])\n",
    "\n",
    "dwnsmpl_arr1B = np.array( list( np.mean(item) for item in dwnsmpl_subarr1[:-1] ) )\n",
    "dwnsmpl_arr2B = np.array( list( np.mean(item) for item in dwnsmpl_subarr2[:-1] ) )\n",
    "\n",
    "for i in range(len(dwnsmpl_arr1B)):\n",
    "    if dwnsmpl_arr1B[i]<0.12: # arbitrary set\n",
    "        dwnsmpl_arr1B[i] = 0\n",
    "    else:\n",
    "        dwnsmpl_arr1B[i] = 1  \n",
    "\n",
    "for i in range(len(dwnsmpl_arr1B)-3):\n",
    "    if i > (len(dwnsmpl_arr1B)-3):\n",
    "        break                 \n",
    "    elif (dwnsmpl_arr1B[i]>0 and dwnsmpl_arr1B[i+2]>0):\n",
    "        dwnsmpl_arr1B[i+1]=1\n",
    "    elif (dwnsmpl_arr1B[i]>0 and dwnsmpl_arr1B[i+3]>0):\n",
    "        dwnsmpl_arr1B[i+1]=1\n",
    "        dwnsmpl_arr1B[i+2]=1\n",
    "\n",
    "for i in range(len(dwnsmpl_arr2B)):\n",
    "    if dwnsmpl_arr2B[i]<0.12: # arbitrary set\n",
    "        dwnsmpl_arr2B[i] = 0\n",
    "    else:\n",
    "        dwnsmpl_arr2B[i] = 1  \n",
    "\n",
    "for i in range(len(dwnsmpl_arr2B)-3):          \n",
    "    if (dwnsmpl_arr2B[i]>0 and dwnsmpl_arr2B[i+2]>0):\n",
    "        dwnsmpl_arr2B[i+1]=1\n",
    "    elif (dwnsmpl_arr2B[i]>0 and dwnsmpl_arr2B[i+3]>0):\n",
    "        dwnsmpl_arr2B[i+1]=1\n",
    "        dwnsmpl_arr2B[i+2]=1\n",
    "\n"
   ]
  },
  {
   "cell_type": "code",
   "execution_count": null,
   "metadata": {},
   "outputs": [],
   "source": [
    "input_arrW = WakeStatus\n",
    "\n",
    "R = round(ScoringVectorLength/5000) # 5 sec bins\n",
    "\n",
    "split_arr = np.linspace(0, len(input_arr), num=R+1, dtype=int)\n",
    "\n",
    "dwnsmpl_subarr = np.split(input_arrW, split_arr[1:])\n",
    "\n",
    "dwnsmpl_arrW = np.array( list( np.mean(item) for item in dwnsmpl_subarr[:-1] ) )\n",
    "\n",
    "for i in range(len(dwnsmpl_arrW)):\n",
    "    if dwnsmpl_arrW[i]<0.2: # arbitrary set\n",
    "        dwnsmpl_arrW[i] = 0\n",
    "    else:\n",
    "        dwnsmpl_arrW[i] = 1 \n"
   ]
  },
  {
   "cell_type": "code",
   "execution_count": null,
   "metadata": {},
   "outputs": [],
   "source": [
    "dwnsmpl_arrT = dwnsmpl_arrT * 1\n",
    "dwnsmpl_arrW = dwnsmpl_arrW * 1.5\n",
    "dwnsmpl_arr1B = dwnsmpl_arr1B * 0.5\n",
    "\n",
    "plt.close()\n",
    "plt.plot(dwnsmpl_arrW)\n",
    "plt.plot(dwnsmpl_arr1B)\n",
    "plt.plot(dwnsmpl_arrT)\n",
    "plt.show()"
   ]
  },
  {
   "cell_type": "code",
   "execution_count": null,
   "metadata": {},
   "outputs": [],
   "source": [
    "ScoringVectorS = np.zeros((len(dwnsmpl_arrW)))\n",
    "for ind in range(len(dwnsmpl_arrW)):\n",
    "    if dwnsmpl_arr1B[ind]>0:\n",
    "        ScoringVectorS[ind] = 0.5\n",
    "    if dwnsmpl_arrT[ind]>0:\n",
    "        ScoringVectorS[ind] = 1\n",
    "    if dwnsmpl_arrW[ind]>0:\n",
    "        ScoringVectorS[ind] = 1.5\n",
    "\n",
    "\n",
    "\n",
    "for i in range(len(ScoringVectorS)):\n",
    "    if i > (len(ScoringVectorS)-4):\n",
    "        print(i)\n",
    "        break          \n",
    "    elif (ScoringVectorS[i]==0.5 and ScoringVectorS[i+1]==0 and ScoringVectorS[i+2]>0):\n",
    "        ScoringVectorS[i+1]=0.5\n",
    "    elif (ScoringVectorS[i]==1 and ScoringVectorS[i+1]==0 and ScoringVectorS[i+2]>0):\n",
    "        ScoringVectorS[i+1]=1\n",
    "    elif (ScoringVectorS[i]==1.5 and ScoringVectorS[i+1]<1.5 and (ScoringVectorS[i+2]==1.5 or ScoringVectorS[i+3]==1.5)):\n",
    "        ScoringVectorS[i+1]=1.5\n",
    "\n",
    "\n",
    "\n",
    "plt.close()\n",
    "plt.plot(ScoringVectorS)\n",
    "plt.show()"
   ]
  },
  {
   "cell_type": "code",
   "execution_count": null,
   "metadata": {},
   "outputs": [],
   "source": []
  },
  {
   "cell_type": "code",
   "execution_count": null,
   "metadata": {},
   "outputs": [],
   "source": [
    "filenameOut = folder_base / f'ScoredSleep.npy'\n",
    "np.save(filenameOut, ScoringVectorS)\n",
    "\n"
   ]
  }
 ],
 "metadata": {
  "kernelspec": {
   "display_name": "Python 3.9.12 ('formation')",
   "language": "python",
   "name": "python3"
  },
  "language_info": {
   "codemirror_mode": {
    "name": "ipython",
    "version": 3
   },
   "file_extension": ".py",
   "mimetype": "text/x-python",
   "name": "python",
   "nbconvert_exporter": "python",
   "pygments_lexer": "ipython3",
   "version": "3.9.12"
  },
  "orig_nbformat": 4,
  "vscode": {
   "interpreter": {
    "hash": "984d3fbee8ffa490637705ae3d7233e001ab0304f3daaca07b5aa8569b88ca53"
   }
  }
 },
 "nbformat": 4,
 "nbformat_minor": 2
}
