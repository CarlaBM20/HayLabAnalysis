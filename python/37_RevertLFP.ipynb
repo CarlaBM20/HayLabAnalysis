{
 "cells": [
  {
   "cell_type": "markdown",
   "metadata": {},
   "source": [
    "REVERT LFP HEADSTAGE"
   ]
  },
  {
   "cell_type": "code",
   "execution_count": 1,
   "metadata": {},
   "outputs": [],
   "source": [
    "import quantities as pq\n",
    "import numpy as np\n",
    "import neo\n",
    "from pathlib import Path\n",
    "import xarray as xr\n",
    "import pandas as pd\n",
    "import matplotlib.pyplot as plt\n",
    "from matplotlib.widgets import Slider, Button, Cursor\n",
    "import scipy\n",
    "from scipy import interpolate\n",
    "from scipy import fftpack\n",
    "from scipy import signal\n",
    "from scipy import stats\n",
    "from itertools import groupby\n",
    "\n",
    "%matplotlib widget\n",
    "from IPython.display import display\n",
    "from ipyfilechooser import FileChooser\n",
    "import os\n",
    "from ephyviewer import mkQApp, MainViewer, TraceViewer"
   ]
  },
  {
   "cell_type": "code",
   "execution_count": 2,
   "metadata": {},
   "outputs": [
    {
     "data": {
      "application/vnd.jupyter.widget-view+json": {
       "model_id": "588241274fcb438abf18b61b455d6327",
       "version_major": 2,
       "version_minor": 0
      },
      "text/plain": [
       "FileChooser(path='\\\\10.69.168.1\\crnldata\\waking\\audrey_hay\\L1imaging\\AnalysedMarch2023\\Gaelle\\CGP\\ThreeColDots…"
      ]
     },
     "metadata": {},
     "output_type": "display_data"
    },
    {
     "name": "stdout",
     "output_type": "stream",
     "text": [
      "Stored 'dpath' (str)\n"
     ]
    }
   ],
   "source": [
    "dpath = \"//10.69.168.1/crnldata/waking/audrey_hay/L1imaging/AnalysedMarch2023/Gaelle/Baseline_recording\"\n",
    "try:\n",
    "    %store -r dpath\n",
    "except:\n",
    "    print(\"data not in strore\")\n",
    "    dpath =\"//10.69.168.1/crnldata/waking/audrey_hay/L1imaging/AnalysedMarch2023/Gaelle/Baseline_recording\"\n",
    "\n",
    "\n",
    "# Set up Initial Basic Parameters#\n",
    "minian_path = \".\"\n",
    "\n",
    "fc1 = FileChooser(dpath,select_default=True, show_only_dirs = True, title = \"<b>OpenEphys Folder</b>\")\n",
    "display(fc1)\n",
    "\n",
    "# Sample callback function\n",
    "def update_my_folder(chooser):\n",
    "    global dpath\n",
    "    dpath = chooser.selected\n",
    "    %store dpath\n",
    "    return \n",
    "\n",
    "# Register callback function\n",
    "fc1.register_callback(update_my_folder)"
   ]
  },
  {
   "cell_type": "code",
   "execution_count": 5,
   "metadata": {},
   "outputs": [],
   "source": [
    "folder_base = Path(dpath)\n",
    "\n",
    "filename2 = folder_base / f'RawDataChannelExtractedDS.npy'\n",
    "All = np.load(filename2, mmap_mode= 'r')\n"
   ]
  },
  {
   "cell_type": "code",
   "execution_count": 6,
   "metadata": {},
   "outputs": [],
   "source": [
    "Allcorrected=All.copy()\n",
    "Allcorrected[:, 0]=All[:, 16]\n",
    "Allcorrected[:, 1]=All[:, 17]\n",
    "Allcorrected[:, 2]=All[:, 18]\n",
    "Allcorrected[:, 3]=All[:, 19]\n",
    "Allcorrected[:, 4]=All[:, 20]\n",
    "Allcorrected[:, 5]=All[:, 21]\n",
    "Allcorrected[:, 6]=All[:, 22]\n",
    "Allcorrected[:, 7]=All[:, 23]\n",
    "Allcorrected[:, 8]=All[:, 24]\n",
    "Allcorrected[:, 9]=All[:, 25]\n",
    "Allcorrected[:, 10]=All[:, 26]\n",
    "Allcorrected[:, 11]=All[:, 27]\n",
    "Allcorrected[:, 12]=All[:, 28]\n",
    "Allcorrected[:, 13]=All[:, 29]\n",
    "Allcorrected[:, 14]=All[:, 30]\n",
    "Allcorrected[:, 15]=All[:, 31]\n",
    "Allcorrected[:, 16]=All[:, 0]\n",
    "Allcorrected[:, 17]=All[:, 1]\n",
    "Allcorrected[:, 18]=All[:, 2]\n",
    "Allcorrected[:, 19]=All[:, 3]\n",
    "Allcorrected[:, 20]=All[:, 4]\n",
    "Allcorrected[:, 21]=All[:, 5]\n",
    "Allcorrected[:, 22]=All[:, 6]\n",
    "Allcorrected[:, 23]=All[:, 7]\n",
    "Allcorrected[:, 24]=All[:, 8]\n",
    "Allcorrected[:, 25]=All[:, 9]\n",
    "Allcorrected[:, 26]=All[:, 10]\n",
    "Allcorrected[:, 27]=All[:, 11]\n",
    "Allcorrected[:, 28]=All[:, 12]\n",
    "Allcorrected[:, 29]=All[:, 13]\n",
    "Allcorrected[:, 30]=All[:, 14]\n",
    "Allcorrected[:, 31]=All[:, 15]\n",
    "\n",
    "filename = folder_base/ f'RawDataChannelExtractedDS_initial.npy'\n",
    "np.save(filename, All)\n",
    "\n",
    "filename = folder_base/ f'RawDataChannelExtractedDS.npy'\n",
    "np.save(filename, Allcorrected[:, 0:31])"
   ]
  }
 ],
 "metadata": {
  "kernelspec": {
   "display_name": "minian311new2",
   "language": "python",
   "name": "python3"
  },
  "language_info": {
   "codemirror_mode": {
    "name": "ipython",
    "version": 3
   },
   "file_extension": ".py",
   "mimetype": "text/x-python",
   "name": "python",
   "nbconvert_exporter": "python",
   "pygments_lexer": "ipython3",
   "version": "3.11.7"
  }
 },
 "nbformat": 4,
 "nbformat_minor": 2
}
