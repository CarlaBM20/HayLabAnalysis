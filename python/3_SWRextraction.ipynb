{
 "cells": [
  {
   "cell_type": "markdown",
   "metadata": {},
   "source": [
    "# Extraction of SWR from CA1 recordings\n",
    "\n",
    "Restarting from LFPwake0 and LFPwakeremoved.\n",
    "\n",
    "LFPwakeremoved will be used to determined signal variance for threshold adjustement. \n",
    "\n",
    "LFPwake0 will be used for time determination. "
   ]
  },
  {
   "cell_type": "markdown",
   "metadata": {},
   "source": [
    "## Load LFP and packages"
   ]
  },
  {
   "cell_type": "code",
   "execution_count": 10,
   "metadata": {},
   "outputs": [],
   "source": [
    "from scipy import signal\n",
    "from scipy.signal import find_peaks\n",
    "from scipy.signal import chirp, find_peaks, peak_widths\n",
    "import numpy as np\n",
    "import matplotlib.pyplot as plt\n",
    "from matplotlib.widgets import Slider, Button, Cursor\n",
    "from scipy import fftpack\n",
    "import pandas as pd\n",
    "from pathlib import Path\n",
    "import os\n",
    "from ipyfilechooser import FileChooser\n",
    "from IPython.display import display\n",
    "import ipywidgets as widgets\n",
    "\n",
    "\n",
    "%matplotlib widget\n",
    "\n",
    "from ephyviewer import mkQApp, MainViewer, TraceViewer, EventList, InMemoryEventSource\n",
    "from ephyviewer import AnalogSignalSourceWithScatter\n",
    "import ephyviewer"
   ]
  },
  {
   "cell_type": "code",
   "execution_count": 4,
   "metadata": {},
   "outputs": [
    {
     "data": {
      "application/vnd.jupyter.widget-view+json": {
       "model_id": "054cba153af54b03882a73f8d2046406",
       "version_major": 2,
       "version_minor": 0
      },
      "text/plain": [
       "FileChooser(path='/Users/mb/Documents/Syntuitio/AudreyHay/PlanB/session5', filename='', title='<b>OpenEphys Fo…"
      ]
     },
     "metadata": {},
     "output_type": "display_data"
    }
   ],
   "source": [
    "dpath = \"\"\n",
    "try:\n",
    "    %store -r dpath\n",
    "except:\n",
    "    print(\"data path not in strore\")\n",
    "    dpath = os.path.expanduser(\"~\")\n",
    "\n",
    "fc1 = FileChooser(dpath,select_default=True, show_only_dirs = True, title = \"<b>OpenEphys Folder</b>\")\n",
    "display(fc1)\n",
    "\n",
    "# Sample callback function\n",
    "def update_my_folder(chooser):\n",
    "    global dpath\n",
    "    dpath = chooser.selected\n",
    "    %store dpath\n",
    "    return \n",
    "\n",
    "# Register callback function\n",
    "fc1.register_callback(update_my_folder)"
   ]
  },
  {
   "cell_type": "code",
   "execution_count": 5,
   "metadata": {},
   "outputs": [
    {
     "name": "stdout",
     "output_type": "stream",
     "text": [
      "/Users/mb/Documents/Syntuitio/AudreyHay/PlanB\n",
      "session5\n",
      "GreenLinesOK\n"
     ]
    }
   ],
   "source": [
    "suffix=''#'_AB'\n",
    "sep = -1\n",
    "animalIDPos = -3\n",
    "dirPathComponents = os.path.normpath(dpath).split(os.sep)\n",
    "rootPath = os.path.join('/',*dirPathComponents[:sep])\n",
    "folder_base = os.path.join(*dirPathComponents[sep:])\n",
    "mice = \"GreenLinesOK\" #dirPathComponents[animalIDPos]\n",
    "os.chdir(rootPath)\n",
    "print(rootPath)\n",
    "print(folder_base)\n",
    "print(mice)"
   ]
  },
  {
   "cell_type": "code",
   "execution_count": 6,
   "metadata": {},
   "outputs": [],
   "source": [
    "class color:\n",
    "   PURPLE = '\\033[95m'\n",
    "   CYAN = '\\033[96m'\n",
    "   DARKCYAN = '\\033[36m'\n",
    "   BLUE = '\\033[94m'\n",
    "   GREEN = '\\033[92m'\n",
    "   YELLOW = '\\033[93m'\n",
    "   RED = '\\033[91m'\n",
    "   BOLD = '\\033[1m'\n",
    "   UNDERLINE = '\\033[4m'\n",
    "   END = '\\033[0m'\n",
    "\n",
    "filename = os.path.join(folder_base,f'LFPwake0{suffix}.npy')\n",
    "filename3 = os.path.join(folder_base,f'LFPwakeremoved{suffix}.npy')\n",
    "filename2 = os.path.join(folder_base,'RawDataChannelExtractedDS.npy')\n",
    "EMGbooleaninput = os.path.join(folder_base,f'EMGframeBoolean{suffix}.pkl')\n",
    "\n",
    "\n",
    "EMGboolean = pd.read_pickle(EMGbooleaninput)\n",
    "LFPwakeremoved = np.load(filename3, mmap_mode= 'r')\n",
    "All = np.load(filename2, mmap_mode= 'r')\n",
    "\n",
    "try:\n",
    "    Channels = os.path.join('',f'LFPChannels_perMice.xlsx')\n",
    "    allchannels = pd.read_excel(Channels)\n",
    "    PFCch1=int(allchannels[mice][0].split(',')[0])\n",
    "    PFCch2=int(allchannels[mice][0].split(',')[1])\n",
    "    CA1ch1=int(allchannels[mice][2].split(',')[0])\n",
    "    CA1ch2=int(allchannels[mice][2].split(',')[1])\n",
    "except FileNotFoundError as e:\n",
    "    print(color.BOLD + color.YELLOW)\n",
    "    print(f\"File {os.path.join(folder_base,f'LFPChannels_perMice.xlsx')} not found!\")\n",
    "    print(\"probably you are not Aurélie... or the path to access it is wrong.\")\n",
    "    print(\"In the first case, make sure the mapping is rightfully setup in the curent cell\")\n",
    "    print(\"In the second case, you can play with the 'sep' variable of cell 3, or directly change the path\")\n",
    "    print(color.END)\n",
    "    PFCch1=19\n",
    "    PFCch2=20\n",
    "    CA1ch1=21\n",
    "    CA1ch2=22\n",
    "\n",
    "PFC  =  All[:, PFCch1]-All[:, PFCch2] \n",
    "CA1  =  All[:, CA1ch1]-All[:, CA1ch2] \n",
    "CA1wakeremoved = LFPwakeremoved[:,CA1ch1]-LFPwakeremoved[:,CA1ch2] "
   ]
  },
  {
   "cell_type": "markdown",
   "metadata": {},
   "source": [
    "# Band pass filter\n",
    "        SWR: 120-200 Hz"
   ]
  },
  {
   "cell_type": "code",
   "execution_count": 7,
   "metadata": {},
   "outputs": [],
   "source": [
    "# Filtre parameter:\n",
    "f_lowcut = 120.\n",
    "f_hicut = 200.\n",
    "fs = 1000\n",
    "nyq = 0.5 * fs\n",
    "N = 6                 # Filtre order\n",
    "Wn = [f_lowcut/nyq,f_hicut/nyq]  # Nyquist frequency fraction\n",
    "\n",
    "# Filtering:\n",
    "b, a = signal.butter(N, Wn, 'band')\n",
    "filt_CA1 = signal.filtfilt(b, a, CA1)\n",
    "filt_CA1wakeremoved = signal.filtfilt(b, a, CA1wakeremoved)\n",
    "\n",
    "# Plot\n",
    "times = np.arange(0, CA1.size/fs, 1./fs)\n",
    "#timesmin = np.arange(0, CA1.size/fs/60, 1./fs/60)\n",
    "#fig, ax = plt.subplots()\n",
    "#ax.plot(timesmin, filt_CA1)"
   ]
  },
  {
   "cell_type": "markdown",
   "metadata": {},
   "source": [
    "## Continuous Wavelet Transform and projection calculation\n",
    "\n",
    "First on signal with no wake time to determine sd of signal"
   ]
  },
  {
   "cell_type": "code",
   "execution_count": 8,
   "metadata": {},
   "outputs": [
    {
     "name": "stderr",
     "output_type": "stream",
     "text": [
      "/var/folders/2_/fpwjwx512255f113wntjtndm0000gn/T/ipykernel_46938/3157878907.py:5: DeprecationWarning: scipy.signal.cwt is deprecated in SciPy 1.12 and will be removed\n",
      "in SciPy 1.15. We recommend using PyWavelets instead.\n",
      "\n",
      "  CA1NWcwt = signal.cwt(filt_CA1wakeremoved, signal.morlet2, widths, w=w)\n"
     ]
    }
   ],
   "source": [
    "# Parameter and computation of CWT\n",
    "w = 10.\n",
    "freq = np.linspace(120, 200, 80)\n",
    "widths = w*fs / (2*freq*np.pi)\n",
    "CA1NWcwt = signal.cwt(filt_CA1wakeremoved, signal.morlet2, widths, w=w)\n",
    "\n",
    "# Projection calculation\n",
    "absCA1NWcwt = np.absolute(CA1NWcwt)\n",
    "proj_CA1NWcwt = np.sum(absCA1NWcwt, axis = 0)/80\n",
    "sdproj_CA1cwt = np.std(proj_CA1NWcwt)\n",
    "sd3proj_CA1cwt = sdproj_CA1cwt*3\n",
    "sd10proj_CA1cwt = sdproj_CA1cwt*10\n",
    "sd8proj_CA1cwt = sdproj_CA1cwt*8\n",
    "sd7proj_CA1cwt = sdproj_CA1cwt*7\n",
    "sd05proj_CA1cwt = sdproj_CA1cwt*0.5"
   ]
  },
  {
   "cell_type": "markdown",
   "metadata": {},
   "source": [
    "Second on the signal for which wake times have been zeroed"
   ]
  },
  {
   "cell_type": "code",
   "execution_count": 9,
   "metadata": {},
   "outputs": [
    {
     "name": "stderr",
     "output_type": "stream",
     "text": [
      "/var/folders/2_/fpwjwx512255f113wntjtndm0000gn/T/ipykernel_46938/2403058388.py:15: DeprecationWarning: scipy.signal.cwt is deprecated in SciPy 1.12 and will be removed\n",
      "in SciPy 1.15. We recommend using PyWavelets instead.\n",
      "\n",
      "  CA1cwtWake0cons = signal.cwt(fCA1wake0C, signal.morlet2, widths, w=w)\n",
      "/var/folders/2_/fpwjwx512255f113wntjtndm0000gn/T/ipykernel_46938/2403058388.py:16: DeprecationWarning: scipy.signal.cwt is deprecated in SciPy 1.12 and will be removed\n",
      "in SciPy 1.15. We recommend using PyWavelets instead.\n",
      "\n",
      "  CA1cwtWake0lib = signal.cwt(fCA1wake0L, signal.morlet2, widths, w=w)\n"
     ]
    }
   ],
   "source": [
    "# Conservative boolean filtering of CA1 filtered signal\n",
    "BooleanCons = EMGboolean['BooleanConservative']\n",
    "fCA1wake0C = filt_CA1.copy()\n",
    "fCA1wake0C[BooleanCons] = 0\n",
    "CA1wake0C = CA1.copy()\n",
    "CA1wake0C[BooleanCons] = 0\n",
    "# Liberal boolean filtering of CA1 filtered signal\n",
    "BooleanLib = EMGboolean['BooleanLiberal']\n",
    "fCA1wake0L = filt_CA1.copy()\n",
    "fCA1wake0L[BooleanLib] = 0\n",
    "CA1wake0L = CA1.copy()\n",
    "CA1wake0L[BooleanLib] = 0\n",
    "\n",
    "# Computation of CWT\n",
    "CA1cwtWake0cons = signal.cwt(fCA1wake0C, signal.morlet2, widths, w=w)\n",
    "CA1cwtWake0lib = signal.cwt(fCA1wake0L, signal.morlet2, widths, w=w)\n",
    "\n",
    "# Projection calculation\n",
    "absCA1W0Ccwt = np.absolute(CA1cwtWake0cons)\n",
    "proj_CA1W0Ccwt = np.sum(absCA1W0Ccwt, axis = 0)/80\n",
    "absCA1W0Lcwt = np.absolute(CA1cwtWake0lib)\n",
    "proj_CA1W0Lcwt = np.sum(absCA1W0Lcwt, axis = 0)/80"
   ]
  },
  {
   "cell_type": "markdown",
   "metadata": {},
   "source": [
    "## Extracting SWRs and determining main properties \n",
    "\n",
    "First extraction of SWR peaks, initiation, end and width"
   ]
  },
  {
   "cell_type": "code",
   "execution_count": 11,
   "metadata": {},
   "outputs": [],
   "source": [
    "# 10 sd threshold\n",
    "peaks, properties = find_peaks(proj_CA1W0Lcwt, prominence=1, width=20, height=sd8proj_CA1cwt) #AB detection with 8*SD // Audrey's detection=3*SD\n",
    "properties[\"prominences\"], properties[\"widths\"]\n",
    "\n",
    "# SWR boundaries taken at 70% from peak of intensity. This means that the SWRs with small amplitude will be longer than the big ones.\n",
    "results_width = peak_widths(proj_CA1W0Lcwt, peaks, rel_height=0.7)\n",
    "\n",
    "# Organise results in numpy array\n",
    "peaks2 = peaks.reshape(len(peaks),1)\n",
    "npresults_width = np.array(results_width).reshape(4,-1)\n",
    "SWR_prop = np.append(peaks2, results_width).reshape(5,len(peaks2)).round()"
   ]
  },
  {
   "cell_type": "markdown",
   "metadata": {},
   "source": [
    "Display subset"
   ]
  },
  {
   "cell_type": "markdown",
   "metadata": {},
   "source": [
    "Second extraction of main frequency and power "
   ]
  },
  {
   "cell_type": "code",
   "execution_count": 12,
   "metadata": {},
   "outputs": [
    {
     "name": "stderr",
     "output_type": "stream",
     "text": [
      "/var/folders/2_/fpwjwx512255f113wntjtndm0000gn/T/ipykernel_46938/2193912474.py:14: ComplexWarning: Casting complex values to real discards the imaginary part\n",
      "  data[tt, 1] = max(SWR_MaxP).round()\n",
      "/var/folders/2_/fpwjwx512255f113wntjtndm0000gn/T/ipykernel_46938/2193912474.py:16: DeprecationWarning: The Python built-in `round` is deprecated for complex scalars, and will raise a `TypeError` in a future release. Use `np.round` or `scalar.round` instead.\n",
      "  data[tt, 3] = round(sum(SWR_MaxP)/len(SWR_MaxP))\n",
      "/var/folders/2_/fpwjwx512255f113wntjtndm0000gn/T/ipykernel_46938/2193912474.py:16: ComplexWarning: Casting complex values to real discards the imaginary part\n",
      "  data[tt, 3] = round(sum(SWR_MaxP)/len(SWR_MaxP))\n"
     ]
    }
   ],
   "source": [
    "projMaxP_cwtmg = np.max(CA1cwtWake0lib, axis = 0)\n",
    "projMaxF_cwtmg = np.argmax(CA1cwtWake0lib, axis = 0) + 120\n",
    "projMaxP_cwtmg.shape\n",
    "\n",
    "nb_SWR = len(peaks)\n",
    "data = np.zeros((nb_SWR,4))\n",
    "\n",
    "for tt in np.arange(nb_SWR):\n",
    "    SWR_start = int(SWR_prop[3,tt])\n",
    "    SWR_stop = int(SWR_prop[4,tt])\n",
    "    SWR_MaxP = projMaxP_cwtmg[SWR_start:SWR_stop]\n",
    "    SWR_MaxF = projMaxF_cwtmg[SWR_start:SWR_stop]\n",
    "    data[tt, 0] = max(SWR_MaxF).round()\n",
    "    data[tt, 1] = max(SWR_MaxP).round()\n",
    "    data[tt, 2] = round(sum(SWR_MaxF)/len(SWR_MaxF))\n",
    "    data[tt, 3] = round(sum(SWR_MaxP)/len(SWR_MaxP))\n",
    "\n",
    "param_SWR = pd.DataFrame(data, columns = ['Max freq', 'Max int', 'Avg freq', 'Avg int'])\n",
    "tSWR_prop = SWR_prop.transpose()\n",
    "pd_prop_SWR = pd.DataFrame(tSWR_prop, columns = ['peak time', 'Duration', 'peak amp', 'start time', 'end time'])\n",
    "pd_tokeep = pd.DataFrame(np.ones(nb_SWR).astype(bool), columns = ['toKeep'])\n",
    "All_SWR = pd.concat([pd_tokeep,pd_prop_SWR, param_SWR], axis=1)\n",
    "\n",
    "SWR_peak = peaks\n",
    "SWR_start = SWR_prop[3,:].astype(int)\n",
    "SWR_end = SWR_prop[4,:].astype(int)"
   ]
  },
  {
   "cell_type": "markdown",
   "metadata": {},
   "source": [
    "### Store the results in All_SWR_prop pd dataframe and save as pkl/csv for post processing.\n",
    "\n",
    "End of Notebook. "
   ]
  },
  {
   "cell_type": "code",
   "execution_count": 13,
   "metadata": {},
   "outputs": [],
   "source": [
    "filename2 = os.path.join(folder_base,f'SWRproperties{suffix}.pkl')\n",
    "filename3 = os.path.join(folder_base,f'SWRproperties{suffix}.csv')\n",
    "All_SWR.to_pickle(filename2)\n",
    "All_SWR.to_csv(filename3, sep = ',')\n",
    "\n",
    "combined = np.stack([CA1, filt_CA1, proj_CA1W0Ccwt, proj_CA1W0Lcwt], axis = 1)\n",
    "filenameC = os.path.join(folder_base,f'SignalCA1.npy')\n",
    "np.save(filenameC, combined)\n",
    "\n",
    "sample_rate = 1000.\n",
    "t_start = 0.\n",
    "# if done and no intention to display for assessment\n",
    "#%reset\n",
    "#plt.close('all')"
   ]
  },
  {
   "cell_type": "markdown",
   "metadata": {},
   "source": [
    "Load previous SWR detection (only if wanted)"
   ]
  },
  {
   "cell_type": "code",
   "execution_count": null,
   "metadata": {},
   "outputs": [],
   "source": [
    "\"\"\"\n",
    "OldSWSdetection=folder_base / f'SWRproperties.csv'\n",
    "SWR_prop = pd.read_csv(OldSWSdetection, index_col=0)            \n",
    "pd_prop_SWR=All_SWR.iloc[:, :5]\n",
    "param_SWR=All_SWR.iloc[:, 5:9]\n",
    "SWR_prop=SWR_prop.values\n",
    "SWR_peak = np.transpose(SWR_prop[:,0].astype(int))\n",
    "SWR_start = np.transpose(SWR_prop[:,3].astype(int))\n",
    "SWR_end = np.transpose(SWR_prop[:,4].astype(int))\n",
    "\"\"\""
   ]
  },
  {
   "cell_type": "markdown",
   "metadata": {},
   "source": [
    "### Display and asses SWRs\n",
    "\n",
    "#### ephys viewer to check SWR detection"
   ]
  },
  {
   "cell_type": "code",
   "execution_count": 30,
   "metadata": {},
   "outputs": [
    {
     "name": "stdout",
     "output_type": "stream",
     "text": [
      "debug True\n",
      "QT_MODE PySide6\n",
      "refresh duration for  4.792213439941406e-05 s\n",
      "refresh duration for  4.506111145019531e-05 s\n",
      "refresh duration for event 3.814697265625e-06 s\n"
     ]
    },
    {
     "name": "stderr",
     "output_type": "stream",
     "text": [
      "qt.pointer.dispatch: skipping QEventPoint(id=0 ts=0 pos=0,0 scn=377.997,251.63 gbl=377.997,251.63 Released ellipse=(1x1 ∡ 0) vel=0,0 press=-377.997,-251.63 last=-377.997,-251.63 Δ 377.997,251.63) : no target window\n",
      "qt.pointer.dispatch: skipping QEventPoint(id=1 ts=0 pos=0,0 scn=540.002,201.949 gbl=540.002,201.949 Released ellipse=(1x1 ∡ 0) vel=0,0 press=-540.002,-201.949 last=-540.002,-201.949 Δ 540.002,201.949) : no target window\n"
     ]
    },
    {
     "name": "stdout",
     "output_type": "stream",
     "text": [
      "refresh duration for  0.0002810955047607422 s\n"
     ]
    }
   ],
   "source": [
    "%gui qt\n",
    "app = mkQApp()\n",
    "\n",
    "#Create one data source with 3 event channel\n",
    "all_events = []\n",
    "conditions = ['All','Good','Bad']\n",
    "for c,cond in enumerate(conditions):\n",
    "    match cond:\n",
    "        case 'All':\n",
    "            selection = \"All_SWR['toKeep'] | ~All_SWR['toKeep']\"\n",
    "        case 'Good':\n",
    "            selection = \"All_SWR['toKeep']\"\n",
    "        case 'Bad':\n",
    "            selection = \"~All_SWR['toKeep']\"\n",
    "    ev_times = All_SWR.loc[pd.eval(selection),'peak time'].values/1000\n",
    "    ev_labels = [f'SWR {i}'for i in All_SWR[pd.eval(selection)].index]\n",
    "    all_events.append({ 'time':ev_times, 'label':ev_labels, 'name': conditions[c] })\n",
    "source_ev = InMemoryEventSource(all_events=all_events)\n",
    "\n",
    "\n",
    "\n",
    "sample_rate = 1000.\n",
    "t_start = 0.\n",
    "\n",
    "#create 2 familly scatters from theses 2 indexes\n",
    "scatter_indexes = {0: SWR_peak, 1: SWR_start, 2: SWR_end}\n",
    "#and asign them to some channels each\n",
    "scatter_channels = {0: [1, 2], 1: [0, 1], 2: [0, 1]}\n",
    "source = AnalogSignalSourceWithScatter(combined, sample_rate, t_start, scatter_indexes, scatter_channels)\n",
    "\n",
    "#Create the main window that can contain several viewers\n",
    "win = MainViewer(debug=True, show_auto_scale=True)\n",
    "\n",
    "#create a viewer for signal with TraceViewer\n",
    "#connected to the signal source\n",
    "view1 = TraceViewer(source=source)\n",
    "\n",
    "#Parameters can be set in script\n",
    "view1.params['scale_mode'] = 'same_for_all'\n",
    "view1.params['display_labels'] = True\n",
    "view1.auto_scale()\n",
    "\n",
    "nCh = len(view1.by_channel_params.children())\n",
    "mult = 4\n",
    "for ch in range(nCh):\n",
    "    match ch%mult:\n",
    "        case 0: # raw traces\n",
    "            view1.by_channel_params[f'ch{ch}', 'offset'] = 2.5 + 3*int(ch/mult)\n",
    "            #view1.by_channel_params[f'ch{ch}', 'gain'] = 0.05\n",
    "            view1.by_channel_params[f'ch{ch}', 'color'] = '#ffffff'\n",
    "        case 1: # filtered traces\n",
    "            view1.by_channel_params[f'ch{ch}', 'offset'] = 0.5 + 3*int(ch/mult)\n",
    "            #view1.by_channel_params[f'ch{ch}', 'gain'] = 0.1\n",
    "            view1.by_channel_params[f'ch{ch}', 'color'] = '#0055ff'\n",
    "        case 2: # envelop\n",
    "            view1.by_channel_params[f'ch{ch}', 'offset'] = 0.5 + 3*int(ch/mult)\n",
    "            #view1.by_channel_params[f'ch{ch}', 'gain'] = 0.1\n",
    "            view1.by_channel_params[f'ch{ch}', 'color'] = '#ff5500'\n",
    "        case 3: # envelop\n",
    "            view1.by_channel_params[f'ch{ch}', 'offset'] = 0.5 + 3*int(ch/mult)\n",
    "            #view1.by_channel_params[f'ch{ch}', 'gain'] = 0.1\n",
    "            view1.by_channel_params[f'ch{ch}', 'color'] = '#ffffff'\n",
    "view1.params['ylim_max']=3*int((nCh+1)/mult)\n",
    "view1.params['ylim_min']=0\n",
    "\n",
    "view2 = EventList(source=source_ev, name='event')\n",
    "\n",
    "\n",
    "#put this viewer in the main window\n",
    "win.add_view(view1)\n",
    "win.add_view(view2, location='bottom',  orientation='horizontal')\n",
    "\n",
    "#Run\n",
    "win.show()"
   ]
  },
  {
   "cell_type": "markdown",
   "metadata": {},
   "source": [
    "#### Select and deselect SWRs"
   ]
  },
  {
   "cell_type": "code",
   "execution_count": 33,
   "metadata": {},
   "outputs": [
    {
     "data": {
      "application/vnd.jupyter.widget-view+json": {
       "model_id": "113dd9286d87493c85c59e1352e01d05",
       "version_major": 2,
       "version_minor": 0
      },
      "text/plain": [
       "Button(description='Keep SWR', style=ButtonStyle())"
      ]
     },
     "metadata": {},
     "output_type": "display_data"
    },
    {
     "data": {
      "application/vnd.jupyter.widget-view+json": {
       "model_id": "490f953f8fdf4e1cb85a2998a698e454",
       "version_major": 2,
       "version_minor": 0
      },
      "text/plain": [
       "Button(description='Discard SWR', style=ButtonStyle())"
      ]
     },
     "metadata": {},
     "output_type": "display_data"
    },
    {
     "name": "stdout",
     "output_type": "stream",
     "text": [
      "refresh duration for  0.0003750324249267578 s\n",
      "refresh duration for  0.0003311634063720703 s\n",
      "5\n",
      "SWR 5 discarded\n"
     ]
    },
    {
     "name": "stderr",
     "output_type": "stream",
     "text": [
      "qt.pointer.dispatch: skipping QEventPoint(id=1 ts=0 pos=0,0 scn=581.361,419.059 gbl=581.361,419.059 Released ellipse=(1x1 ∡ 0) vel=0,0 press=-581.361,-419.059 last=-581.361,-419.059 Δ 581.361,419.059) : no target window\n"
     ]
    },
    {
     "name": "stdout",
     "output_type": "stream",
     "text": [
      "refresh duration for  0.0002760887145996094 s\n",
      "5\n",
      "SWR 5 restored\n",
      "save_all_settings\n"
     ]
    }
   ],
   "source": [
    "def clicked(arg):\n",
    "    selectedEvent = view2.list_widget.currentItem().text()\n",
    "    selectedSWR = int(selectedEvent.split('SWR')[1])\n",
    "    #print(selectedSWR)\n",
    "    match arg.description:\n",
    "        case 'Keep SWR':\n",
    "            All_SWR.loc[selectedSWR,'toKeep']=True\n",
    "            print(f'SWR {selectedSWR} restored')\n",
    "        case 'Discard SWR':\n",
    "            All_SWR.loc[selectedSWR,'toKeep']=False\n",
    "            print(f'SWR {selectedSWR} discarded')\n",
    "    #Create one data source with 3 event channel\n",
    "    all_events = []\n",
    "    conditions = ['All','Good','Bad']\n",
    "    for c,cond in enumerate(conditions):\n",
    "        match cond:\n",
    "            case 'All':\n",
    "                selection = \"All_SWR['toKeep'] | ~All_SWR['toKeep']\"\n",
    "            case 'Good':\n",
    "                selection = \"All_SWR['toKeep']\"\n",
    "            case 'Bad':\n",
    "                selection = \"~All_SWR['toKeep']\"\n",
    "        ev_times = All_SWR.loc[pd.eval(selection),'peak time'].values/1000\n",
    "        ev_labels = [f'SWR {i}'for i in All_SWR[pd.eval(selection)].index]\n",
    "        all_events.append({ 'time':ev_times, 'label':ev_labels, 'name': conditions[c] })\n",
    "    source_ev = InMemoryEventSource(all_events=all_events)\n",
    "    view2.source = source_ev\n",
    "    view2.refresh_list(view2.combo.currentIndex())\n",
    "\n",
    "button_Good = widgets.Button(description = 'Keep SWR')   \n",
    "button_Good.on_click(clicked)\n",
    "\n",
    "button_Bad = widgets.Button(description = 'Discard SWR')   \n",
    "button_Bad.on_click(clicked)\n",
    "\n",
    "display(button_Good, button_Bad)\n",
    "\n"
   ]
  },
  {
   "cell_type": "code",
   "execution_count": null,
   "metadata": {},
   "outputs": [],
   "source": [
    "# Set up selector object\n",
    "discrete_slider = pn.widgets.DiscreteSlider(\n",
    "    name=\"Choose unit\", \n",
    "    options=[i for i in a.index],\n",
    "    value=a.index[0]\n",
    ")\n",
    "\n",
    "drop_unit_button = pn.widgets.Button(name='Drop this unit! >', button_type='primary')\n",
    "keep_unit_button = pn.widgets.Button(name='Keep this unit!')\n",
    "next_unit_button = pn.widgets.Button(name='Next unit > ', button_type='primary')\n",
    "previous_unit_button = pn.widgets.Button(name='< Previous unit')\n",
    "\n",
    "text_input = pn.widgets.TextInput(value='', width=300)\n",
    "\n",
    "# Define a callback function for the button\n",
    "def dropunit_callback(event):\n",
    "    selected_value = discrete_slider.value\n",
    "    text=f'Unit n°{selected_value} dropped!'\n",
    "    number = selected_value\n",
    "    if number in unit_to_keep:\n",
    "        unit_to_keep.remove(number)\n",
    "    nextunit_callback(event)\n",
    "    text_input.value = text\n",
    "\n",
    "# Define a callback function for the button\n",
    "def keepunit_callback(event):\n",
    "    selected_value = discrete_slider.value\n",
    "    text=f'Unit n°{selected_value} kept!'\n",
    "    number = selected_value\n",
    "    if number not in unit_to_keep:\n",
    "        unit_to_keep.append(number)\n",
    "        unit_to_keep.sort()\n",
    "    text_input.value = text\n",
    "\n",
    "# Define a callback function for the button\n",
    "def nextunit_callback(event):\n",
    "    position = np.where(a.index == discrete_slider.value)[0]\n",
    "    position = position[0]\n",
    "    nextunitvalue=a.index[position + 1] if position+2<=len(a) else a.index[0]\n",
    "    discrete_slider.value = nextunitvalue\n",
    "    \n",
    "# Define a callback function for the button\n",
    "def previousunit_callback(event):\n",
    "    position = np.where(a.index == discrete_slider.value)[0]\n",
    "    position = position[0]\n",
    "    previousunitvalue=a.index [position - 1]\n",
    "    discrete_slider.value = previousunitvalue\n",
    "\n",
    "drop_unit_button.on_click(dropunit_callback)\n",
    "keep_unit_button.on_click(keepunit_callback)\n",
    "next_unit_button.on_click(nextunit_callback)\n",
    "previous_unit_button.on_click(previousunit_callback)"
   ]
  }
 ],
 "metadata": {
  "interpreter": {
   "hash": "984d3fbee8ffa490637705ae3d7233e001ab0304f3daaca07b5aa8569b88ca53"
  },
  "kernelspec": {
   "display_name": "Python 3.9.12 ('formation')",
   "language": "python",
   "name": "python3"
  },
  "language_info": {
   "codemirror_mode": {
    "name": "ipython",
    "version": 3
   },
   "file_extension": ".py",
   "mimetype": "text/x-python",
   "name": "python",
   "nbconvert_exporter": "python",
   "pygments_lexer": "ipython3",
   "version": "3.11.8"
  },
  "orig_nbformat": 4
 },
 "nbformat": 4,
 "nbformat_minor": 2
}
