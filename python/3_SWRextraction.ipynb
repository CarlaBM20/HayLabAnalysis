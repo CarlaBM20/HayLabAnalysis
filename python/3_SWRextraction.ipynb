{
 "cells": [
  {
   "cell_type": "markdown",
   "metadata": {},
   "source": [
    "# Extraction of SWR from CA1 recordings\n",
    "\n",
    "Restarting from LFPwake0 and LFPwakeremoved.\n",
    "\n",
    "LFPwakeremoved will be used to determined signal variance for threshold adjustement. \n",
    "\n",
    "LFPwake0 will be used for time determination. "
   ]
  },
  {
   "cell_type": "markdown",
   "metadata": {},
   "source": [
    "## Load LFP and packages"
   ]
  },
  {
   "cell_type": "code",
   "execution_count": 37,
   "metadata": {},
   "outputs": [],
   "source": [
    "from scipy import signal\n",
    "import numpy as np\n",
    "import matplotlib.pyplot as plt\n",
    "from matplotlib.widgets import Slider, Button, Cursor\n",
    "from scipy import fftpack\n",
    "import pandas as pd\n",
    "from pathlib import Path\n",
    "import os\n",
    "from ipyfilechooser import FileChooser\n",
    "\n",
    "%matplotlib widget\n",
    "\n",
    "from ephyviewer import mkQApp, MainViewer, TraceViewer, EventList, InMemoryEventSource\n",
    "from ephyviewer import AnalogSignalSourceWithScatter\n",
    "import ephyviewer"
   ]
  },
  {
   "cell_type": "code",
   "execution_count": 5,
   "metadata": {},
   "outputs": [
    {
     "data": {
      "application/vnd.jupyter.widget-view+json": {
       "model_id": "6743c076c49948c69ac23530c615cd17",
       "version_major": 2,
       "version_minor": 0
      },
      "text/plain": [
       "FileChooser(path='/Users/mb', filename='', title='<b>OpenEphys Folder</b>', show_hidden=False, select_desc='Se…"
      ]
     },
     "metadata": {},
     "output_type": "display_data"
    },
    {
     "name": "stdout",
     "output_type": "stream",
     "text": [
      "Stored 'dpath' (str)\n"
     ]
    }
   ],
   "source": [
    "dpath = \"//10.69.168.1/crnldata/waking/audrey_hay/L1imaging/AnalysedMarch2023/Gaelle/Baseline_recording/GreenLinesOK/session5/OpenEphys\"\n",
    "try:\n",
    "    %store -r dpath\n",
    "except:\n",
    "    print(\"data path not in strore\")\n",
    "    dpath = os.path.expanduser(\"~\")\n",
    "\n",
    "fc1 = FileChooser(dpath,select_default=True, show_only_dirs = True, title = \"<b>OpenEphys Folder</b>\")\n",
    "display(fc1)\n",
    "\n",
    "# Sample callback function\n",
    "def update_my_folder(chooser):\n",
    "    global dpath\n",
    "    dpath = chooser.selected\n",
    "    %store dpath\n",
    "    return \n",
    "\n",
    "# Register callback function\n",
    "fc1.register_callback(update_my_folder)"
   ]
  },
  {
   "cell_type": "code",
   "execution_count": 7,
   "metadata": {},
   "outputs": [
    {
     "name": "stdout",
     "output_type": "stream",
     "text": [
      "/Users/mb\n",
      "Documents/Syntuitio/AudreyHay/PlanB/session5\n",
      "GreenLinesOK\n"
     ]
    }
   ],
   "source": [
    "suffix=''#'_AB'\n",
    "sep = -5\n",
    "animalIDPos = -3\n",
    "dirPathComponents = os.path.normpath(dpath).split(os.sep)\n",
    "rootPath = os.path.join('/',*dirPathComponents[:sep])\n",
    "folder_base = os.path.join(*dirPathComponents[sep:])\n",
    "mice = \"GreenLinesOK\" #dirPathComponents[animalIDPos]\n",
    "os.chdir(rootPath)\n",
    "print(rootPath)\n",
    "print(folder_base)\n",
    "print(mice)"
   ]
  },
  {
   "cell_type": "code",
   "execution_count": 9,
   "metadata": {},
   "outputs": [],
   "source": [
    "filename = os.path.join(folder_base,f'LFPwake0{suffix}.npy')\n",
    "filename3 = os.path.join(folder_base,f'LFPwakeremoved{suffix}.npy')\n",
    "filename2 = os.path.join(folder_base,'RawDataChannelExtractedDS.npy')\n",
    "EMGbooleaninput = os.path.join(folder_base,f'EMGframeBoolean{suffix}.pkl')\n",
    "Channels = os.path.join(folder_base,f'LFPChannels_perMice.xlsx')\n",
    "\n",
    "EMGboolean = pd.read_pickle(EMGbooleaninput)\n",
    "LFPwakeremoved = np.load(filename3, mmap_mode= 'r')\n",
    "All = np.load(filename2, mmap_mode= 'r')\n",
    "\n",
    "allchannels = pd.read_excel(Channels)\n",
    "PFCch1=int(allchannels[mice][0].split(',')[0])\n",
    "PFCch2=int(allchannels[mice][0].split(',')[1])\n",
    "CA1ch1=int(allchannels[mice][2].split(',')[0])\n",
    "CA1ch2=int(allchannels[mice][2].split(',')[1])\n",
    "#CA1ch3=int(allchannels[mice][2].split(',')[2])\n",
    "\n",
    "PFC  =  All[:, PFCch1]-All[:, PFCch2] \n",
    "CA1  =  All[:, CA1ch1]-All[:, CA1ch2] \n",
    "CA1wakeremoved = LFPwakeremoved[:,CA1ch1]-LFPwakeremoved[:,CA1ch2] "
   ]
  },
  {
   "cell_type": "markdown",
   "metadata": {},
   "source": [
    "# Band pass filter\n",
    "        SWR: 120-200 Hz"
   ]
  },
  {
   "cell_type": "code",
   "execution_count": 10,
   "metadata": {},
   "outputs": [],
   "source": [
    "# Filtre parameter:\n",
    "f_lowcut = 120.\n",
    "f_hicut = 200.\n",
    "fs = 1000\n",
    "nyq = 0.5 * fs\n",
    "N = 6                 # Filtre order\n",
    "Wn = [f_lowcut/nyq,f_hicut/nyq]  # Nyquist frequency fraction\n",
    "\n",
    "# Filtering:\n",
    "b, a = signal.butter(N, Wn, 'band')\n",
    "filt_CA1 = signal.filtfilt(b, a, CA1)\n",
    "filt_CA1wakeremoved = signal.filtfilt(b, a, CA1wakeremoved)\n",
    "\n",
    "# Plot\n",
    "times = np.arange(0, CA1.size/fs, 1./fs)\n",
    "#timesmin = np.arange(0, CA1.size/fs/60, 1./fs/60)\n",
    "#fig, ax = plt.subplots()\n",
    "#ax.plot(timesmin, filt_CA1)"
   ]
  },
  {
   "cell_type": "markdown",
   "metadata": {},
   "source": [
    "## Continuous Wavelet Transform and projection calculation\n",
    "\n",
    "First on signal with no wake time to determine sd of signal"
   ]
  },
  {
   "cell_type": "code",
   "execution_count": 11,
   "metadata": {},
   "outputs": [
    {
     "name": "stderr",
     "output_type": "stream",
     "text": [
      "/var/folders/2_/fpwjwx512255f113wntjtndm0000gn/T/ipykernel_70990/3157878907.py:5: DeprecationWarning: scipy.signal.cwt is deprecated in SciPy 1.12 and will be removed\n",
      "in SciPy 1.15. We recommend using PyWavelets instead.\n",
      "\n",
      "  CA1NWcwt = signal.cwt(filt_CA1wakeremoved, signal.morlet2, widths, w=w)\n"
     ]
    }
   ],
   "source": [
    "# Parameter and computation of CWT\n",
    "w = 10.\n",
    "freq = np.linspace(120, 200, 80)\n",
    "widths = w*fs / (2*freq*np.pi)\n",
    "CA1NWcwt = signal.cwt(filt_CA1wakeremoved, signal.morlet2, widths, w=w)\n",
    "\n",
    "# Projection calculation\n",
    "absCA1NWcwt = np.absolute(CA1NWcwt)\n",
    "proj_CA1NWcwt = np.sum(absCA1NWcwt, axis = 0)/80\n",
    "sdproj_CA1cwt = np.std(proj_CA1NWcwt)\n",
    "sd3proj_CA1cwt = sdproj_CA1cwt*3\n",
    "sd10proj_CA1cwt = sdproj_CA1cwt*10\n",
    "sd8proj_CA1cwt = sdproj_CA1cwt*8\n",
    "sd7proj_CA1cwt = sdproj_CA1cwt*7\n",
    "sd05proj_CA1cwt = sdproj_CA1cwt*0.5"
   ]
  },
  {
   "cell_type": "markdown",
   "metadata": {},
   "source": [
    "Second on the signal for which wake times have been zeroed"
   ]
  },
  {
   "cell_type": "code",
   "execution_count": 12,
   "metadata": {},
   "outputs": [
    {
     "name": "stderr",
     "output_type": "stream",
     "text": [
      "/var/folders/2_/fpwjwx512255f113wntjtndm0000gn/T/ipykernel_70990/2628973646.py:15: DeprecationWarning: scipy.signal.cwt is deprecated in SciPy 1.12 and will be removed\n",
      "in SciPy 1.15. We recommend using PyWavelets instead.\n",
      "\n",
      "  CA1cwtWake0cons = signal.cwt(fCA1wake0C, signal.morlet2, widths, w=w)\n",
      "/var/folders/2_/fpwjwx512255f113wntjtndm0000gn/T/ipykernel_70990/2628973646.py:16: DeprecationWarning: scipy.signal.cwt is deprecated in SciPy 1.12 and will be removed\n",
      "in SciPy 1.15. We recommend using PyWavelets instead.\n",
      "\n",
      "  CA1cwtWake0lib = signal.cwt(fCA1wake0L, signal.morlet2, widths, w=w)\n"
     ]
    }
   ],
   "source": [
    "# Conservative boolean filtering of CA1 filtered signal\n",
    "BooleanCons = EMGboolean['BooleanConservative']\n",
    "fCA1wake0C = filt_CA1.copy()\n",
    "fCA1wake0C[BooleanCons] = 0\n",
    "CA1wake0C = CA1.copy()\n",
    "CA1wake0C[BooleanCons] = 0\n",
    "# Liberal boolean filtering of CA1 filtered signal\n",
    "BooleanLib = EMGboolean['BooleanLiberal']\n",
    "fCA1wake0L = filt_CA1.copy()\n",
    "fCA1wake0L[BooleanLib] = 0\n",
    "CA1wake0L = CA1.copy()\n",
    "CA1wake0L[BooleanLib] = 0\n",
    "\n",
    "# Computation of CWT\n",
    "CA1cwtWake0cons = signal.cwt(fCA1wake0C, signal.morlet2, widths, w=w)\n",
    "CA1cwtWake0lib = signal.cwt(fCA1wake0L, signal.morlet2, widths, w=w)\n",
    "\n",
    "# Projection calculation\n",
    "absCA1W0Ccwt = np.absolute(CA1cwtWake0cons)\n",
    "proj_CA1W0Ccwt = np.sum(absCA1W0Ccwt, axis = 0)/80\n",
    "absCA1W0Lcwt = np.absolute(CA1cwtWake0lib)\n",
    "proj_CA1W0Lcwt = np.sum(absCA1W0Lcwt, axis = 0)/80\n",
    "\n",
    "combined = np.stack([CA1, filt_CA1, proj_CA1W0Ccwt, proj_CA1W0Lcwt], axis = 1)\n",
    "\n",
    "sample_rate = 1000.\n",
    "t_start = 0."
   ]
  },
  {
   "cell_type": "markdown",
   "metadata": {},
   "source": [
    "## Extracting SWRs and determining main properties \n",
    "\n",
    "First extraction of SWR peaks, initiation, end and width"
   ]
  },
  {
   "cell_type": "code",
   "execution_count": 13,
   "metadata": {},
   "outputs": [],
   "source": [
    "from scipy.signal import find_peaks\n",
    "from scipy.signal import chirp, find_peaks, peak_widths\n",
    "\n",
    "# 10 sd threshold\n",
    "peaks, properties = find_peaks(proj_CA1W0Lcwt, prominence=1, width=20, height=sd8proj_CA1cwt) #AB detection with 8*SD // Audrey's detection=3*SD\n",
    "properties[\"prominences\"], properties[\"widths\"]\n",
    "\n",
    "# SWR boundaries taken at 70% from peak of intensity. This means that the SWRs with small amplitude will be longer than the big ones.\n",
    "results_width = peak_widths(proj_CA1W0Lcwt, peaks, rel_height=0.7)\n",
    "\n",
    "# Organise results in numpy array\n",
    "peaks2 = peaks.reshape(len(peaks),1)\n",
    "npresults_width = np.array(results_width).reshape(4,-1)\n",
    "SWR_prop = np.append(peaks2, results_width).reshape(5,len(peaks2)).round()"
   ]
  },
  {
   "cell_type": "markdown",
   "metadata": {},
   "source": [
    "Display subset"
   ]
  },
  {
   "cell_type": "markdown",
   "metadata": {},
   "source": [
    "Second extraction of main frequency and power "
   ]
  },
  {
   "cell_type": "code",
   "execution_count": 29,
   "metadata": {},
   "outputs": [
    {
     "name": "stderr",
     "output_type": "stream",
     "text": [
      "/var/folders/2_/fpwjwx512255f113wntjtndm0000gn/T/ipykernel_70990/2193912474.py:14: ComplexWarning: Casting complex values to real discards the imaginary part\n",
      "  data[tt, 1] = max(SWR_MaxP).round()\n",
      "/var/folders/2_/fpwjwx512255f113wntjtndm0000gn/T/ipykernel_70990/2193912474.py:16: DeprecationWarning: The Python built-in `round` is deprecated for complex scalars, and will raise a `TypeError` in a future release. Use `np.round` or `scalar.round` instead.\n",
      "  data[tt, 3] = round(sum(SWR_MaxP)/len(SWR_MaxP))\n",
      "/var/folders/2_/fpwjwx512255f113wntjtndm0000gn/T/ipykernel_70990/2193912474.py:16: ComplexWarning: Casting complex values to real discards the imaginary part\n",
      "  data[tt, 3] = round(sum(SWR_MaxP)/len(SWR_MaxP))\n"
     ]
    }
   ],
   "source": [
    "projMaxP_cwtmg = np.max(CA1cwtWake0lib, axis = 0)\n",
    "projMaxF_cwtmg = np.argmax(CA1cwtWake0lib, axis = 0) + 120\n",
    "projMaxP_cwtmg.shape\n",
    "\n",
    "nb_SWR = len(peaks)\n",
    "data = np.zeros((nb_SWR,4))\n",
    "\n",
    "for tt in np.arange(nb_SWR):\n",
    "    SWR_start = int(SWR_prop[3,tt])\n",
    "    SWR_stop = int(SWR_prop[4,tt])\n",
    "    SWR_MaxP = projMaxP_cwtmg[SWR_start:SWR_stop]\n",
    "    SWR_MaxF = projMaxF_cwtmg[SWR_start:SWR_stop]\n",
    "    data[tt, 0] = max(SWR_MaxF).round()\n",
    "    data[tt, 1] = max(SWR_MaxP).round()\n",
    "    data[tt, 2] = round(sum(SWR_MaxF)/len(SWR_MaxF))\n",
    "    data[tt, 3] = round(sum(SWR_MaxP)/len(SWR_MaxP))\n",
    "\n",
    "param_SWR = pd.DataFrame(data, columns = ['Max freq', 'Max int', 'Avg freq', 'Avg int'])\n",
    "tSWR_prop = SWR_prop.transpose()\n",
    "pd_prop_SWR = pd.DataFrame(tSWR_prop, columns = ['peak time', 'Duration', 'peak amp', 'start time', 'end time'])\n",
    "pd_tokeep = pd.DataFrame(np.ones(nb_SWR).astype(bool), columns = ['toKeep'])\n",
    "All_SWR = pd.concat([pd_tokeep,pd_prop_SWR, param_SWR], axis=1)\n",
    "\n",
    "SWR_peak = peaks\n",
    "SWR_start = SWR_prop[3,:].astype(int)\n",
    "SWR_end = SWR_prop[4,:].astype(int)"
   ]
  },
  {
   "cell_type": "markdown",
   "metadata": {},
   "source": [
    "### Store the results in All_SWR_prop pd dataframe and save as pkl/csv for post processing.\n",
    "\n",
    "End of Notebook. "
   ]
  },
  {
   "cell_type": "code",
   "execution_count": 30,
   "metadata": {},
   "outputs": [
    {
     "data": {
      "text/plain": [
       "\" \\ncombined = np.stack([fCA1wake0L, proj_CA1W0Lcwt], axis = 1)\\nfilenameC = folder_base / f'SignalCA1.npy'\\nnp.save(filenameC, combined)\\n\""
      ]
     },
     "execution_count": 30,
     "metadata": {},
     "output_type": "execute_result"
    }
   ],
   "source": [
    "filename2 = os.path.join(folder_base,f'SWRproperties{suffix}.pkl')\n",
    "filename3 = os.path.join(folder_base,f'SWRproperties{suffix}.csv')\n",
    "All_SWR.to_pickle(filename2)\n",
    "All_SWR.to_csv(filename3, sep = ',')\n",
    "\n",
    "#quoted cause otherwise error plotting ch2 & ch3 in the next display\n",
    "\"\"\" \n",
    "combined = np.stack([fCA1wake0L, proj_CA1W0Lcwt], axis = 1)\n",
    "filenameC = folder_base / f'SignalCA1.npy'\n",
    "np.save(filenameC, combined)\n",
    "\"\"\"\n",
    "# if done and no intention to display for assessment\n",
    "#%reset\n",
    "#plt.close('all')"
   ]
  },
  {
   "cell_type": "markdown",
   "metadata": {},
   "source": [
    "Load previous SWR detection (only if wanted)"
   ]
  },
  {
   "cell_type": "code",
   "execution_count": 12,
   "metadata": {},
   "outputs": [
    {
     "data": {
      "text/plain": [
       "\"\\nOldSWSdetection=folder_base / f'SWRproperties.csv'\\nSWR_prop = pd.read_csv(OldSWSdetection, index_col=0)            \\npd_prop_SWR=All_SWR.iloc[:, :5]\\nparam_SWR=All_SWR.iloc[:, 5:9]\\nSWR_prop=SWR_prop.values\\nSWR_peak = np.transpose(SWR_prop[:,0].astype(int))\\nSWR_start = np.transpose(SWR_prop[:,3].astype(int))\\nSWR_end = np.transpose(SWR_prop[:,4].astype(int))\\n\""
      ]
     },
     "execution_count": 12,
     "metadata": {},
     "output_type": "execute_result"
    }
   ],
   "source": [
    "\"\"\"\n",
    "OldSWSdetection=folder_base / f'SWRproperties.csv'\n",
    "SWR_prop = pd.read_csv(OldSWSdetection, index_col=0)            \n",
    "pd_prop_SWR=All_SWR.iloc[:, :5]\n",
    "param_SWR=All_SWR.iloc[:, 5:9]\n",
    "SWR_prop=SWR_prop.values\n",
    "SWR_peak = np.transpose(SWR_prop[:,0].astype(int))\n",
    "SWR_start = np.transpose(SWR_prop[:,3].astype(int))\n",
    "SWR_end = np.transpose(SWR_prop[:,4].astype(int))\n",
    "\"\"\""
   ]
  },
  {
   "cell_type": "markdown",
   "metadata": {},
   "source": [
    "### Display\n",
    "\n",
    "ephys viewer to check SWR detection"
   ]
  },
  {
   "cell_type": "code",
   "execution_count": 73,
   "metadata": {},
   "outputs": [
    {
     "name": "stdout",
     "output_type": "stream",
     "text": [
      "    toKeep  peak time  Duration  peak amp  start time   end time  Max freq  \\\n",
      "0     True     23.064      78.0      78.0     23019.0    23097.0     199.0   \n",
      "1     True     63.451     168.0      83.0     63331.0    63498.0     199.0   \n",
      "2     True     67.193      38.0      92.0     67173.0    67211.0     195.0   \n",
      "3     True     67.348      53.0     113.0     67328.0    67381.0     199.0   \n",
      "4     True     71.428      41.0      99.0     71405.0    71446.0     195.0   \n",
      "5    False     86.350      74.0      85.0     86307.0    86381.0     196.0   \n",
      "6     True     88.724      84.0      79.0     88696.0    88780.0     199.0   \n",
      "7     True    105.038      53.0      82.0    105019.0   105072.0     196.0   \n",
      "8     True    160.836      60.0      82.0    160817.0   160877.0     198.0   \n",
      "9     True    184.296      61.0      84.0    184262.0   184323.0     199.0   \n",
      "10    True    211.661     132.0      87.0    211625.0   211757.0     199.0   \n",
      "11    True    227.443      59.0      80.0    227423.0   227482.0     199.0   \n",
      "12    True    410.709      41.0      95.0    410688.0   410729.0     196.0   \n",
      "13    True    417.068     122.0      86.0    416983.0   417105.0     199.0   \n",
      "14    True    430.614      62.0      84.0    430571.0   430632.0     199.0   \n",
      "15    True    490.151      64.0      81.0    490119.0   490182.0     196.0   \n",
      "16    True    510.302      72.0      99.0    510264.0   510336.0     199.0   \n",
      "17    True    537.332      49.0      89.0    537312.0   537361.0     199.0   \n",
      "18    True    547.009     107.0      89.0    546975.0   547082.0     197.0   \n",
      "19    True    553.436      62.0     106.0    553399.0   553461.0     197.0   \n",
      "20    True    569.655      79.0      86.0    569602.0   569681.0     199.0   \n",
      "21    True    591.042      49.0      84.0    591018.0   591067.0     195.0   \n",
      "22    True    606.229      81.0      88.0    606182.0   606263.0     199.0   \n",
      "23    True    608.757      65.0     118.0    608714.0   608780.0     198.0   \n",
      "24    True    618.371      70.0      90.0    618323.0   618393.0     199.0   \n",
      "25    True    621.637      64.0     106.0    621606.0   621669.0     199.0   \n",
      "26    True    621.866      61.0     103.0    621848.0   621908.0     199.0   \n",
      "27    True    696.498      82.0      89.0    696442.0   696524.0     199.0   \n",
      "28    True    723.919      46.0     107.0    723894.0   723940.0     199.0   \n",
      "29    True    724.241      77.0      95.0    724200.0   724278.0     199.0   \n",
      "30    True    731.891      59.0      82.0    731866.0   731924.0     199.0   \n",
      "31    True    762.233      47.0     124.0    762207.0   762255.0     199.0   \n",
      "32    True    978.432      97.0      76.0    978367.0   978464.0     199.0   \n",
      "33    True    997.420      78.0      92.0    997365.0   997443.0     199.0   \n",
      "34    True    999.981      46.0     120.0    999953.0   999999.0     196.0   \n",
      "35    True   1000.148      49.0     101.0   1000124.0  1000173.0     196.0   \n",
      "36    True   1232.445      64.0      92.0   1232401.0  1232465.0     199.0   \n",
      "37    True   1261.561      52.0      92.0   1261528.0  1261580.0     199.0   \n",
      "38    True   1267.664      71.0      83.0   1267642.0  1267714.0     199.0   \n",
      "39    True   1268.490      71.0      92.0   1268448.0  1268518.0     199.0   \n",
      "40    True   1288.882      49.0     105.0   1288860.0  1288909.0     199.0   \n",
      "41    True   1302.133      60.0      81.0   1302092.0  1302152.0     199.0   \n",
      "42    True   1309.528      40.0      83.0   1309509.0  1309549.0     199.0   \n",
      "43    True   1311.366      46.0      94.0   1311343.0  1311390.0     196.0   \n",
      "44    True   1330.000      46.0     100.0   1329979.0  1330025.0     199.0   \n",
      "45    True   1351.022      62.0      85.0   1351003.0  1351065.0     196.0   \n",
      "46    True   1355.657      65.0      90.0   1355627.0  1355692.0     197.0   \n",
      "47    True   1370.203      54.0      88.0   1370169.0  1370222.0     196.0   \n",
      "48    True   1370.359      32.0     120.0   1370343.0  1370375.0     196.0   \n",
      "49    True   1370.403      39.0     136.0   1370388.0  1370427.0     199.0   \n",
      "\n",
      "    Max int  Avg freq  Avg int  (5, toKeep)  \n",
      "0     378.0     155.0    132.0        False  \n",
      "1     323.0     154.0    136.0        False  \n",
      "2     365.0     156.0    164.0        False  \n",
      "3     456.0     158.0    183.0        False  \n",
      "4     409.0     147.0    179.0        False  \n",
      "5     465.0     149.0    163.0        False  \n",
      "6     312.0     153.0    134.0        False  \n",
      "7     337.0     155.0    153.0        False  \n",
      "8     318.0     157.0    130.0        False  \n",
      "9     406.0     154.0    166.0        False  \n",
      "10    379.0     154.0    122.0        False  \n",
      "11    484.0     150.0    177.0        False  \n",
      "12    403.0     149.0    180.0        False  \n",
      "13    392.0     151.0    159.0        False  \n",
      "14    330.0     156.0    147.0        False  \n",
      "15    372.0     148.0    145.0        False  \n",
      "16    490.0     152.0    183.0        False  \n",
      "17    458.0     152.0    180.0        False  \n",
      "18    309.0     156.0    136.0        False  \n",
      "19    536.0     153.0    194.0        False  \n",
      "20    435.0     149.0    155.0        False  \n",
      "21    378.0     157.0    153.0        False  \n",
      "22    396.0     157.0    137.0        False  \n",
      "23    582.0     153.0    203.0        False  \n",
      "24    388.0     159.0    151.0        False  \n",
      "25    513.0     156.0    183.0        False  \n",
      "26    487.0     157.0    191.0        False  \n",
      "27    418.0     156.0    148.0        False  \n",
      "28    460.0     155.0    190.0        False  \n",
      "29    485.0     156.0    172.0        False  \n",
      "30    451.0     154.0    165.0        False  \n",
      "31    610.0     149.0    242.0        False  \n",
      "32    356.0     150.0    147.0        False  \n",
      "33    480.0     154.0    156.0        False  \n",
      "34    383.0     155.0    173.0        False  \n",
      "35    419.0     154.0    189.0        False  \n",
      "36    343.0     154.0    142.0        False  \n",
      "37    384.0     156.0    148.0        False  \n",
      "38    348.0     152.0    135.0        False  \n",
      "39    453.0     153.0    153.0        False  \n",
      "40    518.0     158.0    206.0        False  \n",
      "41    313.0     152.0    133.0        False  \n",
      "42    358.0     153.0    152.0        False  \n",
      "43    469.0     153.0    185.0        False  \n",
      "44    463.0     156.0    188.0        False  \n",
      "45    373.0     159.0    135.0        False  \n",
      "46    412.0     154.0    149.0        False  \n",
      "47    406.0     154.0    154.0        False  \n",
      "48    351.0     152.0    176.0        False  \n",
      "49    405.0     150.0    182.0        False  \n",
      "debug True\n",
      "QT_MODE PySide6\n",
      "refresh duration for  9.489059448242188e-05 s\n",
      "refresh duration for  6.318092346191406e-05 s\n",
      "refresh duration for event 5.0067901611328125e-06 s\n"
     ]
    },
    {
     "name": "stderr",
     "output_type": "stream",
     "text": [
      "/var/folders/2_/fpwjwx512255f113wntjtndm0000gn/T/ipykernel_70990/1082842728.py:70: DeprecationWarning: 'exec_' will be removed in the future. Use 'exec' instead.\n",
      "  app.exec_()\n"
     ]
    },
    {
     "name": "stdout",
     "output_type": "stream",
     "text": [
      "refresh duration for  0.00022912025451660156 s\n",
      "refresh duration for  0.00034880638122558594 s\n",
      "refresh duration for  0.0007250308990478516 s\n",
      "refresh duration for  0.00028586387634277344 s\n"
     ]
    },
    {
     "name": "stderr",
     "output_type": "stream",
     "text": [
      "qt.pointer.dispatch: skipping QEventPoint(id=0 ts=0 pos=0,0 scn=530.838,339.571 gbl=530.838,339.571 Released ellipse=(1x1 ∡ 0) vel=0,0 press=-530.838,-339.571 last=-530.838,-339.571 Δ 530.838,339.571) : no target window\n",
      "qt.pointer.dispatch: skipping QEventPoint(id=1 ts=0 pos=0,0 scn=593.477,325.349 gbl=593.477,325.349 Released ellipse=(1x1 ∡ 0) vel=0,0 press=-593.477,-325.349 last=-593.477,-325.349 Δ 593.477,325.349) : no target window\n"
     ]
    },
    {
     "name": "stdout",
     "output_type": "stream",
     "text": [
      "refresh duration for  0.0003910064697265625 s\n",
      "refresh duration for  0.0003910064697265625 s\n"
     ]
    },
    {
     "name": "stderr",
     "output_type": "stream",
     "text": [
      "qt.pointer.dispatch: skipping QEventPoint(id=1 ts=0 pos=0,0 scn=901.313,430.525 gbl=901.313,430.525 Released ellipse=(1x1 ∡ 0) vel=0,0 press=-901.313,-430.525 last=-901.313,-430.525 Δ 901.313,430.525) : no target window\n"
     ]
    },
    {
     "name": "stdout",
     "output_type": "stream",
     "text": [
      "save_all_settings\n"
     ]
    },
    {
     "data": {
      "text/plain": [
       "0"
      ]
     },
     "execution_count": 73,
     "metadata": {},
     "output_type": "execute_result"
    }
   ],
   "source": [
    "%gui qt\n",
    "app = mkQApp()\n",
    "\n",
    "#Create one data source with 3 event channel\n",
    "all_events = []\n",
    "conditions = ['All','Good','Bad']\n",
    "for c,cond in enumerate(conditions):\n",
    "    match cond:\n",
    "        case 'All':\n",
    "            selection = \"All_SWR['toKeep'] | ~All_SWR['toKeep']\"\n",
    "        case 'Good':\n",
    "            selection = \"All_SWR['toKeep']\"\n",
    "        case 'Bad':\n",
    "            selection = \"~All_SWR['toKeep']\"\n",
    "    ev_times = All_SWR.loc[pd.eval(selection),'peak time'].values\n",
    "    ev_labels = [f'SWR {i}'for i in All_SWR[pd.eval(selection)].index]\n",
    "    all_events.append({ 'time':ev_times, 'label':ev_labels, 'name': conditions[c] })\n",
    "source_ev = InMemoryEventSource(all_events=all_events)\n",
    "\n",
    "\n",
    "\n",
    "sample_rate = 1000.\n",
    "t_start = 0.\n",
    "\n",
    "#create 2 familly scatters from theses 2 indexes\n",
    "scatter_indexes = {0: SWR_peak, 1: SWR_start, 2: SWR_end}\n",
    "#and asign them to some channels each\n",
    "scatter_channels = {0: [1, 2], 1: [0, 1], 2: [0, 1]}\n",
    "source = AnalogSignalSourceWithScatter(combined, sample_rate, t_start, scatter_indexes, scatter_channels)\n",
    "\n",
    "#Create the main window that can contain several viewers\n",
    "win = MainViewer(debug=True, show_auto_scale=True)\n",
    "\n",
    "#create a viewer for signal with TraceViewer\n",
    "#connected to the signal source\n",
    "view1 = TraceViewer(source=source)\n",
    "\n",
    "#Parameters can be set in script\n",
    "#view1.params['scale_mode'] = 'same_for_all'\n",
    "view1.params['display_labels'] = True\n",
    "#And also parameters for each channel\n",
    "view1.by_channel_params['ch0', 'color'] = '#ffffff'\n",
    "view1.by_channel_params['ch1', 'color'] = '#0055ff'\n",
    "view1.by_channel_params['ch2', 'color'] = '#ff5500'\n",
    "view1.by_channel_params['ch3', 'color'] = '#ffffff'\n",
    "\n",
    "view1.by_channel_params['ch0', 'gain'] = 0.001\n",
    "view1.by_channel_params['ch1', 'gain'] = 0.005\n",
    "view1.by_channel_params['ch2', 'gain'] = 0.005\n",
    "view1.by_channel_params['ch3', 'gain'] = 0.005\n",
    "\n",
    "\n",
    "view1.by_channel_params['ch0', 'offset'] = 6\n",
    "view1.by_channel_params['ch1', 'offset'] = -1\n",
    "view1.by_channel_params['ch2', 'offset'] = -1\n",
    "view1.by_channel_params['ch3', 'offset'] = -1\n",
    "\n",
    "\n",
    "view2 = EventList(source=source_ev, name='event')\n",
    "\n",
    "\n",
    "#put this viewer in the main window\n",
    "win.add_view(view1)\n",
    "win.add_view(view2, location='bottom',  orientation='horizontal')\n",
    "\n",
    "#Run\n",
    "win.show()\n",
    "app.exec_()"
   ]
  },
  {
   "cell_type": "markdown",
   "metadata": {},
   "source": [
    "Quick plot of average and max intensity (can be done with freq as well) paired."
   ]
  }
 ],
 "metadata": {
  "interpreter": {
   "hash": "984d3fbee8ffa490637705ae3d7233e001ab0304f3daaca07b5aa8569b88ca53"
  },
  "kernelspec": {
   "display_name": "Python 3.9.12 ('formation')",
   "language": "python",
   "name": "python3"
  },
  "language_info": {
   "codemirror_mode": {
    "name": "ipython",
    "version": 3
   },
   "file_extension": ".py",
   "mimetype": "text/x-python",
   "name": "python",
   "nbconvert_exporter": "python",
   "pygments_lexer": "ipython3",
   "version": "3.11.8"
  },
  "orig_nbformat": 4
 },
 "nbformat": 4,
 "nbformat_minor": 2
}
