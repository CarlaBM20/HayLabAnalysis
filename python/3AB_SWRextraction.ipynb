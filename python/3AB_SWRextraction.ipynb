{
 "cells": [
  {
   "cell_type": "markdown",
   "metadata": {},
   "source": [
    "# Extraction of SWR from CA1 recordings\n",
    "\n",
    "Restarting from LFPwake0 and LFPwakeremoved.\n",
    "\n",
    "LFPwakeremoved will be used to determined signal variance for threshold adjustement. \n",
    "\n",
    "LFPwake0 will be used for time determination. "
   ]
  },
  {
   "cell_type": "markdown",
   "metadata": {},
   "source": [
    "## Load LFP and packages"
   ]
  },
  {
   "cell_type": "code",
   "execution_count": 411,
   "metadata": {},
   "outputs": [
    {
     "name": "stdout",
     "output_type": "stream",
     "text": [
      "\\\\10.69.168.1\\crnldata\\waking\\audrey_hay\\L1imaging\\AnalysedMarch2023\n"
     ]
    }
   ],
   "source": [
    "cd \"//10.69.168.1/crnldata/waking/audrey_hay/L1imaging/AnalysedMarch2023/\""
   ]
  },
  {
   "cell_type": "code",
   "execution_count": 412,
   "metadata": {},
   "outputs": [],
   "source": [
    "from scipy import signal\n",
    "import numpy as np\n",
    "import matplotlib.pyplot as plt\n",
    "from matplotlib.widgets import Slider, Button, Cursor\n",
    "from scipy import fftpack\n",
    "import pandas as pd\n",
    "from pathlib import Path\n",
    "import os\n",
    "\n",
    "%matplotlib widget\n",
    "folder_base = Path('Gaelle/Baseline_recording/ThreeColDotsOK/session3/OpenEphys') #Path('Gaelle/DOR/RedLines/DORD1/Rec3/OpenEphys/')\n",
    "\n",
    "filename = folder_base / f'LFPwake0.npy'\n",
    "filename3 = folder_base / f'LFPwakeremoved.npy'\n",
    "filename2 = folder_base / f'RawDataChannelExtractedDS.npy'\n",
    "EMGbooleaninput = folder_base / f'EMGframeBoolean.pkl'\n",
    "Channels = 'LFPChannels_perMice.xlsx' \n",
    "\n",
    "EMGboolean = pd.read_pickle(EMGbooleaninput)\n",
    "LFPwakeremoved = np.load(filename3, mmap_mode= 'r')\n",
    "All = np.load(filename2, mmap_mode= 'r')\n",
    "\n",
    "def readfile(file):\n",
    "  with open(file, encoding=\"utf-8\") as file:\n",
    "    list = []\n",
    "    for row in file:\n",
    "      temp = row.split()\n",
    "      list.append(temp[:])\n",
    "    return list\n",
    "\n",
    "mice = os.path.basename(os.path.dirname(os.path.dirname(folder_base)))\n",
    "allchannels = pd.read_excel(Channels)\n",
    "PFCch1=int(allchannels[mice][0].split(',')[0])\n",
    "PFCch2=int(allchannels[mice][0].split(',')[1])\n",
    "CA1ch1=int(allchannels[mice][2].split(',')[0])\n",
    "CA1ch2=int(allchannels[mice][2].split(',')[1])\n",
    "#CA1ch3=int(allchannels[mice][2].split(',')[2])\n",
    "\n",
    "PFC  =  All[:, PFCch1]-All[:, PFCch2] \n",
    "CA1  =  All[:, CA1ch1]-All[:, CA1ch2] \n",
    "CA1wakeremoved = LFPwakeremoved[:,CA1ch1]-LFPwakeremoved[:,CA1ch2] "
   ]
  },
  {
   "cell_type": "markdown",
   "metadata": {},
   "source": [
    "# Band pass filter\n",
    "        SWR: 120-200 Hz"
   ]
  },
  {
   "cell_type": "code",
   "execution_count": 413,
   "metadata": {},
   "outputs": [],
   "source": [
    "# Filtre parameter:\n",
    "f_lowcut = 120.\n",
    "f_hicut = 200.\n",
    "fs = 1000\n",
    "nyq = 0.5 * fs\n",
    "N = 6                 # Filtre order\n",
    "Wn = [f_lowcut/nyq,f_hicut/nyq]  # Nyquist frequency fraction\n",
    "\n",
    "# Filtering:\n",
    "b, a = signal.butter(N, Wn, 'band')\n",
    "filt_CA1 = signal.filtfilt(b, a, CA1)\n",
    "filt_CA1wakeremoved = signal.filtfilt(b, a, CA1wakeremoved)\n",
    "\n",
    "# Plot\n",
    "times = np.arange(0, CA1.size/fs, 1./fs)\n",
    "#timesmin = np.arange(0, CA1.size/fs/60, 1./fs/60)\n",
    "#fig, ax = plt.subplots()\n",
    "#ax.plot(timesmin, filt_CA1)"
   ]
  },
  {
   "cell_type": "markdown",
   "metadata": {},
   "source": [
    "## Continuous Wavelet Transform and projection calculation\n",
    "\n",
    "First on signal with no wake time to determine sd of signal"
   ]
  },
  {
   "cell_type": "code",
   "execution_count": 414,
   "metadata": {},
   "outputs": [],
   "source": [
    "# Parameter and computation of CWT\n",
    "w = 10.\n",
    "freq = np.linspace(120, 200, 80)\n",
    "widths = w*fs / (2*freq*np.pi)\n",
    "CA1NWcwt = signal.cwt(filt_CA1wakeremoved, signal.morlet2, widths, w=w)\n",
    "\n",
    "# Projection calculation\n",
    "absCA1NWcwt = np.absolute(CA1NWcwt)\n",
    "proj_CA1NWcwt = np.sum(absCA1NWcwt, axis = 0)/80\n",
    "sdproj_CA1cwt = np.std(proj_CA1NWcwt)\n",
    "sd3proj_CA1cwt = sdproj_CA1cwt*3\n",
    "sd10proj_CA1cwt = sdproj_CA1cwt*10\n",
    "sd8proj_CA1cwt = sdproj_CA1cwt*8\n",
    "sd7proj_CA1cwt = sdproj_CA1cwt*7\n",
    "sd05proj_CA1cwt = sdproj_CA1cwt*0.5"
   ]
  },
  {
   "cell_type": "markdown",
   "metadata": {},
   "source": [
    "Second on the signal for which wake times have been zeroed"
   ]
  },
  {
   "cell_type": "code",
   "execution_count": 415,
   "metadata": {},
   "outputs": [],
   "source": [
    "# Conservative boolean filtering of CA1 filtered signal\n",
    "BooleanCons = EMGboolean['BooleanConservative']\n",
    "fCA1wake0C = filt_CA1.copy()\n",
    "fCA1wake0C[BooleanCons] = 0\n",
    "CA1wake0C = CA1.copy()\n",
    "CA1wake0C[BooleanCons] = 0\n",
    "# Liberal boolean filtering of CA1 filtered signal\n",
    "BooleanLib = EMGboolean['BooleanLiberal']\n",
    "fCA1wake0L = filt_CA1.copy()\n",
    "fCA1wake0L[BooleanLib] = 0\n",
    "CA1wake0L = CA1.copy()\n",
    "CA1wake0L[BooleanLib] = 0\n",
    "\n",
    "# Computation of CWT\n",
    "CA1cwtWake0cons = signal.cwt(fCA1wake0C, signal.morlet2, widths, w=w)\n",
    "CA1cwtWake0lib = signal.cwt(fCA1wake0L, signal.morlet2, widths, w=w)\n",
    "\n",
    "# Projection calculation\n",
    "absCA1W0Ccwt = np.absolute(CA1cwtWake0cons)\n",
    "proj_CA1W0Ccwt = np.sum(absCA1W0Ccwt, axis = 0)/80\n",
    "absCA1W0Lcwt = np.absolute(CA1cwtWake0lib)\n",
    "proj_CA1W0Lcwt = np.sum(absCA1W0Lcwt, axis = 0)/80\n",
    "\n",
    "combined = np.stack([CA1, filt_CA1, proj_CA1W0Ccwt, proj_CA1W0Lcwt], axis = 1)\n",
    "\n",
    "sample_rate = 1000.\n",
    "t_start = 0."
   ]
  },
  {
   "cell_type": "markdown",
   "metadata": {},
   "source": [
    "### Display subset \n",
    "\n",
    "Not necessary cell to run"
   ]
  },
  {
   "cell_type": "code",
   "execution_count": 416,
   "metadata": {},
   "outputs": [
    {
     "data": {
      "text/plain": [
       "\"\\n# Defining subset\\nstart = 00000\\nend = 800000\\n\\ntt = times[start:end]\\nCA1t = CA1wake0C[start:end]/10\\n#CA1cwtt = CA1NWcwt[:, start:end]\\nproj_CA1cwtt = proj_CA1W0Ccwt[start:end]\\n\\n#plt.close('all')\\n#plt.axhline(sdproj_CA1cwt, color='r') # horizontal\\n#plt.axhline(sd3proj_CA1cwt, color='g') # horizontal\\n#plt.axhline(sd05proj_CA1cwt, color='b') # horizontal\\n#plt.plot(tt, CA1t)\\n#plt.plot(tt, proj_CA1cwtt)\\n#plt.show()\\n\\n##\\xa0WARNING: Plot only short subsets (~ 10 s), too memory consuming otherwise\\n#plt.pcolormesh(tt, freq, np.abs(CA1cwtt), cmap='viridis', shading='gouraud')\\n#plt.plot(tt, CA1t)\\n#plt.show()\\n\""
      ]
     },
     "execution_count": 416,
     "metadata": {},
     "output_type": "execute_result"
    }
   ],
   "source": [
    "\"\"\"\n",
    "# Defining subset\n",
    "start = 00000\n",
    "end = 800000\n",
    "\n",
    "tt = times[start:end]\n",
    "CA1t = CA1wake0C[start:end]/10\n",
    "#CA1cwtt = CA1NWcwt[:, start:end]\n",
    "proj_CA1cwtt = proj_CA1W0Ccwt[start:end]\n",
    "\n",
    "#plt.close('all')\n",
    "#plt.axhline(sdproj_CA1cwt, color='r') # horizontal\n",
    "#plt.axhline(sd3proj_CA1cwt, color='g') # horizontal\n",
    "#plt.axhline(sd05proj_CA1cwt, color='b') # horizontal\n",
    "#plt.plot(tt, CA1t)\n",
    "#plt.plot(tt, proj_CA1cwtt)\n",
    "#plt.show()\n",
    "\n",
    "## WARNING: Plot only short subsets (~ 10 s), too memory consuming otherwise\n",
    "#plt.pcolormesh(tt, freq, np.abs(CA1cwtt), cmap='viridis', shading='gouraud')\n",
    "#plt.plot(tt, CA1t)\n",
    "#plt.show()\n",
    "\"\"\""
   ]
  },
  {
   "cell_type": "markdown",
   "metadata": {},
   "source": [
    "Display with ephyviewer, not needed"
   ]
  },
  {
   "cell_type": "code",
   "execution_count": 417,
   "metadata": {},
   "outputs": [
    {
     "data": {
      "text/plain": [
       "\"\\nfrom ephyviewer import mkQApp, MainViewer, TraceViewer\\n\\napp = mkQApp()\\n\\n#Create the main window that can contain several viewers\\nwin = MainViewer()\\nview1 = TraceViewer.from_numpy(combined, sample_rate, t_start, 'Signals')\\nwin.add_view(view1)\\n\\n#Parameters can be set in script\\n#view1.params['scale_mode'] = 'same_for_all'\\nview1.params['display_labels'] = True\\n#And also parameters for each channel\\nview1.by_channel_params['ch0', 'color'] = '#ffffff'\\nview1.by_channel_params['ch1', 'color'] = '#0055ff'\\nview1.by_channel_params['ch2', 'color'] = '#ff5500'\\nview1.by_channel_params['ch3', 'color'] = '#ffffff'\\n\\n\\nview1.by_channel_params['ch0', 'gain'] = 0.05\\nview1.by_channel_params['ch1', 'gain'] = 1\\nview1.by_channel_params['ch2', 'gain'] = 1\\nview1.by_channel_params['ch3', 'gain'] = 1\\n\\nview1.by_channel_params['ch0', 'offset'] = 500\\nview1.by_channel_params['ch1', 'offset'] = 0\\nview1.by_channel_params['ch2', 'offset'] = 0\\nview1.by_channel_params['ch3', 'offset'] = 0\\n\\n\\n#Run\\nwin.show()\\napp.exec_()\\n\""
      ]
     },
     "execution_count": 417,
     "metadata": {},
     "output_type": "execute_result"
    }
   ],
   "source": [
    "\"\"\"\n",
    "from ephyviewer import mkQApp, MainViewer, TraceViewer\n",
    "\n",
    "app = mkQApp()\n",
    "\n",
    "#Create the main window that can contain several viewers\n",
    "win = MainViewer()\n",
    "view1 = TraceViewer.from_numpy(combined, sample_rate, t_start, 'Signals')\n",
    "win.add_view(view1)\n",
    "\n",
    "#Parameters can be set in script\n",
    "#view1.params['scale_mode'] = 'same_for_all'\n",
    "view1.params['display_labels'] = True\n",
    "#And also parameters for each channel\n",
    "view1.by_channel_params['ch0', 'color'] = '#ffffff'\n",
    "view1.by_channel_params['ch1', 'color'] = '#0055ff'\n",
    "view1.by_channel_params['ch2', 'color'] = '#ff5500'\n",
    "view1.by_channel_params['ch3', 'color'] = '#ffffff'\n",
    "\n",
    "\n",
    "view1.by_channel_params['ch0', 'gain'] = 0.05\n",
    "view1.by_channel_params['ch1', 'gain'] = 1\n",
    "view1.by_channel_params['ch2', 'gain'] = 1\n",
    "view1.by_channel_params['ch3', 'gain'] = 1\n",
    "\n",
    "view1.by_channel_params['ch0', 'offset'] = 500\n",
    "view1.by_channel_params['ch1', 'offset'] = 0\n",
    "view1.by_channel_params['ch2', 'offset'] = 0\n",
    "view1.by_channel_params['ch3', 'offset'] = 0\n",
    "\n",
    "\n",
    "#Run\n",
    "win.show()\n",
    "app.exec_()\n",
    "\"\"\""
   ]
  },
  {
   "cell_type": "markdown",
   "metadata": {},
   "source": [
    "## Extracting SWRs and determining main properties \n",
    "\n",
    "First extraction of SWR peaks, initiation, end and width"
   ]
  },
  {
   "cell_type": "code",
   "execution_count": 418,
   "metadata": {},
   "outputs": [],
   "source": [
    "from scipy.signal import find_peaks\n",
    "from scipy.signal import chirp, find_peaks, peak_widths\n",
    "\n",
    "# 10 sd threshold\n",
    "peaks, properties = find_peaks(proj_CA1W0Lcwt, prominence=1, width=20, height=sd8proj_CA1cwt) #AB detection with 8*SD // Audrey's detection=3*SD\n",
    "properties[\"prominences\"], properties[\"widths\"]\n",
    "\n",
    "# SWR boundaries taken at 70% from peak of intensity. This means that the SWRs with small amplitude will be longer than the big ones.\n",
    "results_width = peak_widths(proj_CA1W0Lcwt, peaks, rel_height=0.7)\n",
    "\n",
    "# Organise results in numpy array\n",
    "peaks2 = peaks.reshape(len(peaks),1)\n",
    "npresults_width = np.array(results_width).reshape(4,-1)\n",
    "SWR_prop = np.append(peaks2, results_width).reshape(5,len(peaks2)).round()"
   ]
  },
  {
   "cell_type": "markdown",
   "metadata": {},
   "source": [
    "Display subset"
   ]
  },
  {
   "cell_type": "markdown",
   "metadata": {},
   "source": [
    "Second extraction of main frequency and power "
   ]
  },
  {
   "cell_type": "code",
   "execution_count": 419,
   "metadata": {},
   "outputs": [
    {
     "name": "stderr",
     "output_type": "stream",
     "text": [
      "C:\\Users\\Manip2\\AppData\\Local\\Temp\\ipykernel_40192\\2535269446.py:14: ComplexWarning: Casting complex values to real discards the imaginary part\n",
      "  data[tt, 1] = max(SWR_MaxP).round()\n",
      "C:\\Users\\Manip2\\AppData\\Local\\Temp\\ipykernel_40192\\2535269446.py:16: DeprecationWarning: The Python built-in `round` is deprecated for complex scalars, and will raise a `TypeError` in a future release. Use `np.round` or `scalar.round` instead.\n",
      "  data[tt, 3] = round(sum(SWR_MaxP)/len(SWR_MaxP))\n",
      "C:\\Users\\Manip2\\AppData\\Local\\Temp\\ipykernel_40192\\2535269446.py:16: ComplexWarning: Casting complex values to real discards the imaginary part\n",
      "  data[tt, 3] = round(sum(SWR_MaxP)/len(SWR_MaxP))\n"
     ]
    }
   ],
   "source": [
    "projMaxP_cwtmg = np.max(CA1cwtWake0lib, axis = 0)\n",
    "projMaxF_cwtmg = np.argmax(CA1cwtWake0lib, axis = 0) + 120\n",
    "projMaxP_cwtmg.shape\n",
    "\n",
    "nb_SWR = np.arange(0,len(peaks),1)\n",
    "data = np.zeros((len(peaks),4))\n",
    "\n",
    "for tt in nb_SWR:\n",
    "    SWR_start = int(SWR_prop[3,tt])\n",
    "    SWR_stop = int(SWR_prop[4,tt])\n",
    "    SWR_MaxP = projMaxP_cwtmg[SWR_start:SWR_stop]\n",
    "    SWR_MaxF = projMaxF_cwtmg[SWR_start:SWR_stop]\n",
    "    data[tt, 0] = max(SWR_MaxF).round()\n",
    "    data[tt, 1] = max(SWR_MaxP).round()\n",
    "    data[tt, 2] = round(sum(SWR_MaxF)/len(SWR_MaxF))\n",
    "    data[tt, 3] = round(sum(SWR_MaxP)/len(SWR_MaxP))\n",
    "\n",
    "param_SWR = pd.DataFrame(data, columns = ['Max freq', 'Max int', 'Avg freq', 'Avg int'])\n",
    "tSWR_prop = SWR_prop.transpose()\n",
    "pd_prop_SWR = pd.DataFrame(tSWR_prop, columns = ['peak time', 'Duration', 'peak amp', 'start time', 'end time'])\n",
    "All_SWR = pd.concat([pd_prop_SWR, param_SWR], axis=1)\n",
    "\n",
    "SWR_peak = peaks\n",
    "SWR_start = SWR_prop[3,:].astype(int)\n",
    "SWR_end = SWR_prop[4,:].astype(int)"
   ]
  },
  {
   "cell_type": "markdown",
   "metadata": {},
   "source": [
    "### Store the results in All_SWR_prop pd dataframe and save as pkl/csv for post processing.\n",
    "\n",
    "End of Notebook. "
   ]
  },
  {
   "cell_type": "code",
   "execution_count": 420,
   "metadata": {},
   "outputs": [
    {
     "data": {
      "text/plain": [
       "\" \\ncombined = np.stack([fCA1wake0L, proj_CA1W0Lcwt], axis = 1)\\nfilenameC = folder_base / f'SignalCA1.npy'\\nnp.save(filenameC, combined)\\n\""
      ]
     },
     "execution_count": 420,
     "metadata": {},
     "output_type": "execute_result"
    }
   ],
   "source": [
    "filename2 = folder_base / f'SWRpropertiesInitial_AB.pkl'\n",
    "filename3 = folder_base / f'SWRpropertiesInitial_AB.csv'\n",
    "All_SWR.to_pickle(filename2)\n",
    "All_SWR.to_csv(filename3, sep = ',')\n",
    "\n",
    "\n",
    "All_SWR2=All_SWR.copy()\n",
    "#All_SWR2.loc[:, :] = np.nan\n",
    "filename2 = folder_base / f'SWRproperties_AB.pkl'\n",
    "filename3 = folder_base / f'SWRproperties_AB.csv'\n",
    "All_SWR2.to_pickle(filename2)\n",
    "All_SWR2.to_csv(filename3, sep = ',')\n",
    "\n",
    "#quoted cause otherwise error plotting ch2 & ch3 in the next display\n",
    "\"\"\" \n",
    "combined = np.stack([fCA1wake0L, proj_CA1W0Lcwt], axis = 1)\n",
    "filenameC = folder_base / f'SignalCA1.npy'\n",
    "np.save(filenameC, combined)\n",
    "\"\"\"\n",
    "# if done and no intention to display for assessment\n",
    "#%reset\n",
    "#plt.close('all')"
   ]
  },
  {
   "cell_type": "markdown",
   "metadata": {},
   "source": [
    "Load previous SWR detection (only if wanted)"
   ]
  },
  {
   "cell_type": "code",
   "execution_count": 421,
   "metadata": {},
   "outputs": [
    {
     "data": {
      "text/plain": [
       "\"\\nOldSWSdetection=folder_base / f'SWRproperties.csv'\\nSWR_prop = pd.read_csv(OldSWSdetection, index_col=0)            \\npd_prop_SWR=All_SWR.iloc[:, :5]\\nparam_SWR=All_SWR.iloc[:, 5:9]\\nSWR_prop=SWR_prop.values\\nSWR_peak = np.transpose(SWR_prop[:,0].astype(int))\\nSWR_start = np.transpose(SWR_prop[:,3].astype(int))\\nSWR_end = np.transpose(SWR_prop[:,4].astype(int))\\n\""
      ]
     },
     "execution_count": 421,
     "metadata": {},
     "output_type": "execute_result"
    }
   ],
   "source": [
    "\"\"\"\n",
    "OldSWSdetection=folder_base / f'SWRproperties.csv'\n",
    "SWR_prop = pd.read_csv(OldSWSdetection, index_col=0)            \n",
    "pd_prop_SWR=All_SWR.iloc[:, :5]\n",
    "param_SWR=All_SWR.iloc[:, 5:9]\n",
    "SWR_prop=SWR_prop.values\n",
    "SWR_peak = np.transpose(SWR_prop[:,0].astype(int))\n",
    "SWR_start = np.transpose(SWR_prop[:,3].astype(int))\n",
    "SWR_end = np.transpose(SWR_prop[:,4].astype(int))\n",
    "\"\"\""
   ]
  },
  {
   "cell_type": "markdown",
   "metadata": {},
   "source": [
    "### Display\n",
    "\n",
    "ephys viewer to check SWR detection"
   ]
  },
  {
   "cell_type": "code",
   "execution_count": 422,
   "metadata": {},
   "outputs": [
    {
     "name": "stdout",
     "output_type": "stream",
     "text": [
      "debug True\n",
      "QT_MODE PyQt5\n",
      "refresh duration for  0.0 s\n",
      "refresh duration for  0.0 s\n",
      "refresh duration for  0.0 s\n",
      "refresh duration for  0.0 s\n",
      "refresh duration for  0.0 s\n",
      "refresh duration for  0.0 s\n",
      "refresh duration for  0.0 s\n",
      "refresh duration for  0.0 s\n",
      "refresh duration for  0.0009968280792236328 s\n",
      "refresh duration for  0.0 s\n",
      "refresh duration for  0.0 s\n",
      "refresh duration for  0.0 s\n",
      "refresh duration for  0.0 s\n",
      "refresh duration for  0.0 s\n",
      "refresh duration for  0.0 s\n",
      "refresh duration for  0.0 s\n",
      "refresh duration for  0.0 s\n",
      "refresh duration for  0.0 s\n",
      "refresh duration for  0.0 s\n",
      "refresh duration for  0.0 s\n",
      "refresh duration for  0.0 s\n",
      "refresh duration for  0.0 s\n",
      "refresh duration for  0.0 s\n",
      "refresh duration for  0.0 s\n",
      "refresh duration for  0.0 s\n",
      "refresh duration for  0.0 s\n",
      "refresh duration for  0.0 s\n",
      "refresh duration for  0.0 s\n",
      "refresh duration for  0.0 s\n",
      "refresh duration for  0.0 s\n",
      "refresh duration for  0.0 s\n",
      "refresh duration for  0.0 s\n",
      "refresh duration for  0.0 s\n",
      "refresh duration for  0.0 s\n",
      "refresh duration for  0.0 s\n",
      "refresh duration for  0.0 s\n",
      "refresh duration for  0.0 s\n",
      "refresh duration for  0.0 s\n",
      "refresh duration for  0.0 s\n",
      "refresh duration for  0.0 s\n",
      "refresh duration for  0.0 s\n",
      "refresh duration for  0.0 s\n",
      "refresh duration for  0.0 s\n",
      "refresh duration for  0.0 s\n",
      "refresh duration for  0.0 s\n",
      "refresh duration for  0.0 s\n",
      "refresh duration for  0.0 s\n",
      "refresh duration for  0.0 s\n",
      "refresh duration for  0.0 s\n",
      "refresh duration for  0.0 s\n",
      "refresh duration for  0.0 s\n",
      "refresh duration for  0.0 s\n",
      "refresh duration for  0.0 s\n",
      "refresh duration for  0.0 s\n",
      "refresh duration for  0.0 s\n",
      "refresh duration for  0.0 s\n",
      "refresh duration for  0.0 s\n",
      "refresh duration for  0.0 s\n",
      "refresh duration for  0.0 s\n",
      "refresh duration for  0.0 s\n",
      "refresh duration for  0.0009980201721191406 s\n",
      "refresh duration for  0.0 s\n",
      "refresh duration for  0.0 s\n",
      "refresh duration for  0.0 s\n",
      "refresh duration for  0.0 s\n",
      "refresh duration for  0.0 s\n",
      "refresh duration for  0.0 s\n",
      "refresh duration for  0.0 s\n",
      "refresh duration for  0.0 s\n",
      "refresh duration for  0.0 s\n",
      "refresh duration for  0.0 s\n",
      "refresh duration for  0.0 s\n",
      "refresh duration for  0.0 s\n",
      "refresh duration for  0.015620946884155273 s\n",
      "refresh duration for  0.0 s\n",
      "refresh duration for  0.0 s\n",
      "refresh duration for  0.0 s\n",
      "refresh duration for  0.0 s\n",
      "refresh duration for  0.0 s\n",
      "refresh duration for  0.0 s\n",
      "refresh duration for  0.0 s\n",
      "refresh duration for  0.0 s\n",
      "refresh duration for  0.0 s\n",
      "refresh duration for  0.0 s\n",
      "refresh duration for  0.0 s\n",
      "refresh duration for  0.0 s\n",
      "refresh duration for  0.0004975795745849609 s\n",
      "refresh duration for  0.0 s\n",
      "refresh duration for  0.0 s\n",
      "refresh duration for  0.0 s\n",
      "refresh duration for  0.0 s\n",
      "refresh duration for  0.0 s\n",
      "refresh duration for  0.0 s\n",
      "refresh duration for  0.0 s\n",
      "refresh duration for  0.0 s\n",
      "refresh duration for  0.0 s\n",
      "refresh duration for  0.0 s\n",
      "refresh duration for  0.0009970664978027344 s\n",
      "refresh duration for  0.0009992122650146484 s\n",
      "refresh duration for  0.0 s\n",
      "refresh duration for  0.0 s\n",
      "refresh duration for  0.0 s\n",
      "refresh duration for  0.0 s\n",
      "refresh duration for  0.0 s\n",
      "refresh duration for  0.0 s\n",
      "refresh duration for  0.0 s\n",
      "refresh duration for  0.0 s\n",
      "refresh duration for  0.0 s\n",
      "refresh duration for  0.0 s\n",
      "refresh duration for  0.0 s\n",
      "refresh duration for  0.0 s\n",
      "refresh duration for  0.0 s\n",
      "refresh duration for  0.0 s\n",
      "refresh duration for  0.0 s\n",
      "refresh duration for  0.0 s\n",
      "refresh duration for  0.0 s\n",
      "refresh duration for  0.0 s\n",
      "refresh duration for  0.0 s\n",
      "refresh duration for  0.0 s\n",
      "refresh duration for  0.0 s\n",
      "refresh duration for  0.0 s\n",
      "refresh duration for  0.0 s\n",
      "refresh duration for  0.0 s\n",
      "refresh duration for  0.0 s\n",
      "refresh duration for  0.0 s\n",
      "refresh duration for  0.0 s\n",
      "refresh duration for  0.0 s\n",
      "refresh duration for  0.0 s\n",
      "refresh duration for  0.0 s\n",
      "refresh duration for  0.0 s\n",
      "refresh duration for  0.0 s\n",
      "refresh duration for  0.0 s\n",
      "refresh duration for  0.0 s\n",
      "refresh duration for  0.0 s\n",
      "refresh duration for  0.0 s\n",
      "refresh duration for  0.0 s\n",
      "refresh duration for  0.0 s\n",
      "refresh duration for  0.0 s\n",
      "refresh duration for  0.0 s\n",
      "refresh duration for  0.0 s\n",
      "refresh duration for  0.0 s\n",
      "refresh duration for  0.0 s\n",
      "refresh duration for  0.0 s\n",
      "refresh duration for  0.0 s\n",
      "refresh duration for  0.0 s\n",
      "refresh duration for  0.0 s\n",
      "refresh duration for  0.0 s\n",
      "refresh duration for  0.0 s\n",
      "refresh duration for  0.0 s\n",
      "save_all_settings\n"
     ]
    },
    {
     "data": {
      "text/plain": [
       "0"
      ]
     },
     "execution_count": 422,
     "metadata": {},
     "output_type": "execute_result"
    }
   ],
   "source": [
    "from ephyviewer import mkQApp, MainViewer, TraceViewer\n",
    "from ephyviewer import AnalogSignalSourceWithScatter\n",
    "import ephyviewer\n",
    "\n",
    "app = mkQApp()\n",
    "\n",
    "sample_rate = 1000.\n",
    "t_start = 0.\n",
    "\n",
    "#create 2 familly scatters from theses 2 indexes\n",
    "scatter_indexes = {0: SWR_peak, 1: SWR_start, 2: SWR_end}\n",
    "#and asign them to some channels each\n",
    "scatter_channels = {0: [1, 2], 1: [0, 1], 2: [0, 1]}\n",
    "source = AnalogSignalSourceWithScatter(combined, sample_rate, t_start, scatter_indexes, scatter_channels)\n",
    "\n",
    "#Create the main window that can contain several viewers\n",
    "win = MainViewer(debug=True, show_auto_scale=True)\n",
    "\n",
    "#create a viewer for signal with TraceViewer\n",
    "#connected to the signal source\n",
    "view1 = TraceViewer(source=source)\n",
    "\n",
    "#Parameters can be set in script\n",
    "#view1.params['scale_mode'] = 'same_for_all'\n",
    "view1.params['display_labels'] = True\n",
    "#And also parameters for each channel\n",
    "view1.by_channel_params['ch0', 'color'] = '#ffffff'\n",
    "view1.by_channel_params['ch1', 'color'] = '#0055ff'\n",
    "view1.by_channel_params['ch2', 'color'] = '#ff5500'\n",
    "view1.by_channel_params['ch3', 'color'] = '#ffffff'\n",
    "\n",
    "view1.by_channel_params['ch0', 'gain'] = 0.001\n",
    "view1.by_channel_params['ch1', 'gain'] = 0.005\n",
    "view1.by_channel_params['ch2', 'gain'] = 0.005\n",
    "view1.by_channel_params['ch3', 'gain'] = 0.005\n",
    "\n",
    "\n",
    "view1.by_channel_params['ch0', 'offset'] = 6\n",
    "view1.by_channel_params['ch1', 'offset'] = -1\n",
    "view1.by_channel_params['ch2', 'offset'] = -1\n",
    "view1.by_channel_params['ch3', 'offset'] = -1\n",
    "\n",
    "#put this viewer in the main window\n",
    "win.add_view(view1)\n",
    "\n",
    "#Run\n",
    "win.show()\n",
    "app.exec_()"
   ]
  },
  {
   "cell_type": "markdown",
   "metadata": {},
   "source": [
    "Quick plot of average and max intensity (can be done with freq as well) paired."
   ]
  },
  {
   "cell_type": "code",
   "execution_count": 423,
   "metadata": {},
   "outputs": [
    {
     "data": {
      "text/plain": [
       "\"\\n# input data:\\nMaxSWR = param_SWR['Max int']\\nAvgSWR = param_SWR['Avg int']\\n\\nplt.close()\\n\\n# plotting the points\\nplt.scatter(np.zeros(len(MaxSWR)), MaxSWR)\\nplt.scatter(np.ones(len(AvgSWR)), AvgSWR)\\n\\n# plotting the lines\\nfor i in range(len(MaxSWR)):\\n    plt.plot( [0,1], [MaxSWR[i], AvgSWR[i]], c='k')\\n\\nplt.xticks([0,1], ['Max', 'Avg'])\\nplt.show()\\n\\n\""
      ]
     },
     "execution_count": 423,
     "metadata": {},
     "output_type": "execute_result"
    }
   ],
   "source": [
    "\"\"\"\n",
    "# input data:\n",
    "MaxSWR = param_SWR['Max int']\n",
    "AvgSWR = param_SWR['Avg int']\n",
    "\n",
    "plt.close()\n",
    "\n",
    "# plotting the points\n",
    "plt.scatter(np.zeros(len(MaxSWR)), MaxSWR)\n",
    "plt.scatter(np.ones(len(AvgSWR)), AvgSWR)\n",
    "\n",
    "# plotting the lines\n",
    "for i in range(len(MaxSWR)):\n",
    "    plt.plot( [0,1], [MaxSWR[i], AvgSWR[i]], c='k')\n",
    "\n",
    "plt.xticks([0,1], ['Max', 'Avg'])\n",
    "plt.show()\n",
    "\n",
    "\"\"\""
   ]
  }
 ],
 "metadata": {
  "interpreter": {
   "hash": "984d3fbee8ffa490637705ae3d7233e001ab0304f3daaca07b5aa8569b88ca53"
  },
  "kernelspec": {
   "display_name": "Python 3.9.12 ('formation')",
   "language": "python",
   "name": "python3"
  },
  "language_info": {
   "codemirror_mode": {
    "name": "ipython",
    "version": 3
   },
   "file_extension": ".py",
   "mimetype": "text/x-python",
   "name": "python",
   "nbconvert_exporter": "python",
   "pygments_lexer": "ipython3",
   "version": "3.11.7"
  },
  "orig_nbformat": 4
 },
 "nbformat": 4,
 "nbformat_minor": 2
}
