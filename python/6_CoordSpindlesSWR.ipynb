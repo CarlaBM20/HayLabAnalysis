{
 "cells": [
  {
   "cell_type": "markdown",
   "metadata": {},
   "source": [
    "# Post-analysis of Spindles, SWR and Down-states.\n",
    "\n",
    "Restart from SWR and spindles verified files. They are most likely the .csv files."
   ]
  },
  {
   "cell_type": "markdown",
   "metadata": {},
   "source": [
    "## Load events files and packages"
   ]
  },
  {
   "cell_type": "code",
   "execution_count": null,
   "metadata": {},
   "outputs": [],
   "source": [
    "from scipy import signal\n",
    "import numpy as np\n",
    "import matplotlib.pyplot as plt\n",
    "from matplotlib.widgets import Slider, Button, Cursor\n",
    "from scipy import fftpack\n",
    "import pandas as pd\n",
    "import seaborn as sns\n",
    "\n",
    "sns.set(style=\"whitegrid\", palette=\"muted\")\n",
    "%matplotlib widget\n",
    "\n",
    "SpindlesS1 = pd.read_csv('./EventsFiles/Spindleproperties_S1_1.csv')\n",
    "SpindlesPFC = pd.read_csv('./EventsFiles/Spindleproperties_PFC_1.csv')\n",
    "SWRCA1 = pd.read_csv('./EventsFiles/SWRproperties_1.csv')\n",
    "LFPwakeremoved = np.load('LFPwakeremoved_2.npy', mmap_mode= 'r')\n",
    "All = np.load('RawDataChannelExtractedDS_2.npy', mmap_mode= 'r')\n",
    "PFC = All[:, 1]\n",
    "PFCwakeremoved = LFPwakeremoved[:,0]\n"
   ]
  },
  {
   "cell_type": "code",
   "execution_count": null,
   "metadata": {},
   "outputs": [],
   "source": [
    "SpindlesS1"
   ]
  },
  {
   "cell_type": "code",
   "execution_count": null,
   "metadata": {},
   "outputs": [],
   "source": [
    "SpindlesPFC"
   ]
  },
  {
   "cell_type": "code",
   "execution_count": null,
   "metadata": {},
   "outputs": [],
   "source": [
    "SWRCA1\n",
    "SWRCA1.describe()\n",
    "r = np.corrcoef(SWRCA1['Duration'], SWRCA1['Avg int'])\n",
    "r[0, 1] # -0.1757 No correlation!\n",
    "r = np.corrcoef(SWRCA1['Avg freq'], SWRCA1['Avg int'])\n",
    "r[0, 1] # 0.2528 No correlation!\n",
    "r = np.corrcoef(SWRCA1['Avg freq'], SWRCA1['Duration'])\n",
    "r[0, 1] # -0.2478 No correlation!"
   ]
  },
  {
   "cell_type": "code",
   "execution_count": null,
   "metadata": {},
   "outputs": [],
   "source": [
    "fig, ax = plt.subplots()\n",
    "ax.plot(SWRCA1['Duration'], SWRCA1['Avg int'], marker='o', linewidth=0)\n",
    "ax.set_title('correlation Duration - Intensity')\n",
    "ax.set_xlabel('Duration (ms)')\n",
    "ax.set_ylabel('Intensity (AU)')"
   ]
  }
 ],
 "metadata": {
  "interpreter": {
   "hash": "984d3fbee8ffa490637705ae3d7233e001ab0304f3daaca07b5aa8569b88ca53"
  },
  "kernelspec": {
   "display_name": "Python 3.9.12 ('formation')",
   "language": "python",
   "name": "python3"
  },
  "language_info": {
   "codemirror_mode": {
    "name": "ipython",
    "version": 3
   },
   "file_extension": ".py",
   "mimetype": "text/x-python",
   "name": "python",
   "nbconvert_exporter": "python",
   "pygments_lexer": "ipython3",
   "version": "3.9.12"
  },
  "orig_nbformat": 4
 },
 "nbformat": 4,
 "nbformat_minor": 2
}
