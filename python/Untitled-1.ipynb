{
 "cells": [
  {
   "cell_type": "code",
   "execution_count": null,
   "metadata": {},
   "outputs": [],
   "source": [
    "from scipy import signal\n",
    "import numpy as np\n",
    "import matplotlib.pyplot as plt\n",
    "from matplotlib.widgets import Slider, Button, Cursor\n",
    "from scipy import fftpack\n",
    "import pandas as pd\n",
    "from pathlib import Path\n",
    "import os\n",
    "from IPython.display import display\n",
    "from ipyfilechooser import FileChooser\n",
    "from datetime import datetime\n",
    "import shutil\n",
    "from scipy.signal import find_peaks\n",
    "from scipy.signal import chirp, find_peaks, peak_widths\n"
   ]
  },
  {
   "cell_type": "code",
   "execution_count": null,
   "metadata": {},
   "outputs": [],
   "source": [
    "dpath2=\"//10.69.168.1/crnldata/waking/audrey_hay/L1imaging/RAW/Baseline_recording/BlackLines/Baseline_recording/2022_08_10/13_46_16/OpenEphys\"\n",
    "dpath=\"//10.69.168.1/crnldata/waking/audrey_hay/L1imaging/AnalysedMarch2023/Gaelle/Baseline_recording/BlackLinesOK/session4/OpenEphys\""
   ]
  },
  {
   "cell_type": "code",
   "execution_count": null,
   "metadata": {},
   "outputs": [],
   "source": [
    "folderpath = Path(dpath)\n",
    "EMGbooleaninput = folderpath / f'EMGframeBoolean.pkl'\n",
    "EMGboolean = pd.read_pickle(EMGbooleaninput)\n",
    "\n",
    "folderpath2 = Path(dpath2)\n",
    "EMGbooleaninput2 = folderpath2 / f'EMGframeBoolean.pkl'\n",
    "EMGboolean2 = pd.read_pickle(EMGbooleaninput2)\n",
    "\n",
    "fig, axs = plt.subplots(1, 2, figsize=(10, 5))  # 10x5 inches\n",
    "axs[0].plot(EMGboolean)\n",
    "axs[1].plot(EMGboolean2)"
   ]
  },
  {
   "cell_type": "code",
   "execution_count": null,
   "metadata": {},
   "outputs": [],
   "source": [
    "folderpath = Path(dpath)\n",
    "Signal = folderpath / f'SignalCA1.npy'\n",
    "Signal = np.load(Signal, mmap_mode= 'r')\n",
    "\n",
    "folderpath2 = Path(dpath2)\n",
    "Signal2 = folderpath2 / f'SignalCA1.npy'\n",
    "Signal2 = np.load(Signal2, mmap_mode= 'r')\n",
    "\n",
    "fig, axs = plt.subplots(1, 2, figsize=(10, 5))  # 10x5 inches\n",
    "axs[0].plot(Signal)\n",
    "axs[1].plot(Signal2)"
   ]
  },
  {
   "cell_type": "code",
   "execution_count": null,
   "metadata": {},
   "outputs": [],
   "source": [
    "folderpath = Path(dpath)\n",
    "Signal = folderpath / f'SignalCA1.npy'\n",
    "Signal = np.load(Signal, mmap_mode= 'r')\n",
    "plt.close()\n",
    "plt.plot(Signal)\n",
    "plt.show()"
   ]
  }
 ],
 "metadata": {
  "kernelspec": {
   "display_name": "minian311new2",
   "language": "python",
   "name": "python3"
  },
  "language_info": {
   "codemirror_mode": {
    "name": "ipython",
    "version": 3
   },
   "file_extension": ".py",
   "mimetype": "text/x-python",
   "name": "python",
   "nbconvert_exporter": "python",
   "pygments_lexer": "ipython3",
   "version": "3.11.7"
  }
 },
 "nbformat": 4,
 "nbformat_minor": 2
}
