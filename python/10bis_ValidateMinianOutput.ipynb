{
 "cells": [
  {
   "cell_type": "markdown",
   "metadata": {},
   "source": [
    "# Validate Minian outputs - 2nd version\n",
    "\n",
    "- Load\n",
    "    - spatial map (A) -> maybe to associate with a projection of neuron fluorescence\n",
    "    - temporal activity of detected neurons\n",
    "\n",
    "- Validate units"
   ]
  },
  {
   "cell_type": "code",
   "execution_count": null,
   "metadata": {},
   "outputs": [],
   "source": [
    "import numpy as np\n",
    "import csv\n",
    "from pathlib import Path\n",
    "import xarray as xr\n",
    "import pandas as pd\n",
    "from pandas import concat\n",
    "import matplotlib.pyplot as plt\n",
    "import itertools as itt\n",
    "import os\n",
    "import sys\n",
    "import json\n",
    "\n",
    "import holoviews as hv\n",
    "from dask.distributed import Client, LocalCluster\n",
    "from holoviews.operation.datashader import datashade, regrid\n",
    "from holoviews.util import Dynamic\n",
    "from holoviews import opts\n",
    "from holoviews.operation.datashader import shade\n",
    "hv.extension('bokeh', 'matplotlib')\n",
    "from IPython.core.display import display\n",
    "\n",
    "from minian.utilities import (\n",
    "    TaskAnnotation,\n",
    "    get_optimal_chk,\n",
    "    load_videos,\n",
    "    open_minian,\n",
    "    save_minian,\n",
    ")\n"
   ]
  },
  {
   "attachments": {},
   "cell_type": "markdown",
   "metadata": {},
   "source": [
    "Import the minian files"
   ]
  },
  {
   "cell_type": "markdown",
   "metadata": {},
   "source": []
  },
  {
   "cell_type": "code",
   "execution_count": null,
   "metadata": {},
   "outputs": [],
   "source": [
    "folderGen = Path('.').absolute()\n",
    "experimenter = 'Gaelle'\n",
    "recording = 'Baseline_recording'#Baseline_recording\n",
    "mouse_name = 'RedLinesOK'\n",
    "date = 'session3'\n",
    "time = 'Rec1'\n",
    "device = 'V4_Miniscope'\n",
    "minianversion = 'minian'\n",
    "device2 = 'V4_Miniscope'\n",
    "\n",
    "folderMouse = Path(f'{folderGen}/{experimenter}/{recording}/{mouse_name}/{date}/{device}/{minianversion}/')\n",
    "minian_ds = open_minian(folderMouse)\n",
    "folder_base = Path(f'{folderGen}/{experimenter}/{recording}/{mouse_name}/')\n",
    "\n",
    "A = minian_ds['A']\n",
    "C = minian_ds['C']\n",
    "S = minian_ds['S']\n",
    "\n",
    "B = A['unit_id']\n",
    "series = B.to_series()\n",
    "D = series.count()\n",
    "\n",
    "idloc = A.idxmax(\"unit_id\")\n",
    "Hmax = A.idxmax(\"height\")\n",
    "Hmax2 = Hmax.max(\"width\")\n",
    "\n",
    "Wmax = A.idxmax(\"width\")\n",
    "Wmax2 = Wmax.max(\"height\")\n",
    "coord1 = Wmax2.to_series()\n",
    "coord2 = Hmax2.to_series()\n",
    "\n",
    "a = pd.concat([coord1,coord2], axis=1)\n",
    "unit = len(a)\n",
    "print(unit)\n",
    "\n",
    "AllUnitsFile = folderMouse / f'AllunitsFile.json'\n",
    "all_units = a.index.tolist()\n",
    "\n",
    "with open(AllUnitsFile, 'w') as f:\n",
    "    json.dump(all_units, f, indent=2) "
   ]
  },
  {
   "cell_type": "code",
   "execution_count": null,
   "metadata": {},
   "outputs": [],
   "source": [
    "with open(AllUnitsFile, 'w') as f:\n",
    "    json.dump(all_units, f, indent=2) "
   ]
  },
  {
   "cell_type": "code",
   "execution_count": null,
   "metadata": {},
   "outputs": [],
   "source": [
    "fig, (ax1, ax2) = plt.subplots(ncols=2, figsize=(12,5)) \n",
    "ax1.imshow(A[0,:])\n",
    "ax2.plot(C[0,:])\n",
    "ax2.annotate(f'Unit_id {0}', (12, 3), fontsize=12)"
   ]
  },
  {
   "attachments": {},
   "cell_type": "markdown",
   "metadata": {},
   "source": [
    "Plot the spatial map for all cells + interactive Ca2+ trace"
   ]
  },
  {
   "cell_type": "code",
   "execution_count": null,
   "metadata": {},
   "outputs": [],
   "source": [
    "NeuronToPlot = range(unit)\n",
    "\n",
    "output_size = 150\n",
    "hv.output(size=int(output_size))\n",
    "opts = dict(\n",
    "    plot=dict(colorbar=True, invert_yaxis=True),\n",
    "    style=dict(cmap=\"Viridis\"),\n",
    ")\n",
    "image = hv.Image(\n",
    "    A.max(\"unit_id\").compute().astype(np.float32).rename(\"A\"),\n",
    "    kdims=[\"width\", \"height\"],\n",
    ").opts(**opts)\n",
    "labels = hv.Labels([(a.iloc[i,0], a.iloc[i,1], a.index[i]) for i in NeuronToPlot])\n",
    "plot_unit = hv.HoloMap({i: hv.Curve(((C[i,:])), group='Group', label=f'{a.index[i]}') for i in NeuronToPlot}, 'Value').opts(ylim=(-0.5, 20))\n",
    "labels2 = hv.Labels((150, 150, a.index[1]))\n",
    "layout = image * labels + plot_unit * labels2\n",
    "layout"
   ]
  },
  {
   "attachments": {},
   "cell_type": "markdown",
   "metadata": {},
   "source": [
    "Remove dropped units"
   ]
  },
  {
   "cell_type": "code",
   "execution_count": null,
   "metadata": {},
   "outputs": [],
   "source": [
    "# fill in unit_to_drop with cell_id of cells to drop\n",
    "unit_to_drop = [2, 30]\n",
    "copyB = list(B.copy())\n",
    "for i in range(len(unit_to_drop)):\n",
    "    elem = unit_to_drop[i]\n",
    "    copyB.remove(elem)\n",
    "unit_to_keep = copyB\n",
    "unit_to_keepL = [e for e in all_units if e not in unit_to_drop]\n",
    "\n",
    "A_upd = A.loc[unit_to_keep,:,:]\n",
    "C_upd = C.loc[unit_to_keep,:]\n",
    "S_upd = S.loc[unit_to_keep,:]\n",
    "\n",
    "TodropFile = folderMouse / f'TodropFile.json'\n",
    "\n",
    "\n",
    "with open(TodropFile, 'w') as f:\n",
    "    json.dump(unit_to_drop, f, indent=2) \n",
    "\n",
    "listtokeep = [9, 1, 15, 19, 25, 27, 28, 29, 30, 34, 41, 48, 53, 60]\n",
    "unit_to_keeppd = pd.Series(unit_to_keepL)\n",
    "filenameOut = folderMouse / f'UnitToKeep.xlsx'\n",
    "writer = pd.ExcelWriter(filenameOut)\n",
    "unit_to_keeppd.to_excel(writer)\n",
    "writer.save()"
   ]
  },
  {
   "cell_type": "code",
   "execution_count": null,
   "metadata": {},
   "outputs": [],
   "source": [
    "listtokeep = [9, 15, 25, 27, 28, 29, 30, 34, 41, 48, 53, 60]\n",
    "unit_to_keeppd = pd.Series(listtokeep)\n",
    "filenameOut = folderMouse / f'UnitToKeep.xlsx'\n",
    "writer = pd.ExcelWriter(filenameOut)\n",
    "unit_to_keeppd.to_excel(writer)\n",
    "writer.save()"
   ]
  },
  {
   "cell_type": "code",
   "execution_count": null,
   "metadata": {},
   "outputs": [],
   "source": [
    "MapSessionsPath = folder_base / f'mappings.pkl'\n",
    "\n",
    "MapSessions = pd.read_pickle(MapSessionsPath)\n",
    "MapSessions"
   ]
  }
 ],
 "metadata": {
  "kernelspec": {
   "display_name": "minian",
   "language": "python",
   "name": "python3"
  },
  "language_info": {
   "codemirror_mode": {
    "name": "ipython",
    "version": 3
   },
   "file_extension": ".py",
   "mimetype": "text/x-python",
   "name": "python",
   "nbconvert_exporter": "python",
   "pygments_lexer": "ipython3",
   "version": "3.8.12 | packaged by conda-forge | (default, Oct 12 2021, 21:50:38) \n[Clang 11.1.0 ]"
  },
  "orig_nbformat": 4,
  "vscode": {
   "interpreter": {
    "hash": "d28f0aa69d972f186b6eef62f149b885b857325c1e4e259a67006c9c0c737cc7"
   }
  }
 },
 "nbformat": 4,
 "nbformat_minor": 2
}
