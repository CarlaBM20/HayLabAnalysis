{
 "cells": [
  {
   "cell_type": "markdown",
   "metadata": {},
   "source": [
    "# Extraction of Down States from Neocortex recordings\n",
    "\n",
    "Restarting from LFPwake0 and LFPwakeremoved.\n",
    "\n",
    "LFPwakeremoved will be used to determined signal variance for threshold adjustement. \n",
    "\n",
    "LFPwake0 will be used for time determination. "
   ]
  },
  {
   "cell_type": "markdown",
   "metadata": {},
   "source": [
    "## Load LFP and packages"
   ]
  },
  {
   "cell_type": "code",
   "execution_count": 1,
   "metadata": {},
   "outputs": [
    {
     "name": "stdout",
     "output_type": "stream",
     "text": [
      "\\\\10.69.168.1\\crnldata\\waking\\audrey_hay\\L1imaging\\AnalysedMarch2023\n"
     ]
    }
   ],
   "source": [
    "cd \"//10.69.168.1/crnldata/waking/audrey_hay/L1imaging/AnalysedMarch2023/\""
   ]
  },
  {
   "cell_type": "code",
   "execution_count": 2,
   "metadata": {},
   "outputs": [],
   "source": [
    "from scipy import signal\n",
    "from scipy import stats\n",
    "from scipy.signal import find_peaks, peak_widths, hilbert\n",
    "import numpy as np\n",
    "import matplotlib.pyplot as plt\n",
    "from matplotlib.widgets import Slider, Button, Cursor\n",
    "from scipy import fftpack\n",
    "import pandas as pd\n",
    "from pathlib import Path\n",
    "import os\n",
    "%matplotlib widget\n",
    "\n",
    "folder_base = Path('Gaelle/Baseline_recording_ABmodified/Purple/session1/OpenEphys') \n",
    "\n",
    "filename = folder_base / f'LFPwake0.npy'\n",
    "filename3 = folder_base / f'LFPwakeremoved.npy'\n",
    "filename2 = folder_base / f'RawDataChannelExtractedDS.npy'\n",
    "EMGbooleaninput = folder_base / f'EMGframeBoolean.pkl'\n",
    "Channels = 'LFPChannels_perMice.xlsx' \n",
    "\n",
    "EMGboolean = pd.read_pickle(EMGbooleaninput)\n",
    "LFPwakeremoved = np.load(filename3, mmap_mode= 'r')\n",
    "All = np.load(filename2, mmap_mode= 'r')\n",
    "\n",
    "def readfile(file):\n",
    "  with open(file, encoding=\"utf-8\") as file:\n",
    "    list = []\n",
    "    for row in file:\n",
    "      temp = row.split()\n",
    "      list.append(temp[:])\n",
    "    return list\n",
    "\n",
    "mice = os.path.basename(os.path.dirname(os.path.dirname(folder_base)))\n",
    "allchannels = pd.read_excel(Channels)\n",
    "EMGch=int(allchannels[mice][3])\n",
    "\n",
    "CA1ch1=int(allchannels[mice][2].split(',')[0])\n",
    "CA1ch2=int(allchannels[mice][2].split(',')[1])\n",
    "\n",
    "EMG  =  All[:, EMGch]\n",
    "\n",
    "CA1  =  All[:, CA1ch1]-All[:, CA1ch2] \n",
    "CA1wakeremoved = LFPwakeremoved[:,CA1ch1]-LFPwakeremoved[:,CA1ch2] \n",
    "\n",
    "CA1wakeremoved = CA1wakeremoved"
   ]
  },
  {
   "cell_type": "markdown",
   "metadata": {},
   "source": [
    "## Continuous Wavelet Transform and projection calculation\n",
    "\n",
    "First on signal with no wake time to determine sd of signal"
   ]
  },
  {
   "cell_type": "code",
   "execution_count": 8,
   "metadata": {},
   "outputs": [],
   "source": [
    "# Filter parameter :\n",
    "f_lowcut = 5\n",
    "f_hicut = 9\n",
    "N = 4\n",
    "fs = 1000\n",
    "nyq = 0.5 * fs\n",
    "Wn = [f_lowcut/nyq,f_hicut/nyq]  # Nyquist frequency fraction\n",
    "\n",
    "# Filter creation :\n",
    "b, a = signal.butter(N, Wn, 'band')\n",
    "\n",
    "filt_CA1 = signal.filtfilt(b, a, CA1)\n",
    "filt_CA1wakeremoved = signal.filtfilt(b, a, CA1wakeremoved)"
   ]
  },
  {
   "cell_type": "code",
   "execution_count": 28,
   "metadata": {},
   "outputs": [],
   "source": [
    "# Parameter and computation of CWT\n",
    "w = 30.\n",
    "freq = np.linspace(5, 9, 4)#18)\n",
    "widths = w*fs / (2*freq*np.pi)\n",
    "CA1NWcwt = signal.cwt(filt_CA1wakeremoved, signal.morlet2, widths, w=w)\n",
    "\n",
    "CA1NWcwt = signal.cwt(filt_CA1, signal.morlet2, widths, w=w)\n",
    "\n",
    "# Projection calculation CA1\n",
    "absCA1NWcwt = np.absolute(CA1NWcwt)\n",
    "\n",
    "zabsThetaCWT = stats.zscore(absCA1NWcwt, axis=None)\n",
    "\n",
    "proj_ThetaCWT = np.max(zabsThetaCWT, axis = 0)/8\n",
    "\n",
    "sdproj_ThetaCWT = np.std(proj_ThetaCWT)\n",
    "meanproj_ThetaCWT = np.mean(proj_ThetaCWT)\n",
    "\n",
    "numpnts = EMG.size\n",
    "ThetaStatus = np.zeros(numpnts)\n",
    "for ind in range(numpnts):\n",
    "    if proj_ThetaCWT[ind]>(meanproj_ThetaCWT+1.4*sdproj_ThetaCWT):\n",
    "        ThetaStatus[ind] = 1\n",
    "        \n",
    "\n",
    "proj_CA1NWcwt = np.sum(absCA1NWcwt, axis = 0)/24\n",
    "sdproj_CA1cwt = np.std(proj_CA1NWcwt)\n",
    "sd6proj_CA1cwt = sdproj_CA1cwt*6\n",
    "sd7proj_CA1cwt = sdproj_CA1cwt*7"
   ]
  },
  {
   "cell_type": "code",
   "execution_count": 10,
   "metadata": {},
   "outputs": [],
   "source": [
    "#####################################\n",
    "########         CA1         #########\n",
    "#####################################\n",
    "# Conservative boolean filtering of CA1 filtered signal\n",
    "BooleanCons = EMGboolean['BooleanConservative']\n",
    "fCA1wake0C = filt_CA1.copy()\n",
    "fCA1wake0C[BooleanCons] = 0\n",
    "CA1wake0C = CA1.copy()\n",
    "CA1wake0C[BooleanCons] = 0\n",
    "# Liberal boolean filtering of CA1 filtered signal\n",
    "BooleanLib = EMGboolean['BooleanLiberal']\n",
    "fCA1wake0L = filt_CA1.copy()\n",
    "fCA1wake0L[BooleanLib] = 0\n",
    "CA1wake0L = CA1.copy()\n",
    "CA1wake0L[BooleanLib] = 0\n",
    "\n",
    "# Computation of CWT\n",
    "CA1cwtWake0cons = signal.cwt(fCA1wake0C, signal.morlet2, widths, w=w)\n",
    "CA1cwtWake0lib = signal.cwt(fCA1wake0L, signal.morlet2, widths, w=w)\n",
    "\n",
    "# Projection calculation\n",
    "absCA1W0Ccwt = np.absolute(CA1cwtWake0cons)\n",
    "proj_CA1W0Ccwt = np.sum(absCA1W0Ccwt, axis = 0)/24\n",
    "absCA1W0Lcwt = np.absolute(CA1cwtWake0lib)\n",
    "proj_CA1W0Lcwt = np.sum(absCA1W0Lcwt, axis = 0)/24\n"
   ]
  },
  {
   "cell_type": "code",
   "execution_count": 11,
   "metadata": {},
   "outputs": [],
   "source": [
    "from scipy.signal import find_peaks\n",
    "from scipy.signal import chirp, find_peaks, peak_widths\n",
    "\n",
    "# 7 sd threshold\n",
    "peaks, properties = find_peaks(proj_CA1W0Lcwt, width=200, height=sd7proj_CA1cwt)\n",
    "properties[\"prominences\"], properties[\"widths\"]\n",
    "\n",
    "# Thetas boundaries taken at 70% from peak of intensity. This means that the Thetas with small amplitude will be longer than the big ones.\n",
    "results_width = peak_widths(proj_CA1W0Lcwt, peaks, rel_height=0.7)\n",
    "\n",
    "# Organise results in numpy array\n",
    "peaks2 = peaks.reshape(len(peaks),1)\n",
    "npresults_width = np.array(results_width).reshape(4,-1)\n",
    "Theta_prop = np.append(peaks2, results_width).reshape(5,len(peaks2)).round()"
   ]
  },
  {
   "cell_type": "code",
   "execution_count": 12,
   "metadata": {},
   "outputs": [
    {
     "name": "stderr",
     "output_type": "stream",
     "text": [
      "C:\\Users\\Manip2\\AppData\\Local\\Temp\\ipykernel_4756\\1408940001.py:14: ComplexWarning: Casting complex values to real discards the imaginary part\n",
      "  data[tt, 1] = max(Theta_MaxP).round()\n",
      "C:\\Users\\Manip2\\AppData\\Local\\Temp\\ipykernel_4756\\1408940001.py:16: DeprecationWarning: The Python built-in `round` is deprecated for complex scalars, and will raise a `TypeError` in a future release. Use `np.round` or `scalar.round` instead.\n",
      "  data[tt, 3] = round(sum(Theta_MaxP)/len(Theta_MaxP))\n",
      "C:\\Users\\Manip2\\AppData\\Local\\Temp\\ipykernel_4756\\1408940001.py:16: ComplexWarning: Casting complex values to real discards the imaginary part\n",
      "  data[tt, 3] = round(sum(Theta_MaxP)/len(Theta_MaxP))\n"
     ]
    }
   ],
   "source": [
    "projMaxP_cwtmg = np.max(CA1cwtWake0lib, axis = 0)\n",
    "projMaxF_cwtmg = np.argmax(CA1cwtWake0lib, axis = 0)+ 10 #/2 + 8\n",
    "projMaxP_cwtmg.shape\n",
    "\n",
    "nb_Theta = np.arange(0,len(peaks),1)\n",
    "data = np.zeros((len(peaks),4))\n",
    "\n",
    "for tt in nb_Theta:\n",
    "    Theta_start = int(Theta_prop[3,tt])\n",
    "    Theta_stop = int(Theta_prop[4,tt])\n",
    "    Theta_MaxP = projMaxP_cwtmg[Theta_start:Theta_stop]\n",
    "    Theta_MaxF = projMaxF_cwtmg[Theta_start:Theta_stop]\n",
    "    data[tt, 0] = max(Theta_MaxF).round()\n",
    "    data[tt, 1] = max(Theta_MaxP).round()\n",
    "    data[tt, 2] = round(sum(Theta_MaxF)/len(Theta_MaxF))\n",
    "    data[tt, 3] = round(sum(Theta_MaxP)/len(Theta_MaxP))\n",
    "\n",
    "param_Theta = pd.DataFrame(data, columns = ['Max freq', 'Max int', 'Avg freq', 'Avg int'])\n",
    "tTheta_prop = Theta_prop.transpose()\n",
    "pd_prop_Theta = pd.DataFrame(tTheta_prop, columns = ['peak time', 'Duration', 'peak amp', 'start time', 'end time'])\n",
    "All_Theta = pd.concat([pd_prop_Theta, param_Theta], axis=1)"
   ]
  },
  {
   "cell_type": "code",
   "execution_count": 13,
   "metadata": {},
   "outputs": [
    {
     "data": {
      "text/plain": [
       "3"
      ]
     },
     "execution_count": 13,
     "metadata": {},
     "output_type": "execute_result"
    }
   ],
   "source": [
    "nb_Theta = All_Theta.shape[0]\n",
    "listtodrop = []\n",
    "for tt in range(nb_Theta-1):\n",
    "    if(All_Theta['end time'][tt]>All_Theta['start time'][tt + 1]):\n",
    "        if(All_Theta['Duration'][tt]<All_Theta['Duration'][tt + 1]):\n",
    "            if(All_Theta['start time'][tt]<All_Theta['start time'][tt + 1]):\n",
    "                All_Theta['start time'][tt+1] = All_Theta['start time'][tt]\n",
    "                listtodrop.append(tt)\n",
    "            else:\n",
    "                listtodrop.append(tt)\n",
    "        if(All_Theta['Duration'][tt]>All_Theta['Duration'][tt + 1]):\n",
    "            if(All_Theta['end time'][tt]<All_Theta['end time'][tt + 1]):\n",
    "                All_Theta['end time'][tt] = All_Theta['end time'][tt + 1]\n",
    "                listtodrop.append(tt+1)\n",
    "            else:\n",
    "                listtodrop.append(tt+1)\n",
    "\n",
    "for tt in range(nb_Theta-1):\n",
    "    if((All_Theta['start time'][tt + 1] - All_Theta['end time'][tt])<200):\n",
    "        if((All_Theta['Duration'][tt]+300)<All_Theta['Duration'][tt + 1]):\n",
    "            All_Theta['start time'][tt + 1] = All_Theta['start time'][tt]\n",
    "            listtodrop.append(tt)\n",
    "        if((All_Theta['Duration'][tt+1]+300)<All_Theta['Duration'][tt]):\n",
    "            All_Theta['end time'][tt] = All_Theta['start time'][tt + 1]\n",
    "            listtodrop.append(tt+1)\n",
    "\n",
    "for tt in range(nb_Theta):\n",
    "    All_Theta['Duration'][tt]=All_Theta['end time'][tt]-All_Theta['start time'][tt]\n",
    "All_Theta = All_Theta.drop(listtodrop) \n",
    "#print(listtodrop)\n",
    "All_Theta.shape[0]"
   ]
  },
  {
   "cell_type": "markdown",
   "metadata": {},
   "source": [
    "### Display\n",
    "\n",
    "ephys viewer to check Theta detection"
   ]
  },
  {
   "cell_type": "code",
   "execution_count": 20,
   "metadata": {},
   "outputs": [
    {
     "data": {
      "text/plain": [
       "memmap([  60.36229135,  -32.28840421, -126.12333706, ...,  319.76944527,\n",
       "         198.54797105,  139.23883213])"
      ]
     },
     "execution_count": 20,
     "metadata": {},
     "output_type": "execute_result"
    }
   ],
   "source": [
    "EMG"
   ]
  },
  {
   "cell_type": "code",
   "execution_count": 31,
   "metadata": {},
   "outputs": [
    {
     "ename": "",
     "evalue": "",
     "output_type": "error",
     "traceback": [
      "\u001b[1;31mThe Kernel crashed while executing code in the current cell or a previous cell. \n",
      "\u001b[1;31mPlease review the code in the cell(s) to identify a possible cause of the failure. \n",
      "\u001b[1;31mClick <a href='https://aka.ms/vscodeJupyterKernelCrash'>here</a> for more info. \n",
      "\u001b[1;31mView Jupyter <a href='command:jupyter.viewOutput'>log</a> for further details."
     ]
    }
   ],
   "source": [
    "from ephyviewer import mkQApp, MainViewer, TraceViewer\n",
    "from ephyviewer import AnalogSignalSourceWithScatter\n",
    "import ephyviewer\n",
    "\n",
    "app = mkQApp()\n",
    "\n",
    "sample_rate = 1000.\n",
    "t_start = 0.\n",
    "\n",
    "combined = np.stack([CA1, filt_CA1, proj_CA1W0Ccwt, proj_CA1W0Lcwt/1000, EMG/5000], axis = 1)\n",
    "\n",
    "combined = np.stack([ThetaStatus], axis = 1)\n",
    "\n",
    "Theta_start = Theta_prop[3,:].astype(int)\n",
    "Theta_end = Theta_prop[4,:].astype(int)\n",
    "Theta_start = All_Theta['start time'].to_numpy().astype(int)\n",
    "Theta_end = All_Theta['end time'].to_numpy().astype(int)\n",
    "\n",
    "\n",
    "#create 2 familly scatters from theses 2 indexes\n",
    "scatter_indexes = {0: Theta_start, 1: Theta_end}\n",
    "#and asign them to some channels each\n",
    "scatter_channels = {0: [0, 1], 1: [0, 1]}\n",
    "source = AnalogSignalSourceWithScatter(combined, sample_rate, t_start, scatter_indexes, scatter_channels)\n",
    "\n",
    "#Create the main window that can contain several viewers\n",
    "win = MainViewer(debug=True, show_auto_scale=True)\n",
    "\n",
    "#create a viewer for signal with TraceViewer\n",
    "#connected to the signal source\n",
    "view1 = TraceViewer(source=source)\n",
    "\n",
    "#Parameters can be set in script\n",
    "#view1.params['scale_mode'] = 'same_for_all'\n",
    "view1.params['display_labels'] = True\n",
    "#And also parameters for each channel\n",
    "\n",
    "\n",
    "view1.by_channel_params['ch0', 'color'] = '#ffffff'\n",
    "view1.by_channel_params['ch1', 'color'] = '#0055ff'\n",
    "view1.by_channel_params['ch0', 'gain'] = 0.0003\n",
    "view1.by_channel_params['ch1', 'gain'] = 0.001\n",
    "view1.by_channel_params['ch0', 'offset'] = 1\n",
    "view1.by_channel_params['ch1', 'offset'] = -1\n",
    "\n",
    "\n",
    "#put this viewer in the main window\n",
    "win.add_view(view1)\n",
    "\n",
    "#Run\n",
    "win.show()\n",
    "app.exec_()"
   ]
  }
 ],
 "metadata": {
  "interpreter": {
   "hash": "984d3fbee8ffa490637705ae3d7233e001ab0304f3daaca07b5aa8569b88ca53"
  },
  "kernelspec": {
   "display_name": "Python 3.9.12 ('formation')",
   "language": "python",
   "name": "python3"
  },
  "language_info": {
   "codemirror_mode": {
    "name": "ipython",
    "version": 3
   },
   "file_extension": ".py",
   "mimetype": "text/x-python",
   "name": "python",
   "nbconvert_exporter": "python",
   "pygments_lexer": "ipython3",
   "version": "3.11.7"
  },
  "orig_nbformat": 4
 },
 "nbformat": 4,
 "nbformat_minor": 2
}
