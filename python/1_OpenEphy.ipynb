{
 "cells": [
  {
   "cell_type": "markdown",
   "metadata": {},
   "source": [
    "# Opening and cleaning out ephys data\n",
    "\n",
    "Note: Use L1imag/formation environment."
   ]
  },
  {
   "cell_type": "markdown",
   "metadata": {},
   "source": [
    "## Setup everything"
   ]
  },
  {
   "cell_type": "markdown",
   "metadata": {},
   "source": [
    "### Import packages"
   ]
  },
  {
   "cell_type": "code",
   "execution_count": 1,
   "metadata": {},
   "outputs": [],
   "source": [
    "import quantities as pq\n",
    "import numpy as np\n",
    "import neo\n",
    "from pathlib import Path\n",
    "import fnmatch\n",
    "import os\n",
    "import xarray as xr\n",
    "import pandas as pd\n",
    "import matplotlib.pyplot as plt\n",
    "from matplotlib.widgets import Slider, Button, Cursor\n",
    "import scipy\n",
    "from scipy import interpolate\n",
    "from scipy import fftpack\n",
    "from scipy import signal\n",
    "%matplotlib widget\n",
    "from ipyfilechooser import FileChooser\n",
    "\n",
    "from ephyviewer import mkQApp, MainViewer, TraceViewer\n",
    "\n",
    "# add the Contrib dir that contains all tools developped by MB : mbTools.py\n",
    "#sys.path.append(os.path.join(os.path.dirname(sys.path[0]),'python'))\n",
    "#print(os.path.join(os.path.dirname(sys.path[0]),'python'))\n",
    "import mbTools"
   ]
  },
  {
   "cell_type": "markdown",
   "metadata": {},
   "source": [
    "### Choose experiment"
   ]
  },
  {
   "cell_type": "code",
   "execution_count": 2,
   "metadata": {},
   "outputs": [
    {
     "name": "stdout",
     "output_type": "stream",
     "text": [
      "/Volumes/waking/audrey_hay/L1imaging/AnalysedMarch2023/Gaelle/Baseline_recording_ABmodified/RedLinesOK/session1/OpenEphys/\n"
     ]
    },
    {
     "data": {
      "application/vnd.jupyter.widget-view+json": {
       "model_id": "451d6774fbd94aba8f2413d6abc22f82",
       "version_major": 2,
       "version_minor": 0
      },
      "text/plain": [
       "FileChooser(path='/Volumes/waking/audrey_hay/L1imaging/AnalysedMarch2023/Gaelle/Baseline_recording_ABmodified/…"
      ]
     },
     "metadata": {},
     "output_type": "display_data"
    }
   ],
   "source": [
    "dpath = None\n",
    "%store -r dpath\n",
    "print(dpath)\n",
    "try:\n",
    "    theExpe = mbTools.experiment(dpath)\n",
    "except:\n",
    "    theExpe = mbTools.experiment()"
   ]
  },
  {
   "cell_type": "markdown",
   "metadata": {},
   "source": [
    "## Load data\n",
    "### Load timestamps from continuous recording\n",
    "\n",
    "Note here the synchronised timestamps are not loaded. Attempt is made next cell but there is a bug because the files are of different lengths. \n",
    "What needs to be done is to understand the exact content of these files to then load them properly."
   ]
  },
  {
   "cell_type": "code",
   "execution_count": 3,
   "metadata": {},
   "outputs": [
    {
     "name": "stdout",
     "output_type": "stream",
     "text": [
      "warning: this function is not confirmed yet. Please see with MB, that it is porperly working when you want to use it\n",
      "/Users/mb/Documents/Syntuitio/AudreyHay/PlanB/python\n"
     ]
    }
   ],
   "source": [
    "Ephys_rec_stamps = theExpe.loadRecording_TimeStamps()\n"
   ]
  },
  {
   "cell_type": "markdown",
   "metadata": {},
   "source": [
    "### Load timestamps for miniscope frames and laser (TTL in)\n"
   ]
  },
  {
   "cell_type": "code",
   "execution_count": 4,
   "metadata": {},
   "outputs": [
    {
     "name": "stdout",
     "output_type": "stream",
     "text": [
      "warning: this function is not confirmed yet. Please see with MB, that it is porperly working when you want to use it\n",
      "/Users/mb/Documents/Syntuitio/AudreyHay/PlanB/python\n",
      "[]\n"
     ]
    }
   ],
   "source": [
    "\n",
    "TTL_stamps = theExpe.loadTTL_TimeStamps()\n",
    "print(TTL_stamps)\n"
   ]
  },
  {
   "cell_type": "markdown",
   "metadata": {},
   "source": [
    "### Load recordings"
   ]
  },
  {
   "cell_type": "markdown",
   "metadata": {},
   "source": [
    "#### Merge files"
   ]
  },
  {
   "cell_type": "code",
   "execution_count": 5,
   "metadata": {},
   "outputs": [
    {
     "name": "stdout",
     "output_type": "stream",
     "text": [
      "NPY file loaded, with 31 channels and 940555 datapoint\n"
     ]
    }
   ],
   "source": [
    "theExpe.numchannels=32\n",
    "All = theExpe.loadLFP()"
   ]
  },
  {
   "cell_type": "markdown",
   "metadata": {},
   "source": [
    "### Distribute channels.\n",
    "> **WARNING:** this has to be adjusted for every mouse\n",
    "defineMap function takes as the second argument an array of dict with every cannal number corresponding to the relevant structure with a status: 0 for unused, 1 for floating electrode, 1 and 2 for differential"
   ]
  },
  {
   "cell_type": "code",
   "execution_count": 9,
   "metadata": {},
   "outputs": [
    {
     "name": "stdout",
     "output_type": "stream",
     "text": [
      "EMG -> [{'canal': 10, 'status': 1}]\n",
      "Getting floating signal of channel 10 for EMG\n",
      "PFC -> [{'canal': 17, 'status': 1}]\n",
      "Getting floating signal of channel 17 for PFC\n",
      "S1 -> [{'canal': 22, 'status': 1}, {'canal': 23, 'status': 2}]\n",
      "Getting differential signal of channel 23 - channel 22 for S1\n",
      "CA1 -> [{'canal': 20, 'status': 1}, {'canal': 19, 'status': 2}]\n",
      "Getting differential signal of channel 19 - channel 20 for CA1\n",
      "/Volumes/waking/audrey_hay/L1imaging/AnalysedMarch2023/Gaelle/Baseline_recording_ABmodified/RedLinesOK/session1/OpenEphys/RawDataChannelExtracted.npy\n"
     ]
    }
   ],
   "source": [
    "sampling_rate = 25000 # Hz\n",
    "\n",
    "# Distribute\n",
    "theExpe.defineMap('EMG',[dict(canal = 10, status=1)])\n",
    "theExpe.defineMap('PFC',[dict(canal = 17, status=1)])\n",
    "theExpe.defineMap('S1',[dict(canal = 22, status=1),\n",
    "                         dict(canal = 23, status=2)])\n",
    "theExpe.defineMap('CA1',[dict(canal = 20, status=1),\n",
    "                         dict(canal = 19, status=2)])\n",
    "\n",
    "\n",
    "# Stack back\n",
    "#combined = theExpe.combineStructures(['EMG', 'PFC', 'S1', 'CA1'])\n",
    "combined = theExpe.combineStructures(theExpe.channelsMap)\n",
    "\n",
    "coords = {\n",
    "    'brain_areas' : np.array(['EMG', 'PFC', \"S1\", \"CA1\"]),\n",
    "    'duration_rec' : np.arange(0, combined.shape[0]/sampling_rate, 1/sampling_rate)\n",
    "}\n",
    "\n",
    "# Put in xarray\n",
    "xrCombined = xr.DataArray(coords=coords, dims=['duration_rec', 'brain_areas'])\n",
    "xrCombined.loc[:,:]  = combined\n",
    "\n",
    "# Save datas\n",
    "combinedFN = os.path.join(dpath,'RawDataChannelExtracted.npy')\n",
    "np.save(combinedFN, combined)\n"
   ]
  },
  {
   "cell_type": "markdown",
   "metadata": {},
   "source": [
    "#  Downsample all signals to 1 kz.\n"
   ]
  },
  {
   "cell_type": "code",
   "execution_count": null,
   "metadata": {},
   "outputs": [],
   "source": [
    "combined = All[:100000]\n",
    "new_sampling_rate = 1000 # Hz\n",
    "\n",
    "newLen = int(combined.shape[0] * new_sampling_rate / sampling_rate)\n",
    "print(combined.shape[0], newLen)\n",
    "combinedDS = signal.resample(combined, newLen, axis = 0)\n",
    "#combinedDS = signal.decimate(combined, 25, axis = 0)\n",
    "print('resampled', combinedDS.shape)\n",
    "combinedDSFN = os.path.join(dpath,'RawDataChannelExtractedDS.npy')\n",
    "np.save(combinedDSFN, combinedDS)\n",
    "print(f\"the downsampled file is saved at : {combinedDSFN}\")"
   ]
  },
  {
   "cell_type": "markdown",
   "metadata": {},
   "source": [
    "## End of notebook. \n",
    "Data is cleaned up and saved. Data processing for different cortical areas on specific notebooks. Next step is WakeRemoving notebook.\n",
    "\n",
    "Below is for quick filtering, plotting and visualisation to assess data quality. Filtering for data processing is done again in specific notebooks.\n",
    "\n",
    "Data quality is assessed on a Sample, whose value has to be attributed on the initial cell."
   ]
  },
  {
   "cell_type": "markdown",
   "metadata": {},
   "source": [
    "## Filtering \n",
    "\n",
    "SWR: 120 - 200 Hz"
   ]
  },
  {
   "cell_type": "code",
   "execution_count": null,
   "metadata": {},
   "outputs": [],
   "source": [
    "Sample = combinedDS\n",
    "\n",
    "f_CA1 = Sample[:, 3].copy()\n",
    "\n",
    "# Paramètres de notre filtre :\n",
    "f_lowcut = 120.\n",
    "f_hicut = 200.\n",
    "fs = new_sampling_rate\n",
    "nyq = 0.5 * fs\n",
    "N = 6                 # Ordre du filtre\n",
    "Wn = [f_lowcut/nyq,f_hicut/nyq]  # Nyquist frequency fraction\n",
    "print(Wn)\n",
    "\n",
    "# Création du filtre :\n",
    "b, a = scipy.signal.butter(N, Wn, 'band')\n",
    "filt_SWR_CA1 = scipy.signal.filtfilt(b, a, f_CA1)\n",
    "\n",
    "times = np.arange(0, f_CA1.size/new_sampling_rate, 1./new_sampling_rate)\n",
    "\n"
   ]
  },
  {
   "cell_type": "markdown",
   "metadata": {},
   "source": [
    "Spindles: 8 - 16 Hz"
   ]
  },
  {
   "cell_type": "code",
   "execution_count": null,
   "metadata": {},
   "outputs": [],
   "source": [
    "f_PFC = Sample[:, 1].copy()\n",
    "f_S1 = Sample[:, 2].copy()\n",
    "\n",
    "# Paramètres de notre filtre :\n",
    "f_lowcut = 10.\n",
    "f_hicut = 16.\n",
    "Wn = [f_lowcut/nyq,f_hicut/nyq]  # Nyquist frequency fraction\n",
    "N = 4\n",
    "# Création du filtre :\n",
    "b, a = scipy.signal.butter(N, Wn, 'band')\n",
    "filt_Spind_PFC = scipy.signal.filtfilt(b, a, f_PFC)\n",
    "filt_Spind_S1 = scipy.signal.filtfilt(b, a, f_S1)\n",
    "\n",
    "# # Calcul de la reponse en fréquence du filtre\n",
    "# w, h = signal.freqz(b, a)\n",
    "\n",
    "# # Tracé de la réponse en fréquence du filtre\n",
    "# fig, ax = plt.subplots(figsize=(8,5)) \n",
    "\n",
    "# ax.plot(0.5*fs*w/np.pi, np.abs(h), 'b')\n",
    "\n",
    "# ax.set_xlabel('frequency [Hz]')\n",
    "# ax.set_ylabel('Amplitude [dB]')\n",
    "# ax.grid(which='both', axis='both')"
   ]
  },
  {
   "cell_type": "markdown",
   "metadata": {},
   "source": [
    "FFT display"
   ]
  },
  {
   "cell_type": "code",
   "execution_count": null,
   "metadata": {},
   "outputs": [],
   "source": [
    "# Calcul du spectre\n",
    "f, Pxx_den = signal.welch(f_CA1, fs, nperseg=1024)\n",
    "\n",
    "# Tracé\n",
    "fig, ax = plt.subplots(figsize=(10,5)) \n",
    "ax.semilogy(f, Pxx_den)   #  plot with log scaling on the y axis\n",
    "ax.set_xlabel('frequency [Hz]')\n",
    "ax.set_ylabel('PSD [V**2/Hz]')"
   ]
  },
  {
   "cell_type": "code",
   "execution_count": null,
   "metadata": {},
   "outputs": [],
   "source": [
    "plt.close('all')"
   ]
  },
  {
   "cell_type": "markdown",
   "metadata": {},
   "source": [
    "# Display. \n",
    "\n",
    "Can massively be improved: with Matplotlib"
   ]
  },
  {
   "cell_type": "code",
   "execution_count": null,
   "metadata": {},
   "outputs": [],
   "source": [
    "times_sliced = times[000:200000]\n",
    "filt_to_display = filt_SWR_CA1[000:200000]-1000\n",
    "f_CA1_sliced = f_CA1[0000:200000]/2\n",
    "combined = np.stack((f_CA1_sliced, filt_to_display), axis = 1)\n",
    "# Tracé du signal filtré\n",
    "\n",
    "fig, ax = plt.subplots(1,1, figsize=(15,5), layout='constrained') \n",
    "ax.plot(times_sliced, combined, 'r')\n",
    "ax.set_xlabel('Temps [sec]')\n",
    "ax.set_ylabel('Amplitude')\n"
   ]
  },
  {
   "cell_type": "markdown",
   "metadata": {},
   "source": [
    "With ephyviewer. "
   ]
  },
  {
   "cell_type": "code",
   "execution_count": null,
   "metadata": {},
   "outputs": [],
   "source": [
    "# prepare numpy array for ephyviewer\n",
    "\n",
    "filt_SWR_CA1_sliced= filt_SWR_CA1[000:200000, np.newaxis]\n",
    "filt_Spind_PFC_sliced= filt_Spind_PFC[000:200000, np.newaxis]\n",
    "filt_Spind_S1_sliced= filt_Spind_S1[000:200000, np.newaxis]\n",
    "filt_sliced = Sample[0000:200000,:]\n",
    "combined2 = filt_sliced[:,0:2].copy()\n",
    "intf_sliced = filt_sliced[:,2]\n",
    "intf_sliced = intf_sliced[:, np.newaxis]\n",
    "combined2 = np.append(combined2, filt_Spind_PFC_sliced, axis=1)\n",
    "combined2 = np.append(combined2, intf_sliced, axis=1)\n",
    "combined2 = np.append(combined2, filt_Spind_S1_sliced, axis=1)\n",
    "intf_sliced = filt_sliced[:,3]\n",
    "intf_sliced = intf_sliced[:, np.newaxis]\n",
    "combined2 = np.append(combined2, intf_sliced, axis=1)\n",
    "combined2 = np.append(combined2, filt_SWR_CA1_sliced, axis = 1)\n"
   ]
  },
  {
   "cell_type": "code",
   "execution_count": null,
   "metadata": {},
   "outputs": [],
   "source": [
    "%gui qt \n",
    "app = mkQApp()\n",
    "\n",
    "sample_rate = 1000.\n",
    "t_start = 0.\n",
    "\n",
    "#Create the main window that can contain several viewers\n",
    "win = MainViewer()\n",
    "view1 = TraceViewer.from_numpy(combined2, sample_rate, t_start, 'Signals')\n",
    "win.add_view(view1)\n",
    "\n",
    "#Parameters can be set in script\n",
    "view1.params['display_labels'] = True\n",
    "view1.params['scale_mode'] = 'same_for_all'\n",
    "view1.auto_scale()\n",
    "\n",
    "#Run\n",
    "win.show()"
   ]
  }
 ],
 "metadata": {
  "kernelspec": {
   "display_name": "Python 3.9.12 ('formation')",
   "language": "python",
   "name": "python3"
  },
  "language_info": {
   "codemirror_mode": {
    "name": "ipython",
    "version": 3
   },
   "file_extension": ".py",
   "mimetype": "text/x-python",
   "name": "python",
   "nbconvert_exporter": "python",
   "pygments_lexer": "ipython3",
   "version": "3.11.8"
  },
  "orig_nbformat": 4,
  "vscode": {
   "interpreter": {
    "hash": "984d3fbee8ffa490637705ae3d7233e001ab0304f3daaca07b5aa8569b88ca53"
   }
  }
 },
 "nbformat": 4,
 "nbformat_minor": 2
}
